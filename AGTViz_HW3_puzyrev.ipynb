{
 "cells": [
  {
   "cell_type": "markdown",
   "metadata": {},
   "source": [
    "# Homework №3"
   ]
  },
  {
   "cell_type": "markdown",
   "metadata": {},
   "source": [
    "### <center>Student: Puzyrev Dmitri</center>"
   ]
  },
  {
   "cell_type": "markdown",
   "metadata": {},
   "source": [
    "# Description"
   ]
  },
  {
   "cell_type": "markdown",
   "metadata": {},
   "source": [
    "1. Those how are making projects on artilces: half of you need to choose co-authorship graph, others - citation (but consider citation graph as undirected for simplicity)\n",
    "2. Use weighted graph so that it would give you ability to calculate embeddings in more appropriate way"
   ]
  },
  {
   "cell_type": "markdown",
   "metadata": {},
   "source": [
    "### Guidelines:"
   ]
  },
  {
   "cell_type": "markdown",
   "metadata": {},
   "source": [
    "1. Initiallize your classification set as follows:\n",
    "    * Determine training and testing intervals on your time domain (for example, take a period $2000$-$2014$ as training period and $2015$-$2018$ as testing period)\n",
    "    * Pick pairs of nodes that **have appeared during training interval** but **had no links** during it\n",
    "    * These pairs form **positive** or **negative** examples depending on whether they have formed coauthorships **during the testing interval**\n",
    "    * You have arrived to binary classification problem.\n",
    "2. Construct feature space:\n",
    "    * Use at least 2 features based on neighborhood \n",
    "    * Use at least 2 fetures based on shortest path\n",
    "    * Use embedding representation of nodes' pairs (for example, node2vec)\n",
    "    * Use idea of time series features (with time lag)\n",
    "    * Use idea of change-point detection\n",
    "3. Choose at least $3$ classification algorithms and compare them in terms of Accuracy, Precision, Recall, F-Score (for positive class) and Mean Squared Error. Use k-fold cross-validation and average your results"
   ]
  },
  {
   "cell_type": "code",
   "execution_count": 1,
   "metadata": {},
   "outputs": [],
   "source": [
    "import mysql.connector\n",
    "import networkx as nx\n",
    "import numpy as np\n",
    "from node2vec import Node2Vec\n",
    "from node2vec.edges import HadamardEmbedder\n",
    "from tqdm import tqdm"
   ]
  },
  {
   "cell_type": "markdown",
   "metadata": {},
   "source": [
    "First, we have to retreive the needed graph elements. For that, we appeal to our project SQL database and get entries for desired years."
   ]
  },
  {
   "cell_type": "code",
   "execution_count": 2,
   "metadata": {},
   "outputs": [],
   "source": [
    "mydb = mysql.connector.connect(\n",
    "  host=\"articlesgrap.cxqhtfp4sprs.eu-central-1.rds.amazonaws.com\",\n",
    "  user=\"wizard\",\n",
    "  passwd=\"12345678\",\n",
    "  database=\"TheData\"\n",
    ")\n",
    "\n",
    "\n",
    "def getAutGraph(by, fy):\n",
    "    '''get co-authors between years by and fy'''\n",
    "    mycursor = mydb.cursor()\n",
    "    sql = \"SELECT a.auid, b.auid, count(b.auid) as weight FROM TheData.isAuthor as a join TheData.isAuthor as b on a.artid=b.artid join TheData.Articles as c on a.artid=c.id where c.year between %s and %s and a.auid <> b.auid group by a.auid, b.auid order by a.auid desc;\"\n",
    "    val = (by, fy)\n",
    "    mycursor.execute(sql, val)\n",
    "    myresult = mycursor.fetchall()\n",
    "    mycursor.close()\n",
    "    return myresult"
   ]
  },
  {
   "cell_type": "markdown",
   "metadata": {},
   "source": [
    "Let's consider years 2014-2015 as <b>training</b> interval and 2016-2017 as <b>testing</b> interval. We also intend to implement time series lagging, that's why we also need to get year 2013 for 2014."
   ]
  },
  {
   "cell_type": "code",
   "execution_count": 3,
   "metadata": {},
   "outputs": [
    {
     "name": "stdout",
     "output_type": "stream",
     "text": [
      "2013\n",
      "2014\n",
      "2015\n",
      "test\n"
     ]
    }
   ],
   "source": [
    "aut_2013 = getAutGraph(2013,2013)\n",
    "G2013 = nx.Graph()\n",
    "G2013.add_weighted_edges_from(aut_2013)\n",
    "\n",
    "print('2013')\n",
    "\n",
    "aut_2014 = getAutGraph(2014,2014)\n",
    "G2014 = nx.Graph()\n",
    "G2014.add_weighted_edges_from(aut_2014)\n",
    "\n",
    "print('2014')\n",
    "\n",
    "aut_2015 = getAutGraph(2015,2015)\n",
    "G2015 = nx.Graph()\n",
    "G2015.add_weighted_edges_from(aut_2015)\n",
    "\n",
    "print('2015')\n",
    "\n",
    "aut_test = getAutGraph(2016,2017)\n",
    "Gtest = nx.Graph()\n",
    "Gtest.add_weighted_edges_from(aut_test)\n",
    "\n",
    "print('test')"
   ]
  },
  {
   "cell_type": "markdown",
   "metadata": {},
   "source": [
    "Now, we need to select features for classification. First, let's strip components which are absent in testing interval. Next, Select edges which are not connected in train but are present in both train and test. These are objects for our classification.\n",
    "\n",
    "We also select edges present in previous year as 'time series' factor for current connections"
   ]
  },
  {
   "cell_type": "code",
   "execution_count": 4,
   "metadata": {},
   "outputs": [],
   "source": [
    "def filter_test(train, test):\n",
    "    common = train.nodes & test.nodes\n",
    "    \n",
    "    components = nx.connected_component_subgraphs(train)\n",
    "    G = nx.Graph()\n",
    "    for component in components:\n",
    "        if common & component.nodes:\n",
    "            G = nx.compose(G, component)\n",
    "\n",
    "    no_connect = list(nx.non_edges(G))\n",
    "    \n",
    "    suitable_edges = [edge for edge in no_connect if edge[0] in common and edge[1] in common]\n",
    "\n",
    "    return G, suitable_edges\n",
    "    \n",
    "def filter_lag(lag, train, suitable_edges):\n",
    "    common = lag.nodes & train.nodes\n",
    "    \n",
    "    lag_edges = [edge for edge in suitable_edges if edge[0] in common and edge[1] in common]\n",
    "    \n",
    "    return lag_edges"
   ]
  },
  {
   "cell_type": "markdown",
   "metadata": {},
   "source": [
    "We consider the two following neighbourhood metrics: Jaccard coefficient and resource allocation index."
   ]
  },
  {
   "cell_type": "code",
   "execution_count": 5,
   "metadata": {},
   "outputs": [],
   "source": [
    "def neighbourhood_metrics(G, edges):\n",
    "    jaccard = nx.jaccard_coefficient(G, edges)\n",
    "    res_alloc = nx.resource_allocation_index(G, edges)\n",
    "    return jaccard, res_alloc"
   ]
  },
  {
   "cell_type": "markdown",
   "metadata": {},
   "source": [
    "For distance metrics, shortest path (measured by Dijkstra algorithm) and vertex eccentricity are considered."
   ]
  },
  {
   "cell_type": "code",
   "execution_count": 6,
   "metadata": {},
   "outputs": [],
   "source": [
    "def distance_metrics(G):\n",
    "    dijkstra = dict(nx.all_pairs_dijkstra_path_length(G))\n",
    "    components = nx.connected_component_subgraphs(G)\n",
    "    eccentricity = []\n",
    "    for comp in components:\n",
    "        eccentricity.append(nx.eccentricity(comp))\n",
    "    return dijkstra, eccentricity"
   ]
  },
  {
   "cell_type": "markdown",
   "metadata": {},
   "source": [
    "Here, 20-dimension node2vec embeddings are created."
   ]
  },
  {
   "cell_type": "code",
   "execution_count": 7,
   "metadata": {},
   "outputs": [],
   "source": [
    "def construct_embeddings(G):\n",
    "    node2vec = Node2Vec(G, dimensions=20, walk_length=50, num_walks=200, workers=8)\n",
    "    model = node2vec.fit(window=10, min_count=1, batch_words=4, workers=8)\n",
    "    print('node2vec model trained')\n",
    "    edges_embs = HadamardEmbedder(keyed_vectors=model.wv)\n",
    "    print('embeds ready')\n",
    "    \n",
    "    return edges_embs"
   ]
  },
  {
   "cell_type": "markdown",
   "metadata": {},
   "source": [
    "Now we are ready to assemble training data. After filtration, neighbourhood metrics are counted for both previous and current points in time series. For eccentricity, the feature factor is the sum of eccentricities of the corresponding nodes. We also mark the label for each edge if it is not present in test set, then label is set to False."
   ]
  },
  {
   "cell_type": "code",
   "execution_count": 8,
   "metadata": {},
   "outputs": [],
   "source": [
    "def get_features(Glag, Gtrain, Gtest):\n",
    "    Gfiltered, authors = filter_test(Gtrain, Gtest)\n",
    "    lags = filter_lag(Glag, Gtrain, authors)\n",
    "    \n",
    "    jac, resalc = neighbourhood_metrics(Gfiltered, authors)\n",
    "    jac_lag, resalc_lag = neighbourhood_metrics(Glag, lags)\n",
    "    \n",
    "    path, ecc = distance_metrics(Gfiltered)\n",
    "    \n",
    "    emb = construct_embeddings(Gfiltered)\n",
    "    \n",
    "    jaclag = next(jac_lag)\n",
    "    resalclag = next(resalc_lag)\n",
    "    \n",
    "    data = []\n",
    "    for j, r, n in tqdm(zip(jac, resalc, authors)):\n",
    "        a = n[0]\n",
    "        b = n[1]\n",
    "        if (b in path[a]):\n",
    "            d = path[a][b]\n",
    "        else:\n",
    "            d = 999999999\n",
    "        for comp in ecc:\n",
    "            if a in comp:\n",
    "                ea = comp[a]\n",
    "            if b in comp:\n",
    "                eb = comp[b]\n",
    "        e = ea + eb\n",
    "        if (jaclag != None and a == jaclag[0] and b == jaclag[1]):\n",
    "            jl = jaclag\n",
    "            try:\n",
    "                jaclag = next(jac_lag)\n",
    "            except:\n",
    "                jaclag = None\n",
    "        else:\n",
    "            jl = (None, None, 0)\n",
    "        if (resalclag != None and a == resalclag[0] and b == resalclag[1]):\n",
    "            rl = resalclag\n",
    "            try:\n",
    "                resalclag = next(resalc_lag)\n",
    "            except:\n",
    "                resalclag = None\n",
    "        else:\n",
    "            rl = (None, None, 0)\n",
    "        \n",
    "        label = b in Gtest[a]\n",
    "        data.append([a, b, j[2], r[2], jl[2], rl[2], d, e] + list(emb[(str(a), str(b))]) + [label])\n",
    "    print(len(data))\n",
    "    return data"
   ]
  },
  {
   "cell_type": "markdown",
   "metadata": {},
   "source": [
    "We need to get features for both years of training set with corresponding lags. By concatenating them, we will have the complete dataset."
   ]
  },
  {
   "cell_type": "code",
   "execution_count": 9,
   "metadata": {},
   "outputs": [
    {
     "name": "stderr",
     "output_type": "stream",
     "text": [
      "Computing transition probabilities: 100%|██████████| 1000/1000 [00:25<00:00, 39.74it/s]\n",
      "1038it [00:00, 10373.46it/s]"
     ]
    },
    {
     "name": "stdout",
     "output_type": "stream",
     "text": [
      "node2vec model trained\n",
      "embeds ready\n"
     ]
    },
    {
     "name": "stderr",
     "output_type": "stream",
     "text": [
      "20122it [00:02, 8866.14it/s]"
     ]
    },
    {
     "name": "stdout",
     "output_type": "stream",
     "text": [
      "20122\n",
      "CPU times: user 3min 54s, sys: 24.4 s, total: 4min 18s\n",
      "Wall time: 4min\n"
     ]
    },
    {
     "name": "stderr",
     "output_type": "stream",
     "text": [
      "\n"
     ]
    }
   ],
   "source": [
    "%%time\n",
    "\n",
    "examples2014 = get_features(G2013, G2014, Gtest)"
   ]
  },
  {
   "cell_type": "code",
   "execution_count": 10,
   "metadata": {},
   "outputs": [
    {
     "name": "stderr",
     "output_type": "stream",
     "text": [
      "Computing transition probabilities: 100%|██████████| 1576/1576 [00:05<00:00, 272.07it/s]\n",
      "845it [00:00, 8445.66it/s]"
     ]
    },
    {
     "name": "stdout",
     "output_type": "stream",
     "text": [
      "node2vec model trained\n",
      "embeds ready\n"
     ]
    },
    {
     "name": "stderr",
     "output_type": "stream",
     "text": [
      "55761it [00:06, 8786.85it/s]"
     ]
    },
    {
     "name": "stdout",
     "output_type": "stream",
     "text": [
      "55761\n",
      "CPU times: user 5min 10s, sys: 38.6 s, total: 5min 49s\n",
      "Wall time: 5min 25s\n"
     ]
    },
    {
     "name": "stderr",
     "output_type": "stream",
     "text": [
      "\n"
     ]
    }
   ],
   "source": [
    "%%time\n",
    "\n",
    "examples2015 = get_features(G2014, G2015, Gtest)"
   ]
  },
  {
   "cell_type": "code",
   "execution_count": 11,
   "metadata": {},
   "outputs": [
    {
     "name": "stdout",
     "output_type": "stream",
     "text": [
      "[[ 1.84381522e+10  7.00519835e+09  0.00000000e+00 ... -1.74617136e+00\n",
      "  -7.63035536e-01  0.00000000e+00]\n",
      " [ 1.84381522e+10  7.00445493e+09  0.00000000e+00 ...  3.14624637e-01\n",
      "   9.11662757e-01  0.00000000e+00]\n",
      " [ 1.84381522e+10  6.60396034e+09  0.00000000e+00 ...  9.61430147e-02\n",
      "   2.65502214e+00  0.00000000e+00]\n",
      " ...\n",
      " [ 5.57571276e+10  5.51143178e+10  0.00000000e+00 ...  6.37804806e-01\n",
      "  -5.07885647e+00  0.00000000e+00]\n",
      " [ 5.57571276e+10  1.64815339e+10  0.00000000e+00 ... -1.57295489e+00\n",
      "  -3.00056982e+00  0.00000000e+00]\n",
      " [ 1.64815339e+10  5.51143178e+10  0.00000000e+00 ... -6.02263272e-01\n",
      "   1.61391389e+00  0.00000000e+00]]\n"
     ]
    }
   ],
   "source": [
    "data = np.array(examples2014 + examples2015)\n",
    "\n",
    "print(data)"
   ]
  },
  {
   "cell_type": "code",
   "execution_count": 17,
   "metadata": {},
   "outputs": [
    {
     "name": "stdout",
     "output_type": "stream",
     "text": [
      "[[ 0.          0.          0.         ...  0.73601514 -1.74617136\n",
      "  -0.76303554]\n",
      " [ 0.          0.          0.         ...  0.15961549  0.31462464\n",
      "   0.91166276]\n",
      " [ 0.          0.          0.         ...  0.76863754  0.09614301\n",
      "   2.65502214]\n",
      " ...\n",
      " [ 0.          0.          0.         ...  5.06736231  0.63780481\n",
      "  -5.07885647]\n",
      " [ 0.          0.          0.         ... -0.7280708  -1.57295489\n",
      "  -3.00056982]\n",
      " [ 0.          0.          0.         ... -0.58295172 -0.60226327\n",
      "   1.61391389]] [0. 0. 0. ... 0. 0. 0.]\n"
     ]
    }
   ],
   "source": [
    "X, y = data[:,2:-1], data[:,-1]\n",
    "\n",
    "print(X, y)"
   ]
  },
  {
   "cell_type": "markdown",
   "metadata": {},
   "source": [
    "It is worth noting that only small proportion of edges get positive class."
   ]
  },
  {
   "cell_type": "code",
   "execution_count": 18,
   "metadata": {},
   "outputs": [
    {
     "name": "stdout",
     "output_type": "stream",
     "text": [
      "74283\n",
      "1600\n"
     ]
    }
   ],
   "source": [
    "print(np.sum(y == 0))\n",
    "print(np.sum(y == 1))"
   ]
  },
  {
   "cell_type": "markdown",
   "metadata": {},
   "source": [
    "Let's divide our set to train and test in proportions of 75 to 25%"
   ]
  },
  {
   "cell_type": "code",
   "execution_count": 22,
   "metadata": {},
   "outputs": [
    {
     "name": "stdout",
     "output_type": "stream",
     "text": [
      "(56912, 26)\n",
      "(18971, 26)\n",
      "383\n"
     ]
    }
   ],
   "source": [
    "from sklearn.model_selection import train_test_split\n",
    "from sklearn.metrics import accuracy_score, precision_score, recall_score, f1_score\n",
    "\n",
    "X_train, X_test, y_train, y_test = train_test_split(X, y, test_size=0.25, random_state=42)\n",
    "\n",
    "print(X_train.shape)\n",
    "print(X_test.shape)\n",
    "\n",
    "print(np.sum(y_test == 1))"
   ]
  },
  {
   "cell_type": "markdown",
   "metadata": {},
   "source": [
    "This is for parameter tuning"
   ]
  },
  {
   "cell_type": "code",
   "execution_count": 20,
   "metadata": {},
   "outputs": [],
   "source": [
    "from sklearn.model_selection import GridSearchCV\n",
    "\n",
    "def tune_model(model, params, train, target):\n",
    "    clf = GridSearchCV(model, params, cv=3, verbose=2, n_jobs=-1)\n",
    "    clf.fit(train, target)\n",
    "    print(clf.best_estimator_)\n",
    "    print(clf.best_score_)"
   ]
  },
  {
   "cell_type": "markdown",
   "metadata": {},
   "source": [
    "First, we can look how the simpliest classification algorithm - logistic regression - will perform."
   ]
  },
  {
   "cell_type": "code",
   "execution_count": 21,
   "metadata": {},
   "outputs": [
    {
     "name": "stdout",
     "output_type": "stream",
     "text": [
      "0.9798112909177165\n",
      "0.0\n",
      "0.0\n",
      "0.0\n"
     ]
    },
    {
     "name": "stderr",
     "output_type": "stream",
     "text": [
      "/home/willstudent/.local/lib/python3.6/site-packages/sklearn/metrics/classification.py:1135: UndefinedMetricWarning: Precision is ill-defined and being set to 0.0 due to no predicted samples.\n",
      "  'precision', 'predicted', average, warn_for)\n",
      "/home/willstudent/.local/lib/python3.6/site-packages/sklearn/metrics/classification.py:1135: UndefinedMetricWarning: F-score is ill-defined and being set to 0.0 due to no predicted samples.\n",
      "  'precision', 'predicted', average, warn_for)\n"
     ]
    }
   ],
   "source": [
    "from sklearn.linear_model import LogisticRegression\n",
    "\n",
    "logreg = LogisticRegression()\n",
    "\n",
    "logreg.fit(X_train, y_train)\n",
    "\n",
    "pred = logreg.predict(X_test)\n",
    "\n",
    "print(accuracy_score(y_test, pred))\n",
    "print(precision_score(y_test, pred))\n",
    "print(recall_score(y_test, pred))\n",
    "print(f1_score(y_test, pred))"
   ]
  },
  {
   "cell_type": "markdown",
   "metadata": {},
   "source": [
    "Next, we test Random Forest Classification model, preemptively picking optimal parameters."
   ]
  },
  {
   "cell_type": "code",
   "execution_count": 31,
   "metadata": {},
   "outputs": [
    {
     "name": "stdout",
     "output_type": "stream",
     "text": [
      "Fitting 3 folds for each of 375 candidates, totalling 1125 fits\n",
      "[CV] max_depth=2, min_samples_leaf=1, min_samples_split=2, n_estimators=20 \n",
      "[CV] max_depth=2, min_samples_leaf=1, min_samples_split=2, n_estimators=20 \n",
      "[CV] max_depth=2, min_samples_leaf=1, min_samples_split=2, n_estimators=10 \n",
      "[CV] max_depth=2, min_samples_leaf=1, min_samples_split=2, n_estimators=10 \n",
      "[CV] max_depth=2, min_samples_leaf=1, min_samples_split=2, n_estimators=10 \n",
      "[CV] max_depth=2, min_samples_leaf=1, min_samples_split=2, n_estimators=20 \n",
      "[CV] max_depth=2, min_samples_leaf=1, min_samples_split=2, n_estimators=50 \n",
      "[CV] max_depth=2, min_samples_leaf=1, min_samples_split=2, n_estimators=50 \n",
      "[CV]  max_depth=2, min_samples_leaf=1, min_samples_split=2, n_estimators=10, total=   0.5s\n",
      "[CV]  max_depth=2, min_samples_leaf=1, min_samples_split=2, n_estimators=10, total=   0.6s\n",
      "[CV] max_depth=2, min_samples_leaf=1, min_samples_split=2, n_estimators=50 \n",
      "[CV] max_depth=2, min_samples_leaf=1, min_samples_split=2, n_estimators=100 \n",
      "[CV]  max_depth=2, min_samples_leaf=1, min_samples_split=2, n_estimators=10, total=   0.6s\n",
      "[CV] max_depth=2, min_samples_leaf=1, min_samples_split=2, n_estimators=100 \n",
      "[CV]  max_depth=2, min_samples_leaf=1, min_samples_split=2, n_estimators=20, total=   1.1s\n",
      "[CV]  max_depth=2, min_samples_leaf=1, min_samples_split=2, n_estimators=20, total=   1.1s\n",
      "[CV] max_depth=2, min_samples_leaf=1, min_samples_split=2, n_estimators=100 \n",
      "[CV]  max_depth=2, min_samples_leaf=1, min_samples_split=2, n_estimators=20, total=   1.1s\n",
      "[CV] max_depth=2, min_samples_leaf=1, min_samples_split=2, n_estimators=200 \n",
      "[CV] max_depth=2, min_samples_leaf=1, min_samples_split=2, n_estimators=200 \n",
      "[CV]  max_depth=2, min_samples_leaf=1, min_samples_split=2, n_estimators=50, total=   2.5s\n",
      "[CV] max_depth=2, min_samples_leaf=1, min_samples_split=2, n_estimators=200 \n",
      "[CV]  max_depth=2, min_samples_leaf=1, min_samples_split=2, n_estimators=50, total=   2.6s\n",
      "[CV] max_depth=2, min_samples_leaf=1, min_samples_split=5, n_estimators=10 \n",
      "[CV]  max_depth=2, min_samples_leaf=1, min_samples_split=2, n_estimators=50, total=   2.6s\n",
      "[CV] max_depth=2, min_samples_leaf=1, min_samples_split=5, n_estimators=10 \n",
      "[CV]  max_depth=2, min_samples_leaf=1, min_samples_split=5, n_estimators=10, total=   0.5s\n",
      "[CV] max_depth=2, min_samples_leaf=1, min_samples_split=5, n_estimators=10 \n",
      "[CV]  max_depth=2, min_samples_leaf=1, min_samples_split=5, n_estimators=10, total=   0.5s\n",
      "[CV] max_depth=2, min_samples_leaf=1, min_samples_split=5, n_estimators=20 \n",
      "[CV]  max_depth=2, min_samples_leaf=1, min_samples_split=5, n_estimators=10, total=   0.5s\n",
      "[CV] max_depth=2, min_samples_leaf=1, min_samples_split=5, n_estimators=20 \n",
      "[CV]  max_depth=2, min_samples_leaf=1, min_samples_split=5, n_estimators=20, total=   1.0s\n",
      "[CV] max_depth=2, min_samples_leaf=1, min_samples_split=5, n_estimators=20 \n",
      "[CV]  max_depth=2, min_samples_leaf=1, min_samples_split=5, n_estimators=20, total=   1.1s\n",
      "[CV] max_depth=2, min_samples_leaf=1, min_samples_split=5, n_estimators=50 \n",
      "[CV]  max_depth=2, min_samples_leaf=1, min_samples_split=2, n_estimators=100, total=   5.0s\n",
      "[CV]  max_depth=2, min_samples_leaf=1, min_samples_split=2, n_estimators=100, total=   5.1s\n",
      "[CV] max_depth=2, min_samples_leaf=1, min_samples_split=5, n_estimators=50 \n",
      "[CV] max_depth=2, min_samples_leaf=1, min_samples_split=5, n_estimators=50 \n",
      "[CV]  max_depth=2, min_samples_leaf=1, min_samples_split=5, n_estimators=20, total=   1.1s\n",
      "[CV] max_depth=2, min_samples_leaf=1, min_samples_split=5, n_estimators=100 \n",
      "[CV]  max_depth=2, min_samples_leaf=1, min_samples_split=2, n_estimators=100, total=   5.0s\n",
      "[CV] max_depth=2, min_samples_leaf=1, min_samples_split=5, n_estimators=100 \n",
      "[CV]  max_depth=2, min_samples_leaf=1, min_samples_split=5, n_estimators=50, total=   2.6s\n",
      "[CV] max_depth=2, min_samples_leaf=1, min_samples_split=5, n_estimators=100 \n",
      "[CV]  max_depth=2, min_samples_leaf=1, min_samples_split=5, n_estimators=50, total=   2.5s\n",
      "[CV]  max_depth=2, min_samples_leaf=1, min_samples_split=5, n_estimators=50, total=   2.5s\n",
      "[CV] max_depth=2, min_samples_leaf=1, min_samples_split=5, n_estimators=200 \n",
      "[CV] max_depth=2, min_samples_leaf=1, min_samples_split=5, n_estimators=200 \n",
      "[CV]  max_depth=2, min_samples_leaf=1, min_samples_split=5, n_estimators=100, total=   4.9s\n",
      "[CV] max_depth=2, min_samples_leaf=1, min_samples_split=5, n_estimators=200 \n",
      "[CV]  max_depth=2, min_samples_leaf=1, min_samples_split=5, n_estimators=100, total=   5.0s\n",
      "[CV] max_depth=2, min_samples_leaf=1, min_samples_split=10, n_estimators=10 \n",
      "[CV]  max_depth=2, min_samples_leaf=1, min_samples_split=2, n_estimators=200, total=  10.2s\n",
      "[CV] max_depth=2, min_samples_leaf=1, min_samples_split=10, n_estimators=10 \n",
      "[CV]  max_depth=2, min_samples_leaf=1, min_samples_split=2, n_estimators=200, total=  10.4s\n",
      "[CV] max_depth=2, min_samples_leaf=1, min_samples_split=10, n_estimators=10 \n"
     ]
    },
    {
     "name": "stderr",
     "output_type": "stream",
     "text": [
      "[Parallel(n_jobs=-1)]: Done  25 tasks      | elapsed:   12.3s\n"
     ]
    },
    {
     "name": "stdout",
     "output_type": "stream",
     "text": [
      "[CV]  max_depth=2, min_samples_leaf=1, min_samples_split=10, n_estimators=10, total=   0.7s\n",
      "[CV] max_depth=2, min_samples_leaf=1, min_samples_split=10, n_estimators=20 \n",
      "[CV]  max_depth=2, min_samples_leaf=1, min_samples_split=10, n_estimators=10, total=   0.5s\n",
      "[CV] max_depth=2, min_samples_leaf=1, min_samples_split=10, n_estimators=20 \n",
      "[CV]  max_depth=2, min_samples_leaf=1, min_samples_split=10, n_estimators=10, total=   0.6s\n",
      "[CV] max_depth=2, min_samples_leaf=1, min_samples_split=10, n_estimators=20 \n",
      "[CV]  max_depth=2, min_samples_leaf=1, min_samples_split=5, n_estimators=100, total=   5.0s\n",
      "[CV] max_depth=2, min_samples_leaf=1, min_samples_split=10, n_estimators=50 \n",
      "[CV]  max_depth=2, min_samples_leaf=1, min_samples_split=2, n_estimators=200, total=  10.0s\n",
      "[CV] max_depth=2, min_samples_leaf=1, min_samples_split=10, n_estimators=50 \n",
      "[CV]  max_depth=2, min_samples_leaf=1, min_samples_split=10, n_estimators=20, total=   1.1s\n",
      "[CV] max_depth=2, min_samples_leaf=1, min_samples_split=10, n_estimators=50 \n",
      "[CV]  max_depth=2, min_samples_leaf=1, min_samples_split=10, n_estimators=20, total=   1.2s\n",
      "[CV] max_depth=2, min_samples_leaf=1, min_samples_split=10, n_estimators=100 \n",
      "[CV]  max_depth=2, min_samples_leaf=1, min_samples_split=10, n_estimators=20, total=   1.1s\n",
      "[CV] max_depth=2, min_samples_leaf=1, min_samples_split=10, n_estimators=100 \n",
      "[CV]  max_depth=2, min_samples_leaf=1, min_samples_split=10, n_estimators=50, total=   2.6s\n",
      "[CV] max_depth=2, min_samples_leaf=1, min_samples_split=10, n_estimators=100 \n",
      "[CV]  max_depth=2, min_samples_leaf=1, min_samples_split=10, n_estimators=50, total=   2.7s\n",
      "[CV] max_depth=2, min_samples_leaf=1, min_samples_split=10, n_estimators=200 \n",
      "[CV]  max_depth=2, min_samples_leaf=1, min_samples_split=10, n_estimators=50, total=   2.7s\n",
      "[CV] max_depth=2, min_samples_leaf=1, min_samples_split=10, n_estimators=200 \n",
      "[CV]  max_depth=2, min_samples_leaf=1, min_samples_split=5, n_estimators=200, total=  10.0s\n",
      "[CV] max_depth=2, min_samples_leaf=1, min_samples_split=10, n_estimators=200 \n",
      "[CV]  max_depth=2, min_samples_leaf=1, min_samples_split=10, n_estimators=100, total=   5.1s\n",
      "[CV] max_depth=2, min_samples_leaf=2, min_samples_split=2, n_estimators=10 \n",
      "[CV]  max_depth=2, min_samples_leaf=1, min_samples_split=10, n_estimators=100, total=   5.3s\n",
      "[CV] max_depth=2, min_samples_leaf=2, min_samples_split=2, n_estimators=10 \n",
      "[CV]  max_depth=2, min_samples_leaf=1, min_samples_split=5, n_estimators=200, total=  10.5s\n",
      "[CV] max_depth=2, min_samples_leaf=2, min_samples_split=2, n_estimators=10 \n",
      "[CV]  max_depth=2, min_samples_leaf=2, min_samples_split=2, n_estimators=10, total=   0.5s\n",
      "[CV] max_depth=2, min_samples_leaf=2, min_samples_split=2, n_estimators=20 \n",
      "[CV]  max_depth=2, min_samples_leaf=2, min_samples_split=2, n_estimators=10, total=   0.5s\n",
      "[CV] max_depth=2, min_samples_leaf=2, min_samples_split=2, n_estimators=20 \n",
      "[CV]  max_depth=2, min_samples_leaf=2, min_samples_split=2, n_estimators=10, total=   0.5s\n",
      "[CV] max_depth=2, min_samples_leaf=2, min_samples_split=2, n_estimators=20 \n",
      "[CV]  max_depth=2, min_samples_leaf=2, min_samples_split=2, n_estimators=20, total=   1.1s\n",
      "[CV] max_depth=2, min_samples_leaf=2, min_samples_split=2, n_estimators=50 \n",
      "[CV]  max_depth=2, min_samples_leaf=2, min_samples_split=2, n_estimators=20, total=   1.2s\n",
      "[CV] max_depth=2, min_samples_leaf=2, min_samples_split=2, n_estimators=50 \n",
      "[CV]  max_depth=2, min_samples_leaf=2, min_samples_split=2, n_estimators=20, total=   1.1s\n",
      "[CV] max_depth=2, min_samples_leaf=2, min_samples_split=2, n_estimators=50 \n",
      "[CV]  max_depth=2, min_samples_leaf=1, min_samples_split=10, n_estimators=100, total=   5.3s\n",
      "[CV] max_depth=2, min_samples_leaf=2, min_samples_split=2, n_estimators=100 \n",
      "[CV]  max_depth=2, min_samples_leaf=1, min_samples_split=5, n_estimators=200, total=  10.6s\n",
      "[CV] max_depth=2, min_samples_leaf=2, min_samples_split=2, n_estimators=100 \n",
      "[CV]  max_depth=2, min_samples_leaf=2, min_samples_split=2, n_estimators=50, total=   2.7s\n",
      "[CV] max_depth=2, min_samples_leaf=2, min_samples_split=2, n_estimators=100 \n",
      "[CV]  max_depth=2, min_samples_leaf=2, min_samples_split=2, n_estimators=50, total=   2.7s\n",
      "[CV] max_depth=2, min_samples_leaf=2, min_samples_split=2, n_estimators=200 \n",
      "[CV]  max_depth=2, min_samples_leaf=2, min_samples_split=2, n_estimators=50, total=   2.6s\n",
      "[CV] max_depth=2, min_samples_leaf=2, min_samples_split=2, n_estimators=200 \n",
      "[CV]  max_depth=2, min_samples_leaf=1, min_samples_split=10, n_estimators=200, total=  10.1s\n",
      "[CV] max_depth=2, min_samples_leaf=2, min_samples_split=2, n_estimators=200 \n",
      "[CV]  max_depth=2, min_samples_leaf=2, min_samples_split=2, n_estimators=100, total=   5.3s\n",
      "[CV]  max_depth=2, min_samples_leaf=1, min_samples_split=10, n_estimators=200, total=  10.6s\n",
      "[CV] max_depth=2, min_samples_leaf=2, min_samples_split=5, n_estimators=10 \n",
      "[CV] max_depth=2, min_samples_leaf=2, min_samples_split=5, n_estimators=10 \n",
      "[CV]  max_depth=2, min_samples_leaf=2, min_samples_split=5, n_estimators=10, total=   0.5s\n",
      "[CV] max_depth=2, min_samples_leaf=2, min_samples_split=5, n_estimators=10 \n",
      "[CV]  max_depth=2, min_samples_leaf=2, min_samples_split=5, n_estimators=10, total=   0.6s\n",
      "[CV] max_depth=2, min_samples_leaf=2, min_samples_split=5, n_estimators=20 \n",
      "[CV]  max_depth=2, min_samples_leaf=2, min_samples_split=2, n_estimators=100, total=   5.7s\n",
      "[CV] max_depth=2, min_samples_leaf=2, min_samples_split=5, n_estimators=20 \n",
      "[CV]  max_depth=2, min_samples_leaf=2, min_samples_split=5, n_estimators=10, total=   0.6s\n",
      "[CV] max_depth=2, min_samples_leaf=2, min_samples_split=5, n_estimators=20 \n",
      "[CV]  max_depth=2, min_samples_leaf=2, min_samples_split=5, n_estimators=20, total=   1.1s\n",
      "[CV] max_depth=2, min_samples_leaf=2, min_samples_split=5, n_estimators=50 \n",
      "[CV]  max_depth=2, min_samples_leaf=2, min_samples_split=5, n_estimators=20, total=   1.2s\n",
      "[CV] max_depth=2, min_samples_leaf=2, min_samples_split=5, n_estimators=50 \n",
      "[CV]  max_depth=2, min_samples_leaf=2, min_samples_split=2, n_estimators=100, total=   5.6s\n",
      "[CV] max_depth=2, min_samples_leaf=2, min_samples_split=5, n_estimators=50 \n",
      "[CV]  max_depth=2, min_samples_leaf=2, min_samples_split=5, n_estimators=20, total=   1.2s\n",
      "[CV] max_depth=2, min_samples_leaf=2, min_samples_split=5, n_estimators=100 \n",
      "[CV]  max_depth=2, min_samples_leaf=1, min_samples_split=10, n_estimators=200, total=  10.2s\n",
      "[CV] max_depth=2, min_samples_leaf=2, min_samples_split=5, n_estimators=100 \n",
      "[CV]  max_depth=2, min_samples_leaf=2, min_samples_split=5, n_estimators=50, total=   2.7s\n",
      "[CV] max_depth=2, min_samples_leaf=2, min_samples_split=5, n_estimators=100 \n",
      "[CV]  max_depth=2, min_samples_leaf=2, min_samples_split=5, n_estimators=50, total=   2.6s\n",
      "[CV] max_depth=2, min_samples_leaf=2, min_samples_split=5, n_estimators=200 \n",
      "[CV]  max_depth=2, min_samples_leaf=2, min_samples_split=5, n_estimators=50, total=   2.7s\n",
      "[CV] max_depth=2, min_samples_leaf=2, min_samples_split=5, n_estimators=200 \n",
      "[CV]  max_depth=2, min_samples_leaf=2, min_samples_split=2, n_estimators=200, total=  10.4s\n",
      "[CV] max_depth=2, min_samples_leaf=2, min_samples_split=5, n_estimators=200 \n",
      "[CV]  max_depth=2, min_samples_leaf=2, min_samples_split=5, n_estimators=100, total=   5.1s\n",
      "[CV]  max_depth=2, min_samples_leaf=2, min_samples_split=5, n_estimators=100, total=   5.2s\n",
      "[CV] max_depth=2, min_samples_leaf=2, min_samples_split=10, n_estimators=10 \n",
      "[CV] max_depth=2, min_samples_leaf=2, min_samples_split=10, n_estimators=10 \n",
      "[CV]  max_depth=2, min_samples_leaf=2, min_samples_split=2, n_estimators=200, total=  10.8s\n",
      "[CV] max_depth=2, min_samples_leaf=2, min_samples_split=10, n_estimators=10 \n",
      "[CV]  max_depth=2, min_samples_leaf=2, min_samples_split=10, n_estimators=10, total=   0.5s\n",
      "[CV] max_depth=2, min_samples_leaf=2, min_samples_split=10, n_estimators=20 \n",
      "[CV]  max_depth=2, min_samples_leaf=2, min_samples_split=10, n_estimators=10, total=   0.6s\n",
      "[CV] max_depth=2, min_samples_leaf=2, min_samples_split=10, n_estimators=20 \n",
      "[CV]  max_depth=2, min_samples_leaf=2, min_samples_split=10, n_estimators=10, total=   0.6s\n",
      "[CV] max_depth=2, min_samples_leaf=2, min_samples_split=10, n_estimators=20 \n",
      "[CV]  max_depth=2, min_samples_leaf=2, min_samples_split=10, n_estimators=20, total=   1.1s\n",
      "[CV]  max_depth=2, min_samples_leaf=2, min_samples_split=10, n_estimators=20, total=   1.1s\n"
     ]
    },
    {
     "name": "stdout",
     "output_type": "stream",
     "text": [
      "[CV] max_depth=2, min_samples_leaf=2, min_samples_split=10, n_estimators=50 \n",
      "[CV] max_depth=2, min_samples_leaf=2, min_samples_split=10, n_estimators=50 \n",
      "[CV]  max_depth=2, min_samples_leaf=2, min_samples_split=5, n_estimators=100, total=   5.1s\n",
      "[CV] max_depth=2, min_samples_leaf=2, min_samples_split=10, n_estimators=50 \n",
      "[CV]  max_depth=2, min_samples_leaf=2, min_samples_split=10, n_estimators=20, total=   1.1s\n",
      "[CV] max_depth=2, min_samples_leaf=2, min_samples_split=10, n_estimators=100 \n",
      "[CV]  max_depth=2, min_samples_leaf=2, min_samples_split=2, n_estimators=200, total=  10.4s\n",
      "[CV] max_depth=2, min_samples_leaf=2, min_samples_split=10, n_estimators=100 \n",
      "[CV]  max_depth=2, min_samples_leaf=2, min_samples_split=10, n_estimators=50, total=   2.5s\n",
      "[CV]  max_depth=2, min_samples_leaf=2, min_samples_split=10, n_estimators=50, total=   2.5s\n",
      "[CV] max_depth=2, min_samples_leaf=2, min_samples_split=10, n_estimators=100 \n",
      "[CV] max_depth=2, min_samples_leaf=2, min_samples_split=10, n_estimators=200 \n",
      "[CV]  max_depth=2, min_samples_leaf=2, min_samples_split=10, n_estimators=50, total=   2.5s\n",
      "[CV] max_depth=2, min_samples_leaf=2, min_samples_split=10, n_estimators=200 \n",
      "[CV]  max_depth=2, min_samples_leaf=2, min_samples_split=10, n_estimators=100, total=   4.9s\n",
      "[CV] max_depth=2, min_samples_leaf=2, min_samples_split=10, n_estimators=200 \n",
      "[CV]  max_depth=2, min_samples_leaf=2, min_samples_split=5, n_estimators=200, total=   9.9s\n",
      "[CV] max_depth=2, min_samples_leaf=5, min_samples_split=2, n_estimators=10 \n",
      "[CV]  max_depth=2, min_samples_leaf=2, min_samples_split=10, n_estimators=100, total=   4.9s\n",
      "[CV] max_depth=2, min_samples_leaf=5, min_samples_split=2, n_estimators=10 \n",
      "[CV]  max_depth=2, min_samples_leaf=2, min_samples_split=5, n_estimators=200, total=  10.2s\n",
      "[CV] max_depth=2, min_samples_leaf=5, min_samples_split=2, n_estimators=10 \n",
      "[CV]  max_depth=2, min_samples_leaf=5, min_samples_split=2, n_estimators=10, total=   0.5s\n",
      "[CV] max_depth=2, min_samples_leaf=5, min_samples_split=2, n_estimators=20 \n",
      "[CV]  max_depth=2, min_samples_leaf=5, min_samples_split=2, n_estimators=10, total=   0.5s\n",
      "[CV] max_depth=2, min_samples_leaf=5, min_samples_split=2, n_estimators=20 \n",
      "[CV]  max_depth=2, min_samples_leaf=5, min_samples_split=2, n_estimators=10, total=   0.5s\n",
      "[CV] max_depth=2, min_samples_leaf=5, min_samples_split=2, n_estimators=20 \n",
      "[CV]  max_depth=2, min_samples_leaf=5, min_samples_split=2, n_estimators=20, total=   1.0s\n",
      "[CV] max_depth=2, min_samples_leaf=5, min_samples_split=2, n_estimators=50 \n",
      "[CV]  max_depth=2, min_samples_leaf=5, min_samples_split=2, n_estimators=20, total=   1.0s\n",
      "[CV] max_depth=2, min_samples_leaf=5, min_samples_split=2, n_estimators=50 \n",
      "[CV]  max_depth=2, min_samples_leaf=5, min_samples_split=2, n_estimators=20, total=   1.1s\n",
      "[CV] max_depth=2, min_samples_leaf=5, min_samples_split=2, n_estimators=50 \n",
      "[CV]  max_depth=2, min_samples_leaf=2, min_samples_split=10, n_estimators=100, total=   5.2s\n",
      "[CV] max_depth=2, min_samples_leaf=5, min_samples_split=2, n_estimators=100 \n",
      "[CV]  max_depth=2, min_samples_leaf=2, min_samples_split=5, n_estimators=200, total=  10.2s\n",
      "[CV] max_depth=2, min_samples_leaf=5, min_samples_split=2, n_estimators=100 \n",
      "[CV]  max_depth=2, min_samples_leaf=5, min_samples_split=2, n_estimators=50, total=   2.5s\n",
      "[CV] max_depth=2, min_samples_leaf=5, min_samples_split=2, n_estimators=100 \n",
      "[CV]  max_depth=2, min_samples_leaf=5, min_samples_split=2, n_estimators=50, total=   2.5s\n",
      "[CV] max_depth=2, min_samples_leaf=5, min_samples_split=2, n_estimators=200 \n",
      "[CV]  max_depth=2, min_samples_leaf=5, min_samples_split=2, n_estimators=50, total=   2.6s\n",
      "[CV] max_depth=2, min_samples_leaf=5, min_samples_split=2, n_estimators=200 \n",
      "[CV]  max_depth=2, min_samples_leaf=2, min_samples_split=10, n_estimators=200, total=  10.0s\n",
      "[CV] max_depth=2, min_samples_leaf=5, min_samples_split=2, n_estimators=200 \n",
      "[CV]  max_depth=2, min_samples_leaf=2, min_samples_split=10, n_estimators=200, total=   9.9s\n",
      "[CV] max_depth=2, min_samples_leaf=5, min_samples_split=5, n_estimators=10 \n",
      "[CV]  max_depth=2, min_samples_leaf=5, min_samples_split=2, n_estimators=100, total=   5.0s\n",
      "[CV] max_depth=2, min_samples_leaf=5, min_samples_split=5, n_estimators=10 \n",
      "[CV]  max_depth=2, min_samples_leaf=5, min_samples_split=5, n_estimators=10, total=   0.5s\n",
      "[CV]  max_depth=2, min_samples_leaf=5, min_samples_split=2, n_estimators=100, total=   5.0s\n",
      "[CV] max_depth=2, min_samples_leaf=5, min_samples_split=5, n_estimators=10 \n",
      "[CV] max_depth=2, min_samples_leaf=5, min_samples_split=5, n_estimators=20 \n",
      "[CV]  max_depth=2, min_samples_leaf=5, min_samples_split=5, n_estimators=10, total=   0.6s\n",
      "[CV] max_depth=2, min_samples_leaf=5, min_samples_split=5, n_estimators=20 \n",
      "[CV]  max_depth=2, min_samples_leaf=5, min_samples_split=5, n_estimators=10, total=   0.5s\n",
      "[CV] max_depth=2, min_samples_leaf=5, min_samples_split=5, n_estimators=20 \n",
      "[CV]  max_depth=2, min_samples_leaf=5, min_samples_split=5, n_estimators=20, total=   1.1s\n",
      "[CV] max_depth=2, min_samples_leaf=5, min_samples_split=5, n_estimators=50 \n",
      "[CV]  max_depth=2, min_samples_leaf=5, min_samples_split=5, n_estimators=20, total=   1.0s\n",
      "[CV] max_depth=2, min_samples_leaf=5, min_samples_split=5, n_estimators=50 \n",
      "[CV]  max_depth=2, min_samples_leaf=5, min_samples_split=2, n_estimators=100, total=   5.0s\n",
      "[CV] max_depth=2, min_samples_leaf=5, min_samples_split=5, n_estimators=50 \n",
      "[CV]  max_depth=2, min_samples_leaf=5, min_samples_split=5, n_estimators=20, total=   1.1s\n",
      "[CV] max_depth=2, min_samples_leaf=5, min_samples_split=5, n_estimators=100 \n",
      "[CV]  max_depth=2, min_samples_leaf=2, min_samples_split=10, n_estimators=200, total=  10.2s\n",
      "[CV] max_depth=2, min_samples_leaf=5, min_samples_split=5, n_estimators=100 \n",
      "[CV]  max_depth=2, min_samples_leaf=5, min_samples_split=5, n_estimators=50, total=   2.7s\n",
      "[CV] max_depth=2, min_samples_leaf=5, min_samples_split=5, n_estimators=100 \n",
      "[CV]  max_depth=2, min_samples_leaf=5, min_samples_split=5, n_estimators=50, total=   2.9s\n",
      "[CV] max_depth=2, min_samples_leaf=5, min_samples_split=5, n_estimators=200 \n",
      "[CV]  max_depth=2, min_samples_leaf=5, min_samples_split=5, n_estimators=50, total=   2.8s\n",
      "[CV] max_depth=2, min_samples_leaf=5, min_samples_split=5, n_estimators=200 \n",
      "[CV]  max_depth=2, min_samples_leaf=5, min_samples_split=2, n_estimators=200, total=  10.2s\n",
      "[CV] max_depth=2, min_samples_leaf=5, min_samples_split=5, n_estimators=200 \n",
      "[CV]  max_depth=2, min_samples_leaf=5, min_samples_split=5, n_estimators=100, total=   5.3s\n",
      "[CV] max_depth=2, min_samples_leaf=5, min_samples_split=10, n_estimators=10 \n",
      "[CV]  max_depth=2, min_samples_leaf=5, min_samples_split=2, n_estimators=200, total=  10.5s\n",
      "[CV] max_depth=2, min_samples_leaf=5, min_samples_split=10, n_estimators=10 \n",
      "[CV]  max_depth=2, min_samples_leaf=5, min_samples_split=10, n_estimators=10, total=   0.5s\n",
      "[CV]  max_depth=2, min_samples_leaf=5, min_samples_split=5, n_estimators=100, total=   5.1s\n",
      "[CV] max_depth=2, min_samples_leaf=5, min_samples_split=10, n_estimators=10 \n",
      "[CV] max_depth=2, min_samples_leaf=5, min_samples_split=10, n_estimators=20 \n",
      "[CV]  max_depth=2, min_samples_leaf=5, min_samples_split=10, n_estimators=10, total=   0.5s\n",
      "[CV] max_depth=2, min_samples_leaf=5, min_samples_split=10, n_estimators=20 \n",
      "[CV]  max_depth=2, min_samples_leaf=5, min_samples_split=10, n_estimators=10, total=   0.5s\n",
      "[CV] max_depth=2, min_samples_leaf=5, min_samples_split=10, n_estimators=20 \n",
      "[CV]  max_depth=2, min_samples_leaf=5, min_samples_split=10, n_estimators=20, total=   1.1s\n",
      "[CV] max_depth=2, min_samples_leaf=5, min_samples_split=10, n_estimators=50 \n",
      "[CV]  max_depth=2, min_samples_leaf=5, min_samples_split=10, n_estimators=20, total=   1.2s\n",
      "[CV] max_depth=2, min_samples_leaf=5, min_samples_split=10, n_estimators=50 \n",
      "[CV]  max_depth=2, min_samples_leaf=5, min_samples_split=10, n_estimators=20, total=   1.2s\n",
      "[CV] max_depth=2, min_samples_leaf=5, min_samples_split=10, n_estimators=50 \n",
      "[CV]  max_depth=2, min_samples_leaf=5, min_samples_split=5, n_estimators=100, total=   5.4s\n",
      "[CV] max_depth=2, min_samples_leaf=5, min_samples_split=10, n_estimators=100 \n",
      "[CV]  max_depth=2, min_samples_leaf=5, min_samples_split=2, n_estimators=200, total=  10.2s\n",
      "[CV] max_depth=2, min_samples_leaf=5, min_samples_split=10, n_estimators=100 \n"
     ]
    },
    {
     "name": "stdout",
     "output_type": "stream",
     "text": [
      "[CV]  max_depth=2, min_samples_leaf=5, min_samples_split=10, n_estimators=50, total=   2.8s\n",
      "[CV] max_depth=2, min_samples_leaf=5, min_samples_split=10, n_estimators=100 \n",
      "[CV]  max_depth=2, min_samples_leaf=5, min_samples_split=10, n_estimators=50, total=   2.6s\n",
      "[CV] max_depth=2, min_samples_leaf=5, min_samples_split=10, n_estimators=200 \n",
      "[CV]  max_depth=2, min_samples_leaf=5, min_samples_split=10, n_estimators=50, total=   2.8s\n",
      "[CV] max_depth=2, min_samples_leaf=5, min_samples_split=10, n_estimators=200 \n",
      "[CV]  max_depth=2, min_samples_leaf=5, min_samples_split=10, n_estimators=100, total=   5.0s\n",
      "[CV] max_depth=2, min_samples_leaf=5, min_samples_split=10, n_estimators=200 \n",
      "[CV]  max_depth=2, min_samples_leaf=5, min_samples_split=5, n_estimators=200, total=  10.3s\n",
      "[CV] max_depth=2, min_samples_leaf=10, min_samples_split=2, n_estimators=10 \n",
      "[CV]  max_depth=2, min_samples_leaf=5, min_samples_split=5, n_estimators=200, total=  10.5s\n",
      "[CV] max_depth=2, min_samples_leaf=10, min_samples_split=2, n_estimators=10 \n",
      "[CV]  max_depth=2, min_samples_leaf=5, min_samples_split=10, n_estimators=100, total=   5.1s\n",
      "[CV] max_depth=2, min_samples_leaf=10, min_samples_split=2, n_estimators=10 \n",
      "[CV]  max_depth=2, min_samples_leaf=10, min_samples_split=2, n_estimators=10, total=   0.5s\n",
      "[CV] max_depth=2, min_samples_leaf=10, min_samples_split=2, n_estimators=20 \n",
      "[CV]  max_depth=2, min_samples_leaf=10, min_samples_split=2, n_estimators=10, total=   0.5s\n",
      "[CV] max_depth=2, min_samples_leaf=10, min_samples_split=2, n_estimators=20 \n",
      "[CV]  max_depth=2, min_samples_leaf=10, min_samples_split=2, n_estimators=10, total=   0.5s\n",
      "[CV] max_depth=2, min_samples_leaf=10, min_samples_split=2, n_estimators=20 \n",
      "[CV]  max_depth=2, min_samples_leaf=10, min_samples_split=2, n_estimators=20, total=   1.0s\n",
      "[CV] max_depth=2, min_samples_leaf=10, min_samples_split=2, n_estimators=50 \n",
      "[CV]  max_depth=2, min_samples_leaf=10, min_samples_split=2, n_estimators=20, total=   1.0s\n",
      "[CV] max_depth=2, min_samples_leaf=10, min_samples_split=2, n_estimators=50 \n",
      "[CV]  max_depth=2, min_samples_leaf=10, min_samples_split=2, n_estimators=20, total=   1.1s\n",
      "[CV] max_depth=2, min_samples_leaf=10, min_samples_split=2, n_estimators=50 \n",
      "[CV]  max_depth=2, min_samples_leaf=5, min_samples_split=10, n_estimators=100, total=   5.1s\n",
      "[CV] max_depth=2, min_samples_leaf=10, min_samples_split=2, n_estimators=100 \n",
      "[CV]  max_depth=2, min_samples_leaf=5, min_samples_split=5, n_estimators=200, total=  10.4s\n",
      "[CV] max_depth=2, min_samples_leaf=10, min_samples_split=2, n_estimators=100 \n",
      "[CV]  max_depth=2, min_samples_leaf=10, min_samples_split=2, n_estimators=50, total=   2.6s\n",
      "[CV] max_depth=2, min_samples_leaf=10, min_samples_split=2, n_estimators=100 \n",
      "[CV]  max_depth=2, min_samples_leaf=10, min_samples_split=2, n_estimators=50, total=   2.8s\n",
      "[CV] max_depth=2, min_samples_leaf=10, min_samples_split=2, n_estimators=200 \n",
      "[CV]  max_depth=2, min_samples_leaf=10, min_samples_split=2, n_estimators=50, total=   2.8s\n",
      "[CV] max_depth=2, min_samples_leaf=10, min_samples_split=2, n_estimators=200 \n",
      "[CV]  max_depth=2, min_samples_leaf=10, min_samples_split=2, n_estimators=100, total=   5.2s\n",
      "[CV]  max_depth=2, min_samples_leaf=5, min_samples_split=10, n_estimators=200, total=  10.2s\n",
      "[CV] max_depth=2, min_samples_leaf=10, min_samples_split=2, n_estimators=200 \n",
      "[CV] max_depth=2, min_samples_leaf=10, min_samples_split=5, n_estimators=10 \n",
      "[CV]  max_depth=2, min_samples_leaf=5, min_samples_split=10, n_estimators=200, total=  10.3s\n",
      "[CV] max_depth=2, min_samples_leaf=10, min_samples_split=5, n_estimators=10 \n",
      "[CV]  max_depth=2, min_samples_leaf=10, min_samples_split=5, n_estimators=10, total=   0.6s\n",
      "[CV]  max_depth=2, min_samples_leaf=10, min_samples_split=2, n_estimators=100, total=   5.3s\n",
      "[CV] max_depth=2, min_samples_leaf=10, min_samples_split=5, n_estimators=10 \n",
      "[CV] max_depth=2, min_samples_leaf=10, min_samples_split=5, n_estimators=20 \n"
     ]
    },
    {
     "name": "stderr",
     "output_type": "stream",
     "text": [
      "[Parallel(n_jobs=-1)]: Done 146 tasks      | elapsed:  1.3min\n"
     ]
    },
    {
     "name": "stdout",
     "output_type": "stream",
     "text": [
      "[CV]  max_depth=2, min_samples_leaf=10, min_samples_split=5, n_estimators=10, total=   0.5s\n",
      "[CV]  max_depth=2, min_samples_leaf=10, min_samples_split=5, n_estimators=10, total=   0.6s\n",
      "[CV] max_depth=2, min_samples_leaf=10, min_samples_split=5, n_estimators=20 \n",
      "[CV] max_depth=2, min_samples_leaf=10, min_samples_split=5, n_estimators=20 \n",
      "[CV]  max_depth=2, min_samples_leaf=10, min_samples_split=5, n_estimators=20, total=   1.1s\n",
      "[CV] max_depth=2, min_samples_leaf=10, min_samples_split=5, n_estimators=50 \n",
      "[CV]  max_depth=2, min_samples_leaf=10, min_samples_split=2, n_estimators=100, total=   5.1s\n",
      "[CV] max_depth=2, min_samples_leaf=10, min_samples_split=5, n_estimators=50 \n",
      "[CV]  max_depth=2, min_samples_leaf=10, min_samples_split=5, n_estimators=20, total=   1.0s\n",
      "[CV]  max_depth=2, min_samples_leaf=10, min_samples_split=5, n_estimators=20, total=   1.1s\n",
      "[CV] max_depth=2, min_samples_leaf=10, min_samples_split=5, n_estimators=50 \n",
      "[CV] max_depth=2, min_samples_leaf=10, min_samples_split=5, n_estimators=100 \n",
      "[CV]  max_depth=2, min_samples_leaf=5, min_samples_split=10, n_estimators=200, total=  10.1s\n",
      "[CV] max_depth=2, min_samples_leaf=10, min_samples_split=5, n_estimators=100 \n",
      "[CV]  max_depth=2, min_samples_leaf=10, min_samples_split=5, n_estimators=50, total=   2.5s\n",
      "[CV] max_depth=2, min_samples_leaf=10, min_samples_split=5, n_estimators=100 \n",
      "[CV]  max_depth=2, min_samples_leaf=10, min_samples_split=5, n_estimators=50, total=   2.5s\n",
      "[CV] max_depth=2, min_samples_leaf=10, min_samples_split=5, n_estimators=200 \n",
      "[CV]  max_depth=2, min_samples_leaf=10, min_samples_split=5, n_estimators=50, total=   2.6s\n",
      "[CV] max_depth=2, min_samples_leaf=10, min_samples_split=5, n_estimators=200 \n",
      "[CV]  max_depth=2, min_samples_leaf=10, min_samples_split=2, n_estimators=200, total=  10.4s\n",
      "[CV]  max_depth=2, min_samples_leaf=10, min_samples_split=5, n_estimators=100, total=   5.2s\n",
      "[CV] max_depth=2, min_samples_leaf=10, min_samples_split=5, n_estimators=200 \n",
      "[CV] max_depth=2, min_samples_leaf=10, min_samples_split=10, n_estimators=10 \n",
      "[CV]  max_depth=2, min_samples_leaf=10, min_samples_split=5, n_estimators=100, total=   5.0s\n",
      "[CV] max_depth=2, min_samples_leaf=10, min_samples_split=10, n_estimators=10 \n",
      "[CV]  max_depth=2, min_samples_leaf=10, min_samples_split=2, n_estimators=200, total=  10.3s\n",
      "[CV] max_depth=2, min_samples_leaf=10, min_samples_split=10, n_estimators=10 \n",
      "[CV]  max_depth=2, min_samples_leaf=10, min_samples_split=10, n_estimators=10, total=   0.5s\n",
      "[CV] max_depth=2, min_samples_leaf=10, min_samples_split=10, n_estimators=20 \n",
      "[CV]  max_depth=2, min_samples_leaf=10, min_samples_split=10, n_estimators=10, total=   0.5s\n",
      "[CV] max_depth=2, min_samples_leaf=10, min_samples_split=10, n_estimators=20 \n",
      "[CV]  max_depth=2, min_samples_leaf=10, min_samples_split=10, n_estimators=10, total=   0.6s\n",
      "[CV] max_depth=2, min_samples_leaf=10, min_samples_split=10, n_estimators=20 \n",
      "[CV]  max_depth=2, min_samples_leaf=10, min_samples_split=10, n_estimators=20, total=   1.2s\n",
      "[CV] max_depth=2, min_samples_leaf=10, min_samples_split=10, n_estimators=50 \n",
      "[CV]  max_depth=2, min_samples_leaf=10, min_samples_split=10, n_estimators=20, total=   1.1s\n",
      "[CV] max_depth=2, min_samples_leaf=10, min_samples_split=10, n_estimators=50 \n",
      "[CV]  max_depth=2, min_samples_leaf=10, min_samples_split=10, n_estimators=20, total=   1.1s\n",
      "[CV] max_depth=2, min_samples_leaf=10, min_samples_split=10, n_estimators=50 \n",
      "[CV]  max_depth=2, min_samples_leaf=10, min_samples_split=5, n_estimators=100, total=   5.4s\n",
      "[CV] max_depth=2, min_samples_leaf=10, min_samples_split=10, n_estimators=100 \n",
      "[CV]  max_depth=2, min_samples_leaf=10, min_samples_split=2, n_estimators=200, total=  10.7s\n",
      "[CV] max_depth=2, min_samples_leaf=10, min_samples_split=10, n_estimators=100 \n",
      "[CV]  max_depth=2, min_samples_leaf=10, min_samples_split=10, n_estimators=50, total=   2.5s\n",
      "[CV] max_depth=2, min_samples_leaf=10, min_samples_split=10, n_estimators=100 \n",
      "[CV]  max_depth=2, min_samples_leaf=10, min_samples_split=10, n_estimators=50, total=   2.7s\n",
      "[CV] max_depth=2, min_samples_leaf=10, min_samples_split=10, n_estimators=200 \n",
      "[CV]  max_depth=2, min_samples_leaf=10, min_samples_split=10, n_estimators=50, total=   2.7s\n",
      "[CV] max_depth=2, min_samples_leaf=10, min_samples_split=10, n_estimators=200 \n",
      "[CV]  max_depth=2, min_samples_leaf=10, min_samples_split=10, n_estimators=100, total=   5.0s\n",
      "[CV] max_depth=2, min_samples_leaf=10, min_samples_split=10, n_estimators=200 \n",
      "[CV]  max_depth=2, min_samples_leaf=10, min_samples_split=5, n_estimators=200, total=  10.1s\n",
      "[CV] max_depth=2, min_samples_leaf=50, min_samples_split=2, n_estimators=10 \n",
      "[CV]  max_depth=2, min_samples_leaf=10, min_samples_split=5, n_estimators=200, total=  10.4s\n",
      "[CV] max_depth=2, min_samples_leaf=50, min_samples_split=2, n_estimators=10 \n",
      "[CV]  max_depth=2, min_samples_leaf=50, min_samples_split=2, n_estimators=10, total=   0.5s\n",
      "[CV] max_depth=2, min_samples_leaf=50, min_samples_split=2, n_estimators=10 \n",
      "[CV]  max_depth=2, min_samples_leaf=10, min_samples_split=10, n_estimators=100, total=   5.0s\n",
      "[CV] max_depth=2, min_samples_leaf=50, min_samples_split=2, n_estimators=20 \n",
      "[CV]  max_depth=2, min_samples_leaf=50, min_samples_split=2, n_estimators=10, total=   0.6s\n",
      "[CV] max_depth=2, min_samples_leaf=50, min_samples_split=2, n_estimators=20 \n",
      "[CV]  max_depth=2, min_samples_leaf=50, min_samples_split=2, n_estimators=10, total=   0.5s\n",
      "[CV] max_depth=2, min_samples_leaf=50, min_samples_split=2, n_estimators=20 \n",
      "[CV]  max_depth=2, min_samples_leaf=50, min_samples_split=2, n_estimators=20, total=   1.0s\n",
      "[CV] max_depth=2, min_samples_leaf=50, min_samples_split=2, n_estimators=50 \n",
      "[CV]  max_depth=2, min_samples_leaf=50, min_samples_split=2, n_estimators=20, total=   1.0s\n",
      "[CV] max_depth=2, min_samples_leaf=50, min_samples_split=2, n_estimators=50 \n",
      "[CV]  max_depth=2, min_samples_leaf=50, min_samples_split=2, n_estimators=20, total=   1.0s\n",
      "[CV] max_depth=2, min_samples_leaf=50, min_samples_split=2, n_estimators=50 \n",
      "[CV]  max_depth=2, min_samples_leaf=10, min_samples_split=10, n_estimators=100, total=   5.1s\n",
      "[CV] max_depth=2, min_samples_leaf=50, min_samples_split=2, n_estimators=100 \n",
      "[CV]  max_depth=2, min_samples_leaf=10, min_samples_split=5, n_estimators=200, total=  10.7s\n",
      "[CV] max_depth=2, min_samples_leaf=50, min_samples_split=2, n_estimators=100 \n",
      "[CV]  max_depth=2, min_samples_leaf=50, min_samples_split=2, n_estimators=50, total=   2.6s\n",
      "[CV] max_depth=2, min_samples_leaf=50, min_samples_split=2, n_estimators=100 \n",
      "[CV]  max_depth=2, min_samples_leaf=50, min_samples_split=2, n_estimators=50, total=   2.5s\n",
      "[CV] max_depth=2, min_samples_leaf=50, min_samples_split=2, n_estimators=200 \n",
      "[CV]  max_depth=2, min_samples_leaf=50, min_samples_split=2, n_estimators=50, total=   2.5s\n",
      "[CV] max_depth=2, min_samples_leaf=50, min_samples_split=2, n_estimators=200 \n",
      "[CV]  max_depth=2, min_samples_leaf=50, min_samples_split=2, n_estimators=100, total=   5.0s\n",
      "[CV] max_depth=2, min_samples_leaf=50, min_samples_split=2, n_estimators=200 \n",
      "[CV]  max_depth=2, min_samples_leaf=10, min_samples_split=10, n_estimators=200, total=  10.2s\n",
      "[CV] max_depth=2, min_samples_leaf=50, min_samples_split=5, n_estimators=10 \n",
      "[CV]  max_depth=2, min_samples_leaf=10, min_samples_split=10, n_estimators=200, total=  10.2s\n",
      "[CV] max_depth=2, min_samples_leaf=50, min_samples_split=5, n_estimators=10 \n",
      "[CV]  max_depth=2, min_samples_leaf=50, min_samples_split=5, n_estimators=10, total=   0.5s\n",
      "[CV] max_depth=2, min_samples_leaf=50, min_samples_split=5, n_estimators=10 \n",
      "[CV]  max_depth=2, min_samples_leaf=50, min_samples_split=5, n_estimators=10, total=   0.6s\n",
      "[CV] max_depth=2, min_samples_leaf=50, min_samples_split=5, n_estimators=20 \n",
      "[CV]  max_depth=2, min_samples_leaf=50, min_samples_split=2, n_estimators=100, total=   5.2s\n",
      "[CV] max_depth=2, min_samples_leaf=50, min_samples_split=5, n_estimators=20 \n",
      "[CV]  max_depth=2, min_samples_leaf=50, min_samples_split=5, n_estimators=10, total=   0.6s\n",
      "[CV] max_depth=2, min_samples_leaf=50, min_samples_split=5, n_estimators=20 \n",
      "[CV]  max_depth=2, min_samples_leaf=50, min_samples_split=5, n_estimators=20, total=   1.1s\n",
      "[CV] max_depth=2, min_samples_leaf=50, min_samples_split=5, n_estimators=50 \n",
      "[CV]  max_depth=2, min_samples_leaf=50, min_samples_split=5, n_estimators=20, total=   1.1s\n"
     ]
    },
    {
     "name": "stdout",
     "output_type": "stream",
     "text": [
      "[CV] max_depth=2, min_samples_leaf=50, min_samples_split=5, n_estimators=50 \n",
      "[CV]  max_depth=2, min_samples_leaf=50, min_samples_split=5, n_estimators=20, total=   1.1s\n",
      "[CV] max_depth=2, min_samples_leaf=50, min_samples_split=5, n_estimators=50 \n",
      "[CV]  max_depth=2, min_samples_leaf=50, min_samples_split=2, n_estimators=100, total=   5.5s\n",
      "[CV] max_depth=2, min_samples_leaf=50, min_samples_split=5, n_estimators=100 \n",
      "[CV]  max_depth=2, min_samples_leaf=10, min_samples_split=10, n_estimators=200, total=  11.0s\n",
      "[CV] max_depth=2, min_samples_leaf=50, min_samples_split=5, n_estimators=100 \n",
      "[CV]  max_depth=2, min_samples_leaf=50, min_samples_split=5, n_estimators=50, total=   2.6s\n",
      "[CV] max_depth=2, min_samples_leaf=50, min_samples_split=5, n_estimators=100 \n",
      "[CV]  max_depth=2, min_samples_leaf=50, min_samples_split=5, n_estimators=50, total=   2.8s\n",
      "[CV] max_depth=2, min_samples_leaf=50, min_samples_split=5, n_estimators=200 \n",
      "[CV]  max_depth=2, min_samples_leaf=50, min_samples_split=5, n_estimators=50, total=   2.5s\n",
      "[CV] max_depth=2, min_samples_leaf=50, min_samples_split=5, n_estimators=200 \n",
      "[CV]  max_depth=2, min_samples_leaf=50, min_samples_split=5, n_estimators=100, total=   5.1s\n",
      "[CV] max_depth=2, min_samples_leaf=50, min_samples_split=5, n_estimators=200 \n",
      "[CV]  max_depth=2, min_samples_leaf=50, min_samples_split=2, n_estimators=200, total=  10.6s\n",
      "[CV] max_depth=2, min_samples_leaf=50, min_samples_split=10, n_estimators=10 \n",
      "[CV]  max_depth=2, min_samples_leaf=50, min_samples_split=2, n_estimators=200, total=  10.5s\n",
      "[CV] max_depth=2, min_samples_leaf=50, min_samples_split=10, n_estimators=10 \n",
      "[CV]  max_depth=2, min_samples_leaf=50, min_samples_split=10, n_estimators=10, total=   0.5s\n",
      "[CV]  max_depth=2, min_samples_leaf=50, min_samples_split=10, n_estimators=10, total=   0.6s\n",
      "[CV] max_depth=2, min_samples_leaf=50, min_samples_split=10, n_estimators=10 \n",
      "[CV] max_depth=2, min_samples_leaf=50, min_samples_split=10, n_estimators=20 \n",
      "[CV]  max_depth=2, min_samples_leaf=50, min_samples_split=5, n_estimators=100, total=   5.2s\n",
      "[CV] max_depth=2, min_samples_leaf=50, min_samples_split=10, n_estimators=20 \n",
      "[CV]  max_depth=2, min_samples_leaf=50, min_samples_split=10, n_estimators=10, total=   0.5s\n",
      "[CV] max_depth=2, min_samples_leaf=50, min_samples_split=10, n_estimators=20 \n",
      "[CV]  max_depth=2, min_samples_leaf=50, min_samples_split=10, n_estimators=20, total=   1.1s\n",
      "[CV] max_depth=2, min_samples_leaf=50, min_samples_split=10, n_estimators=50 \n",
      "[CV]  max_depth=2, min_samples_leaf=50, min_samples_split=10, n_estimators=20, total=   1.2s\n",
      "[CV] max_depth=2, min_samples_leaf=50, min_samples_split=10, n_estimators=50 \n",
      "[CV]  max_depth=2, min_samples_leaf=50, min_samples_split=5, n_estimators=100, total=   5.1s\n",
      "[CV] max_depth=2, min_samples_leaf=50, min_samples_split=10, n_estimators=50 \n",
      "[CV]  max_depth=2, min_samples_leaf=50, min_samples_split=10, n_estimators=20, total=   1.1s\n",
      "[CV] max_depth=2, min_samples_leaf=50, min_samples_split=10, n_estimators=100 \n",
      "[CV]  max_depth=2, min_samples_leaf=50, min_samples_split=2, n_estimators=200, total=  10.6s\n",
      "[CV] max_depth=2, min_samples_leaf=50, min_samples_split=10, n_estimators=100 \n",
      "[CV]  max_depth=2, min_samples_leaf=50, min_samples_split=10, n_estimators=50, total=   2.6s\n",
      "[CV] max_depth=2, min_samples_leaf=50, min_samples_split=10, n_estimators=100 \n",
      "[CV]  max_depth=2, min_samples_leaf=50, min_samples_split=10, n_estimators=50, total=   2.7s\n",
      "[CV] max_depth=2, min_samples_leaf=50, min_samples_split=10, n_estimators=200 \n",
      "[CV]  max_depth=2, min_samples_leaf=50, min_samples_split=10, n_estimators=50, total=   2.7s\n",
      "[CV] max_depth=2, min_samples_leaf=50, min_samples_split=10, n_estimators=200 \n",
      "[CV]  max_depth=2, min_samples_leaf=50, min_samples_split=10, n_estimators=100, total=   5.2s\n",
      "[CV]  max_depth=2, min_samples_leaf=50, min_samples_split=5, n_estimators=200, total=  10.4s\n",
      "[CV] max_depth=2, min_samples_leaf=50, min_samples_split=10, n_estimators=200 \n",
      "[CV] max_depth=5, min_samples_leaf=1, min_samples_split=2, n_estimators=10 \n",
      "[CV]  max_depth=2, min_samples_leaf=50, min_samples_split=5, n_estimators=200, total=  10.4s\n",
      "[CV] max_depth=5, min_samples_leaf=1, min_samples_split=2, n_estimators=10 \n",
      "[CV]  max_depth=2, min_samples_leaf=50, min_samples_split=10, n_estimators=100, total=   5.0s\n",
      "[CV] max_depth=5, min_samples_leaf=1, min_samples_split=2, n_estimators=10 \n",
      "[CV]  max_depth=5, min_samples_leaf=1, min_samples_split=2, n_estimators=10, total=   1.1s\n",
      "[CV] max_depth=5, min_samples_leaf=1, min_samples_split=2, n_estimators=20 \n",
      "[CV]  max_depth=5, min_samples_leaf=1, min_samples_split=2, n_estimators=10, total=   1.1s\n",
      "[CV] max_depth=5, min_samples_leaf=1, min_samples_split=2, n_estimators=20 \n",
      "[CV]  max_depth=5, min_samples_leaf=1, min_samples_split=2, n_estimators=10, total=   1.2s\n",
      "[CV] max_depth=5, min_samples_leaf=1, min_samples_split=2, n_estimators=20 \n",
      "[CV]  max_depth=2, min_samples_leaf=50, min_samples_split=10, n_estimators=100, total=   5.1s\n",
      "[CV] max_depth=5, min_samples_leaf=1, min_samples_split=2, n_estimators=50 \n",
      "[CV]  max_depth=2, min_samples_leaf=50, min_samples_split=5, n_estimators=200, total=  10.5s\n",
      "[CV] max_depth=5, min_samples_leaf=1, min_samples_split=2, n_estimators=50 \n",
      "[CV]  max_depth=5, min_samples_leaf=1, min_samples_split=2, n_estimators=20, total=   2.3s\n",
      "[CV] max_depth=5, min_samples_leaf=1, min_samples_split=2, n_estimators=50 \n",
      "[CV]  max_depth=5, min_samples_leaf=1, min_samples_split=2, n_estimators=20, total=   2.3s\n",
      "[CV] max_depth=5, min_samples_leaf=1, min_samples_split=2, n_estimators=100 \n",
      "[CV]  max_depth=5, min_samples_leaf=1, min_samples_split=2, n_estimators=20, total=   2.5s\n",
      "[CV] max_depth=5, min_samples_leaf=1, min_samples_split=2, n_estimators=100 \n",
      "[CV]  max_depth=5, min_samples_leaf=1, min_samples_split=2, n_estimators=50, total=   5.6s\n",
      "[CV] max_depth=5, min_samples_leaf=1, min_samples_split=2, n_estimators=100 \n",
      "[CV]  max_depth=2, min_samples_leaf=50, min_samples_split=10, n_estimators=200, total=  10.3s\n",
      "[CV] max_depth=5, min_samples_leaf=1, min_samples_split=2, n_estimators=200 \n",
      "[CV]  max_depth=2, min_samples_leaf=50, min_samples_split=10, n_estimators=200, total=  10.5s\n",
      "[CV] max_depth=5, min_samples_leaf=1, min_samples_split=2, n_estimators=200 \n",
      "[CV]  max_depth=5, min_samples_leaf=1, min_samples_split=2, n_estimators=50, total=   6.0s\n",
      "[CV] max_depth=5, min_samples_leaf=1, min_samples_split=2, n_estimators=200 \n",
      "[CV]  max_depth=5, min_samples_leaf=1, min_samples_split=2, n_estimators=50, total=   5.8s\n",
      "[CV] max_depth=5, min_samples_leaf=1, min_samples_split=5, n_estimators=10 \n",
      "[CV]  max_depth=2, min_samples_leaf=50, min_samples_split=10, n_estimators=200, total=  10.1s\n",
      "[CV] max_depth=5, min_samples_leaf=1, min_samples_split=5, n_estimators=10 \n",
      "[CV]  max_depth=5, min_samples_leaf=1, min_samples_split=5, n_estimators=10, total=   1.1s\n",
      "[CV] max_depth=5, min_samples_leaf=1, min_samples_split=5, n_estimators=10 \n",
      "[CV]  max_depth=5, min_samples_leaf=1, min_samples_split=5, n_estimators=10, total=   1.2s\n",
      "[CV] max_depth=5, min_samples_leaf=1, min_samples_split=5, n_estimators=20 \n",
      "[CV]  max_depth=5, min_samples_leaf=1, min_samples_split=5, n_estimators=10, total=   1.2s\n",
      "[CV] max_depth=5, min_samples_leaf=1, min_samples_split=5, n_estimators=20 \n",
      "[CV]  max_depth=5, min_samples_leaf=1, min_samples_split=5, n_estimators=20, total=   2.3s\n",
      "[CV] max_depth=5, min_samples_leaf=1, min_samples_split=5, n_estimators=20 \n",
      "[CV]  max_depth=5, min_samples_leaf=1, min_samples_split=5, n_estimators=20, total=   2.4s\n",
      "[CV] max_depth=5, min_samples_leaf=1, min_samples_split=5, n_estimators=50 \n",
      "[CV]  max_depth=5, min_samples_leaf=1, min_samples_split=2, n_estimators=100, total=  11.9s\n",
      "[CV] max_depth=5, min_samples_leaf=1, min_samples_split=5, n_estimators=50 \n",
      "[CV]  max_depth=5, min_samples_leaf=1, min_samples_split=2, n_estimators=100, total=  11.7s\n",
      "[CV] max_depth=5, min_samples_leaf=1, min_samples_split=5, n_estimators=50 \n",
      "[CV]  max_depth=5, min_samples_leaf=1, min_samples_split=5, n_estimators=20, total=   2.3s\n",
      "[CV] max_depth=5, min_samples_leaf=1, min_samples_split=5, n_estimators=100 \n",
      "[CV]  max_depth=5, min_samples_leaf=1, min_samples_split=2, n_estimators=100, total=  12.0s\n",
      "[CV] max_depth=5, min_samples_leaf=1, min_samples_split=5, n_estimators=100 \n"
     ]
    },
    {
     "name": "stdout",
     "output_type": "stream",
     "text": [
      "[CV]  max_depth=5, min_samples_leaf=1, min_samples_split=5, n_estimators=50, total=   5.8s\n",
      "[CV] max_depth=5, min_samples_leaf=1, min_samples_split=5, n_estimators=100 \n",
      "[CV]  max_depth=5, min_samples_leaf=1, min_samples_split=5, n_estimators=50, total=   5.7s\n",
      "[CV] max_depth=5, min_samples_leaf=1, min_samples_split=5, n_estimators=200 \n",
      "[CV]  max_depth=5, min_samples_leaf=1, min_samples_split=5, n_estimators=50, total=   5.9s\n",
      "[CV] max_depth=5, min_samples_leaf=1, min_samples_split=5, n_estimators=200 \n",
      "[CV]  max_depth=5, min_samples_leaf=1, min_samples_split=5, n_estimators=100, total=  11.4s\n",
      "[CV] max_depth=5, min_samples_leaf=1, min_samples_split=5, n_estimators=200 \n",
      "[CV]  max_depth=5, min_samples_leaf=1, min_samples_split=2, n_estimators=200, total=  22.3s\n",
      "[CV] max_depth=5, min_samples_leaf=1, min_samples_split=10, n_estimators=10 \n",
      "[CV]  max_depth=5, min_samples_leaf=1, min_samples_split=2, n_estimators=200, total=  22.7s\n",
      "[CV] max_depth=5, min_samples_leaf=1, min_samples_split=10, n_estimators=10 \n",
      "[CV]  max_depth=5, min_samples_leaf=1, min_samples_split=5, n_estimators=100, total=  11.1s\n",
      "[CV] max_depth=5, min_samples_leaf=1, min_samples_split=10, n_estimators=10 \n",
      "[CV]  max_depth=5, min_samples_leaf=1, min_samples_split=5, n_estimators=100, total=  11.5s\n",
      "[CV] max_depth=5, min_samples_leaf=1, min_samples_split=10, n_estimators=20 \n",
      "[CV]  max_depth=5, min_samples_leaf=1, min_samples_split=10, n_estimators=10, total=   1.2s\n",
      "[CV] max_depth=5, min_samples_leaf=1, min_samples_split=10, n_estimators=20 \n",
      "[CV]  max_depth=5, min_samples_leaf=1, min_samples_split=2, n_estimators=200, total=  22.7s\n",
      "[CV] max_depth=5, min_samples_leaf=1, min_samples_split=10, n_estimators=20 \n",
      "[CV]  max_depth=5, min_samples_leaf=1, min_samples_split=10, n_estimators=10, total=   1.2s\n",
      "[CV] max_depth=5, min_samples_leaf=1, min_samples_split=10, n_estimators=50 \n",
      "[CV]  max_depth=5, min_samples_leaf=1, min_samples_split=10, n_estimators=10, total=   1.4s\n",
      "[CV] max_depth=5, min_samples_leaf=1, min_samples_split=10, n_estimators=50 \n",
      "[CV]  max_depth=5, min_samples_leaf=1, min_samples_split=10, n_estimators=20, total=   2.3s\n",
      "[CV] max_depth=5, min_samples_leaf=1, min_samples_split=10, n_estimators=50 \n",
      "[CV]  max_depth=5, min_samples_leaf=1, min_samples_split=10, n_estimators=20, total=   2.4s\n",
      "[CV] max_depth=5, min_samples_leaf=1, min_samples_split=10, n_estimators=100 \n",
      "[CV]  max_depth=5, min_samples_leaf=1, min_samples_split=10, n_estimators=20, total=   2.4s\n",
      "[CV] max_depth=5, min_samples_leaf=1, min_samples_split=10, n_estimators=100 \n",
      "[CV]  max_depth=5, min_samples_leaf=1, min_samples_split=10, n_estimators=50, total=   6.0s\n",
      "[CV] max_depth=5, min_samples_leaf=1, min_samples_split=10, n_estimators=100 \n",
      "[CV]  max_depth=5, min_samples_leaf=1, min_samples_split=10, n_estimators=50, total=   5.9s\n",
      "[CV] max_depth=5, min_samples_leaf=1, min_samples_split=10, n_estimators=200 \n",
      "[CV]  max_depth=5, min_samples_leaf=1, min_samples_split=10, n_estimators=50, total=   5.6s\n",
      "[CV] max_depth=5, min_samples_leaf=1, min_samples_split=10, n_estimators=200 \n",
      "[CV]  max_depth=5, min_samples_leaf=1, min_samples_split=5, n_estimators=200, total=  22.6s\n",
      "[CV] max_depth=5, min_samples_leaf=1, min_samples_split=10, n_estimators=200 \n",
      "[CV]  max_depth=5, min_samples_leaf=1, min_samples_split=5, n_estimators=200, total=  22.8s\n",
      "[CV] max_depth=5, min_samples_leaf=2, min_samples_split=2, n_estimators=10 \n",
      "[CV]  max_depth=5, min_samples_leaf=1, min_samples_split=10, n_estimators=100, total=  11.2s\n",
      "[CV]  max_depth=5, min_samples_leaf=1, min_samples_split=10, n_estimators=100, total=  11.6s\n",
      "[CV] max_depth=5, min_samples_leaf=2, min_samples_split=2, n_estimators=10 \n",
      "[CV] max_depth=5, min_samples_leaf=2, min_samples_split=2, n_estimators=10 \n",
      "[CV]  max_depth=5, min_samples_leaf=2, min_samples_split=2, n_estimators=10, total=   1.1s\n",
      "[CV] max_depth=5, min_samples_leaf=2, min_samples_split=2, n_estimators=20 \n",
      "[CV]  max_depth=5, min_samples_leaf=2, min_samples_split=2, n_estimators=10, total=   1.2s\n",
      "[CV] max_depth=5, min_samples_leaf=2, min_samples_split=2, n_estimators=20 \n",
      "[CV]  max_depth=5, min_samples_leaf=2, min_samples_split=2, n_estimators=10, total=   1.2s\n",
      "[CV] max_depth=5, min_samples_leaf=2, min_samples_split=2, n_estimators=20 \n",
      "[CV]  max_depth=5, min_samples_leaf=2, min_samples_split=2, n_estimators=20, total=   2.3s\n",
      "[CV] max_depth=5, min_samples_leaf=2, min_samples_split=2, n_estimators=50 \n",
      "[CV]  max_depth=5, min_samples_leaf=2, min_samples_split=2, n_estimators=20, total=   2.3s\n",
      "[CV] max_depth=5, min_samples_leaf=2, min_samples_split=2, n_estimators=50 \n",
      "[CV]  max_depth=5, min_samples_leaf=2, min_samples_split=2, n_estimators=20, total=   2.3s\n",
      "[CV] max_depth=5, min_samples_leaf=2, min_samples_split=2, n_estimators=50 \n",
      "[CV]  max_depth=5, min_samples_leaf=1, min_samples_split=10, n_estimators=100, total=  11.3s\n",
      "[CV] max_depth=5, min_samples_leaf=2, min_samples_split=2, n_estimators=100 \n",
      "[CV]  max_depth=5, min_samples_leaf=1, min_samples_split=5, n_estimators=200, total=  22.4s\n",
      "[CV] max_depth=5, min_samples_leaf=2, min_samples_split=2, n_estimators=100 \n",
      "[CV]  max_depth=5, min_samples_leaf=2, min_samples_split=2, n_estimators=50, total=   6.1s\n",
      "[CV] max_depth=5, min_samples_leaf=2, min_samples_split=2, n_estimators=100 \n",
      "[CV]  max_depth=5, min_samples_leaf=2, min_samples_split=2, n_estimators=50, total=   5.7s\n",
      "[CV]  max_depth=5, min_samples_leaf=2, min_samples_split=2, n_estimators=50, total=   5.8s\n",
      "[CV] max_depth=5, min_samples_leaf=2, min_samples_split=2, n_estimators=200 \n",
      "[CV] max_depth=5, min_samples_leaf=2, min_samples_split=2, n_estimators=200 \n",
      "[CV]  max_depth=5, min_samples_leaf=2, min_samples_split=2, n_estimators=100, total=  11.6s\n",
      "[CV] max_depth=5, min_samples_leaf=2, min_samples_split=2, n_estimators=200 \n",
      "[CV]  max_depth=5, min_samples_leaf=1, min_samples_split=10, n_estimators=200, total=  22.4s\n",
      "[CV] max_depth=5, min_samples_leaf=2, min_samples_split=5, n_estimators=10 \n",
      "[CV]  max_depth=5, min_samples_leaf=1, min_samples_split=10, n_estimators=200, total=  23.2s\n",
      "[CV] max_depth=5, min_samples_leaf=2, min_samples_split=5, n_estimators=10 \n",
      "[CV]  max_depth=5, min_samples_leaf=2, min_samples_split=2, n_estimators=100, total=  11.6s\n",
      "[CV] max_depth=5, min_samples_leaf=2, min_samples_split=5, n_estimators=10 \n",
      "[CV]  max_depth=5, min_samples_leaf=2, min_samples_split=5, n_estimators=10, total=   1.3s\n",
      "[CV] max_depth=5, min_samples_leaf=2, min_samples_split=5, n_estimators=20 \n",
      "[CV]  max_depth=5, min_samples_leaf=2, min_samples_split=5, n_estimators=10, total=   1.1s\n",
      "[CV] max_depth=5, min_samples_leaf=2, min_samples_split=5, n_estimators=20 \n",
      "[CV]  max_depth=5, min_samples_leaf=2, min_samples_split=5, n_estimators=10, total=   1.2s\n",
      "[CV] max_depth=5, min_samples_leaf=2, min_samples_split=5, n_estimators=20 \n",
      "[CV]  max_depth=5, min_samples_leaf=2, min_samples_split=2, n_estimators=100, total=  11.5s\n",
      "[CV] max_depth=5, min_samples_leaf=2, min_samples_split=5, n_estimators=50 \n",
      "[CV]  max_depth=5, min_samples_leaf=2, min_samples_split=5, n_estimators=20, total=   2.3s\n",
      "[CV] max_depth=5, min_samples_leaf=2, min_samples_split=5, n_estimators=50 \n",
      "[CV]  max_depth=5, min_samples_leaf=2, min_samples_split=5, n_estimators=20, total=   2.4s\n",
      "[CV] max_depth=5, min_samples_leaf=2, min_samples_split=5, n_estimators=50 \n",
      "[CV]  max_depth=5, min_samples_leaf=2, min_samples_split=5, n_estimators=20, total=   2.5s\n",
      "[CV] max_depth=5, min_samples_leaf=2, min_samples_split=5, n_estimators=100 \n",
      "[CV]  max_depth=5, min_samples_leaf=1, min_samples_split=10, n_estimators=200, total=  22.7s\n",
      "[CV] max_depth=5, min_samples_leaf=2, min_samples_split=5, n_estimators=100 \n",
      "[CV]  max_depth=5, min_samples_leaf=2, min_samples_split=5, n_estimators=50, total=   5.6s\n",
      "[CV] max_depth=5, min_samples_leaf=2, min_samples_split=5, n_estimators=100 \n",
      "[CV]  max_depth=5, min_samples_leaf=2, min_samples_split=5, n_estimators=50, total=   5.8s\n",
      "[CV] max_depth=5, min_samples_leaf=2, min_samples_split=5, n_estimators=200 \n",
      "[CV]  max_depth=5, min_samples_leaf=2, min_samples_split=5, n_estimators=50, total=   5.9s\n",
      "[CV] max_depth=5, min_samples_leaf=2, min_samples_split=5, n_estimators=200 \n",
      "[CV]  max_depth=5, min_samples_leaf=2, min_samples_split=5, n_estimators=100, total=  11.3s\n",
      "[CV] max_depth=5, min_samples_leaf=2, min_samples_split=5, n_estimators=200 \n"
     ]
    },
    {
     "name": "stdout",
     "output_type": "stream",
     "text": [
      "[CV]  max_depth=5, min_samples_leaf=2, min_samples_split=2, n_estimators=200, total=  22.6s\n",
      "[CV] max_depth=5, min_samples_leaf=2, min_samples_split=10, n_estimators=10 \n",
      "[CV]  max_depth=5, min_samples_leaf=2, min_samples_split=2, n_estimators=200, total=  23.0s\n",
      "[CV] max_depth=5, min_samples_leaf=2, min_samples_split=10, n_estimators=10 \n",
      "[CV]  max_depth=5, min_samples_leaf=2, min_samples_split=10, n_estimators=10, total=   1.2s\n",
      "[CV]  max_depth=5, min_samples_leaf=2, min_samples_split=5, n_estimators=100, total=  11.6s\n",
      "[CV] max_depth=5, min_samples_leaf=2, min_samples_split=10, n_estimators=20 \n",
      "[CV] max_depth=5, min_samples_leaf=2, min_samples_split=10, n_estimators=10 \n",
      "[CV]  max_depth=5, min_samples_leaf=2, min_samples_split=10, n_estimators=10, total=   1.2s\n",
      "[CV] max_depth=5, min_samples_leaf=2, min_samples_split=10, n_estimators=20 \n",
      "[CV]  max_depth=5, min_samples_leaf=2, min_samples_split=10, n_estimators=10, total=   1.3s\n",
      "[CV] max_depth=5, min_samples_leaf=2, min_samples_split=10, n_estimators=20 \n",
      "[CV]  max_depth=5, min_samples_leaf=2, min_samples_split=10, n_estimators=20, total=   2.3s\n",
      "[CV] max_depth=5, min_samples_leaf=2, min_samples_split=10, n_estimators=50 \n",
      "[CV]  max_depth=5, min_samples_leaf=2, min_samples_split=10, n_estimators=20, total=   2.3s\n",
      "[CV] max_depth=5, min_samples_leaf=2, min_samples_split=10, n_estimators=50 \n",
      "[CV]  max_depth=5, min_samples_leaf=2, min_samples_split=10, n_estimators=20, total=   2.5s\n",
      "[CV] max_depth=5, min_samples_leaf=2, min_samples_split=10, n_estimators=50 \n",
      "[CV]  max_depth=5, min_samples_leaf=2, min_samples_split=5, n_estimators=100, total=  11.5s\n",
      "[CV] max_depth=5, min_samples_leaf=2, min_samples_split=10, n_estimators=100 \n",
      "[CV]  max_depth=5, min_samples_leaf=2, min_samples_split=2, n_estimators=200, total=  23.5s\n",
      "[CV] max_depth=5, min_samples_leaf=2, min_samples_split=10, n_estimators=100 \n",
      "[CV]  max_depth=5, min_samples_leaf=2, min_samples_split=10, n_estimators=50, total=   5.9s\n",
      "[CV] max_depth=5, min_samples_leaf=2, min_samples_split=10, n_estimators=100 \n",
      "[CV]  max_depth=5, min_samples_leaf=2, min_samples_split=10, n_estimators=50, total=   6.0s\n",
      "[CV] max_depth=5, min_samples_leaf=2, min_samples_split=10, n_estimators=200 \n",
      "[CV]  max_depth=5, min_samples_leaf=2, min_samples_split=10, n_estimators=50, total=   5.9s\n",
      "[CV] max_depth=5, min_samples_leaf=2, min_samples_split=10, n_estimators=200 \n",
      "[CV]  max_depth=5, min_samples_leaf=2, min_samples_split=10, n_estimators=100, total=  11.2s\n",
      "[CV] max_depth=5, min_samples_leaf=2, min_samples_split=10, n_estimators=200 \n",
      "[CV]  max_depth=5, min_samples_leaf=2, min_samples_split=5, n_estimators=200, total=  22.8s\n",
      "[CV] max_depth=5, min_samples_leaf=5, min_samples_split=2, n_estimators=10 \n",
      "[CV]  max_depth=5, min_samples_leaf=2, min_samples_split=5, n_estimators=200, total=  23.1s\n",
      "[CV] max_depth=5, min_samples_leaf=5, min_samples_split=2, n_estimators=10 \n",
      "[CV]  max_depth=5, min_samples_leaf=5, min_samples_split=2, n_estimators=10, total=   1.1s\n",
      "[CV] max_depth=5, min_samples_leaf=5, min_samples_split=2, n_estimators=10 \n",
      "[CV]  max_depth=5, min_samples_leaf=5, min_samples_split=2, n_estimators=10, total=   1.1s\n",
      "[CV] max_depth=5, min_samples_leaf=5, min_samples_split=2, n_estimators=20 \n",
      "[CV]  max_depth=5, min_samples_leaf=2, min_samples_split=10, n_estimators=100, total=  11.2s\n",
      "[CV] max_depth=5, min_samples_leaf=5, min_samples_split=2, n_estimators=20 \n",
      "[CV]  max_depth=5, min_samples_leaf=5, min_samples_split=2, n_estimators=10, total=   1.2s\n",
      "[CV] max_depth=5, min_samples_leaf=5, min_samples_split=2, n_estimators=20 \n",
      "[CV]  max_depth=5, min_samples_leaf=5, min_samples_split=2, n_estimators=20, total=   2.3s\n",
      "[CV] max_depth=5, min_samples_leaf=5, min_samples_split=2, n_estimators=50 \n",
      "[CV]  max_depth=5, min_samples_leaf=5, min_samples_split=2, n_estimators=20, total=   2.6s\n",
      "[CV] max_depth=5, min_samples_leaf=5, min_samples_split=2, n_estimators=50 \n",
      "[CV]  max_depth=5, min_samples_leaf=2, min_samples_split=10, n_estimators=100, total=  11.3s\n",
      "[CV] max_depth=5, min_samples_leaf=5, min_samples_split=2, n_estimators=50 \n",
      "[CV]  max_depth=5, min_samples_leaf=5, min_samples_split=2, n_estimators=20, total=   2.5s\n",
      "[CV] max_depth=5, min_samples_leaf=5, min_samples_split=2, n_estimators=100 \n",
      "[CV]  max_depth=5, min_samples_leaf=2, min_samples_split=5, n_estimators=200, total=  23.9s\n",
      "[CV] max_depth=5, min_samples_leaf=5, min_samples_split=2, n_estimators=100 \n",
      "[CV]  max_depth=5, min_samples_leaf=5, min_samples_split=2, n_estimators=50, total=   5.6s\n",
      "[CV] max_depth=5, min_samples_leaf=5, min_samples_split=2, n_estimators=100 \n",
      "[CV]  max_depth=5, min_samples_leaf=5, min_samples_split=2, n_estimators=50, total=   5.8s\n",
      "[CV] max_depth=5, min_samples_leaf=5, min_samples_split=2, n_estimators=200 \n",
      "[CV]  max_depth=5, min_samples_leaf=5, min_samples_split=2, n_estimators=50, total=   5.8s\n",
      "[CV] max_depth=5, min_samples_leaf=5, min_samples_split=2, n_estimators=200 \n",
      "[CV]  max_depth=5, min_samples_leaf=5, min_samples_split=2, n_estimators=100, total=  11.2s\n",
      "[CV] max_depth=5, min_samples_leaf=5, min_samples_split=2, n_estimators=200 \n",
      "[CV]  max_depth=5, min_samples_leaf=2, min_samples_split=10, n_estimators=200, total=  23.1s\n",
      "[CV] max_depth=5, min_samples_leaf=5, min_samples_split=5, n_estimators=10 \n",
      "[CV]  max_depth=5, min_samples_leaf=2, min_samples_split=10, n_estimators=200, total=  22.9s\n",
      "[CV] max_depth=5, min_samples_leaf=5, min_samples_split=5, n_estimators=10 \n",
      "[CV]  max_depth=5, min_samples_leaf=5, min_samples_split=5, n_estimators=10, total=   1.2s\n",
      "[CV] max_depth=5, min_samples_leaf=5, min_samples_split=5, n_estimators=10 \n",
      "[CV]  max_depth=5, min_samples_leaf=5, min_samples_split=2, n_estimators=100, total=  11.4s\n",
      "[CV] max_depth=5, min_samples_leaf=5, min_samples_split=5, n_estimators=20 \n",
      "[CV]  max_depth=5, min_samples_leaf=5, min_samples_split=5, n_estimators=10, total=   1.2s\n",
      "[CV] max_depth=5, min_samples_leaf=5, min_samples_split=5, n_estimators=20 \n",
      "[CV]  max_depth=5, min_samples_leaf=5, min_samples_split=5, n_estimators=10, total=   1.3s\n",
      "[CV] max_depth=5, min_samples_leaf=5, min_samples_split=5, n_estimators=20 \n",
      "[CV]  max_depth=5, min_samples_leaf=5, min_samples_split=5, n_estimators=20, total=   2.4s\n",
      "[CV] max_depth=5, min_samples_leaf=5, min_samples_split=5, n_estimators=50 \n",
      "[CV]  max_depth=5, min_samples_leaf=5, min_samples_split=2, n_estimators=100, total=  11.2s\n",
      "[CV] max_depth=5, min_samples_leaf=5, min_samples_split=5, n_estimators=50 \n",
      "[CV]  max_depth=5, min_samples_leaf=5, min_samples_split=5, n_estimators=20, total=   2.4s\n",
      "[CV] max_depth=5, min_samples_leaf=5, min_samples_split=5, n_estimators=50 \n",
      "[CV]  max_depth=5, min_samples_leaf=5, min_samples_split=5, n_estimators=20, total=   2.5s\n",
      "[CV] max_depth=5, min_samples_leaf=5, min_samples_split=5, n_estimators=100 \n",
      "[CV]  max_depth=5, min_samples_leaf=2, min_samples_split=10, n_estimators=200, total=  22.5s\n",
      "[CV] max_depth=5, min_samples_leaf=5, min_samples_split=5, n_estimators=100 \n",
      "[CV]  max_depth=5, min_samples_leaf=5, min_samples_split=5, n_estimators=50, total=   5.6s\n",
      "[CV] max_depth=5, min_samples_leaf=5, min_samples_split=5, n_estimators=100 \n",
      "[CV]  max_depth=5, min_samples_leaf=5, min_samples_split=5, n_estimators=50, total=   5.7s\n",
      "[CV] max_depth=5, min_samples_leaf=5, min_samples_split=5, n_estimators=200 \n",
      "[CV]  max_depth=5, min_samples_leaf=5, min_samples_split=5, n_estimators=50, total=   5.7s\n",
      "[CV] max_depth=5, min_samples_leaf=5, min_samples_split=5, n_estimators=200 \n",
      "[CV]  max_depth=5, min_samples_leaf=5, min_samples_split=5, n_estimators=100, total=  11.2s\n",
      "[CV] max_depth=5, min_samples_leaf=5, min_samples_split=5, n_estimators=200 \n",
      "[CV]  max_depth=5, min_samples_leaf=5, min_samples_split=2, n_estimators=200, total=  22.8s\n",
      "[CV] max_depth=5, min_samples_leaf=5, min_samples_split=10, n_estimators=10 \n",
      "[CV]  max_depth=5, min_samples_leaf=5, min_samples_split=2, n_estimators=200, total=  23.0s\n",
      "[CV] max_depth=5, min_samples_leaf=5, min_samples_split=10, n_estimators=10 \n",
      "[CV]  max_depth=5, min_samples_leaf=5, min_samples_split=5, n_estimators=100, total=  11.3s\n",
      "[CV] max_depth=5, min_samples_leaf=5, min_samples_split=10, n_estimators=10 \n",
      "[CV]  max_depth=5, min_samples_leaf=5, min_samples_split=10, n_estimators=10, total=   1.2s\n",
      "[CV] max_depth=5, min_samples_leaf=5, min_samples_split=10, n_estimators=20 \n"
     ]
    },
    {
     "name": "stdout",
     "output_type": "stream",
     "text": [
      "[CV]  max_depth=5, min_samples_leaf=5, min_samples_split=10, n_estimators=10, total=   1.2s\n",
      "[CV] max_depth=5, min_samples_leaf=5, min_samples_split=10, n_estimators=20 \n",
      "[CV]  max_depth=5, min_samples_leaf=5, min_samples_split=10, n_estimators=10, total=   1.2s\n",
      "[CV] max_depth=5, min_samples_leaf=5, min_samples_split=10, n_estimators=20 \n",
      "[CV]  max_depth=5, min_samples_leaf=5, min_samples_split=10, n_estimators=20, total=   2.4s\n",
      "[CV] max_depth=5, min_samples_leaf=5, min_samples_split=10, n_estimators=50 \n",
      "[CV]  max_depth=5, min_samples_leaf=5, min_samples_split=10, n_estimators=20, total=   2.3s\n",
      "[CV] max_depth=5, min_samples_leaf=5, min_samples_split=10, n_estimators=50 \n",
      "[CV]  max_depth=5, min_samples_leaf=5, min_samples_split=10, n_estimators=20, total=   2.3s\n",
      "[CV] max_depth=5, min_samples_leaf=5, min_samples_split=10, n_estimators=50 \n",
      "[CV]  max_depth=5, min_samples_leaf=5, min_samples_split=5, n_estimators=100, total=  11.7s\n",
      "[CV] max_depth=5, min_samples_leaf=5, min_samples_split=10, n_estimators=100 \n",
      "[CV]  max_depth=5, min_samples_leaf=5, min_samples_split=2, n_estimators=200, total=  23.6s\n",
      "[CV] max_depth=5, min_samples_leaf=5, min_samples_split=10, n_estimators=100 \n",
      "[CV]  max_depth=5, min_samples_leaf=5, min_samples_split=10, n_estimators=50, total=   5.6s\n",
      "[CV] max_depth=5, min_samples_leaf=5, min_samples_split=10, n_estimators=100 \n",
      "[CV]  max_depth=5, min_samples_leaf=5, min_samples_split=10, n_estimators=50, total=   5.8s\n",
      "[CV] max_depth=5, min_samples_leaf=5, min_samples_split=10, n_estimators=200 \n"
     ]
    },
    {
     "name": "stderr",
     "output_type": "stream",
     "text": [
      "[Parallel(n_jobs=-1)]: Done 349 tasks      | elapsed:  4.2min\n"
     ]
    },
    {
     "name": "stdout",
     "output_type": "stream",
     "text": [
      "[CV]  max_depth=5, min_samples_leaf=5, min_samples_split=10, n_estimators=50, total=   6.0s\n",
      "[CV] max_depth=5, min_samples_leaf=5, min_samples_split=10, n_estimators=200 \n",
      "[CV]  max_depth=5, min_samples_leaf=5, min_samples_split=5, n_estimators=200, total=  22.5s\n",
      "[CV]  max_depth=5, min_samples_leaf=5, min_samples_split=10, n_estimators=100, total=  11.1s\n",
      "[CV] max_depth=5, min_samples_leaf=5, min_samples_split=10, n_estimators=200 \n",
      "[CV] max_depth=5, min_samples_leaf=10, min_samples_split=2, n_estimators=10 \n",
      "[CV]  max_depth=5, min_samples_leaf=5, min_samples_split=5, n_estimators=200, total=  22.7s\n",
      "[CV] max_depth=5, min_samples_leaf=10, min_samples_split=2, n_estimators=10 \n",
      "[CV]  max_depth=5, min_samples_leaf=10, min_samples_split=2, n_estimators=10, total=   1.2s\n",
      "[CV] max_depth=5, min_samples_leaf=10, min_samples_split=2, n_estimators=10 \n",
      "[CV]  max_depth=5, min_samples_leaf=10, min_samples_split=2, n_estimators=10, total=   1.1s\n",
      "[CV] max_depth=5, min_samples_leaf=10, min_samples_split=2, n_estimators=20 \n",
      "[CV]  max_depth=5, min_samples_leaf=5, min_samples_split=10, n_estimators=100, total=  11.1s\n",
      "[CV] max_depth=5, min_samples_leaf=10, min_samples_split=2, n_estimators=20 \n",
      "[CV]  max_depth=5, min_samples_leaf=10, min_samples_split=2, n_estimators=10, total=   1.1s\n",
      "[CV] max_depth=5, min_samples_leaf=10, min_samples_split=2, n_estimators=20 \n",
      "[CV]  max_depth=5, min_samples_leaf=10, min_samples_split=2, n_estimators=20, total=   2.3s\n",
      "[CV] max_depth=5, min_samples_leaf=10, min_samples_split=2, n_estimators=50 \n",
      "[CV]  max_depth=5, min_samples_leaf=10, min_samples_split=2, n_estimators=20, total=   2.3s\n",
      "[CV] max_depth=5, min_samples_leaf=10, min_samples_split=2, n_estimators=50 \n",
      "[CV]  max_depth=5, min_samples_leaf=5, min_samples_split=10, n_estimators=100, total=  11.5s\n",
      "[CV] max_depth=5, min_samples_leaf=10, min_samples_split=2, n_estimators=50 \n",
      "[CV]  max_depth=5, min_samples_leaf=10, min_samples_split=2, n_estimators=20, total=   2.3s\n",
      "[CV] max_depth=5, min_samples_leaf=10, min_samples_split=2, n_estimators=100 \n",
      "[CV]  max_depth=5, min_samples_leaf=5, min_samples_split=5, n_estimators=200, total=  22.6s\n",
      "[CV] max_depth=5, min_samples_leaf=10, min_samples_split=2, n_estimators=100 \n",
      "[CV]  max_depth=5, min_samples_leaf=10, min_samples_split=2, n_estimators=50, total=   5.6s\n",
      "[CV] max_depth=5, min_samples_leaf=10, min_samples_split=2, n_estimators=100 \n",
      "[CV]  max_depth=5, min_samples_leaf=10, min_samples_split=2, n_estimators=50, total=   6.0s\n",
      "[CV] max_depth=5, min_samples_leaf=10, min_samples_split=2, n_estimators=200 \n",
      "[CV]  max_depth=5, min_samples_leaf=10, min_samples_split=2, n_estimators=50, total=   6.1s\n",
      "[CV] max_depth=5, min_samples_leaf=10, min_samples_split=2, n_estimators=200 \n",
      "[CV]  max_depth=5, min_samples_leaf=10, min_samples_split=2, n_estimators=100, total=  11.3s\n",
      "[CV] max_depth=5, min_samples_leaf=10, min_samples_split=2, n_estimators=200 \n",
      "[CV]  max_depth=5, min_samples_leaf=5, min_samples_split=10, n_estimators=200, total=  23.2s\n",
      "[CV] max_depth=5, min_samples_leaf=10, min_samples_split=5, n_estimators=10 \n",
      "[CV]  max_depth=5, min_samples_leaf=5, min_samples_split=10, n_estimators=200, total=  22.9s\n",
      "[CV] max_depth=5, min_samples_leaf=10, min_samples_split=5, n_estimators=10 \n",
      "[CV]  max_depth=5, min_samples_leaf=10, min_samples_split=5, n_estimators=10, total=   1.2s\n",
      "[CV] max_depth=5, min_samples_leaf=10, min_samples_split=5, n_estimators=10 \n",
      "[CV]  max_depth=5, min_samples_leaf=10, min_samples_split=2, n_estimators=100, total=  11.6s\n",
      "[CV] max_depth=5, min_samples_leaf=10, min_samples_split=5, n_estimators=20 \n",
      "[CV]  max_depth=5, min_samples_leaf=10, min_samples_split=5, n_estimators=10, total=   1.2s\n",
      "[CV] max_depth=5, min_samples_leaf=10, min_samples_split=5, n_estimators=20 \n",
      "[CV]  max_depth=5, min_samples_leaf=10, min_samples_split=5, n_estimators=10, total=   1.3s\n",
      "[CV] max_depth=5, min_samples_leaf=10, min_samples_split=5, n_estimators=20 \n",
      "[CV]  max_depth=5, min_samples_leaf=10, min_samples_split=5, n_estimators=20, total=   2.5s\n",
      "[CV] max_depth=5, min_samples_leaf=10, min_samples_split=5, n_estimators=50 \n",
      "[CV]  max_depth=5, min_samples_leaf=10, min_samples_split=5, n_estimators=20, total=   2.3s\n",
      "[CV] max_depth=5, min_samples_leaf=10, min_samples_split=5, n_estimators=50 \n",
      "[CV]  max_depth=5, min_samples_leaf=10, min_samples_split=2, n_estimators=100, total=  11.3s\n",
      "[CV] max_depth=5, min_samples_leaf=10, min_samples_split=5, n_estimators=50 \n",
      "[CV]  max_depth=5, min_samples_leaf=10, min_samples_split=5, n_estimators=20, total=   2.4s\n",
      "[CV] max_depth=5, min_samples_leaf=10, min_samples_split=5, n_estimators=100 \n",
      "[CV]  max_depth=5, min_samples_leaf=5, min_samples_split=10, n_estimators=200, total=  22.8s\n",
      "[CV] max_depth=5, min_samples_leaf=10, min_samples_split=5, n_estimators=100 \n",
      "[CV]  max_depth=5, min_samples_leaf=10, min_samples_split=5, n_estimators=50, total=   5.8s\n",
      "[CV] max_depth=5, min_samples_leaf=10, min_samples_split=5, n_estimators=100 \n",
      "[CV]  max_depth=5, min_samples_leaf=10, min_samples_split=5, n_estimators=50, total=   5.8s\n",
      "[CV] max_depth=5, min_samples_leaf=10, min_samples_split=5, n_estimators=200 \n",
      "[CV]  max_depth=5, min_samples_leaf=10, min_samples_split=5, n_estimators=50, total=   5.6s\n",
      "[CV] max_depth=5, min_samples_leaf=10, min_samples_split=5, n_estimators=200 \n",
      "[CV]  max_depth=5, min_samples_leaf=10, min_samples_split=2, n_estimators=200, total=  23.0s\n",
      "[CV] max_depth=5, min_samples_leaf=10, min_samples_split=5, n_estimators=200 \n",
      "[CV]  max_depth=5, min_samples_leaf=10, min_samples_split=5, n_estimators=100, total=  11.5s\n",
      "[CV] max_depth=5, min_samples_leaf=10, min_samples_split=10, n_estimators=10 \n",
      "[CV]  max_depth=5, min_samples_leaf=10, min_samples_split=2, n_estimators=200, total=  22.6s\n",
      "[CV] max_depth=5, min_samples_leaf=10, min_samples_split=10, n_estimators=10 \n",
      "[CV]  max_depth=5, min_samples_leaf=10, min_samples_split=5, n_estimators=100, total=  11.3s\n",
      "[CV]  max_depth=5, min_samples_leaf=10, min_samples_split=10, n_estimators=10, total=   1.3s\n",
      "[CV] max_depth=5, min_samples_leaf=10, min_samples_split=10, n_estimators=10 \n",
      "[CV] max_depth=5, min_samples_leaf=10, min_samples_split=10, n_estimators=20 \n",
      "[CV]  max_depth=5, min_samples_leaf=10, min_samples_split=10, n_estimators=10, total=   1.2s\n",
      "[CV] max_depth=5, min_samples_leaf=10, min_samples_split=10, n_estimators=20 \n",
      "[CV]  max_depth=5, min_samples_leaf=10, min_samples_split=10, n_estimators=10, total=   1.2s\n",
      "[CV] max_depth=5, min_samples_leaf=10, min_samples_split=10, n_estimators=20 \n",
      "[CV]  max_depth=5, min_samples_leaf=10, min_samples_split=10, n_estimators=20, total=   2.3s\n",
      "[CV] max_depth=5, min_samples_leaf=10, min_samples_split=10, n_estimators=50 \n",
      "[CV]  max_depth=5, min_samples_leaf=10, min_samples_split=10, n_estimators=20, total=   2.5s\n",
      "[CV] max_depth=5, min_samples_leaf=10, min_samples_split=10, n_estimators=50 \n",
      "[CV]  max_depth=5, min_samples_leaf=10, min_samples_split=5, n_estimators=100, total=  11.5s\n",
      "[CV] max_depth=5, min_samples_leaf=10, min_samples_split=10, n_estimators=50 \n",
      "[CV]  max_depth=5, min_samples_leaf=10, min_samples_split=10, n_estimators=20, total=   2.3s\n",
      "[CV] max_depth=5, min_samples_leaf=10, min_samples_split=10, n_estimators=100 \n",
      "[CV]  max_depth=5, min_samples_leaf=10, min_samples_split=2, n_estimators=200, total=  23.2s\n",
      "[CV] max_depth=5, min_samples_leaf=10, min_samples_split=10, n_estimators=100 \n",
      "[CV]  max_depth=5, min_samples_leaf=10, min_samples_split=10, n_estimators=50, total=   5.9s\n",
      "[CV] max_depth=5, min_samples_leaf=10, min_samples_split=10, n_estimators=100 \n",
      "[CV]  max_depth=5, min_samples_leaf=10, min_samples_split=10, n_estimators=50, total=   6.0s\n",
      "[CV] max_depth=5, min_samples_leaf=10, min_samples_split=10, n_estimators=200 \n",
      "[CV]  max_depth=5, min_samples_leaf=10, min_samples_split=10, n_estimators=50, total=   5.7s\n",
      "[CV] max_depth=5, min_samples_leaf=10, min_samples_split=10, n_estimators=200 \n",
      "[CV]  max_depth=5, min_samples_leaf=10, min_samples_split=10, n_estimators=100, total=  11.5s\n",
      "[CV] max_depth=5, min_samples_leaf=10, min_samples_split=10, n_estimators=200 \n",
      "[CV]  max_depth=5, min_samples_leaf=10, min_samples_split=5, n_estimators=200, total=  23.0s\n",
      "[CV] max_depth=5, min_samples_leaf=50, min_samples_split=2, n_estimators=10 \n",
      "[CV]  max_depth=5, min_samples_leaf=10, min_samples_split=5, n_estimators=200, total=  23.0s\n"
     ]
    },
    {
     "name": "stdout",
     "output_type": "stream",
     "text": [
      "[CV] max_depth=5, min_samples_leaf=50, min_samples_split=2, n_estimators=10 \n",
      "[CV]  max_depth=5, min_samples_leaf=10, min_samples_split=10, n_estimators=100, total=  11.1s\n",
      "[CV] max_depth=5, min_samples_leaf=50, min_samples_split=2, n_estimators=10 \n",
      "[CV]  max_depth=5, min_samples_leaf=50, min_samples_split=2, n_estimators=10, total=   1.2s\n",
      "[CV] max_depth=5, min_samples_leaf=50, min_samples_split=2, n_estimators=20 \n",
      "[CV]  max_depth=5, min_samples_leaf=50, min_samples_split=2, n_estimators=10, total=   1.4s\n",
      "[CV] max_depth=5, min_samples_leaf=50, min_samples_split=2, n_estimators=20 \n",
      "[CV]  max_depth=5, min_samples_leaf=50, min_samples_split=2, n_estimators=10, total=   1.2s\n",
      "[CV] max_depth=5, min_samples_leaf=50, min_samples_split=2, n_estimators=20 \n",
      "[CV]  max_depth=5, min_samples_leaf=50, min_samples_split=2, n_estimators=20, total=   2.4s\n",
      "[CV] max_depth=5, min_samples_leaf=50, min_samples_split=2, n_estimators=50 \n",
      "[CV]  max_depth=5, min_samples_leaf=50, min_samples_split=2, n_estimators=20, total=   2.3s\n",
      "[CV] max_depth=5, min_samples_leaf=50, min_samples_split=2, n_estimators=50 \n",
      "[CV]  max_depth=5, min_samples_leaf=10, min_samples_split=10, n_estimators=100, total=  11.4s\n",
      "[CV] max_depth=5, min_samples_leaf=50, min_samples_split=2, n_estimators=50 \n",
      "[CV]  max_depth=5, min_samples_leaf=50, min_samples_split=2, n_estimators=20, total=   2.4s\n",
      "[CV] max_depth=5, min_samples_leaf=50, min_samples_split=2, n_estimators=100 \n",
      "[CV]  max_depth=5, min_samples_leaf=10, min_samples_split=5, n_estimators=200, total=  23.2s\n",
      "[CV] max_depth=5, min_samples_leaf=50, min_samples_split=2, n_estimators=100 \n",
      "[CV]  max_depth=5, min_samples_leaf=50, min_samples_split=2, n_estimators=50, total=   5.6s\n",
      "[CV] max_depth=5, min_samples_leaf=50, min_samples_split=2, n_estimators=100 \n",
      "[CV]  max_depth=5, min_samples_leaf=50, min_samples_split=2, n_estimators=50, total=   5.7s\n",
      "[CV] max_depth=5, min_samples_leaf=50, min_samples_split=2, n_estimators=200 \n",
      "[CV]  max_depth=5, min_samples_leaf=50, min_samples_split=2, n_estimators=50, total=   5.6s\n",
      "[CV] max_depth=5, min_samples_leaf=50, min_samples_split=2, n_estimators=200 \n",
      "[CV]  max_depth=5, min_samples_leaf=50, min_samples_split=2, n_estimators=100, total=  11.3s\n",
      "[CV] max_depth=5, min_samples_leaf=50, min_samples_split=2, n_estimators=200 \n",
      "[CV]  max_depth=5, min_samples_leaf=10, min_samples_split=10, n_estimators=200, total=  22.4s\n",
      "[CV] max_depth=5, min_samples_leaf=50, min_samples_split=5, n_estimators=10 \n",
      "[CV]  max_depth=5, min_samples_leaf=10, min_samples_split=10, n_estimators=200, total=  22.6s\n",
      "[CV] max_depth=5, min_samples_leaf=50, min_samples_split=5, n_estimators=10 \n",
      "[CV]  max_depth=5, min_samples_leaf=50, min_samples_split=5, n_estimators=10, total=   1.1s\n",
      "[CV] max_depth=5, min_samples_leaf=50, min_samples_split=5, n_estimators=10 \n",
      "[CV]  max_depth=5, min_samples_leaf=50, min_samples_split=5, n_estimators=10, total=   1.1s\n",
      "[CV] max_depth=5, min_samples_leaf=50, min_samples_split=5, n_estimators=20 \n",
      "[CV]  max_depth=5, min_samples_leaf=50, min_samples_split=2, n_estimators=100, total=  11.0s\n",
      "[CV] max_depth=5, min_samples_leaf=50, min_samples_split=5, n_estimators=20 \n",
      "[CV]  max_depth=5, min_samples_leaf=50, min_samples_split=5, n_estimators=10, total=   1.1s\n",
      "[CV] max_depth=5, min_samples_leaf=50, min_samples_split=5, n_estimators=20 \n",
      "[CV]  max_depth=5, min_samples_leaf=50, min_samples_split=5, n_estimators=20, total=   2.5s\n",
      "[CV] max_depth=5, min_samples_leaf=50, min_samples_split=5, n_estimators=50 \n",
      "[CV]  max_depth=5, min_samples_leaf=50, min_samples_split=5, n_estimators=20, total=   2.3s\n",
      "[CV] max_depth=5, min_samples_leaf=50, min_samples_split=5, n_estimators=50 \n",
      "[CV]  max_depth=5, min_samples_leaf=50, min_samples_split=2, n_estimators=100, total=  10.9s\n",
      "[CV] max_depth=5, min_samples_leaf=50, min_samples_split=5, n_estimators=50 \n",
      "[CV]  max_depth=5, min_samples_leaf=50, min_samples_split=5, n_estimators=20, total=   2.3s\n",
      "[CV] max_depth=5, min_samples_leaf=50, min_samples_split=5, n_estimators=100 \n",
      "[CV]  max_depth=5, min_samples_leaf=10, min_samples_split=10, n_estimators=200, total=  23.7s\n",
      "[CV] max_depth=5, min_samples_leaf=50, min_samples_split=5, n_estimators=100 \n",
      "[CV]  max_depth=5, min_samples_leaf=50, min_samples_split=5, n_estimators=50, total=   5.7s\n",
      "[CV]  max_depth=5, min_samples_leaf=50, min_samples_split=5, n_estimators=50, total=   5.5s\n",
      "[CV] max_depth=5, min_samples_leaf=50, min_samples_split=5, n_estimators=100 \n",
      "[CV] max_depth=5, min_samples_leaf=50, min_samples_split=5, n_estimators=200 \n",
      "[CV]  max_depth=5, min_samples_leaf=50, min_samples_split=5, n_estimators=50, total=   5.7s\n",
      "[CV] max_depth=5, min_samples_leaf=50, min_samples_split=5, n_estimators=200 \n",
      "[CV]  max_depth=5, min_samples_leaf=50, min_samples_split=2, n_estimators=200, total=  22.0s\n",
      "[CV] max_depth=5, min_samples_leaf=50, min_samples_split=5, n_estimators=200 \n",
      "[CV]  max_depth=5, min_samples_leaf=50, min_samples_split=5, n_estimators=100, total=  11.1s\n",
      "[CV] max_depth=5, min_samples_leaf=50, min_samples_split=10, n_estimators=10 \n",
      "[CV]  max_depth=5, min_samples_leaf=50, min_samples_split=2, n_estimators=200, total=  22.9s\n",
      "[CV] max_depth=5, min_samples_leaf=50, min_samples_split=10, n_estimators=10 \n",
      "[CV]  max_depth=5, min_samples_leaf=50, min_samples_split=10, n_estimators=10, total=   1.1s\n",
      "[CV] max_depth=5, min_samples_leaf=50, min_samples_split=10, n_estimators=10 \n",
      "[CV]  max_depth=5, min_samples_leaf=50, min_samples_split=10, n_estimators=10, total=   1.2s\n",
      "[CV]  max_depth=5, min_samples_leaf=50, min_samples_split=10, n_estimators=10, total=   1.1s\n",
      "[CV] max_depth=5, min_samples_leaf=50, min_samples_split=10, n_estimators=20 \n",
      "[CV] max_depth=5, min_samples_leaf=50, min_samples_split=10, n_estimators=20 \n",
      "[CV]  max_depth=5, min_samples_leaf=50, min_samples_split=5, n_estimators=100, total=  11.0s\n",
      "[CV] max_depth=5, min_samples_leaf=50, min_samples_split=10, n_estimators=20 \n",
      "[CV]  max_depth=5, min_samples_leaf=50, min_samples_split=10, n_estimators=20, total=   2.3s\n",
      "[CV] max_depth=5, min_samples_leaf=50, min_samples_split=10, n_estimators=50 \n",
      "[CV]  max_depth=5, min_samples_leaf=50, min_samples_split=10, n_estimators=20, total=   2.3s\n",
      "[CV] max_depth=5, min_samples_leaf=50, min_samples_split=10, n_estimators=50 \n",
      "[CV]  max_depth=5, min_samples_leaf=50, min_samples_split=5, n_estimators=100, total=  11.0s\n",
      "[CV] max_depth=5, min_samples_leaf=50, min_samples_split=10, n_estimators=50 \n",
      "[CV]  max_depth=5, min_samples_leaf=50, min_samples_split=10, n_estimators=20, total=   2.2s\n",
      "[CV] max_depth=5, min_samples_leaf=50, min_samples_split=10, n_estimators=100 \n",
      "[CV]  max_depth=5, min_samples_leaf=50, min_samples_split=2, n_estimators=200, total=  23.1s\n",
      "[CV] max_depth=5, min_samples_leaf=50, min_samples_split=10, n_estimators=100 \n",
      "[CV]  max_depth=5, min_samples_leaf=50, min_samples_split=10, n_estimators=50, total=   5.6s\n",
      "[CV] max_depth=5, min_samples_leaf=50, min_samples_split=10, n_estimators=100 \n",
      "[CV]  max_depth=5, min_samples_leaf=50, min_samples_split=10, n_estimators=50, total=   5.8s\n",
      "[CV] max_depth=5, min_samples_leaf=50, min_samples_split=10, n_estimators=200 \n",
      "[CV]  max_depth=5, min_samples_leaf=50, min_samples_split=10, n_estimators=50, total=   6.1s\n",
      "[CV] max_depth=5, min_samples_leaf=50, min_samples_split=10, n_estimators=200 \n",
      "[CV]  max_depth=5, min_samples_leaf=50, min_samples_split=10, n_estimators=100, total=  11.0s\n",
      "[CV] max_depth=5, min_samples_leaf=50, min_samples_split=10, n_estimators=200 \n",
      "[CV]  max_depth=5, min_samples_leaf=50, min_samples_split=5, n_estimators=200, total=  22.4s\n",
      "[CV] max_depth=10, min_samples_leaf=1, min_samples_split=2, n_estimators=10 \n",
      "[CV]  max_depth=5, min_samples_leaf=50, min_samples_split=5, n_estimators=200, total=  22.7s\n",
      "[CV] max_depth=10, min_samples_leaf=1, min_samples_split=2, n_estimators=10 \n",
      "[CV]  max_depth=5, min_samples_leaf=50, min_samples_split=10, n_estimators=100, total=  11.2s\n",
      "[CV]  max_depth=10, min_samples_leaf=1, min_samples_split=2, n_estimators=10, total=   2.1s\n",
      "[CV] max_depth=10, min_samples_leaf=1, min_samples_split=2, n_estimators=10 \n",
      "[CV] max_depth=10, min_samples_leaf=1, min_samples_split=2, n_estimators=20 \n",
      "[CV]  max_depth=10, min_samples_leaf=1, min_samples_split=2, n_estimators=10, total=   2.1s\n",
      "[CV] max_depth=10, min_samples_leaf=1, min_samples_split=2, n_estimators=20 \n"
     ]
    },
    {
     "name": "stdout",
     "output_type": "stream",
     "text": [
      "[CV]  max_depth=10, min_samples_leaf=1, min_samples_split=2, n_estimators=10, total=   2.2s\n",
      "[CV] max_depth=10, min_samples_leaf=1, min_samples_split=2, n_estimators=20 \n",
      "[CV]  max_depth=5, min_samples_leaf=50, min_samples_split=10, n_estimators=100, total=  11.1s\n",
      "[CV] max_depth=10, min_samples_leaf=1, min_samples_split=2, n_estimators=50 \n",
      "[CV]  max_depth=10, min_samples_leaf=1, min_samples_split=2, n_estimators=20, total=   4.1s\n",
      "[CV] max_depth=10, min_samples_leaf=1, min_samples_split=2, n_estimators=50 \n",
      "[CV]  max_depth=5, min_samples_leaf=50, min_samples_split=5, n_estimators=200, total=  22.7s\n",
      "[CV] max_depth=10, min_samples_leaf=1, min_samples_split=2, n_estimators=50 \n",
      "[CV]  max_depth=10, min_samples_leaf=1, min_samples_split=2, n_estimators=20, total=   4.0s\n",
      "[CV] max_depth=10, min_samples_leaf=1, min_samples_split=2, n_estimators=100 \n",
      "[CV]  max_depth=10, min_samples_leaf=1, min_samples_split=2, n_estimators=20, total=   4.1s\n",
      "[CV] max_depth=10, min_samples_leaf=1, min_samples_split=2, n_estimators=100 \n",
      "[CV]  max_depth=10, min_samples_leaf=1, min_samples_split=2, n_estimators=50, total=   9.7s\n",
      "[CV] max_depth=10, min_samples_leaf=1, min_samples_split=2, n_estimators=100 \n",
      "[CV]  max_depth=10, min_samples_leaf=1, min_samples_split=2, n_estimators=50, total=   9.6s\n",
      "[CV] max_depth=10, min_samples_leaf=1, min_samples_split=2, n_estimators=200 \n",
      "[CV]  max_depth=10, min_samples_leaf=1, min_samples_split=2, n_estimators=50, total=  10.0s\n",
      "[CV] max_depth=10, min_samples_leaf=1, min_samples_split=2, n_estimators=200 \n",
      "[CV]  max_depth=5, min_samples_leaf=50, min_samples_split=10, n_estimators=200, total=  22.7s\n",
      "[CV] max_depth=10, min_samples_leaf=1, min_samples_split=2, n_estimators=200 \n",
      "[CV]  max_depth=5, min_samples_leaf=50, min_samples_split=10, n_estimators=200, total=  22.6s\n",
      "[CV] max_depth=10, min_samples_leaf=1, min_samples_split=5, n_estimators=10 \n",
      "[CV]  max_depth=10, min_samples_leaf=1, min_samples_split=5, n_estimators=10, total=   1.9s\n",
      "[CV] max_depth=10, min_samples_leaf=1, min_samples_split=5, n_estimators=10 \n",
      "[CV]  max_depth=10, min_samples_leaf=1, min_samples_split=5, n_estimators=10, total=   2.0s\n",
      "[CV] max_depth=10, min_samples_leaf=1, min_samples_split=5, n_estimators=10 \n",
      "[CV]  max_depth=5, min_samples_leaf=50, min_samples_split=10, n_estimators=200, total=  21.9s\n",
      "[CV] max_depth=10, min_samples_leaf=1, min_samples_split=5, n_estimators=20 \n",
      "[CV]  max_depth=10, min_samples_leaf=1, min_samples_split=5, n_estimators=10, total=   2.0s\n",
      "[CV] max_depth=10, min_samples_leaf=1, min_samples_split=5, n_estimators=20 \n",
      "[CV]  max_depth=10, min_samples_leaf=1, min_samples_split=5, n_estimators=20, total=   3.8s\n",
      "[CV] max_depth=10, min_samples_leaf=1, min_samples_split=5, n_estimators=20 \n",
      "[CV]  max_depth=10, min_samples_leaf=1, min_samples_split=2, n_estimators=100, total=  19.6s\n",
      "[CV] max_depth=10, min_samples_leaf=1, min_samples_split=5, n_estimators=50 \n",
      "[CV]  max_depth=10, min_samples_leaf=1, min_samples_split=5, n_estimators=20, total=   3.9s\n",
      "[CV] max_depth=10, min_samples_leaf=1, min_samples_split=5, n_estimators=50 \n",
      "[CV]  max_depth=10, min_samples_leaf=1, min_samples_split=2, n_estimators=100, total=  19.0s\n",
      "[CV] max_depth=10, min_samples_leaf=1, min_samples_split=5, n_estimators=50 \n",
      "[CV]  max_depth=10, min_samples_leaf=1, min_samples_split=5, n_estimators=20, total=   3.9s\n",
      "[CV] max_depth=10, min_samples_leaf=1, min_samples_split=5, n_estimators=100 \n",
      "[CV]  max_depth=10, min_samples_leaf=1, min_samples_split=2, n_estimators=100, total=  19.7s\n",
      "[CV] max_depth=10, min_samples_leaf=1, min_samples_split=5, n_estimators=100 \n",
      "[CV]  max_depth=10, min_samples_leaf=1, min_samples_split=5, n_estimators=50, total=   9.6s\n",
      "[CV] max_depth=10, min_samples_leaf=1, min_samples_split=5, n_estimators=100 \n",
      "[CV]  max_depth=10, min_samples_leaf=1, min_samples_split=5, n_estimators=50, total=   9.4s\n",
      "[CV] max_depth=10, min_samples_leaf=1, min_samples_split=5, n_estimators=200 \n",
      "[CV]  max_depth=10, min_samples_leaf=1, min_samples_split=5, n_estimators=50, total=   9.7s\n",
      "[CV] max_depth=10, min_samples_leaf=1, min_samples_split=5, n_estimators=200 \n",
      "[CV]  max_depth=10, min_samples_leaf=1, min_samples_split=5, n_estimators=100, total=  18.9s\n",
      "[CV] max_depth=10, min_samples_leaf=1, min_samples_split=5, n_estimators=200 \n",
      "[CV]  max_depth=10, min_samples_leaf=1, min_samples_split=5, n_estimators=100, total=  18.9s\n",
      "[CV] max_depth=10, min_samples_leaf=1, min_samples_split=10, n_estimators=10 \n",
      "[CV]  max_depth=10, min_samples_leaf=1, min_samples_split=2, n_estimators=200, total=  37.8s\n",
      "[CV] max_depth=10, min_samples_leaf=1, min_samples_split=10, n_estimators=10 \n",
      "[CV]  max_depth=10, min_samples_leaf=1, min_samples_split=2, n_estimators=200, total=  39.2s\n",
      "[CV] max_depth=10, min_samples_leaf=1, min_samples_split=10, n_estimators=10 \n",
      "[CV]  max_depth=10, min_samples_leaf=1, min_samples_split=5, n_estimators=100, total=  19.3s\n",
      "[CV] max_depth=10, min_samples_leaf=1, min_samples_split=10, n_estimators=20 \n",
      "[CV]  max_depth=10, min_samples_leaf=1, min_samples_split=10, n_estimators=10, total=   1.9s\n",
      "[CV] max_depth=10, min_samples_leaf=1, min_samples_split=10, n_estimators=20 \n",
      "[CV]  max_depth=10, min_samples_leaf=1, min_samples_split=2, n_estimators=200, total=  38.7s\n",
      "[CV] max_depth=10, min_samples_leaf=1, min_samples_split=10, n_estimators=20 \n",
      "[CV]  max_depth=10, min_samples_leaf=1, min_samples_split=10, n_estimators=10, total=   2.1s\n",
      "[CV] max_depth=10, min_samples_leaf=1, min_samples_split=10, n_estimators=50 \n",
      "[CV]  max_depth=10, min_samples_leaf=1, min_samples_split=10, n_estimators=10, total=   2.1s\n",
      "[CV] max_depth=10, min_samples_leaf=1, min_samples_split=10, n_estimators=50 \n",
      "[CV]  max_depth=10, min_samples_leaf=1, min_samples_split=10, n_estimators=20, total=   3.9s\n",
      "[CV] max_depth=10, min_samples_leaf=1, min_samples_split=10, n_estimators=50 \n",
      "[CV]  max_depth=10, min_samples_leaf=1, min_samples_split=10, n_estimators=20, total=   4.0s\n",
      "[CV] max_depth=10, min_samples_leaf=1, min_samples_split=10, n_estimators=100 \n",
      "[CV]  max_depth=10, min_samples_leaf=1, min_samples_split=10, n_estimators=20, total=   4.2s\n",
      "[CV] max_depth=10, min_samples_leaf=1, min_samples_split=10, n_estimators=100 \n",
      "[CV]  max_depth=10, min_samples_leaf=1, min_samples_split=10, n_estimators=50, total=   9.9s\n",
      "[CV] max_depth=10, min_samples_leaf=1, min_samples_split=10, n_estimators=100 \n",
      "[CV]  max_depth=10, min_samples_leaf=1, min_samples_split=10, n_estimators=50, total=   9.5s\n",
      "[CV] max_depth=10, min_samples_leaf=1, min_samples_split=10, n_estimators=200 \n",
      "[CV]  max_depth=10, min_samples_leaf=1, min_samples_split=10, n_estimators=50, total=   9.8s\n",
      "[CV] max_depth=10, min_samples_leaf=1, min_samples_split=10, n_estimators=200 \n",
      "[CV]  max_depth=10, min_samples_leaf=1, min_samples_split=5, n_estimators=200, total=  38.0s\n",
      "[CV] max_depth=10, min_samples_leaf=1, min_samples_split=10, n_estimators=200 \n",
      "[CV]  max_depth=10, min_samples_leaf=1, min_samples_split=5, n_estimators=200, total=  38.2s\n",
      "[CV] max_depth=10, min_samples_leaf=2, min_samples_split=2, n_estimators=10 \n",
      "[CV]  max_depth=10, min_samples_leaf=2, min_samples_split=2, n_estimators=10, total=   2.0s\n",
      "[CV] max_depth=10, min_samples_leaf=2, min_samples_split=2, n_estimators=10 \n",
      "[CV]  max_depth=10, min_samples_leaf=1, min_samples_split=10, n_estimators=100, total=  18.9s\n",
      "[CV] max_depth=10, min_samples_leaf=2, min_samples_split=2, n_estimators=10 \n",
      "[CV]  max_depth=10, min_samples_leaf=2, min_samples_split=2, n_estimators=10, total=   1.8s\n",
      "[CV] max_depth=10, min_samples_leaf=2, min_samples_split=2, n_estimators=20 \n",
      "[CV]  max_depth=10, min_samples_leaf=1, min_samples_split=10, n_estimators=100, total=  19.5s\n",
      "[CV] max_depth=10, min_samples_leaf=2, min_samples_split=2, n_estimators=20 \n",
      "[CV]  max_depth=10, min_samples_leaf=2, min_samples_split=2, n_estimators=10, total=   2.0s\n",
      "[CV] max_depth=10, min_samples_leaf=2, min_samples_split=2, n_estimators=20 \n",
      "[CV]  max_depth=10, min_samples_leaf=2, min_samples_split=2, n_estimators=20, total=   3.7s\n",
      "[CV] max_depth=10, min_samples_leaf=2, min_samples_split=2, n_estimators=50 \n",
      "[CV]  max_depth=10, min_samples_leaf=2, min_samples_split=2, n_estimators=20, total=   3.9s\n",
      "[CV] max_depth=10, min_samples_leaf=2, min_samples_split=2, n_estimators=50 \n",
      "[CV]  max_depth=10, min_samples_leaf=2, min_samples_split=2, n_estimators=20, total=   3.8s\n"
     ]
    },
    {
     "name": "stdout",
     "output_type": "stream",
     "text": [
      "[CV] max_depth=10, min_samples_leaf=2, min_samples_split=2, n_estimators=50 \n",
      "[CV]  max_depth=10, min_samples_leaf=1, min_samples_split=10, n_estimators=100, total=  19.2s\n",
      "[CV] max_depth=10, min_samples_leaf=2, min_samples_split=2, n_estimators=100 \n",
      "[CV]  max_depth=10, min_samples_leaf=1, min_samples_split=5, n_estimators=200, total=  38.5s\n",
      "[CV] max_depth=10, min_samples_leaf=2, min_samples_split=2, n_estimators=100 \n",
      "[CV]  max_depth=10, min_samples_leaf=2, min_samples_split=2, n_estimators=50, total=   9.3s\n",
      "[CV] max_depth=10, min_samples_leaf=2, min_samples_split=2, n_estimators=100 \n",
      "[CV]  max_depth=10, min_samples_leaf=2, min_samples_split=2, n_estimators=50, total=  10.0s\n",
      "[CV] max_depth=10, min_samples_leaf=2, min_samples_split=2, n_estimators=200 \n",
      "[CV]  max_depth=10, min_samples_leaf=2, min_samples_split=2, n_estimators=50, total=   9.7s\n",
      "[CV] max_depth=10, min_samples_leaf=2, min_samples_split=2, n_estimators=200 \n",
      "[CV]  max_depth=10, min_samples_leaf=1, min_samples_split=10, n_estimators=200, total=  38.2s\n",
      "[CV] max_depth=10, min_samples_leaf=2, min_samples_split=2, n_estimators=200 \n",
      "[CV]  max_depth=10, min_samples_leaf=2, min_samples_split=2, n_estimators=100, total=  19.5s\n",
      "[CV] max_depth=10, min_samples_leaf=2, min_samples_split=5, n_estimators=10 \n",
      "[CV]  max_depth=10, min_samples_leaf=2, min_samples_split=2, n_estimators=100, total=  19.2s\n",
      "[CV] max_depth=10, min_samples_leaf=2, min_samples_split=5, n_estimators=10 \n",
      "[CV]  max_depth=10, min_samples_leaf=2, min_samples_split=5, n_estimators=10, total=   1.9s\n",
      "[CV] max_depth=10, min_samples_leaf=2, min_samples_split=5, n_estimators=10 \n",
      "[CV]  max_depth=10, min_samples_leaf=1, min_samples_split=10, n_estimators=200, total=  38.6s\n",
      "[CV] max_depth=10, min_samples_leaf=2, min_samples_split=5, n_estimators=20 \n",
      "[CV]  max_depth=10, min_samples_leaf=2, min_samples_split=5, n_estimators=10, total=   2.1s\n",
      "[CV] max_depth=10, min_samples_leaf=2, min_samples_split=5, n_estimators=20 \n",
      "[CV]  max_depth=10, min_samples_leaf=2, min_samples_split=5, n_estimators=10, total=   2.1s\n",
      "[CV] max_depth=10, min_samples_leaf=2, min_samples_split=5, n_estimators=20 \n",
      "[CV]  max_depth=10, min_samples_leaf=2, min_samples_split=5, n_estimators=20, total=   3.9s\n",
      "[CV] max_depth=10, min_samples_leaf=2, min_samples_split=5, n_estimators=50 \n",
      "[CV]  max_depth=10, min_samples_leaf=2, min_samples_split=5, n_estimators=20, total=   3.7s\n",
      "[CV] max_depth=10, min_samples_leaf=2, min_samples_split=5, n_estimators=50 \n",
      "[CV]  max_depth=10, min_samples_leaf=2, min_samples_split=2, n_estimators=100, total=  19.8s\n",
      "[CV] max_depth=10, min_samples_leaf=2, min_samples_split=5, n_estimators=50 \n",
      "[CV]  max_depth=10, min_samples_leaf=2, min_samples_split=5, n_estimators=20, total=   4.0s\n",
      "[CV] max_depth=10, min_samples_leaf=2, min_samples_split=5, n_estimators=100 \n",
      "[CV]  max_depth=10, min_samples_leaf=1, min_samples_split=10, n_estimators=200, total=  40.1s\n",
      "[CV] max_depth=10, min_samples_leaf=2, min_samples_split=5, n_estimators=100 \n",
      "[CV]  max_depth=10, min_samples_leaf=2, min_samples_split=5, n_estimators=50, total=   9.6s\n",
      "[CV] max_depth=10, min_samples_leaf=2, min_samples_split=5, n_estimators=100 \n",
      "[CV]  max_depth=10, min_samples_leaf=2, min_samples_split=5, n_estimators=50, total=   9.5s\n",
      "[CV] max_depth=10, min_samples_leaf=2, min_samples_split=5, n_estimators=200 \n",
      "[CV]  max_depth=10, min_samples_leaf=2, min_samples_split=5, n_estimators=50, total=  10.1s\n",
      "[CV] max_depth=10, min_samples_leaf=2, min_samples_split=5, n_estimators=200 \n",
      "[CV]  max_depth=10, min_samples_leaf=2, min_samples_split=2, n_estimators=200, total=  39.1s\n",
      "[CV] max_depth=10, min_samples_leaf=2, min_samples_split=5, n_estimators=200 \n",
      "[CV]  max_depth=10, min_samples_leaf=2, min_samples_split=2, n_estimators=200, total=  37.8s\n",
      "[CV] max_depth=10, min_samples_leaf=2, min_samples_split=10, n_estimators=10 \n",
      "[CV]  max_depth=10, min_samples_leaf=2, min_samples_split=5, n_estimators=100, total=  19.7s\n",
      "[CV] max_depth=10, min_samples_leaf=2, min_samples_split=10, n_estimators=10 \n",
      "[CV]  max_depth=10, min_samples_leaf=2, min_samples_split=5, n_estimators=100, total=  19.3s\n",
      "[CV] max_depth=10, min_samples_leaf=2, min_samples_split=10, n_estimators=10 \n",
      "[CV]  max_depth=10, min_samples_leaf=2, min_samples_split=10, n_estimators=10, total=   1.9s\n",
      "[CV] max_depth=10, min_samples_leaf=2, min_samples_split=10, n_estimators=20 \n",
      "[CV]  max_depth=10, min_samples_leaf=2, min_samples_split=10, n_estimators=10, total=   1.9s\n",
      "[CV] max_depth=10, min_samples_leaf=2, min_samples_split=10, n_estimators=20 \n",
      "[CV]  max_depth=10, min_samples_leaf=2, min_samples_split=10, n_estimators=10, total=   1.9s\n",
      "[CV] max_depth=10, min_samples_leaf=2, min_samples_split=10, n_estimators=20 \n",
      "[CV]  max_depth=10, min_samples_leaf=2, min_samples_split=10, n_estimators=20, total=   3.8s\n",
      "[CV] max_depth=10, min_samples_leaf=2, min_samples_split=10, n_estimators=50 \n",
      "[CV]  max_depth=10, min_samples_leaf=2, min_samples_split=10, n_estimators=20, total=   3.8s\n",
      "[CV] max_depth=10, min_samples_leaf=2, min_samples_split=10, n_estimators=50 \n",
      "[CV]  max_depth=10, min_samples_leaf=2, min_samples_split=10, n_estimators=20, total=   3.8s\n",
      "[CV] max_depth=10, min_samples_leaf=2, min_samples_split=10, n_estimators=50 \n",
      "[CV]  max_depth=10, min_samples_leaf=2, min_samples_split=5, n_estimators=100, total=  19.6s\n",
      "[CV] max_depth=10, min_samples_leaf=2, min_samples_split=10, n_estimators=100 \n",
      "[CV]  max_depth=10, min_samples_leaf=2, min_samples_split=2, n_estimators=200, total=  38.5s\n",
      "[CV] max_depth=10, min_samples_leaf=2, min_samples_split=10, n_estimators=100 \n",
      "[CV]  max_depth=10, min_samples_leaf=2, min_samples_split=10, n_estimators=50, total=   9.3s\n",
      "[CV] max_depth=10, min_samples_leaf=2, min_samples_split=10, n_estimators=100 \n",
      "[CV]  max_depth=10, min_samples_leaf=2, min_samples_split=10, n_estimators=50, total=   9.2s\n",
      "[CV] max_depth=10, min_samples_leaf=2, min_samples_split=10, n_estimators=200 \n",
      "[CV]  max_depth=10, min_samples_leaf=2, min_samples_split=10, n_estimators=50, total=   9.1s\n",
      "[CV] max_depth=10, min_samples_leaf=2, min_samples_split=10, n_estimators=200 \n",
      "[CV]  max_depth=10, min_samples_leaf=2, min_samples_split=10, n_estimators=100, total=  19.2s\n",
      "[CV] max_depth=10, min_samples_leaf=2, min_samples_split=10, n_estimators=200 \n",
      "[CV]  max_depth=10, min_samples_leaf=2, min_samples_split=5, n_estimators=200, total=  38.9s\n",
      "[CV] max_depth=10, min_samples_leaf=5, min_samples_split=2, n_estimators=10 \n",
      "[CV]  max_depth=10, min_samples_leaf=5, min_samples_split=2, n_estimators=10, total=   2.2s\n",
      "[CV] max_depth=10, min_samples_leaf=5, min_samples_split=2, n_estimators=10 \n",
      "[CV]  max_depth=10, min_samples_leaf=2, min_samples_split=5, n_estimators=200, total=  40.8s\n",
      "[CV] max_depth=10, min_samples_leaf=5, min_samples_split=2, n_estimators=10 \n",
      "[CV]  max_depth=10, min_samples_leaf=2, min_samples_split=10, n_estimators=100, total=  20.1s\n",
      "[CV] max_depth=10, min_samples_leaf=5, min_samples_split=2, n_estimators=20 \n",
      "[CV]  max_depth=10, min_samples_leaf=5, min_samples_split=2, n_estimators=10, total=   1.9s\n",
      "[CV] max_depth=10, min_samples_leaf=5, min_samples_split=2, n_estimators=20 \n",
      "[CV]  max_depth=10, min_samples_leaf=5, min_samples_split=2, n_estimators=10, total=   2.0s\n",
      "[CV] max_depth=10, min_samples_leaf=5, min_samples_split=2, n_estimators=20 \n",
      "[CV]  max_depth=10, min_samples_leaf=5, min_samples_split=2, n_estimators=20, total=   4.0s\n",
      "[CV] max_depth=10, min_samples_leaf=5, min_samples_split=2, n_estimators=50 \n",
      "[CV]  max_depth=10, min_samples_leaf=2, min_samples_split=10, n_estimators=100, total=  20.0s\n",
      "[CV] max_depth=10, min_samples_leaf=5, min_samples_split=2, n_estimators=50 \n",
      "[CV]  max_depth=10, min_samples_leaf=5, min_samples_split=2, n_estimators=20, total=   4.0s\n",
      "[CV] max_depth=10, min_samples_leaf=5, min_samples_split=2, n_estimators=50 \n",
      "[CV]  max_depth=10, min_samples_leaf=5, min_samples_split=2, n_estimators=20, total=   3.9s\n",
      "[CV] max_depth=10, min_samples_leaf=5, min_samples_split=2, n_estimators=100 \n",
      "[CV]  max_depth=10, min_samples_leaf=2, min_samples_split=5, n_estimators=200, total=  41.0s\n",
      "[CV] max_depth=10, min_samples_leaf=5, min_samples_split=2, n_estimators=100 \n",
      "[CV]  max_depth=10, min_samples_leaf=5, min_samples_split=2, n_estimators=50, total=   9.8s\n",
      "[CV] max_depth=10, min_samples_leaf=5, min_samples_split=2, n_estimators=100 \n"
     ]
    },
    {
     "name": "stdout",
     "output_type": "stream",
     "text": [
      "[CV]  max_depth=10, min_samples_leaf=5, min_samples_split=2, n_estimators=50, total=   9.9s\n",
      "[CV] max_depth=10, min_samples_leaf=5, min_samples_split=2, n_estimators=200 \n",
      "[CV]  max_depth=10, min_samples_leaf=5, min_samples_split=2, n_estimators=50, total=   9.8s\n",
      "[CV] max_depth=10, min_samples_leaf=5, min_samples_split=2, n_estimators=200 \n",
      "[CV]  max_depth=10, min_samples_leaf=2, min_samples_split=10, n_estimators=200, total=  39.9s\n",
      "[CV] max_depth=10, min_samples_leaf=5, min_samples_split=2, n_estimators=200 \n",
      "[CV]  max_depth=10, min_samples_leaf=2, min_samples_split=10, n_estimators=200, total=  38.6s\n",
      "[CV] max_depth=10, min_samples_leaf=5, min_samples_split=5, n_estimators=10 \n",
      "[CV]  max_depth=10, min_samples_leaf=5, min_samples_split=2, n_estimators=100, total=  18.9s\n",
      "[CV] max_depth=10, min_samples_leaf=5, min_samples_split=5, n_estimators=10 \n",
      "[CV]  max_depth=10, min_samples_leaf=5, min_samples_split=5, n_estimators=10, total=   2.1s\n",
      "[CV] max_depth=10, min_samples_leaf=5, min_samples_split=5, n_estimators=10 \n",
      "[CV]  max_depth=10, min_samples_leaf=5, min_samples_split=5, n_estimators=10, total=   2.0s\n",
      "[CV] max_depth=10, min_samples_leaf=5, min_samples_split=5, n_estimators=20 \n",
      "[CV]  max_depth=10, min_samples_leaf=5, min_samples_split=2, n_estimators=100, total=  18.7s\n",
      "[CV] max_depth=10, min_samples_leaf=5, min_samples_split=5, n_estimators=20 \n",
      "[CV]  max_depth=10, min_samples_leaf=5, min_samples_split=5, n_estimators=10, total=   2.0s\n",
      "[CV] max_depth=10, min_samples_leaf=5, min_samples_split=5, n_estimators=20 \n",
      "[CV]  max_depth=10, min_samples_leaf=5, min_samples_split=5, n_estimators=20, total=   3.8s\n",
      "[CV] max_depth=10, min_samples_leaf=5, min_samples_split=5, n_estimators=50 \n",
      "[CV]  max_depth=10, min_samples_leaf=5, min_samples_split=5, n_estimators=20, total=   3.9s\n",
      "[CV] max_depth=10, min_samples_leaf=5, min_samples_split=5, n_estimators=50 \n",
      "[CV]  max_depth=10, min_samples_leaf=5, min_samples_split=2, n_estimators=100, total=  18.5s\n",
      "[CV] max_depth=10, min_samples_leaf=5, min_samples_split=5, n_estimators=50 \n",
      "[CV]  max_depth=10, min_samples_leaf=5, min_samples_split=5, n_estimators=20, total=   4.0s\n",
      "[CV] max_depth=10, min_samples_leaf=5, min_samples_split=5, n_estimators=100 \n",
      "[CV]  max_depth=10, min_samples_leaf=2, min_samples_split=10, n_estimators=200, total=  40.6s\n",
      "[CV] max_depth=10, min_samples_leaf=5, min_samples_split=5, n_estimators=100 \n",
      "[CV]  max_depth=10, min_samples_leaf=5, min_samples_split=5, n_estimators=50, total=   9.6s\n",
      "[CV] max_depth=10, min_samples_leaf=5, min_samples_split=5, n_estimators=100 \n",
      "[CV]  max_depth=10, min_samples_leaf=5, min_samples_split=5, n_estimators=50, total=   9.2s\n",
      "[CV] max_depth=10, min_samples_leaf=5, min_samples_split=5, n_estimators=200 \n",
      "[CV]  max_depth=10, min_samples_leaf=5, min_samples_split=5, n_estimators=50, total=   9.5s\n",
      "[CV] max_depth=10, min_samples_leaf=5, min_samples_split=5, n_estimators=200 \n",
      "[CV]  max_depth=10, min_samples_leaf=5, min_samples_split=5, n_estimators=100, total=  19.0s\n",
      "[CV] max_depth=10, min_samples_leaf=5, min_samples_split=5, n_estimators=200 \n",
      "[CV]  max_depth=10, min_samples_leaf=5, min_samples_split=2, n_estimators=200, total=  38.2s\n",
      "[CV] max_depth=10, min_samples_leaf=5, min_samples_split=10, n_estimators=10 \n",
      "[CV]  max_depth=10, min_samples_leaf=5, min_samples_split=2, n_estimators=200, total=  37.8s\n",
      "[CV] max_depth=10, min_samples_leaf=5, min_samples_split=10, n_estimators=10 \n",
      "[CV]  max_depth=10, min_samples_leaf=5, min_samples_split=10, n_estimators=10, total=   2.0s\n",
      "[CV] max_depth=10, min_samples_leaf=5, min_samples_split=10, n_estimators=10 \n",
      "[CV]  max_depth=10, min_samples_leaf=5, min_samples_split=10, n_estimators=10, total=   1.9s\n",
      "[CV] max_depth=10, min_samples_leaf=5, min_samples_split=10, n_estimators=20 \n",
      "[CV]  max_depth=10, min_samples_leaf=5, min_samples_split=5, n_estimators=100, total=  18.8s\n",
      "[CV] max_depth=10, min_samples_leaf=5, min_samples_split=10, n_estimators=20 \n",
      "[CV]  max_depth=10, min_samples_leaf=5, min_samples_split=10, n_estimators=10, total=   2.0s\n",
      "[CV] max_depth=10, min_samples_leaf=5, min_samples_split=10, n_estimators=20 \n",
      "[CV]  max_depth=10, min_samples_leaf=5, min_samples_split=10, n_estimators=20, total=   4.0s\n",
      "[CV] max_depth=10, min_samples_leaf=5, min_samples_split=10, n_estimators=50 \n",
      "[CV]  max_depth=10, min_samples_leaf=5, min_samples_split=5, n_estimators=100, total=  19.1s\n",
      "[CV] max_depth=10, min_samples_leaf=5, min_samples_split=10, n_estimators=50 \n",
      "[CV]  max_depth=10, min_samples_leaf=5, min_samples_split=10, n_estimators=20, total=   3.7s\n",
      "[CV] max_depth=10, min_samples_leaf=5, min_samples_split=10, n_estimators=50 \n",
      "[CV]  max_depth=10, min_samples_leaf=5, min_samples_split=10, n_estimators=20, total=   3.8s\n",
      "[CV] max_depth=10, min_samples_leaf=5, min_samples_split=10, n_estimators=100 \n",
      "[CV]  max_depth=10, min_samples_leaf=5, min_samples_split=2, n_estimators=200, total=  37.8s\n",
      "[CV] max_depth=10, min_samples_leaf=5, min_samples_split=10, n_estimators=100 \n",
      "[CV]  max_depth=10, min_samples_leaf=5, min_samples_split=10, n_estimators=50, total=   9.3s\n",
      "[CV] max_depth=10, min_samples_leaf=5, min_samples_split=10, n_estimators=100 \n",
      "[CV]  max_depth=10, min_samples_leaf=5, min_samples_split=10, n_estimators=50, total=   9.2s\n",
      "[CV] max_depth=10, min_samples_leaf=5, min_samples_split=10, n_estimators=200 \n",
      "[CV]  max_depth=10, min_samples_leaf=5, min_samples_split=10, n_estimators=50, total=   9.7s\n",
      "[CV] max_depth=10, min_samples_leaf=5, min_samples_split=10, n_estimators=200 \n",
      "[CV]  max_depth=10, min_samples_leaf=5, min_samples_split=10, n_estimators=100, total=  18.7s\n",
      "[CV] max_depth=10, min_samples_leaf=5, min_samples_split=10, n_estimators=200 \n",
      "[CV]  max_depth=10, min_samples_leaf=5, min_samples_split=5, n_estimators=200, total=  37.4s\n",
      "[CV] max_depth=10, min_samples_leaf=10, min_samples_split=2, n_estimators=10 \n",
      "[CV]  max_depth=10, min_samples_leaf=5, min_samples_split=5, n_estimators=200, total=  38.3s\n",
      "[CV] max_depth=10, min_samples_leaf=10, min_samples_split=2, n_estimators=10 \n",
      "[CV]  max_depth=10, min_samples_leaf=5, min_samples_split=10, n_estimators=100, total=  18.6s\n",
      "[CV] max_depth=10, min_samples_leaf=10, min_samples_split=2, n_estimators=10 \n",
      "[CV]  max_depth=10, min_samples_leaf=10, min_samples_split=2, n_estimators=10, total=   2.0s\n",
      "[CV] max_depth=10, min_samples_leaf=10, min_samples_split=2, n_estimators=20 \n",
      "[CV]  max_depth=10, min_samples_leaf=10, min_samples_split=2, n_estimators=10, total=   1.9s\n",
      "[CV] max_depth=10, min_samples_leaf=10, min_samples_split=2, n_estimators=20 \n",
      "[CV]  max_depth=10, min_samples_leaf=10, min_samples_split=2, n_estimators=10, total=   1.9s\n",
      "[CV] max_depth=10, min_samples_leaf=10, min_samples_split=2, n_estimators=20 \n",
      "[CV]  max_depth=10, min_samples_leaf=10, min_samples_split=2, n_estimators=20, total=   3.8s\n",
      "[CV] max_depth=10, min_samples_leaf=10, min_samples_split=2, n_estimators=50 \n",
      "[CV]  max_depth=10, min_samples_leaf=10, min_samples_split=2, n_estimators=20, total=   4.0s\n",
      "[CV] max_depth=10, min_samples_leaf=10, min_samples_split=2, n_estimators=50 \n",
      "[CV]  max_depth=10, min_samples_leaf=10, min_samples_split=2, n_estimators=20, total=   4.0s\n",
      "[CV] max_depth=10, min_samples_leaf=10, min_samples_split=2, n_estimators=50 \n",
      "[CV]  max_depth=10, min_samples_leaf=5, min_samples_split=10, n_estimators=100, total=  18.7s\n",
      "[CV] max_depth=10, min_samples_leaf=10, min_samples_split=2, n_estimators=100 \n",
      "[CV]  max_depth=10, min_samples_leaf=5, min_samples_split=5, n_estimators=200, total=  37.4s\n",
      "[CV] max_depth=10, min_samples_leaf=10, min_samples_split=2, n_estimators=100 \n",
      "[CV]  max_depth=10, min_samples_leaf=10, min_samples_split=2, n_estimators=50, total=   9.2s\n",
      "[CV] max_depth=10, min_samples_leaf=10, min_samples_split=2, n_estimators=100 \n",
      "[CV]  max_depth=10, min_samples_leaf=10, min_samples_split=2, n_estimators=50, total=   9.5s\n",
      "[CV] max_depth=10, min_samples_leaf=10, min_samples_split=2, n_estimators=200 \n",
      "[CV]  max_depth=10, min_samples_leaf=10, min_samples_split=2, n_estimators=50, total=   9.4s\n",
      "[CV] max_depth=10, min_samples_leaf=10, min_samples_split=2, n_estimators=200 \n",
      "[CV]  max_depth=10, min_samples_leaf=10, min_samples_split=2, n_estimators=100, total=  18.2s\n",
      "[CV] max_depth=10, min_samples_leaf=10, min_samples_split=2, n_estimators=200 \n"
     ]
    },
    {
     "name": "stdout",
     "output_type": "stream",
     "text": [
      "[CV]  max_depth=10, min_samples_leaf=5, min_samples_split=10, n_estimators=200, total=  37.9s\n",
      "[CV] max_depth=10, min_samples_leaf=10, min_samples_split=5, n_estimators=10 \n",
      "[CV]  max_depth=10, min_samples_leaf=10, min_samples_split=2, n_estimators=100, total=  18.2s\n",
      "[CV] max_depth=10, min_samples_leaf=10, min_samples_split=5, n_estimators=10 \n",
      "[CV]  max_depth=10, min_samples_leaf=5, min_samples_split=10, n_estimators=200, total=  38.9s\n",
      "[CV] max_depth=10, min_samples_leaf=10, min_samples_split=5, n_estimators=10 \n",
      "[CV]  max_depth=10, min_samples_leaf=10, min_samples_split=5, n_estimators=10, total=   1.9s\n",
      "[CV] max_depth=10, min_samples_leaf=10, min_samples_split=5, n_estimators=20 \n",
      "[CV]  max_depth=10, min_samples_leaf=10, min_samples_split=5, n_estimators=10, total=   1.9s\n",
      "[CV] max_depth=10, min_samples_leaf=10, min_samples_split=5, n_estimators=20 \n",
      "[CV]  max_depth=10, min_samples_leaf=10, min_samples_split=5, n_estimators=10, total=   2.1s\n",
      "[CV] max_depth=10, min_samples_leaf=10, min_samples_split=5, n_estimators=20 \n",
      "[CV]  max_depth=10, min_samples_leaf=10, min_samples_split=2, n_estimators=100, total=  18.3s\n",
      "[CV]  max_depth=10, min_samples_leaf=10, min_samples_split=5, n_estimators=20, total=   3.8s\n",
      "[CV] max_depth=10, min_samples_leaf=10, min_samples_split=5, n_estimators=50 \n",
      "[CV] max_depth=10, min_samples_leaf=10, min_samples_split=5, n_estimators=50 \n",
      "[CV]  max_depth=10, min_samples_leaf=10, min_samples_split=5, n_estimators=20, total=   3.8s\n",
      "[CV] max_depth=10, min_samples_leaf=10, min_samples_split=5, n_estimators=50 \n",
      "[CV]  max_depth=10, min_samples_leaf=10, min_samples_split=5, n_estimators=20, total=   3.8s\n",
      "[CV] max_depth=10, min_samples_leaf=10, min_samples_split=5, n_estimators=100 \n",
      "[CV]  max_depth=10, min_samples_leaf=5, min_samples_split=10, n_estimators=200, total=  37.3s\n",
      "[CV] max_depth=10, min_samples_leaf=10, min_samples_split=5, n_estimators=100 \n",
      "[CV]  max_depth=10, min_samples_leaf=10, min_samples_split=5, n_estimators=50, total=   9.2s\n",
      "[CV] max_depth=10, min_samples_leaf=10, min_samples_split=5, n_estimators=100 \n",
      "[CV]  max_depth=10, min_samples_leaf=10, min_samples_split=5, n_estimators=50, total=   9.4s\n",
      "[CV]  max_depth=10, min_samples_leaf=10, min_samples_split=5, n_estimators=50, total=   9.2s\n",
      "[CV] max_depth=10, min_samples_leaf=10, min_samples_split=5, n_estimators=200 \n",
      "[CV] max_depth=10, min_samples_leaf=10, min_samples_split=5, n_estimators=200 \n",
      "[CV]  max_depth=10, min_samples_leaf=10, min_samples_split=5, n_estimators=100, total=  18.5s\n",
      "[CV] max_depth=10, min_samples_leaf=10, min_samples_split=5, n_estimators=200 \n",
      "[CV]  max_depth=10, min_samples_leaf=10, min_samples_split=2, n_estimators=200, total=  37.0s\n",
      "[CV] max_depth=10, min_samples_leaf=10, min_samples_split=10, n_estimators=10 \n",
      "[CV]  max_depth=10, min_samples_leaf=10, min_samples_split=2, n_estimators=200, total=  37.0s\n",
      "[CV] max_depth=10, min_samples_leaf=10, min_samples_split=10, n_estimators=10 \n",
      "[CV]  max_depth=10, min_samples_leaf=10, min_samples_split=10, n_estimators=10, total=   1.9s\n",
      "[CV] max_depth=10, min_samples_leaf=10, min_samples_split=10, n_estimators=10 \n",
      "[CV]  max_depth=10, min_samples_leaf=10, min_samples_split=5, n_estimators=100, total=  18.5s\n",
      "[CV] max_depth=10, min_samples_leaf=10, min_samples_split=10, n_estimators=20 \n",
      "[CV]  max_depth=10, min_samples_leaf=10, min_samples_split=10, n_estimators=10, total=   1.9s\n",
      "[CV] max_depth=10, min_samples_leaf=10, min_samples_split=10, n_estimators=20 \n",
      "[CV]  max_depth=10, min_samples_leaf=10, min_samples_split=10, n_estimators=10, total=   1.9s\n",
      "[CV] max_depth=10, min_samples_leaf=10, min_samples_split=10, n_estimators=20 \n",
      "[CV]  max_depth=10, min_samples_leaf=10, min_samples_split=10, n_estimators=20, total=   4.0s\n",
      "[CV] max_depth=10, min_samples_leaf=10, min_samples_split=10, n_estimators=50 \n",
      "[CV]  max_depth=10, min_samples_leaf=10, min_samples_split=10, n_estimators=20, total=   4.1s\n",
      "[CV] max_depth=10, min_samples_leaf=10, min_samples_split=10, n_estimators=50 \n",
      "[CV]  max_depth=10, min_samples_leaf=10, min_samples_split=10, n_estimators=20, total=   3.7s\n",
      "[CV] max_depth=10, min_samples_leaf=10, min_samples_split=10, n_estimators=50 \n",
      "[CV]  max_depth=10, min_samples_leaf=10, min_samples_split=5, n_estimators=100, total=  18.6s\n",
      "[CV] max_depth=10, min_samples_leaf=10, min_samples_split=10, n_estimators=100 \n",
      "[CV]  max_depth=10, min_samples_leaf=10, min_samples_split=2, n_estimators=200, total=  37.3s\n",
      "[CV] max_depth=10, min_samples_leaf=10, min_samples_split=10, n_estimators=100 \n",
      "[CV]  max_depth=10, min_samples_leaf=10, min_samples_split=10, n_estimators=50, total=   9.6s\n",
      "[CV] max_depth=10, min_samples_leaf=10, min_samples_split=10, n_estimators=100 \n",
      "[CV]  max_depth=10, min_samples_leaf=10, min_samples_split=10, n_estimators=50, total=   9.7s\n",
      "[CV] max_depth=10, min_samples_leaf=10, min_samples_split=10, n_estimators=200 \n",
      "[CV]  max_depth=10, min_samples_leaf=10, min_samples_split=10, n_estimators=50, total=   9.1s\n",
      "[CV] max_depth=10, min_samples_leaf=10, min_samples_split=10, n_estimators=200 \n",
      "[CV]  max_depth=10, min_samples_leaf=10, min_samples_split=10, n_estimators=100, total=  19.1s\n",
      "[CV] max_depth=10, min_samples_leaf=10, min_samples_split=10, n_estimators=200 \n",
      "[CV]  max_depth=10, min_samples_leaf=10, min_samples_split=5, n_estimators=200, total=  38.5s\n",
      "[CV] max_depth=10, min_samples_leaf=50, min_samples_split=2, n_estimators=10 \n",
      "[CV]  max_depth=10, min_samples_leaf=10, min_samples_split=5, n_estimators=200, total=  39.4s\n",
      "[CV] max_depth=10, min_samples_leaf=50, min_samples_split=2, n_estimators=10 \n",
      "[CV]  max_depth=10, min_samples_leaf=10, min_samples_split=10, n_estimators=100, total=  19.4s\n",
      "[CV] max_depth=10, min_samples_leaf=50, min_samples_split=2, n_estimators=10 \n",
      "[CV]  max_depth=10, min_samples_leaf=50, min_samples_split=2, n_estimators=10, total=   1.9s\n",
      "[CV] max_depth=10, min_samples_leaf=50, min_samples_split=2, n_estimators=20 \n",
      "[CV]  max_depth=10, min_samples_leaf=50, min_samples_split=2, n_estimators=10, total=   1.9s\n",
      "[CV] max_depth=10, min_samples_leaf=50, min_samples_split=2, n_estimators=20 \n",
      "[CV]  max_depth=10, min_samples_leaf=50, min_samples_split=2, n_estimators=10, total=   1.9s\n",
      "[CV] max_depth=10, min_samples_leaf=50, min_samples_split=2, n_estimators=20 \n",
      "[CV]  max_depth=10, min_samples_leaf=50, min_samples_split=2, n_estimators=20, total=   3.7s\n",
      "[CV] max_depth=10, min_samples_leaf=50, min_samples_split=2, n_estimators=50 \n",
      "[CV]  max_depth=10, min_samples_leaf=50, min_samples_split=2, n_estimators=20, total=   3.9s\n",
      "[CV] max_depth=10, min_samples_leaf=50, min_samples_split=2, n_estimators=50 \n",
      "[CV]  max_depth=10, min_samples_leaf=50, min_samples_split=2, n_estimators=20, total=   3.8s\n",
      "[CV] max_depth=10, min_samples_leaf=50, min_samples_split=2, n_estimators=50 \n",
      "[CV]  max_depth=10, min_samples_leaf=10, min_samples_split=10, n_estimators=100, total=  20.8s\n",
      "[CV] max_depth=10, min_samples_leaf=50, min_samples_split=2, n_estimators=100 \n"
     ]
    },
    {
     "name": "stderr",
     "output_type": "stream",
     "text": [
      "[Parallel(n_jobs=-1)]: Done 632 tasks      | elapsed: 11.7min\n"
     ]
    },
    {
     "name": "stdout",
     "output_type": "stream",
     "text": [
      "[CV]  max_depth=10, min_samples_leaf=10, min_samples_split=5, n_estimators=200, total=  39.4s\n",
      "[CV] max_depth=10, min_samples_leaf=50, min_samples_split=2, n_estimators=100 \n",
      "[CV]  max_depth=10, min_samples_leaf=50, min_samples_split=2, n_estimators=50, total=   8.9s\n",
      "[CV] max_depth=10, min_samples_leaf=50, min_samples_split=2, n_estimators=100 \n",
      "[CV]  max_depth=10, min_samples_leaf=50, min_samples_split=2, n_estimators=50, total=   8.9s\n",
      "[CV] max_depth=10, min_samples_leaf=50, min_samples_split=2, n_estimators=200 \n",
      "[CV]  max_depth=10, min_samples_leaf=50, min_samples_split=2, n_estimators=50, total=   8.9s\n",
      "[CV] max_depth=10, min_samples_leaf=50, min_samples_split=2, n_estimators=200 \n",
      "[CV]  max_depth=10, min_samples_leaf=50, min_samples_split=2, n_estimators=100, total=  17.5s\n",
      "[CV] max_depth=10, min_samples_leaf=50, min_samples_split=2, n_estimators=200 \n",
      "[CV]  max_depth=10, min_samples_leaf=50, min_samples_split=2, n_estimators=100, total=  16.6s\n",
      "[CV] max_depth=10, min_samples_leaf=50, min_samples_split=5, n_estimators=10 \n",
      "[CV]  max_depth=10, min_samples_leaf=10, min_samples_split=10, n_estimators=200, total=  39.2s\n",
      "[CV]  max_depth=10, min_samples_leaf=10, min_samples_split=10, n_estimators=200, total=  39.6s\n",
      "[CV] max_depth=10, min_samples_leaf=50, min_samples_split=5, n_estimators=10 \n",
      "[CV] max_depth=10, min_samples_leaf=50, min_samples_split=5, n_estimators=10 \n",
      "[CV]  max_depth=10, min_samples_leaf=50, min_samples_split=5, n_estimators=10, total=   1.9s\n",
      "[CV] max_depth=10, min_samples_leaf=50, min_samples_split=5, n_estimators=20 \n",
      "[CV]  max_depth=10, min_samples_leaf=50, min_samples_split=5, n_estimators=10, total=   1.8s\n",
      "[CV] max_depth=10, min_samples_leaf=50, min_samples_split=5, n_estimators=20 \n",
      "[CV]  max_depth=10, min_samples_leaf=50, min_samples_split=5, n_estimators=10, total=   1.8s\n",
      "[CV] max_depth=10, min_samples_leaf=50, min_samples_split=5, n_estimators=20 \n",
      "[CV]  max_depth=10, min_samples_leaf=50, min_samples_split=2, n_estimators=100, total=  17.0s\n",
      "[CV] max_depth=10, min_samples_leaf=50, min_samples_split=5, n_estimators=50 \n",
      "[CV]  max_depth=10, min_samples_leaf=50, min_samples_split=5, n_estimators=20, total=   3.5s\n",
      "[CV] max_depth=10, min_samples_leaf=50, min_samples_split=5, n_estimators=50 \n",
      "[CV]  max_depth=10, min_samples_leaf=50, min_samples_split=5, n_estimators=20, total=   3.6s\n",
      "[CV] max_depth=10, min_samples_leaf=50, min_samples_split=5, n_estimators=50 \n",
      "[CV]  max_depth=10, min_samples_leaf=50, min_samples_split=5, n_estimators=20, total=   3.7s\n",
      "[CV] max_depth=10, min_samples_leaf=50, min_samples_split=5, n_estimators=100 \n",
      "[CV]  max_depth=10, min_samples_leaf=10, min_samples_split=10, n_estimators=200, total=  38.2s\n",
      "[CV] max_depth=10, min_samples_leaf=50, min_samples_split=5, n_estimators=100 \n",
      "[CV]  max_depth=10, min_samples_leaf=50, min_samples_split=5, n_estimators=50, total=   8.5s\n",
      "[CV] max_depth=10, min_samples_leaf=50, min_samples_split=5, n_estimators=100 \n",
      "[CV]  max_depth=10, min_samples_leaf=50, min_samples_split=5, n_estimators=50, total=   8.7s\n",
      "[CV] max_depth=10, min_samples_leaf=50, min_samples_split=5, n_estimators=200 \n",
      "[CV]  max_depth=10, min_samples_leaf=50, min_samples_split=5, n_estimators=50, total=   8.6s\n",
      "[CV] max_depth=10, min_samples_leaf=50, min_samples_split=5, n_estimators=200 \n",
      "[CV]  max_depth=10, min_samples_leaf=50, min_samples_split=2, n_estimators=200, total=  33.7s\n",
      "[CV] max_depth=10, min_samples_leaf=50, min_samples_split=5, n_estimators=200 \n",
      "[CV]  max_depth=10, min_samples_leaf=50, min_samples_split=2, n_estimators=200, total=  33.9s\n",
      "[CV] max_depth=10, min_samples_leaf=50, min_samples_split=10, n_estimators=10 \n",
      "[CV]  max_depth=10, min_samples_leaf=50, min_samples_split=5, n_estimators=100, total=  17.0s\n",
      "[CV] max_depth=10, min_samples_leaf=50, min_samples_split=10, n_estimators=10 \n",
      "[CV]  max_depth=10, min_samples_leaf=50, min_samples_split=10, n_estimators=10, total=   1.7s\n",
      "[CV] max_depth=10, min_samples_leaf=50, min_samples_split=10, n_estimators=10 \n",
      "[CV]  max_depth=10, min_samples_leaf=50, min_samples_split=10, n_estimators=10, total=   1.7s\n",
      "[CV] max_depth=10, min_samples_leaf=50, min_samples_split=10, n_estimators=20 \n",
      "[CV]  max_depth=10, min_samples_leaf=50, min_samples_split=10, n_estimators=10, total=   1.7s\n",
      "[CV] max_depth=10, min_samples_leaf=50, min_samples_split=10, n_estimators=20 \n",
      "[CV]  max_depth=10, min_samples_leaf=50, min_samples_split=5, n_estimators=100, total=  17.2s\n",
      "[CV] max_depth=10, min_samples_leaf=50, min_samples_split=10, n_estimators=20 \n",
      "[CV]  max_depth=10, min_samples_leaf=50, min_samples_split=10, n_estimators=20, total=   3.4s\n",
      "[CV] max_depth=10, min_samples_leaf=50, min_samples_split=10, n_estimators=50 \n",
      "[CV]  max_depth=10, min_samples_leaf=50, min_samples_split=10, n_estimators=20, total=   3.5s\n",
      "[CV] max_depth=10, min_samples_leaf=50, min_samples_split=10, n_estimators=50 \n",
      "[CV]  max_depth=10, min_samples_leaf=50, min_samples_split=5, n_estimators=100, total=  17.0s\n",
      "[CV] max_depth=10, min_samples_leaf=50, min_samples_split=10, n_estimators=50 \n",
      "[CV]  max_depth=10, min_samples_leaf=50, min_samples_split=10, n_estimators=20, total=   3.6s\n",
      "[CV] max_depth=10, min_samples_leaf=50, min_samples_split=10, n_estimators=100 \n",
      "[CV]  max_depth=10, min_samples_leaf=50, min_samples_split=2, n_estimators=200, total=  34.2s\n",
      "[CV] max_depth=10, min_samples_leaf=50, min_samples_split=10, n_estimators=100 \n",
      "[CV]  max_depth=10, min_samples_leaf=50, min_samples_split=10, n_estimators=50, total=   8.5s\n",
      "[CV] max_depth=10, min_samples_leaf=50, min_samples_split=10, n_estimators=100 \n",
      "[CV]  max_depth=10, min_samples_leaf=50, min_samples_split=10, n_estimators=50, total=   8.3s\n",
      "[CV] max_depth=10, min_samples_leaf=50, min_samples_split=10, n_estimators=200 \n",
      "[CV]  max_depth=10, min_samples_leaf=50, min_samples_split=10, n_estimators=50, total=   8.4s\n",
      "[CV] max_depth=10, min_samples_leaf=50, min_samples_split=10, n_estimators=200 \n",
      "[CV]  max_depth=10, min_samples_leaf=50, min_samples_split=10, n_estimators=100, total=  17.1s\n",
      "[CV] max_depth=10, min_samples_leaf=50, min_samples_split=10, n_estimators=200 \n",
      "[CV]  max_depth=10, min_samples_leaf=50, min_samples_split=5, n_estimators=200, total=  34.4s\n",
      "[CV] max_depth=50, min_samples_leaf=1, min_samples_split=2, n_estimators=10 \n",
      "[CV]  max_depth=10, min_samples_leaf=50, min_samples_split=5, n_estimators=200, total=  34.5s\n",
      "[CV] max_depth=50, min_samples_leaf=1, min_samples_split=2, n_estimators=10 \n",
      "[CV]  max_depth=10, min_samples_leaf=50, min_samples_split=10, n_estimators=100, total=  17.0s\n",
      "[CV] max_depth=50, min_samples_leaf=1, min_samples_split=2, n_estimators=10 \n",
      "[CV]  max_depth=50, min_samples_leaf=1, min_samples_split=2, n_estimators=10, total=   2.5s\n",
      "[CV] max_depth=50, min_samples_leaf=1, min_samples_split=2, n_estimators=20 \n",
      "[CV]  max_depth=50, min_samples_leaf=1, min_samples_split=2, n_estimators=10, total=   2.4s\n",
      "[CV] max_depth=50, min_samples_leaf=1, min_samples_split=2, n_estimators=20 \n",
      "[CV]  max_depth=50, min_samples_leaf=1, min_samples_split=2, n_estimators=10, total=   2.4s\n",
      "[CV] max_depth=50, min_samples_leaf=1, min_samples_split=2, n_estimators=20 \n",
      "[CV]  max_depth=10, min_samples_leaf=50, min_samples_split=10, n_estimators=100, total=  17.3s\n",
      "[CV] max_depth=50, min_samples_leaf=1, min_samples_split=2, n_estimators=50 \n",
      "[CV]  max_depth=50, min_samples_leaf=1, min_samples_split=2, n_estimators=20, total=   4.7s\n",
      "[CV] max_depth=50, min_samples_leaf=1, min_samples_split=2, n_estimators=50 \n",
      "[CV]  max_depth=50, min_samples_leaf=1, min_samples_split=2, n_estimators=20, total=   4.5s\n",
      "[CV] max_depth=50, min_samples_leaf=1, min_samples_split=2, n_estimators=50 \n",
      "[CV]  max_depth=10, min_samples_leaf=50, min_samples_split=5, n_estimators=200, total=  33.8s\n",
      "[CV] max_depth=50, min_samples_leaf=1, min_samples_split=2, n_estimators=100 \n",
      "[CV]  max_depth=50, min_samples_leaf=1, min_samples_split=2, n_estimators=20, total=   4.7s\n",
      "[CV] max_depth=50, min_samples_leaf=1, min_samples_split=2, n_estimators=100 \n",
      "[CV]  max_depth=50, min_samples_leaf=1, min_samples_split=2, n_estimators=50, total=  11.5s\n",
      "[CV] max_depth=50, min_samples_leaf=1, min_samples_split=2, n_estimators=100 \n",
      "[CV]  max_depth=50, min_samples_leaf=1, min_samples_split=2, n_estimators=50, total=  10.7s\n",
      "[CV] max_depth=50, min_samples_leaf=1, min_samples_split=2, n_estimators=200 \n"
     ]
    },
    {
     "name": "stdout",
     "output_type": "stream",
     "text": [
      "[CV]  max_depth=50, min_samples_leaf=1, min_samples_split=2, n_estimators=50, total=  11.1s\n",
      "[CV] max_depth=50, min_samples_leaf=1, min_samples_split=2, n_estimators=200 \n",
      "[CV]  max_depth=10, min_samples_leaf=50, min_samples_split=10, n_estimators=200, total=  33.3s\n",
      "[CV] max_depth=50, min_samples_leaf=1, min_samples_split=2, n_estimators=200 \n",
      "[CV]  max_depth=10, min_samples_leaf=50, min_samples_split=10, n_estimators=200, total=  34.5s\n",
      "[CV] max_depth=50, min_samples_leaf=1, min_samples_split=5, n_estimators=10 \n",
      "[CV]  max_depth=50, min_samples_leaf=1, min_samples_split=5, n_estimators=10, total=   2.3s\n",
      "[CV] max_depth=50, min_samples_leaf=1, min_samples_split=5, n_estimators=10 \n",
      "[CV]  max_depth=50, min_samples_leaf=1, min_samples_split=5, n_estimators=10, total=   2.3s\n",
      "[CV] max_depth=50, min_samples_leaf=1, min_samples_split=5, n_estimators=10 \n",
      "[CV]  max_depth=50, min_samples_leaf=1, min_samples_split=2, n_estimators=100, total=  22.7s\n",
      "[CV] max_depth=50, min_samples_leaf=1, min_samples_split=5, n_estimators=20 \n",
      "[CV]  max_depth=50, min_samples_leaf=1, min_samples_split=2, n_estimators=100, total=  22.4s\n",
      "[CV] max_depth=50, min_samples_leaf=1, min_samples_split=5, n_estimators=20 \n",
      "[CV]  max_depth=50, min_samples_leaf=1, min_samples_split=5, n_estimators=10, total=   2.3s\n",
      "[CV] max_depth=50, min_samples_leaf=1, min_samples_split=5, n_estimators=20 \n",
      "[CV]  max_depth=10, min_samples_leaf=50, min_samples_split=10, n_estimators=200, total=  33.9s\n",
      "[CV] max_depth=50, min_samples_leaf=1, min_samples_split=5, n_estimators=50 \n",
      "[CV]  max_depth=50, min_samples_leaf=1, min_samples_split=5, n_estimators=20, total=   4.4s\n",
      "[CV] max_depth=50, min_samples_leaf=1, min_samples_split=5, n_estimators=50 \n",
      "[CV]  max_depth=50, min_samples_leaf=1, min_samples_split=5, n_estimators=20, total=   4.7s\n",
      "[CV] max_depth=50, min_samples_leaf=1, min_samples_split=5, n_estimators=50 \n",
      "[CV]  max_depth=50, min_samples_leaf=1, min_samples_split=5, n_estimators=20, total=   4.5s\n",
      "[CV] max_depth=50, min_samples_leaf=1, min_samples_split=5, n_estimators=100 \n",
      "[CV]  max_depth=50, min_samples_leaf=1, min_samples_split=2, n_estimators=100, total=  22.6s\n",
      "[CV] max_depth=50, min_samples_leaf=1, min_samples_split=5, n_estimators=100 \n",
      "[CV]  max_depth=50, min_samples_leaf=1, min_samples_split=5, n_estimators=50, total=  11.3s\n",
      "[CV] max_depth=50, min_samples_leaf=1, min_samples_split=5, n_estimators=100 \n",
      "[CV]  max_depth=50, min_samples_leaf=1, min_samples_split=5, n_estimators=50, total=  10.8s\n",
      "[CV] max_depth=50, min_samples_leaf=1, min_samples_split=5, n_estimators=200 \n",
      "[CV]  max_depth=50, min_samples_leaf=1, min_samples_split=5, n_estimators=50, total=  11.2s\n",
      "[CV] max_depth=50, min_samples_leaf=1, min_samples_split=5, n_estimators=200 \n",
      "[CV]  max_depth=50, min_samples_leaf=1, min_samples_split=5, n_estimators=100, total=  22.3s\n",
      "[CV] max_depth=50, min_samples_leaf=1, min_samples_split=5, n_estimators=200 \n",
      "[CV]  max_depth=50, min_samples_leaf=1, min_samples_split=5, n_estimators=100, total=  21.7s\n",
      "[CV] max_depth=50, min_samples_leaf=1, min_samples_split=10, n_estimators=10 \n",
      "[CV]  max_depth=50, min_samples_leaf=1, min_samples_split=2, n_estimators=200, total=  43.7s\n",
      "[CV] max_depth=50, min_samples_leaf=1, min_samples_split=10, n_estimators=10 \n",
      "[CV]  max_depth=50, min_samples_leaf=1, min_samples_split=2, n_estimators=200, total=  44.5s\n",
      "[CV] max_depth=50, min_samples_leaf=1, min_samples_split=10, n_estimators=10 \n",
      "[CV]  max_depth=50, min_samples_leaf=1, min_samples_split=10, n_estimators=10, total=   2.3s\n",
      "[CV] max_depth=50, min_samples_leaf=1, min_samples_split=10, n_estimators=20 \n",
      "[CV]  max_depth=50, min_samples_leaf=1, min_samples_split=10, n_estimators=10, total=   2.3s\n",
      "[CV] max_depth=50, min_samples_leaf=1, min_samples_split=10, n_estimators=20 \n",
      "[CV]  max_depth=50, min_samples_leaf=1, min_samples_split=10, n_estimators=10, total=   2.5s\n",
      "[CV] max_depth=50, min_samples_leaf=1, min_samples_split=10, n_estimators=20 \n",
      "[CV]  max_depth=50, min_samples_leaf=1, min_samples_split=5, n_estimators=100, total=  22.1s\n",
      "[CV] max_depth=50, min_samples_leaf=1, min_samples_split=10, n_estimators=50 \n",
      "[CV]  max_depth=50, min_samples_leaf=1, min_samples_split=2, n_estimators=200, total=  44.7s\n",
      "[CV] max_depth=50, min_samples_leaf=1, min_samples_split=10, n_estimators=50 \n",
      "[CV]  max_depth=50, min_samples_leaf=1, min_samples_split=10, n_estimators=20, total=   4.5s\n",
      "[CV] max_depth=50, min_samples_leaf=1, min_samples_split=10, n_estimators=50 \n",
      "[CV]  max_depth=50, min_samples_leaf=1, min_samples_split=10, n_estimators=20, total=   4.7s\n",
      "[CV] max_depth=50, min_samples_leaf=1, min_samples_split=10, n_estimators=100 \n",
      "[CV]  max_depth=50, min_samples_leaf=1, min_samples_split=10, n_estimators=20, total=   4.9s\n",
      "[CV] max_depth=50, min_samples_leaf=1, min_samples_split=10, n_estimators=100 \n",
      "[CV]  max_depth=50, min_samples_leaf=1, min_samples_split=10, n_estimators=50, total=  11.6s\n",
      "[CV] max_depth=50, min_samples_leaf=1, min_samples_split=10, n_estimators=100 \n",
      "[CV]  max_depth=50, min_samples_leaf=1, min_samples_split=10, n_estimators=50, total=  11.2s\n",
      "[CV] max_depth=50, min_samples_leaf=1, min_samples_split=10, n_estimators=200 \n",
      "[CV]  max_depth=50, min_samples_leaf=1, min_samples_split=10, n_estimators=50, total=  11.5s\n",
      "[CV] max_depth=50, min_samples_leaf=1, min_samples_split=10, n_estimators=200 \n",
      "[CV]  max_depth=50, min_samples_leaf=1, min_samples_split=5, n_estimators=200, total=  43.6s\n",
      "[CV] max_depth=50, min_samples_leaf=1, min_samples_split=10, n_estimators=200 \n",
      "[CV]  max_depth=50, min_samples_leaf=1, min_samples_split=5, n_estimators=200, total=  45.0s\n",
      "[CV] max_depth=50, min_samples_leaf=2, min_samples_split=2, n_estimators=10 \n",
      "[CV]  max_depth=50, min_samples_leaf=1, min_samples_split=10, n_estimators=100, total=  22.1s\n",
      "[CV] max_depth=50, min_samples_leaf=2, min_samples_split=2, n_estimators=10 \n",
      "[CV]  max_depth=50, min_samples_leaf=1, min_samples_split=10, n_estimators=100, total=  22.5s\n",
      "[CV] max_depth=50, min_samples_leaf=2, min_samples_split=2, n_estimators=10 \n",
      "[CV]  max_depth=50, min_samples_leaf=2, min_samples_split=2, n_estimators=10, total=   2.3s\n",
      "[CV] max_depth=50, min_samples_leaf=2, min_samples_split=2, n_estimators=20 \n",
      "[CV]  max_depth=50, min_samples_leaf=2, min_samples_split=2, n_estimators=10, total=   2.3s\n",
      "[CV] max_depth=50, min_samples_leaf=2, min_samples_split=2, n_estimators=20 \n",
      "[CV]  max_depth=50, min_samples_leaf=2, min_samples_split=2, n_estimators=10, total=   2.3s\n",
      "[CV] max_depth=50, min_samples_leaf=2, min_samples_split=2, n_estimators=20 \n",
      "[CV]  max_depth=50, min_samples_leaf=2, min_samples_split=2, n_estimators=20, total=   4.6s\n",
      "[CV] max_depth=50, min_samples_leaf=2, min_samples_split=2, n_estimators=50 \n",
      "[CV]  max_depth=50, min_samples_leaf=2, min_samples_split=2, n_estimators=20, total=   4.5s\n",
      "[CV] max_depth=50, min_samples_leaf=2, min_samples_split=2, n_estimators=50 \n",
      "[CV]  max_depth=50, min_samples_leaf=2, min_samples_split=2, n_estimators=20, total=   4.5s\n",
      "[CV] max_depth=50, min_samples_leaf=2, min_samples_split=2, n_estimators=50 \n",
      "[CV]  max_depth=50, min_samples_leaf=1, min_samples_split=10, n_estimators=100, total=  22.4s\n",
      "[CV] max_depth=50, min_samples_leaf=2, min_samples_split=2, n_estimators=100 \n",
      "[CV]  max_depth=50, min_samples_leaf=1, min_samples_split=5, n_estimators=200, total=  45.1s\n",
      "[CV] max_depth=50, min_samples_leaf=2, min_samples_split=2, n_estimators=100 \n",
      "[CV]  max_depth=50, min_samples_leaf=2, min_samples_split=2, n_estimators=50, total=  11.4s\n",
      "[CV] max_depth=50, min_samples_leaf=2, min_samples_split=2, n_estimators=100 \n",
      "[CV]  max_depth=50, min_samples_leaf=2, min_samples_split=2, n_estimators=50, total=  10.5s\n",
      "[CV] max_depth=50, min_samples_leaf=2, min_samples_split=2, n_estimators=200 \n",
      "[CV]  max_depth=50, min_samples_leaf=2, min_samples_split=2, n_estimators=50, total=  11.1s\n",
      "[CV] max_depth=50, min_samples_leaf=2, min_samples_split=2, n_estimators=200 \n",
      "[CV]  max_depth=50, min_samples_leaf=2, min_samples_split=2, n_estimators=100, total=  21.9s\n",
      "[CV] max_depth=50, min_samples_leaf=2, min_samples_split=2, n_estimators=200 \n",
      "[CV]  max_depth=50, min_samples_leaf=1, min_samples_split=10, n_estimators=200, total=  44.2s\n",
      "[CV] max_depth=50, min_samples_leaf=2, min_samples_split=5, n_estimators=10 \n",
      "[CV]  max_depth=50, min_samples_leaf=1, min_samples_split=10, n_estimators=200, total=  44.7s\n"
     ]
    },
    {
     "name": "stdout",
     "output_type": "stream",
     "text": [
      "[CV] max_depth=50, min_samples_leaf=2, min_samples_split=5, n_estimators=10 \n",
      "[CV]  max_depth=50, min_samples_leaf=2, min_samples_split=2, n_estimators=100, total=  21.8s\n",
      "[CV] max_depth=50, min_samples_leaf=2, min_samples_split=5, n_estimators=10 \n",
      "[CV]  max_depth=50, min_samples_leaf=2, min_samples_split=5, n_estimators=10, total=   2.4s\n",
      "[CV] max_depth=50, min_samples_leaf=2, min_samples_split=5, n_estimators=20 \n",
      "[CV]  max_depth=50, min_samples_leaf=2, min_samples_split=5, n_estimators=10, total=   2.1s\n",
      "[CV] max_depth=50, min_samples_leaf=2, min_samples_split=5, n_estimators=20 \n",
      "[CV]  max_depth=50, min_samples_leaf=2, min_samples_split=5, n_estimators=10, total=   2.4s\n",
      "[CV] max_depth=50, min_samples_leaf=2, min_samples_split=5, n_estimators=20 \n",
      "[CV]  max_depth=50, min_samples_leaf=2, min_samples_split=5, n_estimators=20, total=   4.3s\n",
      "[CV] max_depth=50, min_samples_leaf=2, min_samples_split=5, n_estimators=50 \n",
      "[CV]  max_depth=50, min_samples_leaf=2, min_samples_split=5, n_estimators=20, total=   4.7s\n",
      "[CV] max_depth=50, min_samples_leaf=2, min_samples_split=5, n_estimators=50 \n",
      "[CV]  max_depth=50, min_samples_leaf=2, min_samples_split=5, n_estimators=20, total=   4.7s\n",
      "[CV] max_depth=50, min_samples_leaf=2, min_samples_split=5, n_estimators=50 \n",
      "[CV]  max_depth=50, min_samples_leaf=2, min_samples_split=2, n_estimators=100, total=  23.0s\n",
      "[CV] max_depth=50, min_samples_leaf=2, min_samples_split=5, n_estimators=100 \n",
      "[CV]  max_depth=50, min_samples_leaf=1, min_samples_split=10, n_estimators=200, total=  44.8s\n",
      "[CV] max_depth=50, min_samples_leaf=2, min_samples_split=5, n_estimators=100 \n",
      "[CV]  max_depth=50, min_samples_leaf=2, min_samples_split=5, n_estimators=50, total=  11.1s\n",
      "[CV] max_depth=50, min_samples_leaf=2, min_samples_split=5, n_estimators=100 \n",
      "[CV]  max_depth=50, min_samples_leaf=2, min_samples_split=5, n_estimators=50, total=  10.9s\n",
      "[CV] max_depth=50, min_samples_leaf=2, min_samples_split=5, n_estimators=200 \n",
      "[CV]  max_depth=50, min_samples_leaf=2, min_samples_split=5, n_estimators=50, total=  11.1s\n",
      "[CV] max_depth=50, min_samples_leaf=2, min_samples_split=5, n_estimators=200 \n",
      "[CV]  max_depth=50, min_samples_leaf=2, min_samples_split=2, n_estimators=200, total=  42.5s\n",
      "[CV] max_depth=50, min_samples_leaf=2, min_samples_split=5, n_estimators=200 \n",
      "[CV]  max_depth=50, min_samples_leaf=2, min_samples_split=2, n_estimators=200, total=  44.3s\n",
      "[CV] max_depth=50, min_samples_leaf=2, min_samples_split=10, n_estimators=10 \n",
      "[CV]  max_depth=50, min_samples_leaf=2, min_samples_split=5, n_estimators=100, total=  22.1s\n",
      "[CV] max_depth=50, min_samples_leaf=2, min_samples_split=10, n_estimators=10 \n",
      "[CV]  max_depth=50, min_samples_leaf=2, min_samples_split=10, n_estimators=10, total=   2.2s\n",
      "[CV] max_depth=50, min_samples_leaf=2, min_samples_split=10, n_estimators=10 \n",
      "[CV]  max_depth=50, min_samples_leaf=2, min_samples_split=5, n_estimators=100, total=  21.4s\n",
      "[CV] max_depth=50, min_samples_leaf=2, min_samples_split=10, n_estimators=20 \n",
      "[CV]  max_depth=50, min_samples_leaf=2, min_samples_split=10, n_estimators=10, total=   2.2s\n",
      "[CV] max_depth=50, min_samples_leaf=2, min_samples_split=10, n_estimators=20 \n",
      "[CV]  max_depth=50, min_samples_leaf=2, min_samples_split=10, n_estimators=10, total=   2.4s\n",
      "[CV] max_depth=50, min_samples_leaf=2, min_samples_split=10, n_estimators=20 \n",
      "[CV]  max_depth=50, min_samples_leaf=2, min_samples_split=10, n_estimators=20, total=   4.6s\n",
      "[CV] max_depth=50, min_samples_leaf=2, min_samples_split=10, n_estimators=50 \n",
      "[CV]  max_depth=50, min_samples_leaf=2, min_samples_split=10, n_estimators=20, total=   4.8s\n",
      "[CV] max_depth=50, min_samples_leaf=2, min_samples_split=10, n_estimators=50 \n",
      "[CV]  max_depth=50, min_samples_leaf=2, min_samples_split=10, n_estimators=20, total=   4.8s\n",
      "[CV] max_depth=50, min_samples_leaf=2, min_samples_split=10, n_estimators=50 \n",
      "[CV]  max_depth=50, min_samples_leaf=2, min_samples_split=5, n_estimators=100, total=  21.8s\n",
      "[CV] max_depth=50, min_samples_leaf=2, min_samples_split=10, n_estimators=100 \n",
      "[CV]  max_depth=50, min_samples_leaf=2, min_samples_split=2, n_estimators=200, total=  44.8s\n",
      "[CV] max_depth=50, min_samples_leaf=2, min_samples_split=10, n_estimators=100 \n",
      "[CV]  max_depth=50, min_samples_leaf=2, min_samples_split=10, n_estimators=50, total=  11.3s\n",
      "[CV] max_depth=50, min_samples_leaf=2, min_samples_split=10, n_estimators=100 \n",
      "[CV]  max_depth=50, min_samples_leaf=2, min_samples_split=10, n_estimators=50, total=  10.7s\n",
      "[CV] max_depth=50, min_samples_leaf=2, min_samples_split=10, n_estimators=200 \n",
      "[CV]  max_depth=50, min_samples_leaf=2, min_samples_split=10, n_estimators=50, total=  11.3s\n",
      "[CV] max_depth=50, min_samples_leaf=2, min_samples_split=10, n_estimators=200 \n",
      "[CV]  max_depth=50, min_samples_leaf=2, min_samples_split=10, n_estimators=100, total=  22.5s\n",
      "[CV] max_depth=50, min_samples_leaf=2, min_samples_split=10, n_estimators=200 \n",
      "[CV]  max_depth=50, min_samples_leaf=2, min_samples_split=5, n_estimators=200, total=  43.3s\n",
      "[CV] max_depth=50, min_samples_leaf=5, min_samples_split=2, n_estimators=10 \n",
      "[CV]  max_depth=50, min_samples_leaf=2, min_samples_split=5, n_estimators=200, total=  45.3s\n",
      "[CV] max_depth=50, min_samples_leaf=5, min_samples_split=2, n_estimators=10 \n",
      "[CV]  max_depth=50, min_samples_leaf=5, min_samples_split=2, n_estimators=10, total=   2.1s\n",
      "[CV] max_depth=50, min_samples_leaf=5, min_samples_split=2, n_estimators=10 \n",
      "[CV]  max_depth=50, min_samples_leaf=2, min_samples_split=10, n_estimators=100, total=  21.5s\n",
      "[CV] max_depth=50, min_samples_leaf=5, min_samples_split=2, n_estimators=20 \n",
      "[CV]  max_depth=50, min_samples_leaf=5, min_samples_split=2, n_estimators=10, total=   2.2s\n",
      "[CV] max_depth=50, min_samples_leaf=5, min_samples_split=2, n_estimators=20 \n",
      "[CV]  max_depth=50, min_samples_leaf=5, min_samples_split=2, n_estimators=10, total=   2.2s\n",
      "[CV] max_depth=50, min_samples_leaf=5, min_samples_split=2, n_estimators=20 \n",
      "[CV]  max_depth=50, min_samples_leaf=5, min_samples_split=2, n_estimators=20, total=   4.5s\n",
      "[CV] max_depth=50, min_samples_leaf=5, min_samples_split=2, n_estimators=50 \n",
      "[CV]  max_depth=50, min_samples_leaf=2, min_samples_split=10, n_estimators=100, total=  22.0s\n",
      "[CV] max_depth=50, min_samples_leaf=5, min_samples_split=2, n_estimators=50 \n",
      "[CV]  max_depth=50, min_samples_leaf=5, min_samples_split=2, n_estimators=20, total=   4.6s\n",
      "[CV] max_depth=50, min_samples_leaf=5, min_samples_split=2, n_estimators=50 \n",
      "[CV]  max_depth=50, min_samples_leaf=5, min_samples_split=2, n_estimators=20, total=   4.7s\n",
      "[CV] max_depth=50, min_samples_leaf=5, min_samples_split=2, n_estimators=100 \n",
      "[CV]  max_depth=50, min_samples_leaf=2, min_samples_split=5, n_estimators=200, total=  44.5s\n",
      "[CV] max_depth=50, min_samples_leaf=5, min_samples_split=2, n_estimators=100 \n",
      "[CV]  max_depth=50, min_samples_leaf=5, min_samples_split=2, n_estimators=50, total=  10.9s\n",
      "[CV] max_depth=50, min_samples_leaf=5, min_samples_split=2, n_estimators=100 \n",
      "[CV]  max_depth=50, min_samples_leaf=5, min_samples_split=2, n_estimators=50, total=  10.6s\n",
      "[CV] max_depth=50, min_samples_leaf=5, min_samples_split=2, n_estimators=200 \n",
      "[CV]  max_depth=50, min_samples_leaf=5, min_samples_split=2, n_estimators=50, total=  10.8s\n",
      "[CV] max_depth=50, min_samples_leaf=5, min_samples_split=2, n_estimators=200 \n",
      "[CV]  max_depth=50, min_samples_leaf=5, min_samples_split=2, n_estimators=100, total=  21.4s\n",
      "[CV] max_depth=50, min_samples_leaf=5, min_samples_split=2, n_estimators=200 \n",
      "[CV]  max_depth=50, min_samples_leaf=2, min_samples_split=10, n_estimators=200, total=  44.8s\n",
      "[CV] max_depth=50, min_samples_leaf=5, min_samples_split=5, n_estimators=10 \n",
      "[CV]  max_depth=50, min_samples_leaf=5, min_samples_split=2, n_estimators=100, total=  21.0s\n",
      "[CV] max_depth=50, min_samples_leaf=5, min_samples_split=5, n_estimators=10 \n",
      "[CV]  max_depth=50, min_samples_leaf=2, min_samples_split=10, n_estimators=200, total=  44.1s\n",
      "[CV] max_depth=50, min_samples_leaf=5, min_samples_split=5, n_estimators=10 \n",
      "[CV]  max_depth=50, min_samples_leaf=5, min_samples_split=5, n_estimators=10, total=   2.2s\n",
      "[CV] max_depth=50, min_samples_leaf=5, min_samples_split=5, n_estimators=20 \n",
      "[CV]  max_depth=50, min_samples_leaf=5, min_samples_split=5, n_estimators=10, total=   2.2s\n",
      "[CV] max_depth=50, min_samples_leaf=5, min_samples_split=5, n_estimators=20 \n"
     ]
    },
    {
     "name": "stdout",
     "output_type": "stream",
     "text": [
      "[CV]  max_depth=50, min_samples_leaf=5, min_samples_split=5, n_estimators=10, total=   2.2s\n",
      "[CV] max_depth=50, min_samples_leaf=5, min_samples_split=5, n_estimators=20 \n",
      "[CV]  max_depth=50, min_samples_leaf=5, min_samples_split=5, n_estimators=20, total=   4.5s\n",
      "[CV] max_depth=50, min_samples_leaf=5, min_samples_split=5, n_estimators=50 \n",
      "[CV]  max_depth=50, min_samples_leaf=5, min_samples_split=5, n_estimators=20, total=   4.8s\n",
      "[CV] max_depth=50, min_samples_leaf=5, min_samples_split=5, n_estimators=50 \n",
      "[CV]  max_depth=50, min_samples_leaf=5, min_samples_split=5, n_estimators=20, total=   4.7s\n",
      "[CV] max_depth=50, min_samples_leaf=5, min_samples_split=5, n_estimators=50 \n",
      "[CV]  max_depth=50, min_samples_leaf=5, min_samples_split=2, n_estimators=100, total=  21.3s\n",
      "[CV] max_depth=50, min_samples_leaf=5, min_samples_split=5, n_estimators=100 \n",
      "[CV]  max_depth=50, min_samples_leaf=2, min_samples_split=10, n_estimators=200, total=  44.5s\n",
      "[CV] max_depth=50, min_samples_leaf=5, min_samples_split=5, n_estimators=100 \n",
      "[CV]  max_depth=50, min_samples_leaf=5, min_samples_split=5, n_estimators=50, total=  10.9s\n",
      "[CV] max_depth=50, min_samples_leaf=5, min_samples_split=5, n_estimators=100 \n",
      "[CV]  max_depth=50, min_samples_leaf=5, min_samples_split=5, n_estimators=50, total=  10.9s\n",
      "[CV] max_depth=50, min_samples_leaf=5, min_samples_split=5, n_estimators=200 \n",
      "[CV]  max_depth=50, min_samples_leaf=5, min_samples_split=5, n_estimators=50, total=  10.8s\n",
      "[CV] max_depth=50, min_samples_leaf=5, min_samples_split=5, n_estimators=200 \n",
      "[CV]  max_depth=50, min_samples_leaf=5, min_samples_split=2, n_estimators=200, total=  42.3s\n",
      "[CV] max_depth=50, min_samples_leaf=5, min_samples_split=5, n_estimators=200 \n",
      "[CV]  max_depth=50, min_samples_leaf=5, min_samples_split=5, n_estimators=100, total=  21.8s\n",
      "[CV] max_depth=50, min_samples_leaf=5, min_samples_split=10, n_estimators=10 \n",
      "[CV]  max_depth=50, min_samples_leaf=5, min_samples_split=2, n_estimators=200, total=  43.1s\n",
      "[CV] max_depth=50, min_samples_leaf=5, min_samples_split=10, n_estimators=10 \n",
      "[CV]  max_depth=50, min_samples_leaf=5, min_samples_split=10, n_estimators=10, total=   2.2s\n",
      "[CV] max_depth=50, min_samples_leaf=5, min_samples_split=10, n_estimators=10 \n",
      "[CV]  max_depth=50, min_samples_leaf=5, min_samples_split=10, n_estimators=10, total=   2.2s\n",
      "[CV] max_depth=50, min_samples_leaf=5, min_samples_split=10, n_estimators=20 \n",
      "[CV]  max_depth=50, min_samples_leaf=5, min_samples_split=5, n_estimators=100, total=  21.0s\n",
      "[CV] max_depth=50, min_samples_leaf=5, min_samples_split=10, n_estimators=20 \n",
      "[CV]  max_depth=50, min_samples_leaf=5, min_samples_split=10, n_estimators=10, total=   2.2s\n",
      "[CV] max_depth=50, min_samples_leaf=5, min_samples_split=10, n_estimators=20 \n",
      "[CV]  max_depth=50, min_samples_leaf=5, min_samples_split=10, n_estimators=20, total=   4.4s\n",
      "[CV] max_depth=50, min_samples_leaf=5, min_samples_split=10, n_estimators=50 \n",
      "[CV]  max_depth=50, min_samples_leaf=5, min_samples_split=5, n_estimators=100, total=  21.2s\n",
      "[CV] max_depth=50, min_samples_leaf=5, min_samples_split=10, n_estimators=50 \n",
      "[CV]  max_depth=50, min_samples_leaf=5, min_samples_split=10, n_estimators=20, total=   4.5s\n",
      "[CV] max_depth=50, min_samples_leaf=5, min_samples_split=10, n_estimators=50 \n",
      "[CV]  max_depth=50, min_samples_leaf=5, min_samples_split=10, n_estimators=20, total=   4.3s\n",
      "[CV] max_depth=50, min_samples_leaf=5, min_samples_split=10, n_estimators=100 \n",
      "[CV]  max_depth=50, min_samples_leaf=5, min_samples_split=2, n_estimators=200, total=  43.5s\n",
      "[CV] max_depth=50, min_samples_leaf=5, min_samples_split=10, n_estimators=100 \n",
      "[CV]  max_depth=50, min_samples_leaf=5, min_samples_split=10, n_estimators=50, total=  11.0s\n",
      "[CV] max_depth=50, min_samples_leaf=5, min_samples_split=10, n_estimators=100 \n",
      "[CV]  max_depth=50, min_samples_leaf=5, min_samples_split=10, n_estimators=50, total=  11.0s\n",
      "[CV] max_depth=50, min_samples_leaf=5, min_samples_split=10, n_estimators=200 \n",
      "[CV]  max_depth=50, min_samples_leaf=5, min_samples_split=10, n_estimators=50, total=  11.1s\n",
      "[CV] max_depth=50, min_samples_leaf=5, min_samples_split=10, n_estimators=200 \n",
      "[CV]  max_depth=50, min_samples_leaf=5, min_samples_split=10, n_estimators=100, total=  21.4s\n",
      "[CV] max_depth=50, min_samples_leaf=5, min_samples_split=10, n_estimators=200 \n",
      "[CV]  max_depth=50, min_samples_leaf=5, min_samples_split=5, n_estimators=200, total=  42.0s\n",
      "[CV] max_depth=50, min_samples_leaf=10, min_samples_split=2, n_estimators=10 \n",
      "[CV]  max_depth=50, min_samples_leaf=5, min_samples_split=5, n_estimators=200, total=  43.8s\n",
      "[CV] max_depth=50, min_samples_leaf=10, min_samples_split=2, n_estimators=10 \n",
      "[CV]  max_depth=50, min_samples_leaf=10, min_samples_split=2, n_estimators=10, total=   2.1s\n",
      "[CV] max_depth=50, min_samples_leaf=10, min_samples_split=2, n_estimators=10 \n",
      "[CV]  max_depth=50, min_samples_leaf=5, min_samples_split=10, n_estimators=100, total=  21.1s\n",
      "[CV] max_depth=50, min_samples_leaf=10, min_samples_split=2, n_estimators=20 \n",
      "[CV]  max_depth=50, min_samples_leaf=10, min_samples_split=2, n_estimators=10, total=   2.1s\n",
      "[CV] max_depth=50, min_samples_leaf=10, min_samples_split=2, n_estimators=20 \n",
      "[CV]  max_depth=50, min_samples_leaf=10, min_samples_split=2, n_estimators=10, total=   2.1s\n",
      "[CV] max_depth=50, min_samples_leaf=10, min_samples_split=2, n_estimators=20 \n",
      "[CV]  max_depth=50, min_samples_leaf=10, min_samples_split=2, n_estimators=20, total=   4.3s\n",
      "[CV] max_depth=50, min_samples_leaf=10, min_samples_split=2, n_estimators=50 \n",
      "[CV]  max_depth=50, min_samples_leaf=10, min_samples_split=2, n_estimators=20, total=   4.5s\n",
      "[CV] max_depth=50, min_samples_leaf=10, min_samples_split=2, n_estimators=50 \n",
      "[CV]  max_depth=50, min_samples_leaf=5, min_samples_split=10, n_estimators=100, total=  21.1s\n",
      "[CV] max_depth=50, min_samples_leaf=10, min_samples_split=2, n_estimators=50 \n",
      "[CV]  max_depth=50, min_samples_leaf=10, min_samples_split=2, n_estimators=20, total=   4.3s\n",
      "[CV] max_depth=50, min_samples_leaf=10, min_samples_split=2, n_estimators=100 \n",
      "[CV]  max_depth=50, min_samples_leaf=5, min_samples_split=5, n_estimators=200, total=  42.8s\n",
      "[CV] max_depth=50, min_samples_leaf=10, min_samples_split=2, n_estimators=100 \n",
      "[CV]  max_depth=50, min_samples_leaf=10, min_samples_split=2, n_estimators=50, total=  10.4s\n",
      "[CV] max_depth=50, min_samples_leaf=10, min_samples_split=2, n_estimators=100 \n",
      "[CV]  max_depth=50, min_samples_leaf=10, min_samples_split=2, n_estimators=50, total=  10.2s\n",
      "[CV] max_depth=50, min_samples_leaf=10, min_samples_split=2, n_estimators=200 \n",
      "[CV]  max_depth=50, min_samples_leaf=10, min_samples_split=2, n_estimators=50, total=  10.2s\n",
      "[CV] max_depth=50, min_samples_leaf=10, min_samples_split=2, n_estimators=200 \n",
      "[CV]  max_depth=50, min_samples_leaf=10, min_samples_split=2, n_estimators=100, total=  21.0s\n",
      "[CV] max_depth=50, min_samples_leaf=10, min_samples_split=2, n_estimators=200 \n",
      "[CV]  max_depth=50, min_samples_leaf=5, min_samples_split=10, n_estimators=200, total=  42.6s\n",
      "[CV] max_depth=50, min_samples_leaf=10, min_samples_split=5, n_estimators=10 \n",
      "[CV]  max_depth=50, min_samples_leaf=10, min_samples_split=2, n_estimators=100, total=  20.0s\n",
      "[CV] max_depth=50, min_samples_leaf=10, min_samples_split=5, n_estimators=10 \n",
      "[CV]  max_depth=50, min_samples_leaf=5, min_samples_split=10, n_estimators=200, total=  43.6s\n",
      "[CV] max_depth=50, min_samples_leaf=10, min_samples_split=5, n_estimators=10 \n",
      "[CV]  max_depth=50, min_samples_leaf=10, min_samples_split=5, n_estimators=10, total=   2.3s\n",
      "[CV] max_depth=50, min_samples_leaf=10, min_samples_split=5, n_estimators=20 \n",
      "[CV]  max_depth=50, min_samples_leaf=10, min_samples_split=5, n_estimators=10, total=   2.2s\n",
      "[CV] max_depth=50, min_samples_leaf=10, min_samples_split=5, n_estimators=20 \n",
      "[CV]  max_depth=50, min_samples_leaf=10, min_samples_split=5, n_estimators=10, total=   2.3s\n",
      "[CV] max_depth=50, min_samples_leaf=10, min_samples_split=5, n_estimators=20 \n",
      "[CV]  max_depth=50, min_samples_leaf=10, min_samples_split=5, n_estimators=20, total=   4.3s\n",
      "[CV] max_depth=50, min_samples_leaf=10, min_samples_split=5, n_estimators=50 \n",
      "[CV]  max_depth=50, min_samples_leaf=10, min_samples_split=2, n_estimators=100, total=  20.4s\n",
      "[CV] max_depth=50, min_samples_leaf=10, min_samples_split=5, n_estimators=50 \n"
     ]
    },
    {
     "name": "stdout",
     "output_type": "stream",
     "text": [
      "[CV]  max_depth=50, min_samples_leaf=10, min_samples_split=5, n_estimators=20, total=   4.2s\n",
      "[CV] max_depth=50, min_samples_leaf=10, min_samples_split=5, n_estimators=50 \n",
      "[CV]  max_depth=50, min_samples_leaf=10, min_samples_split=5, n_estimators=20, total=   4.2s\n",
      "[CV] max_depth=50, min_samples_leaf=10, min_samples_split=5, n_estimators=100 \n",
      "[CV]  max_depth=50, min_samples_leaf=5, min_samples_split=10, n_estimators=200, total=  43.3s\n",
      "[CV] max_depth=50, min_samples_leaf=10, min_samples_split=5, n_estimators=100 \n",
      "[CV]  max_depth=50, min_samples_leaf=10, min_samples_split=5, n_estimators=50, total=  10.3s\n",
      "[CV] max_depth=50, min_samples_leaf=10, min_samples_split=5, n_estimators=100 \n",
      "[CV]  max_depth=50, min_samples_leaf=10, min_samples_split=5, n_estimators=50, total=  10.2s\n",
      "[CV] max_depth=50, min_samples_leaf=10, min_samples_split=5, n_estimators=200 \n",
      "[CV]  max_depth=50, min_samples_leaf=10, min_samples_split=5, n_estimators=50, total=  10.5s\n",
      "[CV] max_depth=50, min_samples_leaf=10, min_samples_split=5, n_estimators=200 \n",
      "[CV]  max_depth=50, min_samples_leaf=10, min_samples_split=5, n_estimators=100, total=  20.6s\n",
      "[CV] max_depth=50, min_samples_leaf=10, min_samples_split=5, n_estimators=200 \n",
      "[CV]  max_depth=50, min_samples_leaf=10, min_samples_split=2, n_estimators=200, total=  40.9s\n",
      "[CV] max_depth=50, min_samples_leaf=10, min_samples_split=10, n_estimators=10 \n",
      "[CV]  max_depth=50, min_samples_leaf=10, min_samples_split=2, n_estimators=200, total=  41.4s\n",
      "[CV] max_depth=50, min_samples_leaf=10, min_samples_split=10, n_estimators=10 \n",
      "[CV]  max_depth=50, min_samples_leaf=10, min_samples_split=10, n_estimators=10, total=   2.1s\n",
      "[CV] max_depth=50, min_samples_leaf=10, min_samples_split=10, n_estimators=10 \n",
      "[CV]  max_depth=50, min_samples_leaf=10, min_samples_split=10, n_estimators=10, total=   2.0s\n",
      "[CV] max_depth=50, min_samples_leaf=10, min_samples_split=10, n_estimators=20 \n",
      "[CV]  max_depth=50, min_samples_leaf=10, min_samples_split=5, n_estimators=100, total=  20.7s\n",
      "[CV] max_depth=50, min_samples_leaf=10, min_samples_split=10, n_estimators=20 \n",
      "[CV]  max_depth=50, min_samples_leaf=10, min_samples_split=10, n_estimators=10, total=   2.1s\n",
      "[CV] max_depth=50, min_samples_leaf=10, min_samples_split=10, n_estimators=20 \n",
      "[CV]  max_depth=50, min_samples_leaf=10, min_samples_split=10, n_estimators=20, total=   4.2s\n",
      "[CV] max_depth=50, min_samples_leaf=10, min_samples_split=10, n_estimators=50 \n",
      "[CV]  max_depth=50, min_samples_leaf=10, min_samples_split=10, n_estimators=20, total=   4.1s\n",
      "[CV] max_depth=50, min_samples_leaf=10, min_samples_split=10, n_estimators=50 \n",
      "[CV]  max_depth=50, min_samples_leaf=10, min_samples_split=10, n_estimators=20, total=   4.1s\n",
      "[CV] max_depth=50, min_samples_leaf=10, min_samples_split=10, n_estimators=50 \n",
      "[CV]  max_depth=50, min_samples_leaf=10, min_samples_split=5, n_estimators=100, total=  20.4s\n",
      "[CV] max_depth=50, min_samples_leaf=10, min_samples_split=10, n_estimators=100 \n",
      "[CV]  max_depth=50, min_samples_leaf=10, min_samples_split=2, n_estimators=200, total=  41.8s\n",
      "[CV] max_depth=50, min_samples_leaf=10, min_samples_split=10, n_estimators=100 \n",
      "[CV]  max_depth=50, min_samples_leaf=10, min_samples_split=10, n_estimators=50, total=  11.1s\n",
      "[CV] max_depth=50, min_samples_leaf=10, min_samples_split=10, n_estimators=100 \n",
      "[CV]  max_depth=50, min_samples_leaf=10, min_samples_split=10, n_estimators=50, total=  10.3s\n",
      "[CV] max_depth=50, min_samples_leaf=10, min_samples_split=10, n_estimators=200 \n",
      "[CV]  max_depth=50, min_samples_leaf=10, min_samples_split=10, n_estimators=50, total=  10.2s\n",
      "[CV] max_depth=50, min_samples_leaf=10, min_samples_split=10, n_estimators=200 \n",
      "[CV]  max_depth=50, min_samples_leaf=10, min_samples_split=5, n_estimators=200, total=  40.9s\n",
      "[CV] max_depth=50, min_samples_leaf=10, min_samples_split=10, n_estimators=200 \n",
      "[CV]  max_depth=50, min_samples_leaf=10, min_samples_split=10, n_estimators=100, total=  20.8s\n",
      "[CV] max_depth=50, min_samples_leaf=50, min_samples_split=2, n_estimators=10 \n",
      "[CV]  max_depth=50, min_samples_leaf=10, min_samples_split=5, n_estimators=200, total=  41.3s\n",
      "[CV] max_depth=50, min_samples_leaf=50, min_samples_split=2, n_estimators=10 \n",
      "[CV]  max_depth=50, min_samples_leaf=50, min_samples_split=2, n_estimators=10, total=   1.8s\n",
      "[CV] max_depth=50, min_samples_leaf=50, min_samples_split=2, n_estimators=10 \n",
      "[CV]  max_depth=50, min_samples_leaf=50, min_samples_split=2, n_estimators=10, total=   1.7s\n",
      "[CV] max_depth=50, min_samples_leaf=50, min_samples_split=2, n_estimators=20 \n",
      "[CV]  max_depth=50, min_samples_leaf=10, min_samples_split=10, n_estimators=100, total=  20.3s\n",
      "[CV] max_depth=50, min_samples_leaf=50, min_samples_split=2, n_estimators=20 \n",
      "[CV]  max_depth=50, min_samples_leaf=50, min_samples_split=2, n_estimators=10, total=   1.8s\n",
      "[CV] max_depth=50, min_samples_leaf=50, min_samples_split=2, n_estimators=20 \n",
      "[CV]  max_depth=50, min_samples_leaf=50, min_samples_split=2, n_estimators=20, total=   3.6s\n",
      "[CV] max_depth=50, min_samples_leaf=50, min_samples_split=2, n_estimators=50 \n",
      "[CV]  max_depth=50, min_samples_leaf=50, min_samples_split=2, n_estimators=20, total=   3.7s\n",
      "[CV] max_depth=50, min_samples_leaf=50, min_samples_split=2, n_estimators=50 \n",
      "[CV]  max_depth=50, min_samples_leaf=50, min_samples_split=2, n_estimators=20, total=   3.9s\n",
      "[CV] max_depth=50, min_samples_leaf=50, min_samples_split=2, n_estimators=50 \n",
      "[CV]  max_depth=50, min_samples_leaf=10, min_samples_split=10, n_estimators=100, total=  20.5s\n",
      "[CV] max_depth=50, min_samples_leaf=50, min_samples_split=2, n_estimators=100 \n",
      "[CV]  max_depth=50, min_samples_leaf=10, min_samples_split=5, n_estimators=200, total=  41.0s\n",
      "[CV] max_depth=50, min_samples_leaf=50, min_samples_split=2, n_estimators=100 \n",
      "[CV]  max_depth=50, min_samples_leaf=50, min_samples_split=2, n_estimators=50, total=   8.9s\n",
      "[CV] max_depth=50, min_samples_leaf=50, min_samples_split=2, n_estimators=100 \n",
      "[CV]  max_depth=50, min_samples_leaf=50, min_samples_split=2, n_estimators=50, total=   9.0s\n",
      "[CV] max_depth=50, min_samples_leaf=50, min_samples_split=2, n_estimators=200 \n",
      "[CV]  max_depth=50, min_samples_leaf=50, min_samples_split=2, n_estimators=50, total=   8.8s\n",
      "[CV] max_depth=50, min_samples_leaf=50, min_samples_split=2, n_estimators=200 \n",
      "[CV]  max_depth=50, min_samples_leaf=50, min_samples_split=2, n_estimators=100, total=  17.8s\n",
      "[CV] max_depth=50, min_samples_leaf=50, min_samples_split=2, n_estimators=200 \n",
      "[CV]  max_depth=50, min_samples_leaf=50, min_samples_split=2, n_estimators=100, total=  17.4s\n",
      "[CV] max_depth=50, min_samples_leaf=50, min_samples_split=5, n_estimators=10 \n",
      "[CV]  max_depth=50, min_samples_leaf=10, min_samples_split=10, n_estimators=200, total=  41.0s\n",
      "[CV] max_depth=50, min_samples_leaf=50, min_samples_split=5, n_estimators=10 \n",
      "[CV]  max_depth=50, min_samples_leaf=50, min_samples_split=5, n_estimators=10, total=   2.0s\n",
      "[CV] max_depth=50, min_samples_leaf=50, min_samples_split=5, n_estimators=10 \n",
      "[CV]  max_depth=50, min_samples_leaf=10, min_samples_split=10, n_estimators=200, total=  42.4s\n",
      "[CV] max_depth=50, min_samples_leaf=50, min_samples_split=5, n_estimators=20 \n",
      "[CV]  max_depth=50, min_samples_leaf=50, min_samples_split=5, n_estimators=10, total=   1.9s\n",
      "[CV] max_depth=50, min_samples_leaf=50, min_samples_split=5, n_estimators=20 \n",
      "[CV]  max_depth=50, min_samples_leaf=50, min_samples_split=5, n_estimators=10, total=   2.0s\n",
      "[CV] max_depth=50, min_samples_leaf=50, min_samples_split=5, n_estimators=20 \n",
      "[CV]  max_depth=50, min_samples_leaf=50, min_samples_split=2, n_estimators=100, total=  18.0s\n",
      "[CV] max_depth=50, min_samples_leaf=50, min_samples_split=5, n_estimators=50 \n",
      "[CV]  max_depth=50, min_samples_leaf=50, min_samples_split=5, n_estimators=20, total=   3.8s\n",
      "[CV] max_depth=50, min_samples_leaf=50, min_samples_split=5, n_estimators=50 \n",
      "[CV]  max_depth=50, min_samples_leaf=50, min_samples_split=5, n_estimators=20, total=   3.8s\n",
      "[CV] max_depth=50, min_samples_leaf=50, min_samples_split=5, n_estimators=50 \n",
      "[CV]  max_depth=50, min_samples_leaf=50, min_samples_split=5, n_estimators=20, total=   3.7s\n",
      "[CV] max_depth=50, min_samples_leaf=50, min_samples_split=5, n_estimators=100 \n",
      "[CV]  max_depth=50, min_samples_leaf=10, min_samples_split=10, n_estimators=200, total=  41.3s\n"
     ]
    },
    {
     "name": "stdout",
     "output_type": "stream",
     "text": [
      "[CV] max_depth=50, min_samples_leaf=50, min_samples_split=5, n_estimators=100 \n",
      "[CV]  max_depth=50, min_samples_leaf=50, min_samples_split=5, n_estimators=50, total=   9.0s\n",
      "[CV] max_depth=50, min_samples_leaf=50, min_samples_split=5, n_estimators=100 \n",
      "[CV]  max_depth=50, min_samples_leaf=50, min_samples_split=5, n_estimators=50, total=   9.0s\n",
      "[CV] max_depth=50, min_samples_leaf=50, min_samples_split=5, n_estimators=200 \n",
      "[CV]  max_depth=50, min_samples_leaf=50, min_samples_split=5, n_estimators=50, total=   8.9s\n",
      "[CV] max_depth=50, min_samples_leaf=50, min_samples_split=5, n_estimators=200 \n",
      "[CV]  max_depth=50, min_samples_leaf=50, min_samples_split=2, n_estimators=200, total=  36.0s\n",
      "[CV] max_depth=50, min_samples_leaf=50, min_samples_split=5, n_estimators=200 \n",
      "[CV]  max_depth=50, min_samples_leaf=50, min_samples_split=2, n_estimators=200, total=  35.4s\n",
      "[CV] max_depth=50, min_samples_leaf=50, min_samples_split=10, n_estimators=10 \n",
      "[CV]  max_depth=50, min_samples_leaf=50, min_samples_split=5, n_estimators=100, total=  17.6s\n",
      "[CV] max_depth=50, min_samples_leaf=50, min_samples_split=10, n_estimators=10 \n",
      "[CV]  max_depth=50, min_samples_leaf=50, min_samples_split=10, n_estimators=10, total=   1.8s\n",
      "[CV] max_depth=50, min_samples_leaf=50, min_samples_split=10, n_estimators=10 \n",
      "[CV]  max_depth=50, min_samples_leaf=50, min_samples_split=10, n_estimators=10, total=   1.8s\n",
      "[CV] max_depth=50, min_samples_leaf=50, min_samples_split=10, n_estimators=20 \n",
      "[CV]  max_depth=50, min_samples_leaf=50, min_samples_split=10, n_estimators=10, total=   1.8s\n",
      "[CV] max_depth=50, min_samples_leaf=50, min_samples_split=10, n_estimators=20 \n",
      "[CV]  max_depth=50, min_samples_leaf=50, min_samples_split=10, n_estimators=20, total=   3.5s\n",
      "[CV] max_depth=50, min_samples_leaf=50, min_samples_split=10, n_estimators=20 \n",
      "[CV]  max_depth=50, min_samples_leaf=50, min_samples_split=5, n_estimators=100, total=  17.5s\n",
      "[CV] max_depth=50, min_samples_leaf=50, min_samples_split=10, n_estimators=50 \n",
      "[CV]  max_depth=50, min_samples_leaf=50, min_samples_split=5, n_estimators=100, total=  17.5s\n",
      "[CV] max_depth=50, min_samples_leaf=50, min_samples_split=10, n_estimators=50 \n",
      "[CV]  max_depth=50, min_samples_leaf=50, min_samples_split=10, n_estimators=20, total=   3.7s\n",
      "[CV] max_depth=50, min_samples_leaf=50, min_samples_split=10, n_estimators=50 \n",
      "[CV]  max_depth=50, min_samples_leaf=50, min_samples_split=2, n_estimators=200, total=  36.2s\n",
      "[CV] max_depth=50, min_samples_leaf=50, min_samples_split=10, n_estimators=100 \n",
      "[CV]  max_depth=50, min_samples_leaf=50, min_samples_split=10, n_estimators=20, total=   3.7s\n",
      "[CV] max_depth=50, min_samples_leaf=50, min_samples_split=10, n_estimators=100 \n",
      "[CV]  max_depth=50, min_samples_leaf=50, min_samples_split=10, n_estimators=50, total=   9.2s\n",
      "[CV] max_depth=50, min_samples_leaf=50, min_samples_split=10, n_estimators=100 \n",
      "[CV]  max_depth=50, min_samples_leaf=50, min_samples_split=10, n_estimators=50, total=   8.7s\n",
      "[CV] max_depth=50, min_samples_leaf=50, min_samples_split=10, n_estimators=200 \n",
      "[CV]  max_depth=50, min_samples_leaf=50, min_samples_split=10, n_estimators=50, total=   8.6s\n",
      "[CV] max_depth=50, min_samples_leaf=50, min_samples_split=10, n_estimators=200 \n",
      "[CV]  max_depth=50, min_samples_leaf=50, min_samples_split=5, n_estimators=200, total=  35.6s\n",
      "[CV] max_depth=50, min_samples_leaf=50, min_samples_split=10, n_estimators=200 \n",
      "[CV]  max_depth=50, min_samples_leaf=50, min_samples_split=5, n_estimators=200, total=  35.2s\n",
      "[CV] max_depth=None, min_samples_leaf=1, min_samples_split=2, n_estimators=10 \n",
      "[CV]  max_depth=50, min_samples_leaf=50, min_samples_split=10, n_estimators=100, total=  17.3s\n",
      "[CV] max_depth=None, min_samples_leaf=1, min_samples_split=2, n_estimators=10 \n",
      "[CV]  max_depth=50, min_samples_leaf=50, min_samples_split=10, n_estimators=100, total=  17.2s\n",
      "[CV] max_depth=None, min_samples_leaf=1, min_samples_split=2, n_estimators=10 \n",
      "[CV]  max_depth=None, min_samples_leaf=1, min_samples_split=2, n_estimators=10, total=   2.3s\n",
      "[CV] max_depth=None, min_samples_leaf=1, min_samples_split=2, n_estimators=20 \n",
      "[CV]  max_depth=None, min_samples_leaf=1, min_samples_split=2, n_estimators=10, total=   2.2s\n",
      "[CV] max_depth=None, min_samples_leaf=1, min_samples_split=2, n_estimators=20 \n",
      "[CV]  max_depth=None, min_samples_leaf=1, min_samples_split=2, n_estimators=10, total=   2.3s\n",
      "[CV] max_depth=None, min_samples_leaf=1, min_samples_split=2, n_estimators=20 \n",
      "[CV]  max_depth=50, min_samples_leaf=50, min_samples_split=10, n_estimators=100, total=  17.3s\n",
      "[CV] max_depth=None, min_samples_leaf=1, min_samples_split=2, n_estimators=50 \n",
      "[CV]  max_depth=50, min_samples_leaf=50, min_samples_split=5, n_estimators=200, total=  35.8s\n",
      "[CV] max_depth=None, min_samples_leaf=1, min_samples_split=2, n_estimators=50 \n",
      "[CV]  max_depth=None, min_samples_leaf=1, min_samples_split=2, n_estimators=20, total=   5.0s\n",
      "[CV] max_depth=None, min_samples_leaf=1, min_samples_split=2, n_estimators=50 \n",
      "[CV]  max_depth=None, min_samples_leaf=1, min_samples_split=2, n_estimators=20, total=   5.2s\n",
      "[CV] max_depth=None, min_samples_leaf=1, min_samples_split=2, n_estimators=100 \n",
      "[CV]  max_depth=None, min_samples_leaf=1, min_samples_split=2, n_estimators=20, total=   5.2s\n",
      "[CV] max_depth=None, min_samples_leaf=1, min_samples_split=2, n_estimators=100 \n",
      "[CV]  max_depth=None, min_samples_leaf=1, min_samples_split=2, n_estimators=50, total=  12.1s\n",
      "[CV] max_depth=None, min_samples_leaf=1, min_samples_split=2, n_estimators=100 \n",
      "[CV]  max_depth=None, min_samples_leaf=1, min_samples_split=2, n_estimators=50, total=  11.9s\n",
      "[CV]  max_depth=None, min_samples_leaf=1, min_samples_split=2, n_estimators=50, total=  11.9s\n",
      "[CV] max_depth=None, min_samples_leaf=1, min_samples_split=2, n_estimators=200 \n",
      "[CV] max_depth=None, min_samples_leaf=1, min_samples_split=2, n_estimators=200 \n",
      "[CV]  max_depth=50, min_samples_leaf=50, min_samples_split=10, n_estimators=200, total=  36.0s\n",
      "[CV] max_depth=None, min_samples_leaf=1, min_samples_split=2, n_estimators=200 \n",
      "[CV]  max_depth=50, min_samples_leaf=50, min_samples_split=10, n_estimators=200, total=  36.5s\n",
      "[CV] max_depth=None, min_samples_leaf=1, min_samples_split=5, n_estimators=10 \n",
      "[CV]  max_depth=None, min_samples_leaf=1, min_samples_split=5, n_estimators=10, total=   2.4s\n",
      "[CV] max_depth=None, min_samples_leaf=1, min_samples_split=5, n_estimators=10 \n",
      "[CV]  max_depth=None, min_samples_leaf=1, min_samples_split=5, n_estimators=10, total=   2.3s\n",
      "[CV] max_depth=None, min_samples_leaf=1, min_samples_split=5, n_estimators=10 \n",
      "[CV]  max_depth=None, min_samples_leaf=1, min_samples_split=2, n_estimators=100, total=  22.9s\n",
      "[CV] max_depth=None, min_samples_leaf=1, min_samples_split=5, n_estimators=20 \n",
      "[CV]  max_depth=None, min_samples_leaf=1, min_samples_split=2, n_estimators=100, total=  24.3s\n",
      "[CV] max_depth=None, min_samples_leaf=1, min_samples_split=5, n_estimators=20 \n",
      "[CV]  max_depth=None, min_samples_leaf=1, min_samples_split=5, n_estimators=10, total=   2.3s\n",
      "[CV] max_depth=None, min_samples_leaf=1, min_samples_split=5, n_estimators=20 \n",
      "[CV]  max_depth=None, min_samples_leaf=1, min_samples_split=5, n_estimators=20, total=   4.7s\n",
      "[CV] max_depth=None, min_samples_leaf=1, min_samples_split=5, n_estimators=50 \n",
      "[CV]  max_depth=50, min_samples_leaf=50, min_samples_split=10, n_estimators=200, total=  36.5s\n",
      "[CV] max_depth=None, min_samples_leaf=1, min_samples_split=5, n_estimators=50 \n",
      "[CV]  max_depth=None, min_samples_leaf=1, min_samples_split=5, n_estimators=20, total=   4.8s\n",
      "[CV] max_depth=None, min_samples_leaf=1, min_samples_split=5, n_estimators=50 \n",
      "[CV]  max_depth=None, min_samples_leaf=1, min_samples_split=5, n_estimators=20, total=   4.6s\n",
      "[CV] max_depth=None, min_samples_leaf=1, min_samples_split=5, n_estimators=100 \n",
      "[CV]  max_depth=None, min_samples_leaf=1, min_samples_split=2, n_estimators=100, total=  22.3s\n",
      "[CV] max_depth=None, min_samples_leaf=1, min_samples_split=5, n_estimators=100 \n",
      "[CV]  max_depth=None, min_samples_leaf=1, min_samples_split=5, n_estimators=50, total=  11.1s\n",
      "[CV] max_depth=None, min_samples_leaf=1, min_samples_split=5, n_estimators=100 \n",
      "[CV]  max_depth=None, min_samples_leaf=1, min_samples_split=5, n_estimators=50, total=  10.8s\n",
      "[CV] max_depth=None, min_samples_leaf=1, min_samples_split=5, n_estimators=200 \n"
     ]
    },
    {
     "name": "stdout",
     "output_type": "stream",
     "text": [
      "[CV]  max_depth=None, min_samples_leaf=1, min_samples_split=5, n_estimators=50, total=  11.1s\n",
      "[CV] max_depth=None, min_samples_leaf=1, min_samples_split=5, n_estimators=200 \n",
      "[CV]  max_depth=None, min_samples_leaf=1, min_samples_split=5, n_estimators=100, total=  22.2s\n",
      "[CV] max_depth=None, min_samples_leaf=1, min_samples_split=5, n_estimators=200 \n",
      "[CV]  max_depth=None, min_samples_leaf=1, min_samples_split=5, n_estimators=100, total=  21.7s\n",
      "[CV] max_depth=None, min_samples_leaf=1, min_samples_split=10, n_estimators=10 \n",
      "[CV]  max_depth=None, min_samples_leaf=1, min_samples_split=2, n_estimators=200, total=  43.5s\n",
      "[CV] max_depth=None, min_samples_leaf=1, min_samples_split=10, n_estimators=10 \n",
      "[CV]  max_depth=None, min_samples_leaf=1, min_samples_split=2, n_estimators=200, total=  45.2s\n",
      "[CV] max_depth=None, min_samples_leaf=1, min_samples_split=10, n_estimators=10 \n",
      "[CV]  max_depth=None, min_samples_leaf=1, min_samples_split=10, n_estimators=10, total=   2.4s\n",
      "[CV] max_depth=None, min_samples_leaf=1, min_samples_split=10, n_estimators=20 \n",
      "[CV]  max_depth=None, min_samples_leaf=1, min_samples_split=10, n_estimators=10, total=   2.3s\n",
      "[CV] max_depth=None, min_samples_leaf=1, min_samples_split=10, n_estimators=20 \n",
      "[CV]  max_depth=None, min_samples_leaf=1, min_samples_split=10, n_estimators=10, total=   2.4s\n",
      "[CV] max_depth=None, min_samples_leaf=1, min_samples_split=10, n_estimators=20 \n",
      "[CV]  max_depth=None, min_samples_leaf=1, min_samples_split=5, n_estimators=100, total=  22.2s\n",
      "[CV] max_depth=None, min_samples_leaf=1, min_samples_split=10, n_estimators=50 \n",
      "[CV]  max_depth=None, min_samples_leaf=1, min_samples_split=10, n_estimators=20, total=   4.6s\n",
      "[CV] max_depth=None, min_samples_leaf=1, min_samples_split=10, n_estimators=50 \n",
      "[CV]  max_depth=None, min_samples_leaf=1, min_samples_split=2, n_estimators=200, total=  44.6s\n",
      "[CV] max_depth=None, min_samples_leaf=1, min_samples_split=10, n_estimators=50 \n",
      "[CV]  max_depth=None, min_samples_leaf=1, min_samples_split=10, n_estimators=20, total=   4.6s\n",
      "[CV] max_depth=None, min_samples_leaf=1, min_samples_split=10, n_estimators=100 \n",
      "[CV]  max_depth=None, min_samples_leaf=1, min_samples_split=10, n_estimators=20, total=   4.9s\n",
      "[CV] max_depth=None, min_samples_leaf=1, min_samples_split=10, n_estimators=100 \n",
      "[CV]  max_depth=None, min_samples_leaf=1, min_samples_split=10, n_estimators=50, total=  11.4s\n",
      "[CV] max_depth=None, min_samples_leaf=1, min_samples_split=10, n_estimators=100 \n",
      "[CV]  max_depth=None, min_samples_leaf=1, min_samples_split=10, n_estimators=50, total=  10.9s\n",
      "[CV] max_depth=None, min_samples_leaf=1, min_samples_split=10, n_estimators=200 \n",
      "[CV]  max_depth=None, min_samples_leaf=1, min_samples_split=10, n_estimators=50, total=  11.1s\n",
      "[CV] max_depth=None, min_samples_leaf=1, min_samples_split=10, n_estimators=200 \n",
      "[CV]  max_depth=None, min_samples_leaf=1, min_samples_split=5, n_estimators=200, total=  43.1s\n",
      "[CV] max_depth=None, min_samples_leaf=1, min_samples_split=10, n_estimators=200 \n",
      "[CV]  max_depth=None, min_samples_leaf=1, min_samples_split=5, n_estimators=200, total=  44.7s\n",
      "[CV] max_depth=None, min_samples_leaf=2, min_samples_split=2, n_estimators=10 \n",
      "[CV]  max_depth=None, min_samples_leaf=1, min_samples_split=10, n_estimators=100, total=  22.1s\n",
      "[CV] max_depth=None, min_samples_leaf=2, min_samples_split=2, n_estimators=10 \n",
      "[CV]  max_depth=None, min_samples_leaf=1, min_samples_split=10, n_estimators=100, total=  21.5s\n",
      "[CV] max_depth=None, min_samples_leaf=2, min_samples_split=2, n_estimators=10 \n",
      "[CV]  max_depth=None, min_samples_leaf=2, min_samples_split=2, n_estimators=10, total=   2.1s\n",
      "[CV]  max_depth=None, min_samples_leaf=2, min_samples_split=2, n_estimators=10, total=   2.2s\n",
      "[CV] max_depth=None, min_samples_leaf=2, min_samples_split=2, n_estimators=20 \n",
      "[CV] max_depth=None, min_samples_leaf=2, min_samples_split=2, n_estimators=20 \n",
      "[CV]  max_depth=None, min_samples_leaf=2, min_samples_split=2, n_estimators=10, total=   2.3s\n",
      "[CV] max_depth=None, min_samples_leaf=2, min_samples_split=2, n_estimators=20 \n",
      "[CV]  max_depth=None, min_samples_leaf=2, min_samples_split=2, n_estimators=20, total=   4.2s\n",
      "[CV] max_depth=None, min_samples_leaf=2, min_samples_split=2, n_estimators=50 \n",
      "[CV]  max_depth=None, min_samples_leaf=2, min_samples_split=2, n_estimators=20, total=   4.4s\n",
      "[CV] max_depth=None, min_samples_leaf=2, min_samples_split=2, n_estimators=50 \n",
      "[CV]  max_depth=None, min_samples_leaf=2, min_samples_split=2, n_estimators=20, total=   4.5s\n",
      "[CV] max_depth=None, min_samples_leaf=2, min_samples_split=2, n_estimators=50 \n",
      "[CV]  max_depth=None, min_samples_leaf=1, min_samples_split=10, n_estimators=100, total=  22.3s\n",
      "[CV] max_depth=None, min_samples_leaf=2, min_samples_split=2, n_estimators=100 \n",
      "[CV]  max_depth=None, min_samples_leaf=1, min_samples_split=5, n_estimators=200, total=  44.8s\n",
      "[CV] max_depth=None, min_samples_leaf=2, min_samples_split=2, n_estimators=100 \n",
      "[CV]  max_depth=None, min_samples_leaf=2, min_samples_split=2, n_estimators=50, total=  10.3s\n",
      "[CV] max_depth=None, min_samples_leaf=2, min_samples_split=2, n_estimators=100 \n",
      "[CV]  max_depth=None, min_samples_leaf=2, min_samples_split=2, n_estimators=50, total=  10.9s\n",
      "[CV] max_depth=None, min_samples_leaf=2, min_samples_split=2, n_estimators=200 \n",
      "[CV]  max_depth=None, min_samples_leaf=2, min_samples_split=2, n_estimators=50, total=  11.0s\n",
      "[CV] max_depth=None, min_samples_leaf=2, min_samples_split=2, n_estimators=200 \n",
      "[CV]  max_depth=None, min_samples_leaf=2, min_samples_split=2, n_estimators=100, total=  21.7s\n",
      "[CV] max_depth=None, min_samples_leaf=2, min_samples_split=2, n_estimators=200 \n",
      "[CV]  max_depth=None, min_samples_leaf=1, min_samples_split=10, n_estimators=200, total=  43.7s\n",
      "[CV] max_depth=None, min_samples_leaf=2, min_samples_split=5, n_estimators=10 \n",
      "[CV]  max_depth=None, min_samples_leaf=1, min_samples_split=10, n_estimators=200, total=  44.6s\n",
      "[CV] max_depth=None, min_samples_leaf=2, min_samples_split=5, n_estimators=10 \n",
      "[CV]  max_depth=None, min_samples_leaf=2, min_samples_split=2, n_estimators=100, total=  21.1s\n",
      "[CV] max_depth=None, min_samples_leaf=2, min_samples_split=5, n_estimators=10 \n",
      "[CV]  max_depth=None, min_samples_leaf=2, min_samples_split=5, n_estimators=10, total=   2.2s\n",
      "[CV] max_depth=None, min_samples_leaf=2, min_samples_split=5, n_estimators=20 \n",
      "[CV]  max_depth=None, min_samples_leaf=2, min_samples_split=5, n_estimators=10, total=   2.1s\n",
      "[CV] max_depth=None, min_samples_leaf=2, min_samples_split=5, n_estimators=20 \n",
      "[CV]  max_depth=None, min_samples_leaf=2, min_samples_split=5, n_estimators=10, total=   2.3s\n",
      "[CV] max_depth=None, min_samples_leaf=2, min_samples_split=5, n_estimators=20 \n",
      "[CV]  max_depth=None, min_samples_leaf=2, min_samples_split=2, n_estimators=100, total=  22.1s\n",
      "[CV] max_depth=None, min_samples_leaf=2, min_samples_split=5, n_estimators=50 \n",
      "[CV]  max_depth=None, min_samples_leaf=2, min_samples_split=5, n_estimators=20, total=   4.5s\n",
      "[CV] max_depth=None, min_samples_leaf=2, min_samples_split=5, n_estimators=50 \n",
      "[CV]  max_depth=None, min_samples_leaf=2, min_samples_split=5, n_estimators=20, total=   4.5s\n",
      "[CV] max_depth=None, min_samples_leaf=2, min_samples_split=5, n_estimators=50 \n",
      "[CV]  max_depth=None, min_samples_leaf=2, min_samples_split=5, n_estimators=20, total=   4.4s\n",
      "[CV] max_depth=None, min_samples_leaf=2, min_samples_split=5, n_estimators=100 \n",
      "[CV]  max_depth=None, min_samples_leaf=1, min_samples_split=10, n_estimators=200, total=  44.9s\n",
      "[CV] max_depth=None, min_samples_leaf=2, min_samples_split=5, n_estimators=100 \n",
      "[CV]  max_depth=None, min_samples_leaf=2, min_samples_split=5, n_estimators=50, total=  10.9s\n",
      "[CV] max_depth=None, min_samples_leaf=2, min_samples_split=5, n_estimators=100 \n",
      "[CV]  max_depth=None, min_samples_leaf=2, min_samples_split=5, n_estimators=50, total=  11.3s\n",
      "[CV] max_depth=None, min_samples_leaf=2, min_samples_split=5, n_estimators=200 \n",
      "[CV]  max_depth=None, min_samples_leaf=2, min_samples_split=5, n_estimators=50, total=  11.2s\n",
      "[CV] max_depth=None, min_samples_leaf=2, min_samples_split=5, n_estimators=200 \n",
      "[CV]  max_depth=None, min_samples_leaf=2, min_samples_split=2, n_estimators=200, total=  42.2s\n",
      "[CV] max_depth=None, min_samples_leaf=2, min_samples_split=5, n_estimators=200 \n"
     ]
    },
    {
     "name": "stdout",
     "output_type": "stream",
     "text": [
      "[CV]  max_depth=None, min_samples_leaf=2, min_samples_split=2, n_estimators=200, total=  44.4s\n",
      "[CV]  max_depth=None, min_samples_leaf=2, min_samples_split=5, n_estimators=100, total=  22.0s\n",
      "[CV] max_depth=None, min_samples_leaf=2, min_samples_split=10, n_estimators=10 \n",
      "[CV] max_depth=None, min_samples_leaf=2, min_samples_split=10, n_estimators=10 \n",
      "[CV]  max_depth=None, min_samples_leaf=2, min_samples_split=10, n_estimators=10, total=   2.1s\n",
      "[CV] max_depth=None, min_samples_leaf=2, min_samples_split=10, n_estimators=10 \n",
      "[CV]  max_depth=None, min_samples_leaf=2, min_samples_split=10, n_estimators=10, total=   2.1s\n",
      "[CV] max_depth=None, min_samples_leaf=2, min_samples_split=10, n_estimators=20 \n",
      "[CV]  max_depth=None, min_samples_leaf=2, min_samples_split=5, n_estimators=100, total=  21.5s\n",
      "[CV] max_depth=None, min_samples_leaf=2, min_samples_split=10, n_estimators=20 \n",
      "[CV]  max_depth=None, min_samples_leaf=2, min_samples_split=10, n_estimators=10, total=   2.5s\n",
      "[CV] max_depth=None, min_samples_leaf=2, min_samples_split=10, n_estimators=20 \n",
      "[CV]  max_depth=None, min_samples_leaf=2, min_samples_split=10, n_estimators=20, total=   4.5s\n",
      "[CV] max_depth=None, min_samples_leaf=2, min_samples_split=10, n_estimators=50 \n",
      "[CV]  max_depth=None, min_samples_leaf=2, min_samples_split=10, n_estimators=20, total=   4.5s\n",
      "[CV] max_depth=None, min_samples_leaf=2, min_samples_split=10, n_estimators=50 \n",
      "[CV]  max_depth=None, min_samples_leaf=2, min_samples_split=10, n_estimators=20, total=   4.7s\n",
      "[CV] max_depth=None, min_samples_leaf=2, min_samples_split=10, n_estimators=50 \n",
      "[CV]  max_depth=None, min_samples_leaf=2, min_samples_split=5, n_estimators=100, total=  22.3s\n",
      "[CV] max_depth=None, min_samples_leaf=2, min_samples_split=10, n_estimators=100 \n",
      "[CV]  max_depth=None, min_samples_leaf=2, min_samples_split=2, n_estimators=200, total=  44.4s\n",
      "[CV] max_depth=None, min_samples_leaf=2, min_samples_split=10, n_estimators=100 \n",
      "[CV]  max_depth=None, min_samples_leaf=2, min_samples_split=10, n_estimators=50, total=  11.3s\n",
      "[CV] max_depth=None, min_samples_leaf=2, min_samples_split=10, n_estimators=100 \n",
      "[CV]  max_depth=None, min_samples_leaf=2, min_samples_split=10, n_estimators=50, total=  10.9s\n",
      "[CV] max_depth=None, min_samples_leaf=2, min_samples_split=10, n_estimators=200 \n",
      "[CV]  max_depth=None, min_samples_leaf=2, min_samples_split=10, n_estimators=50, total=  11.2s\n",
      "[CV] max_depth=None, min_samples_leaf=2, min_samples_split=10, n_estimators=200 \n",
      "[CV]  max_depth=None, min_samples_leaf=2, min_samples_split=5, n_estimators=200, total=  42.7s\n",
      "[CV] max_depth=None, min_samples_leaf=2, min_samples_split=10, n_estimators=200 \n",
      "[CV]  max_depth=None, min_samples_leaf=2, min_samples_split=5, n_estimators=200, total=  44.2s\n",
      "[CV] max_depth=None, min_samples_leaf=5, min_samples_split=2, n_estimators=10 \n",
      "[CV]  max_depth=None, min_samples_leaf=2, min_samples_split=10, n_estimators=100, total=  22.6s\n",
      "[CV] max_depth=None, min_samples_leaf=5, min_samples_split=2, n_estimators=10 \n",
      "[CV]  max_depth=None, min_samples_leaf=5, min_samples_split=2, n_estimators=10, total=   2.2s\n",
      "[CV] max_depth=None, min_samples_leaf=5, min_samples_split=2, n_estimators=10 \n",
      "[CV]  max_depth=None, min_samples_leaf=5, min_samples_split=2, n_estimators=10, total=   2.3s\n",
      "[CV] max_depth=None, min_samples_leaf=5, min_samples_split=2, n_estimators=20 \n",
      "[CV]  max_depth=None, min_samples_leaf=2, min_samples_split=10, n_estimators=100, total=  22.0s\n",
      "[CV] max_depth=None, min_samples_leaf=5, min_samples_split=2, n_estimators=20 \n",
      "[CV]  max_depth=None, min_samples_leaf=5, min_samples_split=2, n_estimators=10, total=   2.2s\n",
      "[CV] max_depth=None, min_samples_leaf=5, min_samples_split=2, n_estimators=20 \n",
      "[CV]  max_depth=None, min_samples_leaf=2, min_samples_split=10, n_estimators=100, total=  22.1s\n",
      "[CV] max_depth=None, min_samples_leaf=5, min_samples_split=2, n_estimators=50 \n",
      "[CV]  max_depth=None, min_samples_leaf=5, min_samples_split=2, n_estimators=20, total=   4.7s\n",
      "[CV] max_depth=None, min_samples_leaf=5, min_samples_split=2, n_estimators=50 \n",
      "[CV]  max_depth=None, min_samples_leaf=5, min_samples_split=2, n_estimators=20, total=   4.6s\n",
      "[CV] max_depth=None, min_samples_leaf=5, min_samples_split=2, n_estimators=50 \n",
      "[CV]  max_depth=None, min_samples_leaf=5, min_samples_split=2, n_estimators=20, total=   4.5s\n",
      "[CV] max_depth=None, min_samples_leaf=5, min_samples_split=2, n_estimators=100 \n",
      "[CV]  max_depth=None, min_samples_leaf=2, min_samples_split=5, n_estimators=200, total=  45.4s\n",
      "[CV] max_depth=None, min_samples_leaf=5, min_samples_split=2, n_estimators=100 \n",
      "[CV]  max_depth=None, min_samples_leaf=5, min_samples_split=2, n_estimators=50, total=  10.9s\n",
      "[CV] max_depth=None, min_samples_leaf=5, min_samples_split=2, n_estimators=100 \n",
      "[CV]  max_depth=None, min_samples_leaf=5, min_samples_split=2, n_estimators=50, total=  11.5s\n",
      "[CV] max_depth=None, min_samples_leaf=5, min_samples_split=2, n_estimators=200 \n",
      "[CV]  max_depth=None, min_samples_leaf=5, min_samples_split=2, n_estimators=50, total=  10.7s\n",
      "[CV] max_depth=None, min_samples_leaf=5, min_samples_split=2, n_estimators=200 \n",
      "[CV]  max_depth=None, min_samples_leaf=2, min_samples_split=10, n_estimators=200, total=  44.7s\n",
      "[CV] max_depth=None, min_samples_leaf=5, min_samples_split=2, n_estimators=200 \n"
     ]
    },
    {
     "name": "stderr",
     "output_type": "stream",
     "text": [
      "[Parallel(n_jobs=-1)]: Done 997 tasks      | elapsed: 24.2min\n"
     ]
    },
    {
     "name": "stdout",
     "output_type": "stream",
     "text": [
      "[CV]  max_depth=None, min_samples_leaf=5, min_samples_split=2, n_estimators=100, total=  22.0s\n",
      "[CV] max_depth=None, min_samples_leaf=5, min_samples_split=5, n_estimators=10 \n",
      "[CV]  max_depth=None, min_samples_leaf=2, min_samples_split=10, n_estimators=200, total=  43.4s\n",
      "[CV] max_depth=None, min_samples_leaf=5, min_samples_split=5, n_estimators=10 \n",
      "[CV]  max_depth=None, min_samples_leaf=5, min_samples_split=5, n_estimators=10, total=   2.4s\n",
      "[CV] max_depth=None, min_samples_leaf=5, min_samples_split=5, n_estimators=10 \n",
      "[CV]  max_depth=None, min_samples_leaf=5, min_samples_split=5, n_estimators=10, total=   2.2s\n",
      "[CV] max_depth=None, min_samples_leaf=5, min_samples_split=5, n_estimators=20 \n",
      "[CV]  max_depth=None, min_samples_leaf=5, min_samples_split=2, n_estimators=100, total=  21.6s\n",
      "[CV] max_depth=None, min_samples_leaf=5, min_samples_split=5, n_estimators=20 \n",
      "[CV]  max_depth=None, min_samples_leaf=5, min_samples_split=5, n_estimators=10, total=   2.2s\n",
      "[CV] max_depth=None, min_samples_leaf=5, min_samples_split=5, n_estimators=20 \n",
      "[CV]  max_depth=None, min_samples_leaf=5, min_samples_split=5, n_estimators=20, total=   4.4s\n",
      "[CV] max_depth=None, min_samples_leaf=5, min_samples_split=5, n_estimators=50 \n",
      "[CV]  max_depth=None, min_samples_leaf=5, min_samples_split=5, n_estimators=20, total=   4.5s\n",
      "[CV] max_depth=None, min_samples_leaf=5, min_samples_split=5, n_estimators=50 \n",
      "[CV]  max_depth=None, min_samples_leaf=5, min_samples_split=2, n_estimators=100, total=  21.7s\n",
      "[CV] max_depth=None, min_samples_leaf=5, min_samples_split=5, n_estimators=50 \n",
      "[CV]  max_depth=None, min_samples_leaf=5, min_samples_split=5, n_estimators=20, total=   4.7s\n",
      "[CV] max_depth=None, min_samples_leaf=5, min_samples_split=5, n_estimators=100 \n",
      "[CV]  max_depth=None, min_samples_leaf=2, min_samples_split=10, n_estimators=200, total=  45.6s\n",
      "[CV] max_depth=None, min_samples_leaf=5, min_samples_split=5, n_estimators=100 \n",
      "[CV]  max_depth=None, min_samples_leaf=5, min_samples_split=5, n_estimators=50, total=  10.9s\n",
      "[CV] max_depth=None, min_samples_leaf=5, min_samples_split=5, n_estimators=100 \n",
      "[CV]  max_depth=None, min_samples_leaf=5, min_samples_split=5, n_estimators=50, total=  11.6s\n",
      "[CV] max_depth=None, min_samples_leaf=5, min_samples_split=5, n_estimators=200 \n",
      "[CV]  max_depth=None, min_samples_leaf=5, min_samples_split=5, n_estimators=50, total=  11.0s\n",
      "[CV] max_depth=None, min_samples_leaf=5, min_samples_split=5, n_estimators=200 \n",
      "[CV]  max_depth=None, min_samples_leaf=5, min_samples_split=5, n_estimators=100, total=  22.2s\n",
      "[CV] max_depth=None, min_samples_leaf=5, min_samples_split=5, n_estimators=200 \n",
      "[CV]  max_depth=None, min_samples_leaf=5, min_samples_split=2, n_estimators=200, total=  43.6s\n",
      "[CV] max_depth=None, min_samples_leaf=5, min_samples_split=10, n_estimators=10 \n",
      "[CV]  max_depth=None, min_samples_leaf=5, min_samples_split=2, n_estimators=200, total=  44.5s\n",
      "[CV] max_depth=None, min_samples_leaf=5, min_samples_split=10, n_estimators=10 \n",
      "[CV]  max_depth=None, min_samples_leaf=5, min_samples_split=10, n_estimators=10, total=   2.2s\n",
      "[CV] max_depth=None, min_samples_leaf=5, min_samples_split=10, n_estimators=10 \n",
      "[CV]  max_depth=None, min_samples_leaf=5, min_samples_split=5, n_estimators=100, total=  21.3s\n",
      "[CV] max_depth=None, min_samples_leaf=5, min_samples_split=10, n_estimators=20 \n",
      "[CV]  max_depth=None, min_samples_leaf=5, min_samples_split=10, n_estimators=10, total=   2.4s\n",
      "[CV] max_depth=None, min_samples_leaf=5, min_samples_split=10, n_estimators=20 \n",
      "[CV]  max_depth=None, min_samples_leaf=5, min_samples_split=10, n_estimators=10, total=   2.5s\n",
      "[CV] max_depth=None, min_samples_leaf=5, min_samples_split=10, n_estimators=20 \n",
      "[CV]  max_depth=None, min_samples_leaf=5, min_samples_split=10, n_estimators=20, total=   4.6s\n",
      "[CV] max_depth=None, min_samples_leaf=5, min_samples_split=10, n_estimators=50 \n",
      "[CV]  max_depth=None, min_samples_leaf=5, min_samples_split=10, n_estimators=20, total=   4.5s\n",
      "[CV] max_depth=None, min_samples_leaf=5, min_samples_split=10, n_estimators=50 \n",
      "[CV]  max_depth=None, min_samples_leaf=5, min_samples_split=5, n_estimators=100, total=  22.2s\n",
      "[CV] max_depth=None, min_samples_leaf=5, min_samples_split=10, n_estimators=50 \n",
      "[CV]  max_depth=None, min_samples_leaf=5, min_samples_split=10, n_estimators=20, total=   4.6s\n",
      "[CV] max_depth=None, min_samples_leaf=5, min_samples_split=10, n_estimators=100 \n",
      "[CV]  max_depth=None, min_samples_leaf=5, min_samples_split=2, n_estimators=200, total=  43.3s\n",
      "[CV] max_depth=None, min_samples_leaf=5, min_samples_split=10, n_estimators=100 \n",
      "[CV]  max_depth=None, min_samples_leaf=5, min_samples_split=10, n_estimators=50, total=  11.1s\n",
      "[CV] max_depth=None, min_samples_leaf=5, min_samples_split=10, n_estimators=100 \n",
      "[CV]  max_depth=None, min_samples_leaf=5, min_samples_split=10, n_estimators=50, total=  11.0s\n",
      "[CV] max_depth=None, min_samples_leaf=5, min_samples_split=10, n_estimators=200 \n",
      "[CV]  max_depth=None, min_samples_leaf=5, min_samples_split=10, n_estimators=50, total=  10.7s\n",
      "[CV] max_depth=None, min_samples_leaf=5, min_samples_split=10, n_estimators=200 \n",
      "[CV]  max_depth=None, min_samples_leaf=5, min_samples_split=5, n_estimators=200, total=  43.5s\n",
      "[CV]  max_depth=None, min_samples_leaf=5, min_samples_split=5, n_estimators=200, total=  42.1s\n",
      "[CV] max_depth=None, min_samples_leaf=5, min_samples_split=10, n_estimators=200 \n",
      "[CV] max_depth=None, min_samples_leaf=10, min_samples_split=2, n_estimators=10 \n",
      "[CV]  max_depth=None, min_samples_leaf=5, min_samples_split=10, n_estimators=100, total=  21.9s\n",
      "[CV] max_depth=None, min_samples_leaf=10, min_samples_split=2, n_estimators=10 \n",
      "[CV]  max_depth=None, min_samples_leaf=5, min_samples_split=10, n_estimators=100, total=  21.0s\n",
      "[CV] max_depth=None, min_samples_leaf=10, min_samples_split=2, n_estimators=10 \n",
      "[CV]  max_depth=None, min_samples_leaf=10, min_samples_split=2, n_estimators=10, total=   2.3s\n",
      "[CV] max_depth=None, min_samples_leaf=10, min_samples_split=2, n_estimators=20 \n",
      "[CV]  max_depth=None, min_samples_leaf=10, min_samples_split=2, n_estimators=10, total=   2.1s\n",
      "[CV] max_depth=None, min_samples_leaf=10, min_samples_split=2, n_estimators=20 \n",
      "[CV]  max_depth=None, min_samples_leaf=10, min_samples_split=2, n_estimators=10, total=   2.1s\n",
      "[CV] max_depth=None, min_samples_leaf=10, min_samples_split=2, n_estimators=20 \n",
      "[CV]  max_depth=None, min_samples_leaf=10, min_samples_split=2, n_estimators=20, total=   4.5s\n",
      "[CV] max_depth=None, min_samples_leaf=10, min_samples_split=2, n_estimators=50 \n",
      "[CV]  max_depth=None, min_samples_leaf=10, min_samples_split=2, n_estimators=20, total=   4.4s\n",
      "[CV] max_depth=None, min_samples_leaf=10, min_samples_split=2, n_estimators=50 \n",
      "[CV]  max_depth=None, min_samples_leaf=10, min_samples_split=2, n_estimators=20, total=   4.2s\n",
      "[CV] max_depth=None, min_samples_leaf=10, min_samples_split=2, n_estimators=50 \n",
      "[CV]  max_depth=None, min_samples_leaf=5, min_samples_split=10, n_estimators=100, total=  21.3s\n",
      "[CV] max_depth=None, min_samples_leaf=10, min_samples_split=2, n_estimators=100 \n",
      "[CV]  max_depth=None, min_samples_leaf=5, min_samples_split=5, n_estimators=200, total=  44.6s\n",
      "[CV] max_depth=None, min_samples_leaf=10, min_samples_split=2, n_estimators=100 \n",
      "[CV]  max_depth=None, min_samples_leaf=10, min_samples_split=2, n_estimators=50, total=  11.0s\n",
      "[CV] max_depth=None, min_samples_leaf=10, min_samples_split=2, n_estimators=100 \n",
      "[CV]  max_depth=None, min_samples_leaf=10, min_samples_split=2, n_estimators=50, total=  10.4s\n",
      "[CV] max_depth=None, min_samples_leaf=10, min_samples_split=2, n_estimators=200 \n",
      "[CV]  max_depth=None, min_samples_leaf=10, min_samples_split=2, n_estimators=50, total=  10.4s\n",
      "[CV] max_depth=None, min_samples_leaf=10, min_samples_split=2, n_estimators=200 \n",
      "[CV]  max_depth=None, min_samples_leaf=10, min_samples_split=2, n_estimators=100, total=  20.9s\n",
      "[CV] max_depth=None, min_samples_leaf=10, min_samples_split=2, n_estimators=200 \n",
      "[CV]  max_depth=None, min_samples_leaf=5, min_samples_split=10, n_estimators=200, total=  43.3s\n",
      "[CV] max_depth=None, min_samples_leaf=10, min_samples_split=5, n_estimators=10 \n",
      "[CV]  max_depth=None, min_samples_leaf=5, min_samples_split=10, n_estimators=200, total=  44.5s\n",
      "[CV] max_depth=None, min_samples_leaf=10, min_samples_split=5, n_estimators=10 \n"
     ]
    },
    {
     "name": "stdout",
     "output_type": "stream",
     "text": [
      "[CV]  max_depth=None, min_samples_leaf=10, min_samples_split=5, n_estimators=10, total=   2.2s\n",
      "[CV]  max_depth=None, min_samples_leaf=10, min_samples_split=2, n_estimators=100, total=  20.8s\n",
      "[CV] max_depth=None, min_samples_leaf=10, min_samples_split=5, n_estimators=10 \n",
      "[CV] max_depth=None, min_samples_leaf=10, min_samples_split=5, n_estimators=20 \n",
      "[CV]  max_depth=None, min_samples_leaf=10, min_samples_split=5, n_estimators=10, total=   2.2s\n",
      "[CV] max_depth=None, min_samples_leaf=10, min_samples_split=5, n_estimators=20 \n",
      "[CV]  max_depth=None, min_samples_leaf=10, min_samples_split=5, n_estimators=10, total=   2.4s\n",
      "[CV] max_depth=None, min_samples_leaf=10, min_samples_split=5, n_estimators=20 \n",
      "[CV]  max_depth=None, min_samples_leaf=10, min_samples_split=2, n_estimators=100, total=  20.8s\n",
      "[CV] max_depth=None, min_samples_leaf=10, min_samples_split=5, n_estimators=50 \n",
      "[CV]  max_depth=None, min_samples_leaf=10, min_samples_split=5, n_estimators=20, total=   4.5s\n",
      "[CV] max_depth=None, min_samples_leaf=10, min_samples_split=5, n_estimators=50 \n",
      "[CV]  max_depth=None, min_samples_leaf=10, min_samples_split=5, n_estimators=20, total=   4.6s\n",
      "[CV] max_depth=None, min_samples_leaf=10, min_samples_split=5, n_estimators=50 \n",
      "[CV]  max_depth=None, min_samples_leaf=10, min_samples_split=5, n_estimators=20, total=   4.5s\n",
      "[CV] max_depth=None, min_samples_leaf=10, min_samples_split=5, n_estimators=100 \n",
      "[CV]  max_depth=None, min_samples_leaf=5, min_samples_split=10, n_estimators=200, total=  45.2s\n",
      "[CV] max_depth=None, min_samples_leaf=10, min_samples_split=5, n_estimators=100 \n",
      "[CV]  max_depth=None, min_samples_leaf=10, min_samples_split=5, n_estimators=50, total=  10.9s\n",
      "[CV] max_depth=None, min_samples_leaf=10, min_samples_split=5, n_estimators=100 \n",
      "[CV]  max_depth=None, min_samples_leaf=10, min_samples_split=5, n_estimators=50, total=  10.3s\n",
      "[CV] max_depth=None, min_samples_leaf=10, min_samples_split=5, n_estimators=200 \n",
      "[CV]  max_depth=None, min_samples_leaf=10, min_samples_split=5, n_estimators=50, total=  10.3s\n",
      "[CV] max_depth=None, min_samples_leaf=10, min_samples_split=5, n_estimators=200 \n",
      "[CV]  max_depth=None, min_samples_leaf=10, min_samples_split=2, n_estimators=200, total=  41.5s\n",
      "[CV] max_depth=None, min_samples_leaf=10, min_samples_split=5, n_estimators=200 \n",
      "[CV]  max_depth=None, min_samples_leaf=10, min_samples_split=2, n_estimators=200, total=  43.7s\n",
      "[CV] max_depth=None, min_samples_leaf=10, min_samples_split=10, n_estimators=10 \n",
      "[CV]  max_depth=None, min_samples_leaf=10, min_samples_split=5, n_estimators=100, total=  21.1s\n",
      "[CV] max_depth=None, min_samples_leaf=10, min_samples_split=10, n_estimators=10 \n",
      "[CV]  max_depth=None, min_samples_leaf=10, min_samples_split=10, n_estimators=10, total=   2.3s\n",
      "[CV] max_depth=None, min_samples_leaf=10, min_samples_split=10, n_estimators=10 \n",
      "[CV]  max_depth=None, min_samples_leaf=10, min_samples_split=10, n_estimators=10, total=   2.1s\n",
      "[CV] max_depth=None, min_samples_leaf=10, min_samples_split=10, n_estimators=20 \n",
      "[CV]  max_depth=None, min_samples_leaf=10, min_samples_split=5, n_estimators=100, total=  21.1s\n",
      "[CV] max_depth=None, min_samples_leaf=10, min_samples_split=10, n_estimators=20 \n",
      "[CV]  max_depth=None, min_samples_leaf=10, min_samples_split=10, n_estimators=10, total=   2.2s\n",
      "[CV] max_depth=None, min_samples_leaf=10, min_samples_split=10, n_estimators=20 \n",
      "[CV]  max_depth=None, min_samples_leaf=10, min_samples_split=10, n_estimators=20, total=   4.5s\n",
      "[CV] max_depth=None, min_samples_leaf=10, min_samples_split=10, n_estimators=50 \n",
      "[CV]  max_depth=None, min_samples_leaf=10, min_samples_split=10, n_estimators=20, total=   4.2s\n",
      "[CV] max_depth=None, min_samples_leaf=10, min_samples_split=10, n_estimators=50 \n",
      "[CV]  max_depth=None, min_samples_leaf=10, min_samples_split=10, n_estimators=20, total=   4.3s\n",
      "[CV] max_depth=None, min_samples_leaf=10, min_samples_split=10, n_estimators=50 \n",
      "[CV]  max_depth=None, min_samples_leaf=10, min_samples_split=5, n_estimators=100, total=  21.2s\n",
      "[CV] max_depth=None, min_samples_leaf=10, min_samples_split=10, n_estimators=100 \n",
      "[CV]  max_depth=None, min_samples_leaf=10, min_samples_split=2, n_estimators=200, total=  41.7s\n",
      "[CV] max_depth=None, min_samples_leaf=10, min_samples_split=10, n_estimators=100 \n",
      "[CV]  max_depth=None, min_samples_leaf=10, min_samples_split=10, n_estimators=50, total=  10.6s\n",
      "[CV] max_depth=None, min_samples_leaf=10, min_samples_split=10, n_estimators=100 \n",
      "[CV]  max_depth=None, min_samples_leaf=10, min_samples_split=10, n_estimators=50, total=  10.2s\n",
      "[CV] max_depth=None, min_samples_leaf=10, min_samples_split=10, n_estimators=200 \n",
      "[CV]  max_depth=None, min_samples_leaf=10, min_samples_split=10, n_estimators=50, total=  10.2s\n",
      "[CV] max_depth=None, min_samples_leaf=10, min_samples_split=10, n_estimators=200 \n",
      "[CV]  max_depth=None, min_samples_leaf=10, min_samples_split=5, n_estimators=200, total=  41.8s\n",
      "[CV] max_depth=None, min_samples_leaf=10, min_samples_split=10, n_estimators=200 \n",
      "[CV]  max_depth=None, min_samples_leaf=10, min_samples_split=10, n_estimators=100, total=  20.6s\n",
      "[CV] max_depth=None, min_samples_leaf=50, min_samples_split=2, n_estimators=10 \n",
      "[CV]  max_depth=None, min_samples_leaf=10, min_samples_split=5, n_estimators=200, total=  41.6s\n",
      "[CV] max_depth=None, min_samples_leaf=50, min_samples_split=2, n_estimators=10 \n",
      "[CV]  max_depth=None, min_samples_leaf=10, min_samples_split=10, n_estimators=100, total=  20.1s\n",
      "[CV] max_depth=None, min_samples_leaf=50, min_samples_split=2, n_estimators=10 \n",
      "[CV]  max_depth=None, min_samples_leaf=50, min_samples_split=2, n_estimators=10, total=   2.0s\n",
      "[CV] max_depth=None, min_samples_leaf=50, min_samples_split=2, n_estimators=20 \n",
      "[CV]  max_depth=None, min_samples_leaf=50, min_samples_split=2, n_estimators=10, total=   2.1s\n",
      "[CV] max_depth=None, min_samples_leaf=50, min_samples_split=2, n_estimators=20 \n",
      "[CV]  max_depth=None, min_samples_leaf=50, min_samples_split=2, n_estimators=10, total=   1.8s\n",
      "[CV] max_depth=None, min_samples_leaf=50, min_samples_split=2, n_estimators=20 \n",
      "[CV]  max_depth=None, min_samples_leaf=50, min_samples_split=2, n_estimators=20, total=   3.7s\n",
      "[CV] max_depth=None, min_samples_leaf=50, min_samples_split=2, n_estimators=50 \n",
      "[CV]  max_depth=None, min_samples_leaf=50, min_samples_split=2, n_estimators=20, total=   3.7s\n",
      "[CV] max_depth=None, min_samples_leaf=50, min_samples_split=2, n_estimators=50 \n",
      "[CV]  max_depth=None, min_samples_leaf=50, min_samples_split=2, n_estimators=20, total=   3.5s\n",
      "[CV] max_depth=None, min_samples_leaf=50, min_samples_split=2, n_estimators=50 \n",
      "[CV]  max_depth=None, min_samples_leaf=10, min_samples_split=10, n_estimators=100, total=  21.2s\n",
      "[CV] max_depth=None, min_samples_leaf=50, min_samples_split=2, n_estimators=100 \n",
      "[CV]  max_depth=None, min_samples_leaf=10, min_samples_split=5, n_estimators=200, total=  41.7s\n",
      "[CV] max_depth=None, min_samples_leaf=50, min_samples_split=2, n_estimators=100 \n",
      "[CV]  max_depth=None, min_samples_leaf=50, min_samples_split=2, n_estimators=50, total=   8.8s\n",
      "[CV] max_depth=None, min_samples_leaf=50, min_samples_split=2, n_estimators=100 \n",
      "[CV]  max_depth=None, min_samples_leaf=50, min_samples_split=2, n_estimators=50, total=   8.9s\n",
      "[CV] max_depth=None, min_samples_leaf=50, min_samples_split=2, n_estimators=200 \n",
      "[CV]  max_depth=None, min_samples_leaf=50, min_samples_split=2, n_estimators=50, total=   8.8s\n",
      "[CV] max_depth=None, min_samples_leaf=50, min_samples_split=2, n_estimators=200 \n",
      "[CV]  max_depth=None, min_samples_leaf=50, min_samples_split=2, n_estimators=100, total=  17.3s\n",
      "[CV] max_depth=None, min_samples_leaf=50, min_samples_split=2, n_estimators=200 \n",
      "[CV]  max_depth=None, min_samples_leaf=50, min_samples_split=2, n_estimators=100, total=  17.5s\n",
      "[CV] max_depth=None, min_samples_leaf=50, min_samples_split=5, n_estimators=10 \n",
      "[CV]  max_depth=None, min_samples_leaf=50, min_samples_split=5, n_estimators=10, total=   1.8s\n",
      "[CV] max_depth=None, min_samples_leaf=50, min_samples_split=5, n_estimators=10 \n",
      "[CV]  max_depth=None, min_samples_leaf=10, min_samples_split=10, n_estimators=200, total=  40.7s\n",
      "[CV] max_depth=None, min_samples_leaf=50, min_samples_split=5, n_estimators=10 \n",
      "[CV]  max_depth=None, min_samples_leaf=50, min_samples_split=5, n_estimators=10, total=   1.8s\n"
     ]
    },
    {
     "name": "stdout",
     "output_type": "stream",
     "text": [
      "[CV]  max_depth=None, min_samples_leaf=10, min_samples_split=10, n_estimators=200, total=  42.3s\n",
      "[CV] max_depth=None, min_samples_leaf=50, min_samples_split=5, n_estimators=20 \n",
      "[CV] max_depth=None, min_samples_leaf=50, min_samples_split=5, n_estimators=20 \n",
      "[CV]  max_depth=None, min_samples_leaf=50, min_samples_split=5, n_estimators=10, total=   1.8s\n",
      "[CV] max_depth=None, min_samples_leaf=50, min_samples_split=5, n_estimators=20 \n",
      "[CV]  max_depth=None, min_samples_leaf=50, min_samples_split=2, n_estimators=100, total=  17.4s\n",
      "[CV] max_depth=None, min_samples_leaf=50, min_samples_split=5, n_estimators=50 \n",
      "[CV]  max_depth=None, min_samples_leaf=50, min_samples_split=5, n_estimators=20, total=   3.9s\n",
      "[CV] max_depth=None, min_samples_leaf=50, min_samples_split=5, n_estimators=50 \n",
      "[CV]  max_depth=None, min_samples_leaf=50, min_samples_split=5, n_estimators=20, total=   3.8s\n",
      "[CV] max_depth=None, min_samples_leaf=50, min_samples_split=5, n_estimators=50 \n",
      "[CV]  max_depth=None, min_samples_leaf=50, min_samples_split=5, n_estimators=20, total=   4.4s\n",
      "[CV] max_depth=None, min_samples_leaf=50, min_samples_split=5, n_estimators=100 \n",
      "[CV]  max_depth=None, min_samples_leaf=10, min_samples_split=10, n_estimators=200, total=  41.3s\n",
      "[CV] max_depth=None, min_samples_leaf=50, min_samples_split=5, n_estimators=100 \n",
      "[CV]  max_depth=None, min_samples_leaf=50, min_samples_split=5, n_estimators=50, total=   9.4s\n",
      "[CV] max_depth=None, min_samples_leaf=50, min_samples_split=5, n_estimators=100 \n",
      "[CV]  max_depth=None, min_samples_leaf=50, min_samples_split=5, n_estimators=50, total=   8.9s\n",
      "[CV] max_depth=None, min_samples_leaf=50, min_samples_split=5, n_estimators=200 \n",
      "[CV]  max_depth=None, min_samples_leaf=50, min_samples_split=5, n_estimators=50, total=   8.7s\n",
      "[CV] max_depth=None, min_samples_leaf=50, min_samples_split=5, n_estimators=200 \n",
      "[CV]  max_depth=None, min_samples_leaf=50, min_samples_split=2, n_estimators=200, total=  35.5s\n",
      "[CV] max_depth=None, min_samples_leaf=50, min_samples_split=5, n_estimators=200 \n",
      "[CV]  max_depth=None, min_samples_leaf=50, min_samples_split=2, n_estimators=200, total=  36.4s\n",
      "[CV] max_depth=None, min_samples_leaf=50, min_samples_split=10, n_estimators=10 \n",
      "[CV]  max_depth=None, min_samples_leaf=50, min_samples_split=10, n_estimators=10, total=   1.9s\n",
      "[CV] max_depth=None, min_samples_leaf=50, min_samples_split=10, n_estimators=10 \n",
      "[CV]  max_depth=None, min_samples_leaf=50, min_samples_split=5, n_estimators=100, total=  18.0s\n",
      "[CV] max_depth=None, min_samples_leaf=50, min_samples_split=10, n_estimators=10 \n",
      "[CV]  max_depth=None, min_samples_leaf=50, min_samples_split=10, n_estimators=10, total=   2.0s\n",
      "[CV] max_depth=None, min_samples_leaf=50, min_samples_split=10, n_estimators=20 \n",
      "[CV]  max_depth=None, min_samples_leaf=50, min_samples_split=10, n_estimators=10, total=   1.8s\n",
      "[CV] max_depth=None, min_samples_leaf=50, min_samples_split=10, n_estimators=20 \n",
      "[CV]  max_depth=None, min_samples_leaf=50, min_samples_split=5, n_estimators=100, total=  17.7s\n",
      "[CV] max_depth=None, min_samples_leaf=50, min_samples_split=10, n_estimators=20 \n",
      "[CV]  max_depth=None, min_samples_leaf=50, min_samples_split=10, n_estimators=20, total=   3.6s\n",
      "[CV] max_depth=None, min_samples_leaf=50, min_samples_split=10, n_estimators=50 \n",
      "[CV]  max_depth=None, min_samples_leaf=50, min_samples_split=10, n_estimators=20, total=   3.7s\n",
      "[CV] max_depth=None, min_samples_leaf=50, min_samples_split=10, n_estimators=50 \n",
      "[CV]  max_depth=None, min_samples_leaf=50, min_samples_split=5, n_estimators=100, total=  18.2s\n",
      "[CV] max_depth=None, min_samples_leaf=50, min_samples_split=10, n_estimators=50 \n",
      "[CV]  max_depth=None, min_samples_leaf=50, min_samples_split=10, n_estimators=20, total=   3.9s\n",
      "[CV] max_depth=None, min_samples_leaf=50, min_samples_split=10, n_estimators=100 \n",
      "[CV]  max_depth=None, min_samples_leaf=50, min_samples_split=2, n_estimators=200, total=  36.8s\n",
      "[CV] max_depth=None, min_samples_leaf=50, min_samples_split=10, n_estimators=100 \n",
      "[CV]  max_depth=None, min_samples_leaf=50, min_samples_split=10, n_estimators=50, total=   9.2s\n",
      "[CV] max_depth=None, min_samples_leaf=50, min_samples_split=10, n_estimators=100 \n",
      "[CV]  max_depth=None, min_samples_leaf=50, min_samples_split=10, n_estimators=50, total=   8.8s\n",
      "[CV] max_depth=None, min_samples_leaf=50, min_samples_split=10, n_estimators=200 \n",
      "[CV]  max_depth=None, min_samples_leaf=50, min_samples_split=10, n_estimators=50, total=   8.7s\n",
      "[CV] max_depth=None, min_samples_leaf=50, min_samples_split=10, n_estimators=200 \n",
      "[CV]  max_depth=None, min_samples_leaf=50, min_samples_split=5, n_estimators=200, total=  34.6s\n",
      "[CV] max_depth=None, min_samples_leaf=50, min_samples_split=10, n_estimators=200 \n",
      "[CV]  max_depth=None, min_samples_leaf=50, min_samples_split=10, n_estimators=100, total=  17.5s\n",
      "[CV]  max_depth=None, min_samples_leaf=50, min_samples_split=5, n_estimators=200, total=  36.1s\n",
      "[CV]  max_depth=None, min_samples_leaf=50, min_samples_split=10, n_estimators=100, total=  17.1s\n",
      "[CV]  max_depth=None, min_samples_leaf=50, min_samples_split=5, n_estimators=200, total=  33.6s\n",
      "[CV]  max_depth=None, min_samples_leaf=50, min_samples_split=10, n_estimators=100, total=  16.8s\n",
      "[CV]  max_depth=None, min_samples_leaf=50, min_samples_split=10, n_estimators=200, total=  25.8s\n",
      "[CV]  max_depth=None, min_samples_leaf=50, min_samples_split=10, n_estimators=200, total=  27.1s\n",
      "[CV]  max_depth=None, min_samples_leaf=50, min_samples_split=10, n_estimators=200, total=  20.7s\n"
     ]
    },
    {
     "name": "stderr",
     "output_type": "stream",
     "text": [
      "[Parallel(n_jobs=-1)]: Done 1125 out of 1125 | elapsed: 28.5min finished\n"
     ]
    },
    {
     "name": "stdout",
     "output_type": "stream",
     "text": [
      "RandomForestClassifier(bootstrap=True, class_weight=None, criterion='gini',\n",
      "            max_depth=50, max_features='auto', max_leaf_nodes=None,\n",
      "            min_impurity_decrease=0.0, min_impurity_split=None,\n",
      "            min_samples_leaf=1, min_samples_split=2,\n",
      "            min_weight_fraction_leaf=0.0, n_estimators=200, n_jobs=1,\n",
      "            oob_score=False, random_state=42, verbose=0, warm_start=False)\n",
      "0.9843091087995501\n"
     ]
    }
   ],
   "source": [
    "from sklearn.ensemble import RandomForestClassifier\n",
    "\n",
    "forest = RandomForestClassifier(random_state=42)\n",
    "params = {'n_estimators': [10, 20, 50, 100, 200], 'max_depth': [2, 5, 10, 50, None], 'min_samples_split': [2, 5, 10], \n",
    "          'min_samples_leaf': [1, 2, 5, 10, 50]}\n",
    "\n",
    "tune_model(forest, params, X_train, y_train)"
   ]
  },
  {
   "cell_type": "code",
   "execution_count": 23,
   "metadata": {},
   "outputs": [
    {
     "name": "stdout",
     "output_type": "stream",
     "text": [
      "0.9849770702651416\n",
      "0.788235294117647\n",
      "0.34986945169712796\n",
      "0.48462929475587696\n"
     ]
    }
   ],
   "source": [
    "from sklearn.ensemble import RandomForestClassifier\n",
    "\n",
    "forest = RandomForestClassifier(n_estimators=200, max_depth=50, random_state=42, n_jobs=-1)\n",
    "\n",
    "forest.fit(X_train, y_train)\n",
    "\n",
    "pred = forest.predict(X_test)\n",
    "\n",
    "print(accuracy_score(y_test, pred))\n",
    "print(precision_score(y_test, pred))\n",
    "print(recall_score(y_test, pred))\n",
    "print(f1_score(y_test, pred))"
   ]
  },
  {
   "cell_type": "markdown",
   "metadata": {},
   "source": [
    "The third model involves gradient boosting. We also tuned it before training."
   ]
  },
  {
   "cell_type": "code",
   "execution_count": 43,
   "metadata": {},
   "outputs": [
    {
     "name": "stdout",
     "output_type": "stream",
     "text": [
      "Fitting 3 folds for each of 128 candidates, totalling 384 fits\n",
      "[CV] colsample_bytree=0.6, gamma=0.1, max_depth=50, min_child_weight=2, n_estimators=200, subsample=0.6 \n",
      "[CV] colsample_bytree=0.6, gamma=0.1, max_depth=50, min_child_weight=2, n_estimators=200, subsample=0.6 \n",
      "[CV] colsample_bytree=0.6, gamma=0.1, max_depth=50, min_child_weight=2, n_estimators=200, subsample=0.7 \n",
      "[CV] colsample_bytree=0.6, gamma=0.1, max_depth=50, min_child_weight=2, n_estimators=200, subsample=0.6 \n",
      "[CV] colsample_bytree=0.6, gamma=0.1, max_depth=50, min_child_weight=2, n_estimators=200, subsample=0.7 \n",
      "[CV] colsample_bytree=0.6, gamma=0.1, max_depth=50, min_child_weight=2, n_estimators=200, subsample=0.7 \n",
      "[CV] colsample_bytree=0.6, gamma=0.1, max_depth=50, min_child_weight=2, n_estimators=200, subsample=0.7999999999999999 \n",
      "[CV] colsample_bytree=0.6, gamma=0.1, max_depth=50, min_child_weight=2, n_estimators=200, subsample=0.7999999999999999 \n"
     ]
    },
    {
     "name": "stderr",
     "output_type": "stream",
     "text": [
      "/home/willstudent/.local/lib/python3.6/site-packages/sklearn/preprocessing/label.py:151: DeprecationWarning: The truth value of an empty array is ambiguous. Returning False, but in future this will result in an error. Use `array.size > 0` to check that an array is not empty.\n",
      "  if diff:\n",
      "/home/willstudent/.local/lib/python3.6/site-packages/sklearn/preprocessing/label.py:151: DeprecationWarning: The truth value of an empty array is ambiguous. Returning False, but in future this will result in an error. Use `array.size > 0` to check that an array is not empty.\n",
      "  if diff:\n",
      "/home/willstudent/.local/lib/python3.6/site-packages/sklearn/preprocessing/label.py:151: DeprecationWarning: The truth value of an empty array is ambiguous. Returning False, but in future this will result in an error. Use `array.size > 0` to check that an array is not empty.\n",
      "  if diff:\n",
      "/home/willstudent/.local/lib/python3.6/site-packages/sklearn/preprocessing/label.py:151: DeprecationWarning: The truth value of an empty array is ambiguous. Returning False, but in future this will result in an error. Use `array.size > 0` to check that an array is not empty.\n",
      "  if diff:\n"
     ]
    },
    {
     "name": "stdout",
     "output_type": "stream",
     "text": [
      "[CV]  colsample_bytree=0.6, gamma=0.1, max_depth=50, min_child_weight=2, n_estimators=200, subsample=0.6, total=  34.2s\n",
      "[CV] colsample_bytree=0.6, gamma=0.1, max_depth=50, min_child_weight=2, n_estimators=200, subsample=0.7999999999999999 \n"
     ]
    },
    {
     "name": "stderr",
     "output_type": "stream",
     "text": [
      "/home/willstudent/.local/lib/python3.6/site-packages/sklearn/preprocessing/label.py:151: DeprecationWarning: The truth value of an empty array is ambiguous. Returning False, but in future this will result in an error. Use `array.size > 0` to check that an array is not empty.\n",
      "  if diff:\n"
     ]
    },
    {
     "name": "stdout",
     "output_type": "stream",
     "text": [
      "[CV]  colsample_bytree=0.6, gamma=0.1, max_depth=50, min_child_weight=2, n_estimators=200, subsample=0.6, total=  34.2s\n",
      "[CV] colsample_bytree=0.6, gamma=0.1, max_depth=50, min_child_weight=2, n_estimators=200, subsample=0.8999999999999999 \n"
     ]
    },
    {
     "name": "stderr",
     "output_type": "stream",
     "text": [
      "/home/willstudent/.local/lib/python3.6/site-packages/sklearn/preprocessing/label.py:151: DeprecationWarning: The truth value of an empty array is ambiguous. Returning False, but in future this will result in an error. Use `array.size > 0` to check that an array is not empty.\n",
      "  if diff:\n"
     ]
    },
    {
     "name": "stdout",
     "output_type": "stream",
     "text": [
      "[CV]  colsample_bytree=0.6, gamma=0.1, max_depth=50, min_child_weight=2, n_estimators=200, subsample=0.6, total=  34.8s\n",
      "[CV] colsample_bytree=0.6, gamma=0.1, max_depth=50, min_child_weight=2, n_estimators=200, subsample=0.8999999999999999 \n"
     ]
    },
    {
     "name": "stderr",
     "output_type": "stream",
     "text": [
      "/home/willstudent/.local/lib/python3.6/site-packages/sklearn/preprocessing/label.py:151: DeprecationWarning: The truth value of an empty array is ambiguous. Returning False, but in future this will result in an error. Use `array.size > 0` to check that an array is not empty.\n",
      "  if diff:\n",
      "/home/willstudent/.local/lib/python3.6/site-packages/sklearn/preprocessing/label.py:151: DeprecationWarning: The truth value of an empty array is ambiguous. Returning False, but in future this will result in an error. Use `array.size > 0` to check that an array is not empty.\n",
      "  if diff:\n",
      "/home/willstudent/.local/lib/python3.6/site-packages/sklearn/preprocessing/label.py:151: DeprecationWarning: The truth value of an empty array is ambiguous. Returning False, but in future this will result in an error. Use `array.size > 0` to check that an array is not empty.\n",
      "  if diff:\n",
      "/home/willstudent/.local/lib/python3.6/site-packages/sklearn/preprocessing/label.py:151: DeprecationWarning: The truth value of an empty array is ambiguous. Returning False, but in future this will result in an error. Use `array.size > 0` to check that an array is not empty.\n",
      "  if diff:\n"
     ]
    },
    {
     "name": "stdout",
     "output_type": "stream",
     "text": [
      "[CV]  colsample_bytree=0.6, gamma=0.1, max_depth=50, min_child_weight=2, n_estimators=200, subsample=0.7, total=  36.7s\n",
      "[CV] colsample_bytree=0.6, gamma=0.1, max_depth=50, min_child_weight=2, n_estimators=200, subsample=0.8999999999999999 \n"
     ]
    },
    {
     "name": "stderr",
     "output_type": "stream",
     "text": [
      "/home/willstudent/.local/lib/python3.6/site-packages/sklearn/preprocessing/label.py:151: DeprecationWarning: The truth value of an empty array is ambiguous. Returning False, but in future this will result in an error. Use `array.size > 0` to check that an array is not empty.\n",
      "  if diff:\n"
     ]
    },
    {
     "name": "stdout",
     "output_type": "stream",
     "text": [
      "[CV]  colsample_bytree=0.6, gamma=0.1, max_depth=50, min_child_weight=2, n_estimators=200, subsample=0.7, total=  37.2s\n",
      "[CV] colsample_bytree=0.6, gamma=0.1, max_depth=50, min_child_weight=3, n_estimators=200, subsample=0.6 \n"
     ]
    },
    {
     "name": "stderr",
     "output_type": "stream",
     "text": [
      "/home/willstudent/.local/lib/python3.6/site-packages/sklearn/preprocessing/label.py:151: DeprecationWarning: The truth value of an empty array is ambiguous. Returning False, but in future this will result in an error. Use `array.size > 0` to check that an array is not empty.\n",
      "  if diff:\n"
     ]
    },
    {
     "name": "stdout",
     "output_type": "stream",
     "text": [
      "[CV]  colsample_bytree=0.6, gamma=0.1, max_depth=50, min_child_weight=2, n_estimators=200, subsample=0.7, total=  37.6s\n",
      "[CV] colsample_bytree=0.6, gamma=0.1, max_depth=50, min_child_weight=3, n_estimators=200, subsample=0.6 \n"
     ]
    },
    {
     "name": "stderr",
     "output_type": "stream",
     "text": [
      "/home/willstudent/.local/lib/python3.6/site-packages/sklearn/preprocessing/label.py:151: DeprecationWarning: The truth value of an empty array is ambiguous. Returning False, but in future this will result in an error. Use `array.size > 0` to check that an array is not empty.\n",
      "  if diff:\n",
      "/home/willstudent/.local/lib/python3.6/site-packages/sklearn/preprocessing/label.py:151: DeprecationWarning: The truth value of an empty array is ambiguous. Returning False, but in future this will result in an error. Use `array.size > 0` to check that an array is not empty.\n",
      "  if diff:\n",
      "/home/willstudent/.local/lib/python3.6/site-packages/sklearn/preprocessing/label.py:151: DeprecationWarning: The truth value of an empty array is ambiguous. Returning False, but in future this will result in an error. Use `array.size > 0` to check that an array is not empty.\n",
      "  if diff:\n"
     ]
    },
    {
     "name": "stdout",
     "output_type": "stream",
     "text": [
      "[CV]  colsample_bytree=0.6, gamma=0.1, max_depth=50, min_child_weight=2, n_estimators=200, subsample=0.7999999999999999, total=  40.3s\n",
      "[CV] colsample_bytree=0.6, gamma=0.1, max_depth=50, min_child_weight=3, n_estimators=200, subsample=0.6 \n"
     ]
    },
    {
     "name": "stderr",
     "output_type": "stream",
     "text": [
      "/home/willstudent/.local/lib/python3.6/site-packages/sklearn/preprocessing/label.py:151: DeprecationWarning: The truth value of an empty array is ambiguous. Returning False, but in future this will result in an error. Use `array.size > 0` to check that an array is not empty.\n",
      "  if diff:\n"
     ]
    },
    {
     "name": "stdout",
     "output_type": "stream",
     "text": [
      "[CV]  colsample_bytree=0.6, gamma=0.1, max_depth=50, min_child_weight=2, n_estimators=200, subsample=0.7999999999999999, total=  41.3s\n",
      "[CV] colsample_bytree=0.6, gamma=0.1, max_depth=50, min_child_weight=3, n_estimators=200, subsample=0.7 \n"
     ]
    },
    {
     "name": "stderr",
     "output_type": "stream",
     "text": [
      "/home/willstudent/.local/lib/python3.6/site-packages/sklearn/preprocessing/label.py:151: DeprecationWarning: The truth value of an empty array is ambiguous. Returning False, but in future this will result in an error. Use `array.size > 0` to check that an array is not empty.\n",
      "  if diff:\n",
      "/home/willstudent/.local/lib/python3.6/site-packages/sklearn/preprocessing/label.py:151: DeprecationWarning: The truth value of an empty array is ambiguous. Returning False, but in future this will result in an error. Use `array.size > 0` to check that an array is not empty.\n",
      "  if diff:\n",
      "/home/willstudent/.local/lib/python3.6/site-packages/sklearn/preprocessing/label.py:151: DeprecationWarning: The truth value of an empty array is ambiguous. Returning False, but in future this will result in an error. Use `array.size > 0` to check that an array is not empty.\n",
      "  if diff:\n"
     ]
    },
    {
     "name": "stdout",
     "output_type": "stream",
     "text": [
      "[CV]  colsample_bytree=0.6, gamma=0.1, max_depth=50, min_child_weight=3, n_estimators=200, subsample=0.6, total=  32.8s\n",
      "[CV] colsample_bytree=0.6, gamma=0.1, max_depth=50, min_child_weight=3, n_estimators=200, subsample=0.7 \n"
     ]
    },
    {
     "name": "stderr",
     "output_type": "stream",
     "text": [
      "/home/willstudent/.local/lib/python3.6/site-packages/sklearn/preprocessing/label.py:151: DeprecationWarning: The truth value of an empty array is ambiguous. Returning False, but in future this will result in an error. Use `array.size > 0` to check that an array is not empty.\n",
      "  if diff:\n"
     ]
    },
    {
     "name": "stdout",
     "output_type": "stream",
     "text": [
      "[CV]  colsample_bytree=0.6, gamma=0.1, max_depth=50, min_child_weight=3, n_estimators=200, subsample=0.6, total=  34.0s\n",
      "[CV] colsample_bytree=0.6, gamma=0.1, max_depth=50, min_child_weight=3, n_estimators=200, subsample=0.7 \n"
     ]
    },
    {
     "name": "stderr",
     "output_type": "stream",
     "text": [
      "/home/willstudent/.local/lib/python3.6/site-packages/sklearn/preprocessing/label.py:151: DeprecationWarning: The truth value of an empty array is ambiguous. Returning False, but in future this will result in an error. Use `array.size > 0` to check that an array is not empty.\n",
      "  if diff:\n",
      "/home/willstudent/.local/lib/python3.6/site-packages/sklearn/preprocessing/label.py:151: DeprecationWarning: The truth value of an empty array is ambiguous. Returning False, but in future this will result in an error. Use `array.size > 0` to check that an array is not empty.\n",
      "  if diff:\n",
      "/home/willstudent/.local/lib/python3.6/site-packages/sklearn/preprocessing/label.py:151: DeprecationWarning: The truth value of an empty array is ambiguous. Returning False, but in future this will result in an error. Use `array.size > 0` to check that an array is not empty.\n",
      "  if diff:\n"
     ]
    },
    {
     "name": "stdout",
     "output_type": "stream",
     "text": [
      "[CV]  colsample_bytree=0.6, gamma=0.1, max_depth=50, min_child_weight=3, n_estimators=200, subsample=0.6, total=  33.7s\n",
      "[CV] colsample_bytree=0.6, gamma=0.1, max_depth=50, min_child_weight=3, n_estimators=200, subsample=0.7999999999999999 \n"
     ]
    },
    {
     "name": "stderr",
     "output_type": "stream",
     "text": [
      "/home/willstudent/.local/lib/python3.6/site-packages/sklearn/preprocessing/label.py:151: DeprecationWarning: The truth value of an empty array is ambiguous. Returning False, but in future this will result in an error. Use `array.size > 0` to check that an array is not empty.\n",
      "  if diff:\n"
     ]
    },
    {
     "name": "stdout",
     "output_type": "stream",
     "text": [
      "[CV]  colsample_bytree=0.6, gamma=0.1, max_depth=50, min_child_weight=2, n_estimators=200, subsample=0.7999999999999999, total=  40.8s\n",
      "[CV] colsample_bytree=0.6, gamma=0.1, max_depth=50, min_child_weight=3, n_estimators=200, subsample=0.7999999999999999 \n"
     ]
    },
    {
     "name": "stderr",
     "output_type": "stream",
     "text": [
      "/home/willstudent/.local/lib/python3.6/site-packages/sklearn/preprocessing/label.py:151: DeprecationWarning: The truth value of an empty array is ambiguous. Returning False, but in future this will result in an error. Use `array.size > 0` to check that an array is not empty.\n",
      "  if diff:\n",
      "/home/willstudent/.local/lib/python3.6/site-packages/sklearn/preprocessing/label.py:151: DeprecationWarning: The truth value of an empty array is ambiguous. Returning False, but in future this will result in an error. Use `array.size > 0` to check that an array is not empty.\n",
      "  if diff:\n",
      "/home/willstudent/.local/lib/python3.6/site-packages/sklearn/preprocessing/label.py:151: DeprecationWarning: The truth value of an empty array is ambiguous. Returning False, but in future this will result in an error. Use `array.size > 0` to check that an array is not empty.\n",
      "  if diff:\n",
      "/home/willstudent/.local/lib/python3.6/site-packages/sklearn/preprocessing/label.py:151: DeprecationWarning: The truth value of an empty array is ambiguous. Returning False, but in future this will result in an error. Use `array.size > 0` to check that an array is not empty.\n",
      "  if diff:\n"
     ]
    },
    {
     "name": "stdout",
     "output_type": "stream",
     "text": [
      "[CV]  colsample_bytree=0.6, gamma=0.1, max_depth=50, min_child_weight=3, n_estimators=200, subsample=0.7, total=  36.5s\n",
      "[CV] colsample_bytree=0.6, gamma=0.1, max_depth=50, min_child_weight=3, n_estimators=200, subsample=0.7999999999999999 \n"
     ]
    },
    {
     "name": "stderr",
     "output_type": "stream",
     "text": [
      "/home/willstudent/.local/lib/python3.6/site-packages/sklearn/preprocessing/label.py:151: DeprecationWarning: The truth value of an empty array is ambiguous. Returning False, but in future this will result in an error. Use `array.size > 0` to check that an array is not empty.\n",
      "  if diff:\n"
     ]
    },
    {
     "name": "stdout",
     "output_type": "stream",
     "text": [
      "[CV]  colsample_bytree=0.6, gamma=0.1, max_depth=50, min_child_weight=2, n_estimators=200, subsample=0.8999999999999999, total=  44.3s\n",
      "[CV] colsample_bytree=0.6, gamma=0.1, max_depth=50, min_child_weight=3, n_estimators=200, subsample=0.8999999999999999 \n"
     ]
    },
    {
     "name": "stderr",
     "output_type": "stream",
     "text": [
      "/home/willstudent/.local/lib/python3.6/site-packages/sklearn/preprocessing/label.py:151: DeprecationWarning: The truth value of an empty array is ambiguous. Returning False, but in future this will result in an error. Use `array.size > 0` to check that an array is not empty.\n",
      "  if diff:\n"
     ]
    },
    {
     "name": "stdout",
     "output_type": "stream",
     "text": [
      "[CV]  colsample_bytree=0.6, gamma=0.1, max_depth=50, min_child_weight=2, n_estimators=200, subsample=0.8999999999999999, total=  44.0s\n",
      "[CV] colsample_bytree=0.6, gamma=0.1, max_depth=50, min_child_weight=3, n_estimators=200, subsample=0.8999999999999999 \n"
     ]
    },
    {
     "name": "stderr",
     "output_type": "stream",
     "text": [
      "/home/willstudent/.local/lib/python3.6/site-packages/sklearn/preprocessing/label.py:151: DeprecationWarning: The truth value of an empty array is ambiguous. Returning False, but in future this will result in an error. Use `array.size > 0` to check that an array is not empty.\n",
      "  if diff:\n",
      "/home/willstudent/.local/lib/python3.6/site-packages/sklearn/preprocessing/label.py:151: DeprecationWarning: The truth value of an empty array is ambiguous. Returning False, but in future this will result in an error. Use `array.size > 0` to check that an array is not empty.\n",
      "  if diff:\n"
     ]
    },
    {
     "name": "stdout",
     "output_type": "stream",
     "text": [
      "[CV]  colsample_bytree=0.6, gamma=0.1, max_depth=50, min_child_weight=2, n_estimators=200, subsample=0.8999999999999999, total=  43.7s\n",
      "[CV] colsample_bytree=0.6, gamma=0.1, max_depth=50, min_child_weight=3, n_estimators=200, subsample=0.8999999999999999 \n"
     ]
    },
    {
     "name": "stderr",
     "output_type": "stream",
     "text": [
      "/home/willstudent/.local/lib/python3.6/site-packages/sklearn/preprocessing/label.py:151: DeprecationWarning: The truth value of an empty array is ambiguous. Returning False, but in future this will result in an error. Use `array.size > 0` to check that an array is not empty.\n",
      "  if diff:\n",
      "/home/willstudent/.local/lib/python3.6/site-packages/sklearn/preprocessing/label.py:151: DeprecationWarning: The truth value of an empty array is ambiguous. Returning False, but in future this will result in an error. Use `array.size > 0` to check that an array is not empty.\n",
      "  if diff:\n"
     ]
    },
    {
     "name": "stdout",
     "output_type": "stream",
     "text": [
      "[CV]  colsample_bytree=0.6, gamma=0.1, max_depth=50, min_child_weight=3, n_estimators=200, subsample=0.7, total=  35.4s\n",
      "[CV] colsample_bytree=0.6, gamma=0.2, max_depth=50, min_child_weight=2, n_estimators=200, subsample=0.6 \n"
     ]
    },
    {
     "name": "stderr",
     "output_type": "stream",
     "text": [
      "/home/willstudent/.local/lib/python3.6/site-packages/sklearn/preprocessing/label.py:151: DeprecationWarning: The truth value of an empty array is ambiguous. Returning False, but in future this will result in an error. Use `array.size > 0` to check that an array is not empty.\n",
      "  if diff:\n",
      "/home/willstudent/.local/lib/python3.6/site-packages/sklearn/preprocessing/label.py:151: DeprecationWarning: The truth value of an empty array is ambiguous. Returning False, but in future this will result in an error. Use `array.size > 0` to check that an array is not empty.\n",
      "  if diff:\n"
     ]
    },
    {
     "name": "stdout",
     "output_type": "stream",
     "text": [
      "[CV]  colsample_bytree=0.6, gamma=0.1, max_depth=50, min_child_weight=3, n_estimators=200, subsample=0.7, total=  35.9s\n",
      "[CV] colsample_bytree=0.6, gamma=0.2, max_depth=50, min_child_weight=2, n_estimators=200, subsample=0.6 \n"
     ]
    },
    {
     "name": "stderr",
     "output_type": "stream",
     "text": [
      "/home/willstudent/.local/lib/python3.6/site-packages/sklearn/preprocessing/label.py:151: DeprecationWarning: The truth value of an empty array is ambiguous. Returning False, but in future this will result in an error. Use `array.size > 0` to check that an array is not empty.\n",
      "  if diff:\n",
      "/home/willstudent/.local/lib/python3.6/site-packages/sklearn/preprocessing/label.py:151: DeprecationWarning: The truth value of an empty array is ambiguous. Returning False, but in future this will result in an error. Use `array.size > 0` to check that an array is not empty.\n",
      "  if diff:\n",
      "/home/willstudent/.local/lib/python3.6/site-packages/sklearn/preprocessing/label.py:151: DeprecationWarning: The truth value of an empty array is ambiguous. Returning False, but in future this will result in an error. Use `array.size > 0` to check that an array is not empty.\n",
      "  if diff:\n"
     ]
    },
    {
     "name": "stdout",
     "output_type": "stream",
     "text": [
      "[CV]  colsample_bytree=0.6, gamma=0.1, max_depth=50, min_child_weight=3, n_estimators=200, subsample=0.7999999999999999, total=  38.4s\n",
      "[CV] colsample_bytree=0.6, gamma=0.2, max_depth=50, min_child_weight=2, n_estimators=200, subsample=0.6 \n"
     ]
    },
    {
     "name": "stderr",
     "output_type": "stream",
     "text": [
      "/home/willstudent/.local/lib/python3.6/site-packages/sklearn/preprocessing/label.py:151: DeprecationWarning: The truth value of an empty array is ambiguous. Returning False, but in future this will result in an error. Use `array.size > 0` to check that an array is not empty.\n",
      "  if diff:\n"
     ]
    },
    {
     "name": "stdout",
     "output_type": "stream",
     "text": [
      "[CV]  colsample_bytree=0.6, gamma=0.1, max_depth=50, min_child_weight=3, n_estimators=200, subsample=0.7999999999999999, total=  38.5s\n",
      "[CV] colsample_bytree=0.6, gamma=0.2, max_depth=50, min_child_weight=2, n_estimators=200, subsample=0.7 \n"
     ]
    },
    {
     "name": "stderr",
     "output_type": "stream",
     "text": [
      "/home/willstudent/.local/lib/python3.6/site-packages/sklearn/preprocessing/label.py:151: DeprecationWarning: The truth value of an empty array is ambiguous. Returning False, but in future this will result in an error. Use `array.size > 0` to check that an array is not empty.\n",
      "  if diff:\n",
      "/home/willstudent/.local/lib/python3.6/site-packages/sklearn/preprocessing/label.py:151: DeprecationWarning: The truth value of an empty array is ambiguous. Returning False, but in future this will result in an error. Use `array.size > 0` to check that an array is not empty.\n",
      "  if diff:\n"
     ]
    },
    {
     "name": "stdout",
     "output_type": "stream",
     "text": [
      "[CV]  colsample_bytree=0.6, gamma=0.1, max_depth=50, min_child_weight=3, n_estimators=200, subsample=0.7999999999999999, total=  39.0s\n",
      "[CV] colsample_bytree=0.6, gamma=0.2, max_depth=50, min_child_weight=2, n_estimators=200, subsample=0.7 \n"
     ]
    },
    {
     "name": "stderr",
     "output_type": "stream",
     "text": [
      "/home/willstudent/.local/lib/python3.6/site-packages/sklearn/preprocessing/label.py:151: DeprecationWarning: The truth value of an empty array is ambiguous. Returning False, but in future this will result in an error. Use `array.size > 0` to check that an array is not empty.\n",
      "  if diff:\n",
      "/home/willstudent/.local/lib/python3.6/site-packages/sklearn/preprocessing/label.py:151: DeprecationWarning: The truth value of an empty array is ambiguous. Returning False, but in future this will result in an error. Use `array.size > 0` to check that an array is not empty.\n",
      "  if diff:\n",
      "/home/willstudent/.local/lib/python3.6/site-packages/sklearn/preprocessing/label.py:151: DeprecationWarning: The truth value of an empty array is ambiguous. Returning False, but in future this will result in an error. Use `array.size > 0` to check that an array is not empty.\n",
      "  if diff:\n"
     ]
    },
    {
     "name": "stdout",
     "output_type": "stream",
     "text": [
      "[CV]  colsample_bytree=0.6, gamma=0.1, max_depth=50, min_child_weight=3, n_estimators=200, subsample=0.8999999999999999, total=  41.5s\n",
      "[CV] colsample_bytree=0.6, gamma=0.2, max_depth=50, min_child_weight=2, n_estimators=200, subsample=0.7 \n"
     ]
    },
    {
     "name": "stderr",
     "output_type": "stream",
     "text": [
      "/home/willstudent/.local/lib/python3.6/site-packages/sklearn/preprocessing/label.py:151: DeprecationWarning: The truth value of an empty array is ambiguous. Returning False, but in future this will result in an error. Use `array.size > 0` to check that an array is not empty.\n",
      "  if diff:\n"
     ]
    },
    {
     "name": "stdout",
     "output_type": "stream",
     "text": [
      "[CV]  colsample_bytree=0.6, gamma=0.1, max_depth=50, min_child_weight=3, n_estimators=200, subsample=0.8999999999999999, total=  42.0s\n",
      "[CV] colsample_bytree=0.6, gamma=0.2, max_depth=50, min_child_weight=2, n_estimators=200, subsample=0.7999999999999999 \n"
     ]
    },
    {
     "name": "stderr",
     "output_type": "stream",
     "text": [
      "/home/willstudent/.local/lib/python3.6/site-packages/sklearn/preprocessing/label.py:151: DeprecationWarning: The truth value of an empty array is ambiguous. Returning False, but in future this will result in an error. Use `array.size > 0` to check that an array is not empty.\n",
      "  if diff:\n",
      "/home/willstudent/.local/lib/python3.6/site-packages/sklearn/preprocessing/label.py:151: DeprecationWarning: The truth value of an empty array is ambiguous. Returning False, but in future this will result in an error. Use `array.size > 0` to check that an array is not empty.\n",
      "  if diff:\n"
     ]
    },
    {
     "name": "stdout",
     "output_type": "stream",
     "text": [
      "[CV]  colsample_bytree=0.6, gamma=0.1, max_depth=50, min_child_weight=3, n_estimators=200, subsample=0.8999999999999999, total=  41.8s\n",
      "[CV] colsample_bytree=0.6, gamma=0.2, max_depth=50, min_child_weight=2, n_estimators=200, subsample=0.7999999999999999 \n"
     ]
    },
    {
     "name": "stderr",
     "output_type": "stream",
     "text": [
      "/home/willstudent/.local/lib/python3.6/site-packages/sklearn/preprocessing/label.py:151: DeprecationWarning: The truth value of an empty array is ambiguous. Returning False, but in future this will result in an error. Use `array.size > 0` to check that an array is not empty.\n",
      "  if diff:\n",
      "/home/willstudent/.local/lib/python3.6/site-packages/sklearn/preprocessing/label.py:151: DeprecationWarning: The truth value of an empty array is ambiguous. Returning False, but in future this will result in an error. Use `array.size > 0` to check that an array is not empty.\n",
      "  if diff:\n"
     ]
    },
    {
     "name": "stdout",
     "output_type": "stream",
     "text": [
      "[CV]  colsample_bytree=0.6, gamma=0.2, max_depth=50, min_child_weight=2, n_estimators=200, subsample=0.6, total=  35.7s\n",
      "[CV] colsample_bytree=0.6, gamma=0.2, max_depth=50, min_child_weight=2, n_estimators=200, subsample=0.7999999999999999 \n"
     ]
    },
    {
     "name": "stderr",
     "output_type": "stream",
     "text": [
      "/home/willstudent/.local/lib/python3.6/site-packages/sklearn/preprocessing/label.py:151: DeprecationWarning: The truth value of an empty array is ambiguous. Returning False, but in future this will result in an error. Use `array.size > 0` to check that an array is not empty.\n",
      "  if diff:\n",
      "[Parallel(n_jobs=-1)]: Done  25 tasks      | elapsed:  2.4min\n",
      "/home/willstudent/.local/lib/python3.6/site-packages/sklearn/preprocessing/label.py:151: DeprecationWarning: The truth value of an empty array is ambiguous. Returning False, but in future this will result in an error. Use `array.size > 0` to check that an array is not empty.\n",
      "  if diff:\n"
     ]
    },
    {
     "name": "stdout",
     "output_type": "stream",
     "text": [
      "[CV]  colsample_bytree=0.6, gamma=0.2, max_depth=50, min_child_weight=2, n_estimators=200, subsample=0.6, total=  35.4s\n",
      "[CV] colsample_bytree=0.6, gamma=0.2, max_depth=50, min_child_weight=2, n_estimators=200, subsample=0.8999999999999999 \n"
     ]
    },
    {
     "name": "stderr",
     "output_type": "stream",
     "text": [
      "/home/willstudent/.local/lib/python3.6/site-packages/sklearn/preprocessing/label.py:151: DeprecationWarning: The truth value of an empty array is ambiguous. Returning False, but in future this will result in an error. Use `array.size > 0` to check that an array is not empty.\n",
      "  if diff:\n",
      "/home/willstudent/.local/lib/python3.6/site-packages/sklearn/preprocessing/label.py:151: DeprecationWarning: The truth value of an empty array is ambiguous. Returning False, but in future this will result in an error. Use `array.size > 0` to check that an array is not empty.\n",
      "  if diff:\n"
     ]
    },
    {
     "name": "stdout",
     "output_type": "stream",
     "text": [
      "[CV]  colsample_bytree=0.6, gamma=0.2, max_depth=50, min_child_weight=2, n_estimators=200, subsample=0.6, total=  35.8s\n",
      "[CV] colsample_bytree=0.6, gamma=0.2, max_depth=50, min_child_weight=2, n_estimators=200, subsample=0.8999999999999999 \n"
     ]
    },
    {
     "name": "stderr",
     "output_type": "stream",
     "text": [
      "/home/willstudent/.local/lib/python3.6/site-packages/sklearn/preprocessing/label.py:151: DeprecationWarning: The truth value of an empty array is ambiguous. Returning False, but in future this will result in an error. Use `array.size > 0` to check that an array is not empty.\n",
      "  if diff:\n",
      "/home/willstudent/.local/lib/python3.6/site-packages/sklearn/preprocessing/label.py:151: DeprecationWarning: The truth value of an empty array is ambiguous. Returning False, but in future this will result in an error. Use `array.size > 0` to check that an array is not empty.\n",
      "  if diff:\n"
     ]
    },
    {
     "name": "stdout",
     "output_type": "stream",
     "text": [
      "[CV]  colsample_bytree=0.6, gamma=0.2, max_depth=50, min_child_weight=2, n_estimators=200, subsample=0.7, total=  38.2s\n",
      "[CV] colsample_bytree=0.6, gamma=0.2, max_depth=50, min_child_weight=2, n_estimators=200, subsample=0.8999999999999999 \n"
     ]
    },
    {
     "name": "stderr",
     "output_type": "stream",
     "text": [
      "/home/willstudent/.local/lib/python3.6/site-packages/sklearn/preprocessing/label.py:151: DeprecationWarning: The truth value of an empty array is ambiguous. Returning False, but in future this will result in an error. Use `array.size > 0` to check that an array is not empty.\n",
      "  if diff:\n",
      "/home/willstudent/.local/lib/python3.6/site-packages/sklearn/preprocessing/label.py:151: DeprecationWarning: The truth value of an empty array is ambiguous. Returning False, but in future this will result in an error. Use `array.size > 0` to check that an array is not empty.\n",
      "  if diff:\n"
     ]
    },
    {
     "name": "stdout",
     "output_type": "stream",
     "text": [
      "[CV]  colsample_bytree=0.6, gamma=0.2, max_depth=50, min_child_weight=2, n_estimators=200, subsample=0.7, total=  37.8s\n",
      "[CV] colsample_bytree=0.6, gamma=0.2, max_depth=50, min_child_weight=3, n_estimators=200, subsample=0.6 \n"
     ]
    },
    {
     "name": "stderr",
     "output_type": "stream",
     "text": [
      "/home/willstudent/.local/lib/python3.6/site-packages/sklearn/preprocessing/label.py:151: DeprecationWarning: The truth value of an empty array is ambiguous. Returning False, but in future this will result in an error. Use `array.size > 0` to check that an array is not empty.\n",
      "  if diff:\n",
      "/home/willstudent/.local/lib/python3.6/site-packages/sklearn/preprocessing/label.py:151: DeprecationWarning: The truth value of an empty array is ambiguous. Returning False, but in future this will result in an error. Use `array.size > 0` to check that an array is not empty.\n",
      "  if diff:\n"
     ]
    },
    {
     "name": "stdout",
     "output_type": "stream",
     "text": [
      "[CV]  colsample_bytree=0.6, gamma=0.2, max_depth=50, min_child_weight=2, n_estimators=200, subsample=0.7, total=  37.7s\n",
      "[CV] colsample_bytree=0.6, gamma=0.2, max_depth=50, min_child_weight=3, n_estimators=200, subsample=0.6 \n"
     ]
    },
    {
     "name": "stderr",
     "output_type": "stream",
     "text": [
      "/home/willstudent/.local/lib/python3.6/site-packages/sklearn/preprocessing/label.py:151: DeprecationWarning: The truth value of an empty array is ambiguous. Returning False, but in future this will result in an error. Use `array.size > 0` to check that an array is not empty.\n",
      "  if diff:\n",
      "/home/willstudent/.local/lib/python3.6/site-packages/sklearn/preprocessing/label.py:151: DeprecationWarning: The truth value of an empty array is ambiguous. Returning False, but in future this will result in an error. Use `array.size > 0` to check that an array is not empty.\n",
      "  if diff:\n"
     ]
    },
    {
     "name": "stdout",
     "output_type": "stream",
     "text": [
      "[CV]  colsample_bytree=0.6, gamma=0.2, max_depth=50, min_child_weight=2, n_estimators=200, subsample=0.7999999999999999, total=  40.1s\n",
      "[CV] colsample_bytree=0.6, gamma=0.2, max_depth=50, min_child_weight=3, n_estimators=200, subsample=0.6 \n"
     ]
    },
    {
     "name": "stderr",
     "output_type": "stream",
     "text": [
      "/home/willstudent/.local/lib/python3.6/site-packages/sklearn/preprocessing/label.py:151: DeprecationWarning: The truth value of an empty array is ambiguous. Returning False, but in future this will result in an error. Use `array.size > 0` to check that an array is not empty.\n",
      "  if diff:\n",
      "/home/willstudent/.local/lib/python3.6/site-packages/sklearn/preprocessing/label.py:151: DeprecationWarning: The truth value of an empty array is ambiguous. Returning False, but in future this will result in an error. Use `array.size > 0` to check that an array is not empty.\n",
      "  if diff:\n"
     ]
    },
    {
     "name": "stdout",
     "output_type": "stream",
     "text": [
      "[CV]  colsample_bytree=0.6, gamma=0.2, max_depth=50, min_child_weight=2, n_estimators=200, subsample=0.7999999999999999, total=  40.1s\n",
      "[CV] colsample_bytree=0.6, gamma=0.2, max_depth=50, min_child_weight=3, n_estimators=200, subsample=0.7 \n"
     ]
    },
    {
     "name": "stderr",
     "output_type": "stream",
     "text": [
      "/home/willstudent/.local/lib/python3.6/site-packages/sklearn/preprocessing/label.py:151: DeprecationWarning: The truth value of an empty array is ambiguous. Returning False, but in future this will result in an error. Use `array.size > 0` to check that an array is not empty.\n",
      "  if diff:\n",
      "/home/willstudent/.local/lib/python3.6/site-packages/sklearn/preprocessing/label.py:151: DeprecationWarning: The truth value of an empty array is ambiguous. Returning False, but in future this will result in an error. Use `array.size > 0` to check that an array is not empty.\n",
      "  if diff:\n"
     ]
    },
    {
     "name": "stdout",
     "output_type": "stream",
     "text": [
      "[CV]  colsample_bytree=0.6, gamma=0.2, max_depth=50, min_child_weight=2, n_estimators=200, subsample=0.7999999999999999, total=  41.6s\n",
      "[CV] colsample_bytree=0.6, gamma=0.2, max_depth=50, min_child_weight=3, n_estimators=200, subsample=0.7 \n"
     ]
    },
    {
     "name": "stderr",
     "output_type": "stream",
     "text": [
      "/home/willstudent/.local/lib/python3.6/site-packages/sklearn/preprocessing/label.py:151: DeprecationWarning: The truth value of an empty array is ambiguous. Returning False, but in future this will result in an error. Use `array.size > 0` to check that an array is not empty.\n",
      "  if diff:\n",
      "/home/willstudent/.local/lib/python3.6/site-packages/sklearn/preprocessing/label.py:151: DeprecationWarning: The truth value of an empty array is ambiguous. Returning False, but in future this will result in an error. Use `array.size > 0` to check that an array is not empty.\n",
      "  if diff:\n",
      "/home/willstudent/.local/lib/python3.6/site-packages/sklearn/preprocessing/label.py:151: DeprecationWarning: The truth value of an empty array is ambiguous. Returning False, but in future this will result in an error. Use `array.size > 0` to check that an array is not empty.\n",
      "  if diff:\n"
     ]
    },
    {
     "name": "stdout",
     "output_type": "stream",
     "text": [
      "[CV]  colsample_bytree=0.6, gamma=0.2, max_depth=50, min_child_weight=2, n_estimators=200, subsample=0.8999999999999999, total=  45.1s\n",
      "[CV] colsample_bytree=0.6, gamma=0.2, max_depth=50, min_child_weight=3, n_estimators=200, subsample=0.7 \n"
     ]
    },
    {
     "name": "stderr",
     "output_type": "stream",
     "text": [
      "/home/willstudent/.local/lib/python3.6/site-packages/sklearn/preprocessing/label.py:151: DeprecationWarning: The truth value of an empty array is ambiguous. Returning False, but in future this will result in an error. Use `array.size > 0` to check that an array is not empty.\n",
      "  if diff:\n"
     ]
    },
    {
     "name": "stdout",
     "output_type": "stream",
     "text": [
      "[CV]  colsample_bytree=0.6, gamma=0.2, max_depth=50, min_child_weight=3, n_estimators=200, subsample=0.6, total=  33.5s\n",
      "[CV] colsample_bytree=0.6, gamma=0.2, max_depth=50, min_child_weight=3, n_estimators=200, subsample=0.7999999999999999 \n"
     ]
    },
    {
     "name": "stderr",
     "output_type": "stream",
     "text": [
      "/home/willstudent/.local/lib/python3.6/site-packages/sklearn/preprocessing/label.py:151: DeprecationWarning: The truth value of an empty array is ambiguous. Returning False, but in future this will result in an error. Use `array.size > 0` to check that an array is not empty.\n",
      "  if diff:\n",
      "/home/willstudent/.local/lib/python3.6/site-packages/sklearn/preprocessing/label.py:151: DeprecationWarning: The truth value of an empty array is ambiguous. Returning False, but in future this will result in an error. Use `array.size > 0` to check that an array is not empty.\n",
      "  if diff:\n"
     ]
    },
    {
     "name": "stdout",
     "output_type": "stream",
     "text": [
      "[CV]  colsample_bytree=0.6, gamma=0.2, max_depth=50, min_child_weight=3, n_estimators=200, subsample=0.6, total=  33.0s\n"
     ]
    },
    {
     "name": "stderr",
     "output_type": "stream",
     "text": [
      "/home/willstudent/.local/lib/python3.6/site-packages/sklearn/preprocessing/label.py:151: DeprecationWarning: The truth value of an empty array is ambiguous. Returning False, but in future this will result in an error. Use `array.size > 0` to check that an array is not empty.\n",
      "  if diff:\n"
     ]
    },
    {
     "name": "stdout",
     "output_type": "stream",
     "text": [
      "[CV] colsample_bytree=0.6, gamma=0.2, max_depth=50, min_child_weight=3, n_estimators=200, subsample=0.7999999999999999 \n"
     ]
    },
    {
     "name": "stderr",
     "output_type": "stream",
     "text": [
      "/home/willstudent/.local/lib/python3.6/site-packages/sklearn/preprocessing/label.py:151: DeprecationWarning: The truth value of an empty array is ambiguous. Returning False, but in future this will result in an error. Use `array.size > 0` to check that an array is not empty.\n",
      "  if diff:\n"
     ]
    },
    {
     "name": "stdout",
     "output_type": "stream",
     "text": [
      "[CV]  colsample_bytree=0.6, gamma=0.2, max_depth=50, min_child_weight=2, n_estimators=200, subsample=0.8999999999999999, total=  43.7s\n",
      "[CV] colsample_bytree=0.6, gamma=0.2, max_depth=50, min_child_weight=3, n_estimators=200, subsample=0.7999999999999999 \n"
     ]
    },
    {
     "name": "stderr",
     "output_type": "stream",
     "text": [
      "/home/willstudent/.local/lib/python3.6/site-packages/sklearn/preprocessing/label.py:151: DeprecationWarning: The truth value of an empty array is ambiguous. Returning False, but in future this will result in an error. Use `array.size > 0` to check that an array is not empty.\n",
      "  if diff:\n",
      "/home/willstudent/.local/lib/python3.6/site-packages/sklearn/preprocessing/label.py:151: DeprecationWarning: The truth value of an empty array is ambiguous. Returning False, but in future this will result in an error. Use `array.size > 0` to check that an array is not empty.\n",
      "  if diff:\n",
      "/home/willstudent/.local/lib/python3.6/site-packages/sklearn/preprocessing/label.py:151: DeprecationWarning: The truth value of an empty array is ambiguous. Returning False, but in future this will result in an error. Use `array.size > 0` to check that an array is not empty.\n",
      "  if diff:\n"
     ]
    },
    {
     "name": "stdout",
     "output_type": "stream",
     "text": [
      "[CV]  colsample_bytree=0.6, gamma=0.2, max_depth=50, min_child_weight=3, n_estimators=200, subsample=0.6, total=  33.4s\n",
      "[CV] colsample_bytree=0.6, gamma=0.2, max_depth=50, min_child_weight=3, n_estimators=200, subsample=0.8999999999999999 \n"
     ]
    },
    {
     "name": "stderr",
     "output_type": "stream",
     "text": [
      "/home/willstudent/.local/lib/python3.6/site-packages/sklearn/preprocessing/label.py:151: DeprecationWarning: The truth value of an empty array is ambiguous. Returning False, but in future this will result in an error. Use `array.size > 0` to check that an array is not empty.\n",
      "  if diff:\n"
     ]
    },
    {
     "name": "stdout",
     "output_type": "stream",
     "text": [
      "[CV]  colsample_bytree=0.6, gamma=0.2, max_depth=50, min_child_weight=2, n_estimators=200, subsample=0.8999999999999999, total=  43.6s\n",
      "[CV] colsample_bytree=0.6, gamma=0.2, max_depth=50, min_child_weight=3, n_estimators=200, subsample=0.8999999999999999 \n"
     ]
    },
    {
     "name": "stderr",
     "output_type": "stream",
     "text": [
      "/home/willstudent/.local/lib/python3.6/site-packages/sklearn/preprocessing/label.py:151: DeprecationWarning: The truth value of an empty array is ambiguous. Returning False, but in future this will result in an error. Use `array.size > 0` to check that an array is not empty.\n",
      "  if diff:\n",
      "/home/willstudent/.local/lib/python3.6/site-packages/sklearn/preprocessing/label.py:151: DeprecationWarning: The truth value of an empty array is ambiguous. Returning False, but in future this will result in an error. Use `array.size > 0` to check that an array is not empty.\n",
      "  if diff:\n"
     ]
    },
    {
     "name": "stdout",
     "output_type": "stream",
     "text": [
      "[CV]  colsample_bytree=0.6, gamma=0.2, max_depth=50, min_child_weight=3, n_estimators=200, subsample=0.7, total=  36.3s\n",
      "[CV] colsample_bytree=0.6, gamma=0.2, max_depth=50, min_child_weight=3, n_estimators=200, subsample=0.8999999999999999 \n"
     ]
    },
    {
     "name": "stderr",
     "output_type": "stream",
     "text": [
      "/home/willstudent/.local/lib/python3.6/site-packages/sklearn/preprocessing/label.py:151: DeprecationWarning: The truth value of an empty array is ambiguous. Returning False, but in future this will result in an error. Use `array.size > 0` to check that an array is not empty.\n",
      "  if diff:\n",
      "/home/willstudent/.local/lib/python3.6/site-packages/sklearn/preprocessing/label.py:151: DeprecationWarning: The truth value of an empty array is ambiguous. Returning False, but in future this will result in an error. Use `array.size > 0` to check that an array is not empty.\n",
      "  if diff:\n"
     ]
    },
    {
     "name": "stdout",
     "output_type": "stream",
     "text": [
      "[CV]  colsample_bytree=0.6, gamma=0.2, max_depth=50, min_child_weight=3, n_estimators=200, subsample=0.7, total=  35.9s\n",
      "[CV] colsample_bytree=0.6, gamma=0.30000000000000004, max_depth=50, min_child_weight=2, n_estimators=200, subsample=0.6 \n"
     ]
    },
    {
     "name": "stderr",
     "output_type": "stream",
     "text": [
      "/home/willstudent/.local/lib/python3.6/site-packages/sklearn/preprocessing/label.py:151: DeprecationWarning: The truth value of an empty array is ambiguous. Returning False, but in future this will result in an error. Use `array.size > 0` to check that an array is not empty.\n",
      "  if diff:\n",
      "/home/willstudent/.local/lib/python3.6/site-packages/sklearn/preprocessing/label.py:151: DeprecationWarning: The truth value of an empty array is ambiguous. Returning False, but in future this will result in an error. Use `array.size > 0` to check that an array is not empty.\n",
      "  if diff:\n"
     ]
    },
    {
     "name": "stdout",
     "output_type": "stream",
     "text": [
      "[CV]  colsample_bytree=0.6, gamma=0.2, max_depth=50, min_child_weight=3, n_estimators=200, subsample=0.7, total=  36.1s\n",
      "[CV] colsample_bytree=0.6, gamma=0.30000000000000004, max_depth=50, min_child_weight=2, n_estimators=200, subsample=0.6 \n"
     ]
    },
    {
     "name": "stderr",
     "output_type": "stream",
     "text": [
      "/home/willstudent/.local/lib/python3.6/site-packages/sklearn/preprocessing/label.py:151: DeprecationWarning: The truth value of an empty array is ambiguous. Returning False, but in future this will result in an error. Use `array.size > 0` to check that an array is not empty.\n",
      "  if diff:\n",
      "/home/willstudent/.local/lib/python3.6/site-packages/sklearn/preprocessing/label.py:151: DeprecationWarning: The truth value of an empty array is ambiguous. Returning False, but in future this will result in an error. Use `array.size > 0` to check that an array is not empty.\n",
      "  if diff:\n"
     ]
    },
    {
     "name": "stdout",
     "output_type": "stream",
     "text": [
      "[CV]  colsample_bytree=0.6, gamma=0.2, max_depth=50, min_child_weight=3, n_estimators=200, subsample=0.7999999999999999, total=  39.4s\n",
      "[CV] colsample_bytree=0.6, gamma=0.30000000000000004, max_depth=50, min_child_weight=2, n_estimators=200, subsample=0.6 \n"
     ]
    },
    {
     "name": "stderr",
     "output_type": "stream",
     "text": [
      "/home/willstudent/.local/lib/python3.6/site-packages/sklearn/preprocessing/label.py:151: DeprecationWarning: The truth value of an empty array is ambiguous. Returning False, but in future this will result in an error. Use `array.size > 0` to check that an array is not empty.\n",
      "  if diff:\n",
      "/home/willstudent/.local/lib/python3.6/site-packages/sklearn/preprocessing/label.py:151: DeprecationWarning: The truth value of an empty array is ambiguous. Returning False, but in future this will result in an error. Use `array.size > 0` to check that an array is not empty.\n",
      "  if diff:\n"
     ]
    },
    {
     "name": "stdout",
     "output_type": "stream",
     "text": [
      "[CV]  colsample_bytree=0.6, gamma=0.2, max_depth=50, min_child_weight=3, n_estimators=200, subsample=0.7999999999999999, total=  38.2s\n",
      "[CV] colsample_bytree=0.6, gamma=0.30000000000000004, max_depth=50, min_child_weight=2, n_estimators=200, subsample=0.7 \n"
     ]
    },
    {
     "name": "stderr",
     "output_type": "stream",
     "text": [
      "/home/willstudent/.local/lib/python3.6/site-packages/sklearn/preprocessing/label.py:151: DeprecationWarning: The truth value of an empty array is ambiguous. Returning False, but in future this will result in an error. Use `array.size > 0` to check that an array is not empty.\n",
      "  if diff:\n",
      "/home/willstudent/.local/lib/python3.6/site-packages/sklearn/preprocessing/label.py:151: DeprecationWarning: The truth value of an empty array is ambiguous. Returning False, but in future this will result in an error. Use `array.size > 0` to check that an array is not empty.\n",
      "  if diff:\n"
     ]
    },
    {
     "name": "stdout",
     "output_type": "stream",
     "text": [
      "[CV]  colsample_bytree=0.6, gamma=0.2, max_depth=50, min_child_weight=3, n_estimators=200, subsample=0.7999999999999999, total=  39.3s\n",
      "[CV] colsample_bytree=0.6, gamma=0.30000000000000004, max_depth=50, min_child_weight=2, n_estimators=200, subsample=0.7 \n"
     ]
    },
    {
     "name": "stderr",
     "output_type": "stream",
     "text": [
      "/home/willstudent/.local/lib/python3.6/site-packages/sklearn/preprocessing/label.py:151: DeprecationWarning: The truth value of an empty array is ambiguous. Returning False, but in future this will result in an error. Use `array.size > 0` to check that an array is not empty.\n",
      "  if diff:\n",
      "/home/willstudent/.local/lib/python3.6/site-packages/sklearn/preprocessing/label.py:151: DeprecationWarning: The truth value of an empty array is ambiguous. Returning False, but in future this will result in an error. Use `array.size > 0` to check that an array is not empty.\n",
      "  if diff:\n",
      "/home/willstudent/.local/lib/python3.6/site-packages/sklearn/preprocessing/label.py:151: DeprecationWarning: The truth value of an empty array is ambiguous. Returning False, but in future this will result in an error. Use `array.size > 0` to check that an array is not empty.\n",
      "  if diff:\n"
     ]
    },
    {
     "name": "stdout",
     "output_type": "stream",
     "text": [
      "[CV]  colsample_bytree=0.6, gamma=0.2, max_depth=50, min_child_weight=3, n_estimators=200, subsample=0.8999999999999999, total=  42.9s\n",
      "[CV] colsample_bytree=0.6, gamma=0.30000000000000004, max_depth=50, min_child_weight=2, n_estimators=200, subsample=0.7 \n"
     ]
    },
    {
     "name": "stderr",
     "output_type": "stream",
     "text": [
      "/home/willstudent/.local/lib/python3.6/site-packages/sklearn/preprocessing/label.py:151: DeprecationWarning: The truth value of an empty array is ambiguous. Returning False, but in future this will result in an error. Use `array.size > 0` to check that an array is not empty.\n",
      "  if diff:\n"
     ]
    },
    {
     "name": "stdout",
     "output_type": "stream",
     "text": [
      "[CV]  colsample_bytree=0.6, gamma=0.2, max_depth=50, min_child_weight=3, n_estimators=200, subsample=0.8999999999999999, total=  42.7s\n",
      "[CV] colsample_bytree=0.6, gamma=0.30000000000000004, max_depth=50, min_child_weight=2, n_estimators=200, subsample=0.7999999999999999 \n"
     ]
    },
    {
     "name": "stderr",
     "output_type": "stream",
     "text": [
      "/home/willstudent/.local/lib/python3.6/site-packages/sklearn/preprocessing/label.py:151: DeprecationWarning: The truth value of an empty array is ambiguous. Returning False, but in future this will result in an error. Use `array.size > 0` to check that an array is not empty.\n",
      "  if diff:\n",
      "/home/willstudent/.local/lib/python3.6/site-packages/sklearn/preprocessing/label.py:151: DeprecationWarning: The truth value of an empty array is ambiguous. Returning False, but in future this will result in an error. Use `array.size > 0` to check that an array is not empty.\n",
      "  if diff:\n"
     ]
    },
    {
     "name": "stdout",
     "output_type": "stream",
     "text": [
      "[CV]  colsample_bytree=0.6, gamma=0.2, max_depth=50, min_child_weight=3, n_estimators=200, subsample=0.8999999999999999, total=  42.6s\n",
      "[CV] colsample_bytree=0.6, gamma=0.30000000000000004, max_depth=50, min_child_weight=2, n_estimators=200, subsample=0.7999999999999999 \n"
     ]
    },
    {
     "name": "stderr",
     "output_type": "stream",
     "text": [
      "/home/willstudent/.local/lib/python3.6/site-packages/sklearn/preprocessing/label.py:151: DeprecationWarning: The truth value of an empty array is ambiguous. Returning False, but in future this will result in an error. Use `array.size > 0` to check that an array is not empty.\n",
      "  if diff:\n",
      "/home/willstudent/.local/lib/python3.6/site-packages/sklearn/preprocessing/label.py:151: DeprecationWarning: The truth value of an empty array is ambiguous. Returning False, but in future this will result in an error. Use `array.size > 0` to check that an array is not empty.\n",
      "  if diff:\n"
     ]
    },
    {
     "name": "stdout",
     "output_type": "stream",
     "text": [
      "[CV]  colsample_bytree=0.6, gamma=0.30000000000000004, max_depth=50, min_child_weight=2, n_estimators=200, subsample=0.6, total=  35.5s\n",
      "[CV] colsample_bytree=0.6, gamma=0.30000000000000004, max_depth=50, min_child_weight=2, n_estimators=200, subsample=0.7999999999999999 \n"
     ]
    },
    {
     "name": "stderr",
     "output_type": "stream",
     "text": [
      "/home/willstudent/.local/lib/python3.6/site-packages/sklearn/preprocessing/label.py:151: DeprecationWarning: The truth value of an empty array is ambiguous. Returning False, but in future this will result in an error. Use `array.size > 0` to check that an array is not empty.\n",
      "  if diff:\n",
      "/home/willstudent/.local/lib/python3.6/site-packages/sklearn/preprocessing/label.py:151: DeprecationWarning: The truth value of an empty array is ambiguous. Returning False, but in future this will result in an error. Use `array.size > 0` to check that an array is not empty.\n",
      "  if diff:\n"
     ]
    },
    {
     "name": "stdout",
     "output_type": "stream",
     "text": [
      "[CV]  colsample_bytree=0.6, gamma=0.30000000000000004, max_depth=50, min_child_weight=2, n_estimators=200, subsample=0.6, total=  35.3s\n",
      "[CV] colsample_bytree=0.6, gamma=0.30000000000000004, max_depth=50, min_child_weight=2, n_estimators=200, subsample=0.8999999999999999 \n"
     ]
    },
    {
     "name": "stderr",
     "output_type": "stream",
     "text": [
      "/home/willstudent/.local/lib/python3.6/site-packages/sklearn/preprocessing/label.py:151: DeprecationWarning: The truth value of an empty array is ambiguous. Returning False, but in future this will result in an error. Use `array.size > 0` to check that an array is not empty.\n",
      "  if diff:\n",
      "/home/willstudent/.local/lib/python3.6/site-packages/sklearn/preprocessing/label.py:151: DeprecationWarning: The truth value of an empty array is ambiguous. Returning False, but in future this will result in an error. Use `array.size > 0` to check that an array is not empty.\n",
      "  if diff:\n"
     ]
    },
    {
     "name": "stdout",
     "output_type": "stream",
     "text": [
      "[CV]  colsample_bytree=0.6, gamma=0.30000000000000004, max_depth=50, min_child_weight=2, n_estimators=200, subsample=0.6, total=  36.1s\n",
      "[CV] colsample_bytree=0.6, gamma=0.30000000000000004, max_depth=50, min_child_weight=2, n_estimators=200, subsample=0.8999999999999999 \n"
     ]
    },
    {
     "name": "stderr",
     "output_type": "stream",
     "text": [
      "/home/willstudent/.local/lib/python3.6/site-packages/sklearn/preprocessing/label.py:151: DeprecationWarning: The truth value of an empty array is ambiguous. Returning False, but in future this will result in an error. Use `array.size > 0` to check that an array is not empty.\n",
      "  if diff:\n",
      "/home/willstudent/.local/lib/python3.6/site-packages/sklearn/preprocessing/label.py:151: DeprecationWarning: The truth value of an empty array is ambiguous. Returning False, but in future this will result in an error. Use `array.size > 0` to check that an array is not empty.\n",
      "  if diff:\n"
     ]
    },
    {
     "name": "stdout",
     "output_type": "stream",
     "text": [
      "[CV]  colsample_bytree=0.6, gamma=0.30000000000000004, max_depth=50, min_child_weight=2, n_estimators=200, subsample=0.7, total=  38.0s\n",
      "[CV] colsample_bytree=0.6, gamma=0.30000000000000004, max_depth=50, min_child_weight=2, n_estimators=200, subsample=0.8999999999999999 \n"
     ]
    },
    {
     "name": "stderr",
     "output_type": "stream",
     "text": [
      "/home/willstudent/.local/lib/python3.6/site-packages/sklearn/preprocessing/label.py:151: DeprecationWarning: The truth value of an empty array is ambiguous. Returning False, but in future this will result in an error. Use `array.size > 0` to check that an array is not empty.\n",
      "  if diff:\n",
      "/home/willstudent/.local/lib/python3.6/site-packages/sklearn/preprocessing/label.py:151: DeprecationWarning: The truth value of an empty array is ambiguous. Returning False, but in future this will result in an error. Use `array.size > 0` to check that an array is not empty.\n",
      "  if diff:\n"
     ]
    },
    {
     "name": "stdout",
     "output_type": "stream",
     "text": [
      "[CV]  colsample_bytree=0.6, gamma=0.30000000000000004, max_depth=50, min_child_weight=2, n_estimators=200, subsample=0.7, total=  38.2s\n",
      "[CV] colsample_bytree=0.6, gamma=0.30000000000000004, max_depth=50, min_child_weight=3, n_estimators=200, subsample=0.6 \n"
     ]
    },
    {
     "name": "stderr",
     "output_type": "stream",
     "text": [
      "/home/willstudent/.local/lib/python3.6/site-packages/sklearn/preprocessing/label.py:151: DeprecationWarning: The truth value of an empty array is ambiguous. Returning False, but in future this will result in an error. Use `array.size > 0` to check that an array is not empty.\n",
      "  if diff:\n",
      "/home/willstudent/.local/lib/python3.6/site-packages/sklearn/preprocessing/label.py:151: DeprecationWarning: The truth value of an empty array is ambiguous. Returning False, but in future this will result in an error. Use `array.size > 0` to check that an array is not empty.\n",
      "  if diff:\n"
     ]
    },
    {
     "name": "stdout",
     "output_type": "stream",
     "text": [
      "[CV]  colsample_bytree=0.6, gamma=0.30000000000000004, max_depth=50, min_child_weight=2, n_estimators=200, subsample=0.7, total=  38.4s\n",
      "[CV] colsample_bytree=0.6, gamma=0.30000000000000004, max_depth=50, min_child_weight=3, n_estimators=200, subsample=0.6 \n"
     ]
    },
    {
     "name": "stderr",
     "output_type": "stream",
     "text": [
      "/home/willstudent/.local/lib/python3.6/site-packages/sklearn/preprocessing/label.py:151: DeprecationWarning: The truth value of an empty array is ambiguous. Returning False, but in future this will result in an error. Use `array.size > 0` to check that an array is not empty.\n",
      "  if diff:\n",
      "/home/willstudent/.local/lib/python3.6/site-packages/sklearn/preprocessing/label.py:151: DeprecationWarning: The truth value of an empty array is ambiguous. Returning False, but in future this will result in an error. Use `array.size > 0` to check that an array is not empty.\n",
      "  if diff:\n"
     ]
    },
    {
     "name": "stdout",
     "output_type": "stream",
     "text": [
      "[CV]  colsample_bytree=0.6, gamma=0.30000000000000004, max_depth=50, min_child_weight=2, n_estimators=200, subsample=0.7999999999999999, total=  41.8s\n",
      "[CV] colsample_bytree=0.6, gamma=0.30000000000000004, max_depth=50, min_child_weight=3, n_estimators=200, subsample=0.6 \n"
     ]
    },
    {
     "name": "stderr",
     "output_type": "stream",
     "text": [
      "/home/willstudent/.local/lib/python3.6/site-packages/sklearn/preprocessing/label.py:151: DeprecationWarning: The truth value of an empty array is ambiguous. Returning False, but in future this will result in an error. Use `array.size > 0` to check that an array is not empty.\n",
      "  if diff:\n",
      "/home/willstudent/.local/lib/python3.6/site-packages/sklearn/preprocessing/label.py:151: DeprecationWarning: The truth value of an empty array is ambiguous. Returning False, but in future this will result in an error. Use `array.size > 0` to check that an array is not empty.\n",
      "  if diff:\n"
     ]
    },
    {
     "name": "stdout",
     "output_type": "stream",
     "text": [
      "[CV]  colsample_bytree=0.6, gamma=0.30000000000000004, max_depth=50, min_child_weight=2, n_estimators=200, subsample=0.7999999999999999, total=  42.1s\n",
      "[CV] colsample_bytree=0.6, gamma=0.30000000000000004, max_depth=50, min_child_weight=3, n_estimators=200, subsample=0.7 \n"
     ]
    },
    {
     "name": "stderr",
     "output_type": "stream",
     "text": [
      "/home/willstudent/.local/lib/python3.6/site-packages/sklearn/preprocessing/label.py:151: DeprecationWarning: The truth value of an empty array is ambiguous. Returning False, but in future this will result in an error. Use `array.size > 0` to check that an array is not empty.\n",
      "  if diff:\n",
      "/home/willstudent/.local/lib/python3.6/site-packages/sklearn/preprocessing/label.py:151: DeprecationWarning: The truth value of an empty array is ambiguous. Returning False, but in future this will result in an error. Use `array.size > 0` to check that an array is not empty.\n",
      "  if diff:\n"
     ]
    },
    {
     "name": "stdout",
     "output_type": "stream",
     "text": [
      "[CV]  colsample_bytree=0.6, gamma=0.30000000000000004, max_depth=50, min_child_weight=2, n_estimators=200, subsample=0.7999999999999999, total=  41.5s\n",
      "[CV] colsample_bytree=0.6, gamma=0.30000000000000004, max_depth=50, min_child_weight=3, n_estimators=200, subsample=0.7 \n"
     ]
    },
    {
     "name": "stderr",
     "output_type": "stream",
     "text": [
      "/home/willstudent/.local/lib/python3.6/site-packages/sklearn/preprocessing/label.py:151: DeprecationWarning: The truth value of an empty array is ambiguous. Returning False, but in future this will result in an error. Use `array.size > 0` to check that an array is not empty.\n",
      "  if diff:\n",
      "/home/willstudent/.local/lib/python3.6/site-packages/sklearn/preprocessing/label.py:151: DeprecationWarning: The truth value of an empty array is ambiguous. Returning False, but in future this will result in an error. Use `array.size > 0` to check that an array is not empty.\n",
      "  if diff:\n"
     ]
    },
    {
     "name": "stdout",
     "output_type": "stream",
     "text": [
      "[CV]  colsample_bytree=0.6, gamma=0.30000000000000004, max_depth=50, min_child_weight=3, n_estimators=200, subsample=0.6, total=  33.4s\n",
      "[CV] colsample_bytree=0.6, gamma=0.30000000000000004, max_depth=50, min_child_weight=3, n_estimators=200, subsample=0.7 \n"
     ]
    },
    {
     "name": "stderr",
     "output_type": "stream",
     "text": [
      "/home/willstudent/.local/lib/python3.6/site-packages/sklearn/preprocessing/label.py:151: DeprecationWarning: The truth value of an empty array is ambiguous. Returning False, but in future this will result in an error. Use `array.size > 0` to check that an array is not empty.\n",
      "  if diff:\n",
      "/home/willstudent/.local/lib/python3.6/site-packages/sklearn/preprocessing/label.py:151: DeprecationWarning: The truth value of an empty array is ambiguous. Returning False, but in future this will result in an error. Use `array.size > 0` to check that an array is not empty.\n",
      "  if diff:\n"
     ]
    },
    {
     "name": "stdout",
     "output_type": "stream",
     "text": [
      "[CV]  colsample_bytree=0.6, gamma=0.30000000000000004, max_depth=50, min_child_weight=2, n_estimators=200, subsample=0.8999999999999999, total=  45.2s\n",
      "[CV] colsample_bytree=0.6, gamma=0.30000000000000004, max_depth=50, min_child_weight=3, n_estimators=200, subsample=0.7999999999999999 \n"
     ]
    },
    {
     "name": "stderr",
     "output_type": "stream",
     "text": [
      "/home/willstudent/.local/lib/python3.6/site-packages/sklearn/preprocessing/label.py:151: DeprecationWarning: The truth value of an empty array is ambiguous. Returning False, but in future this will result in an error. Use `array.size > 0` to check that an array is not empty.\n",
      "  if diff:\n",
      "/home/willstudent/.local/lib/python3.6/site-packages/sklearn/preprocessing/label.py:151: DeprecationWarning: The truth value of an empty array is ambiguous. Returning False, but in future this will result in an error. Use `array.size > 0` to check that an array is not empty.\n",
      "  if diff:\n"
     ]
    },
    {
     "name": "stdout",
     "output_type": "stream",
     "text": [
      "[CV]  colsample_bytree=0.6, gamma=0.30000000000000004, max_depth=50, min_child_weight=2, n_estimators=200, subsample=0.8999999999999999, total=  45.4s\n",
      "[CV] colsample_bytree=0.6, gamma=0.30000000000000004, max_depth=50, min_child_weight=3, n_estimators=200, subsample=0.7999999999999999 \n"
     ]
    },
    {
     "name": "stderr",
     "output_type": "stream",
     "text": [
      "/home/willstudent/.local/lib/python3.6/site-packages/sklearn/preprocessing/label.py:151: DeprecationWarning: The truth value of an empty array is ambiguous. Returning False, but in future this will result in an error. Use `array.size > 0` to check that an array is not empty.\n",
      "  if diff:\n",
      "/home/willstudent/.local/lib/python3.6/site-packages/sklearn/preprocessing/label.py:151: DeprecationWarning: The truth value of an empty array is ambiguous. Returning False, but in future this will result in an error. Use `array.size > 0` to check that an array is not empty.\n",
      "  if diff:\n"
     ]
    },
    {
     "name": "stdout",
     "output_type": "stream",
     "text": [
      "[CV]  colsample_bytree=0.6, gamma=0.30000000000000004, max_depth=50, min_child_weight=3, n_estimators=200, subsample=0.6, total=  34.3s\n",
      "[CV] colsample_bytree=0.6, gamma=0.30000000000000004, max_depth=50, min_child_weight=3, n_estimators=200, subsample=0.7999999999999999 \n"
     ]
    },
    {
     "name": "stderr",
     "output_type": "stream",
     "text": [
      "/home/willstudent/.local/lib/python3.6/site-packages/sklearn/preprocessing/label.py:151: DeprecationWarning: The truth value of an empty array is ambiguous. Returning False, but in future this will result in an error. Use `array.size > 0` to check that an array is not empty.\n",
      "  if diff:\n",
      "/home/willstudent/.local/lib/python3.6/site-packages/sklearn/preprocessing/label.py:151: DeprecationWarning: The truth value of an empty array is ambiguous. Returning False, but in future this will result in an error. Use `array.size > 0` to check that an array is not empty.\n",
      "  if diff:\n"
     ]
    },
    {
     "name": "stdout",
     "output_type": "stream",
     "text": [
      "[CV]  colsample_bytree=0.6, gamma=0.30000000000000004, max_depth=50, min_child_weight=2, n_estimators=200, subsample=0.8999999999999999, total=  45.2s\n",
      "[CV] colsample_bytree=0.6, gamma=0.30000000000000004, max_depth=50, min_child_weight=3, n_estimators=200, subsample=0.8999999999999999 \n"
     ]
    },
    {
     "name": "stderr",
     "output_type": "stream",
     "text": [
      "/home/willstudent/.local/lib/python3.6/site-packages/sklearn/preprocessing/label.py:151: DeprecationWarning: The truth value of an empty array is ambiguous. Returning False, but in future this will result in an error. Use `array.size > 0` to check that an array is not empty.\n",
      "  if diff:\n",
      "/home/willstudent/.local/lib/python3.6/site-packages/sklearn/preprocessing/label.py:151: DeprecationWarning: The truth value of an empty array is ambiguous. Returning False, but in future this will result in an error. Use `array.size > 0` to check that an array is not empty.\n",
      "  if diff:\n"
     ]
    },
    {
     "name": "stdout",
     "output_type": "stream",
     "text": [
      "[CV]  colsample_bytree=0.6, gamma=0.30000000000000004, max_depth=50, min_child_weight=3, n_estimators=200, subsample=0.6, total=  33.6s\n",
      "[CV] colsample_bytree=0.6, gamma=0.30000000000000004, max_depth=50, min_child_weight=3, n_estimators=200, subsample=0.8999999999999999 \n"
     ]
    },
    {
     "name": "stderr",
     "output_type": "stream",
     "text": [
      "/home/willstudent/.local/lib/python3.6/site-packages/sklearn/preprocessing/label.py:151: DeprecationWarning: The truth value of an empty array is ambiguous. Returning False, but in future this will result in an error. Use `array.size > 0` to check that an array is not empty.\n",
      "  if diff:\n",
      "/home/willstudent/.local/lib/python3.6/site-packages/sklearn/preprocessing/label.py:151: DeprecationWarning: The truth value of an empty array is ambiguous. Returning False, but in future this will result in an error. Use `array.size > 0` to check that an array is not empty.\n",
      "  if diff:\n"
     ]
    },
    {
     "name": "stdout",
     "output_type": "stream",
     "text": [
      "[CV]  colsample_bytree=0.6, gamma=0.30000000000000004, max_depth=50, min_child_weight=3, n_estimators=200, subsample=0.7, total=  37.3s\n",
      "[CV] colsample_bytree=0.6, gamma=0.30000000000000004, max_depth=50, min_child_weight=3, n_estimators=200, subsample=0.8999999999999999 \n"
     ]
    },
    {
     "name": "stderr",
     "output_type": "stream",
     "text": [
      "/home/willstudent/.local/lib/python3.6/site-packages/sklearn/preprocessing/label.py:151: DeprecationWarning: The truth value of an empty array is ambiguous. Returning False, but in future this will result in an error. Use `array.size > 0` to check that an array is not empty.\n",
      "  if diff:\n",
      "/home/willstudent/.local/lib/python3.6/site-packages/sklearn/preprocessing/label.py:151: DeprecationWarning: The truth value of an empty array is ambiguous. Returning False, but in future this will result in an error. Use `array.size > 0` to check that an array is not empty.\n",
      "  if diff:\n"
     ]
    },
    {
     "name": "stdout",
     "output_type": "stream",
     "text": [
      "[CV]  colsample_bytree=0.6, gamma=0.30000000000000004, max_depth=50, min_child_weight=3, n_estimators=200, subsample=0.7, total=  35.0s\n",
      "[CV] colsample_bytree=0.6, gamma=0.4, max_depth=50, min_child_weight=2, n_estimators=200, subsample=0.6 \n"
     ]
    },
    {
     "name": "stderr",
     "output_type": "stream",
     "text": [
      "/home/willstudent/.local/lib/python3.6/site-packages/sklearn/preprocessing/label.py:151: DeprecationWarning: The truth value of an empty array is ambiguous. Returning False, but in future this will result in an error. Use `array.size > 0` to check that an array is not empty.\n",
      "  if diff:\n",
      "/home/willstudent/.local/lib/python3.6/site-packages/sklearn/preprocessing/label.py:151: DeprecationWarning: The truth value of an empty array is ambiguous. Returning False, but in future this will result in an error. Use `array.size > 0` to check that an array is not empty.\n",
      "  if diff:\n"
     ]
    },
    {
     "name": "stdout",
     "output_type": "stream",
     "text": [
      "[CV]  colsample_bytree=0.6, gamma=0.30000000000000004, max_depth=50, min_child_weight=3, n_estimators=200, subsample=0.7, total=  35.5s\n",
      "[CV] colsample_bytree=0.6, gamma=0.4, max_depth=50, min_child_weight=2, n_estimators=200, subsample=0.6 \n"
     ]
    },
    {
     "name": "stderr",
     "output_type": "stream",
     "text": [
      "/home/willstudent/.local/lib/python3.6/site-packages/sklearn/preprocessing/label.py:151: DeprecationWarning: The truth value of an empty array is ambiguous. Returning False, but in future this will result in an error. Use `array.size > 0` to check that an array is not empty.\n",
      "  if diff:\n",
      "/home/willstudent/.local/lib/python3.6/site-packages/sklearn/preprocessing/label.py:151: DeprecationWarning: The truth value of an empty array is ambiguous. Returning False, but in future this will result in an error. Use `array.size > 0` to check that an array is not empty.\n",
      "  if diff:\n"
     ]
    },
    {
     "name": "stdout",
     "output_type": "stream",
     "text": [
      "[CV]  colsample_bytree=0.6, gamma=0.30000000000000004, max_depth=50, min_child_weight=3, n_estimators=200, subsample=0.7999999999999999, total=  39.7s\n",
      "[CV] colsample_bytree=0.6, gamma=0.4, max_depth=50, min_child_weight=2, n_estimators=200, subsample=0.6 \n"
     ]
    },
    {
     "name": "stderr",
     "output_type": "stream",
     "text": [
      "/home/willstudent/.local/lib/python3.6/site-packages/sklearn/preprocessing/label.py:151: DeprecationWarning: The truth value of an empty array is ambiguous. Returning False, but in future this will result in an error. Use `array.size > 0` to check that an array is not empty.\n",
      "  if diff:\n",
      "/home/willstudent/.local/lib/python3.6/site-packages/sklearn/preprocessing/label.py:151: DeprecationWarning: The truth value of an empty array is ambiguous. Returning False, but in future this will result in an error. Use `array.size > 0` to check that an array is not empty.\n",
      "  if diff:\n"
     ]
    },
    {
     "name": "stdout",
     "output_type": "stream",
     "text": [
      "[CV]  colsample_bytree=0.6, gamma=0.30000000000000004, max_depth=50, min_child_weight=3, n_estimators=200, subsample=0.7999999999999999, total=  39.4s\n",
      "[CV] colsample_bytree=0.6, gamma=0.4, max_depth=50, min_child_weight=2, n_estimators=200, subsample=0.7 \n"
     ]
    },
    {
     "name": "stderr",
     "output_type": "stream",
     "text": [
      "/home/willstudent/.local/lib/python3.6/site-packages/sklearn/preprocessing/label.py:151: DeprecationWarning: The truth value of an empty array is ambiguous. Returning False, but in future this will result in an error. Use `array.size > 0` to check that an array is not empty.\n",
      "  if diff:\n",
      "/home/willstudent/.local/lib/python3.6/site-packages/sklearn/preprocessing/label.py:151: DeprecationWarning: The truth value of an empty array is ambiguous. Returning False, but in future this will result in an error. Use `array.size > 0` to check that an array is not empty.\n",
      "  if diff:\n"
     ]
    },
    {
     "name": "stdout",
     "output_type": "stream",
     "text": [
      "[CV]  colsample_bytree=0.6, gamma=0.30000000000000004, max_depth=50, min_child_weight=3, n_estimators=200, subsample=0.7999999999999999, total=  40.0s\n",
      "[CV] colsample_bytree=0.6, gamma=0.4, max_depth=50, min_child_weight=2, n_estimators=200, subsample=0.7 \n"
     ]
    },
    {
     "name": "stderr",
     "output_type": "stream",
     "text": [
      "/home/willstudent/.local/lib/python3.6/site-packages/sklearn/preprocessing/label.py:151: DeprecationWarning: The truth value of an empty array is ambiguous. Returning False, but in future this will result in an error. Use `array.size > 0` to check that an array is not empty.\n",
      "  if diff:\n",
      "/home/willstudent/.local/lib/python3.6/site-packages/sklearn/preprocessing/label.py:151: DeprecationWarning: The truth value of an empty array is ambiguous. Returning False, but in future this will result in an error. Use `array.size > 0` to check that an array is not empty.\n",
      "  if diff:\n",
      "/home/willstudent/.local/lib/python3.6/site-packages/sklearn/preprocessing/label.py:151: DeprecationWarning: The truth value of an empty array is ambiguous. Returning False, but in future this will result in an error. Use `array.size > 0` to check that an array is not empty.\n",
      "  if diff:\n"
     ]
    },
    {
     "name": "stdout",
     "output_type": "stream",
     "text": [
      "[CV]  colsample_bytree=0.6, gamma=0.30000000000000004, max_depth=50, min_child_weight=3, n_estimators=200, subsample=0.8999999999999999, total=  43.6s\n",
      "[CV] colsample_bytree=0.6, gamma=0.4, max_depth=50, min_child_weight=2, n_estimators=200, subsample=0.7 \n"
     ]
    },
    {
     "name": "stderr",
     "output_type": "stream",
     "text": [
      "/home/willstudent/.local/lib/python3.6/site-packages/sklearn/preprocessing/label.py:151: DeprecationWarning: The truth value of an empty array is ambiguous. Returning False, but in future this will result in an error. Use `array.size > 0` to check that an array is not empty.\n",
      "  if diff:\n"
     ]
    },
    {
     "name": "stdout",
     "output_type": "stream",
     "text": [
      "[CV]  colsample_bytree=0.6, gamma=0.30000000000000004, max_depth=50, min_child_weight=3, n_estimators=200, subsample=0.8999999999999999, total=  42.7s\n",
      "[CV] colsample_bytree=0.6, gamma=0.4, max_depth=50, min_child_weight=2, n_estimators=200, subsample=0.7999999999999999 \n"
     ]
    },
    {
     "name": "stderr",
     "output_type": "stream",
     "text": [
      "/home/willstudent/.local/lib/python3.6/site-packages/sklearn/preprocessing/label.py:151: DeprecationWarning: The truth value of an empty array is ambiguous. Returning False, but in future this will result in an error. Use `array.size > 0` to check that an array is not empty.\n",
      "  if diff:\n",
      "/home/willstudent/.local/lib/python3.6/site-packages/sklearn/preprocessing/label.py:151: DeprecationWarning: The truth value of an empty array is ambiguous. Returning False, but in future this will result in an error. Use `array.size > 0` to check that an array is not empty.\n",
      "  if diff:\n"
     ]
    },
    {
     "name": "stdout",
     "output_type": "stream",
     "text": [
      "[CV]  colsample_bytree=0.6, gamma=0.30000000000000004, max_depth=50, min_child_weight=3, n_estimators=200, subsample=0.8999999999999999, total=  43.0s\n",
      "[CV] colsample_bytree=0.6, gamma=0.4, max_depth=50, min_child_weight=2, n_estimators=200, subsample=0.7999999999999999 \n"
     ]
    },
    {
     "name": "stderr",
     "output_type": "stream",
     "text": [
      "/home/willstudent/.local/lib/python3.6/site-packages/sklearn/preprocessing/label.py:151: DeprecationWarning: The truth value of an empty array is ambiguous. Returning False, but in future this will result in an error. Use `array.size > 0` to check that an array is not empty.\n",
      "  if diff:\n",
      "/home/willstudent/.local/lib/python3.6/site-packages/sklearn/preprocessing/label.py:151: DeprecationWarning: The truth value of an empty array is ambiguous. Returning False, but in future this will result in an error. Use `array.size > 0` to check that an array is not empty.\n",
      "  if diff:\n"
     ]
    },
    {
     "name": "stdout",
     "output_type": "stream",
     "text": [
      "[CV]  colsample_bytree=0.6, gamma=0.4, max_depth=50, min_child_weight=2, n_estimators=200, subsample=0.6, total=  36.0s\n",
      "[CV] colsample_bytree=0.6, gamma=0.4, max_depth=50, min_child_weight=2, n_estimators=200, subsample=0.7999999999999999 \n"
     ]
    },
    {
     "name": "stderr",
     "output_type": "stream",
     "text": [
      "/home/willstudent/.local/lib/python3.6/site-packages/sklearn/preprocessing/label.py:151: DeprecationWarning: The truth value of an empty array is ambiguous. Returning False, but in future this will result in an error. Use `array.size > 0` to check that an array is not empty.\n",
      "  if diff:\n",
      "/home/willstudent/.local/lib/python3.6/site-packages/sklearn/preprocessing/label.py:151: DeprecationWarning: The truth value of an empty array is ambiguous. Returning False, but in future this will result in an error. Use `array.size > 0` to check that an array is not empty.\n",
      "  if diff:\n"
     ]
    },
    {
     "name": "stdout",
     "output_type": "stream",
     "text": [
      "[CV]  colsample_bytree=0.6, gamma=0.4, max_depth=50, min_child_weight=2, n_estimators=200, subsample=0.6, total=  36.1s\n",
      "[CV] colsample_bytree=0.6, gamma=0.4, max_depth=50, min_child_weight=2, n_estimators=200, subsample=0.8999999999999999 \n"
     ]
    },
    {
     "name": "stderr",
     "output_type": "stream",
     "text": [
      "/home/willstudent/.local/lib/python3.6/site-packages/sklearn/preprocessing/label.py:151: DeprecationWarning: The truth value of an empty array is ambiguous. Returning False, but in future this will result in an error. Use `array.size > 0` to check that an array is not empty.\n",
      "  if diff:\n",
      "/home/willstudent/.local/lib/python3.6/site-packages/sklearn/preprocessing/label.py:151: DeprecationWarning: The truth value of an empty array is ambiguous. Returning False, but in future this will result in an error. Use `array.size > 0` to check that an array is not empty.\n",
      "  if diff:\n"
     ]
    },
    {
     "name": "stdout",
     "output_type": "stream",
     "text": [
      "[CV]  colsample_bytree=0.6, gamma=0.4, max_depth=50, min_child_weight=2, n_estimators=200, subsample=0.6, total=  35.4s\n",
      "[CV] colsample_bytree=0.6, gamma=0.4, max_depth=50, min_child_weight=2, n_estimators=200, subsample=0.8999999999999999 \n"
     ]
    },
    {
     "name": "stderr",
     "output_type": "stream",
     "text": [
      "/home/willstudent/.local/lib/python3.6/site-packages/sklearn/preprocessing/label.py:151: DeprecationWarning: The truth value of an empty array is ambiguous. Returning False, but in future this will result in an error. Use `array.size > 0` to check that an array is not empty.\n",
      "  if diff:\n",
      "/home/willstudent/.local/lib/python3.6/site-packages/sklearn/preprocessing/label.py:151: DeprecationWarning: The truth value of an empty array is ambiguous. Returning False, but in future this will result in an error. Use `array.size > 0` to check that an array is not empty.\n",
      "  if diff:\n"
     ]
    },
    {
     "name": "stdout",
     "output_type": "stream",
     "text": [
      "[CV]  colsample_bytree=0.6, gamma=0.4, max_depth=50, min_child_weight=2, n_estimators=200, subsample=0.7, total=  38.4s\n",
      "[CV] colsample_bytree=0.6, gamma=0.4, max_depth=50, min_child_weight=2, n_estimators=200, subsample=0.8999999999999999 \n"
     ]
    },
    {
     "name": "stderr",
     "output_type": "stream",
     "text": [
      "/home/willstudent/.local/lib/python3.6/site-packages/sklearn/preprocessing/label.py:151: DeprecationWarning: The truth value of an empty array is ambiguous. Returning False, but in future this will result in an error. Use `array.size > 0` to check that an array is not empty.\n",
      "  if diff:\n",
      "/home/willstudent/.local/lib/python3.6/site-packages/sklearn/preprocessing/label.py:151: DeprecationWarning: The truth value of an empty array is ambiguous. Returning False, but in future this will result in an error. Use `array.size > 0` to check that an array is not empty.\n",
      "  if diff:\n"
     ]
    },
    {
     "name": "stdout",
     "output_type": "stream",
     "text": [
      "[CV]  colsample_bytree=0.6, gamma=0.4, max_depth=50, min_child_weight=2, n_estimators=200, subsample=0.7, total=  38.8s\n",
      "[CV] colsample_bytree=0.6, gamma=0.4, max_depth=50, min_child_weight=3, n_estimators=200, subsample=0.6 \n"
     ]
    },
    {
     "name": "stderr",
     "output_type": "stream",
     "text": [
      "/home/willstudent/.local/lib/python3.6/site-packages/sklearn/preprocessing/label.py:151: DeprecationWarning: The truth value of an empty array is ambiguous. Returning False, but in future this will result in an error. Use `array.size > 0` to check that an array is not empty.\n",
      "  if diff:\n",
      "/home/willstudent/.local/lib/python3.6/site-packages/sklearn/preprocessing/label.py:151: DeprecationWarning: The truth value of an empty array is ambiguous. Returning False, but in future this will result in an error. Use `array.size > 0` to check that an array is not empty.\n",
      "  if diff:\n"
     ]
    },
    {
     "name": "stdout",
     "output_type": "stream",
     "text": [
      "[CV]  colsample_bytree=0.6, gamma=0.4, max_depth=50, min_child_weight=2, n_estimators=200, subsample=0.7, total=  38.9s\n",
      "[CV] colsample_bytree=0.6, gamma=0.4, max_depth=50, min_child_weight=3, n_estimators=200, subsample=0.6 \n"
     ]
    },
    {
     "name": "stderr",
     "output_type": "stream",
     "text": [
      "/home/willstudent/.local/lib/python3.6/site-packages/sklearn/preprocessing/label.py:151: DeprecationWarning: The truth value of an empty array is ambiguous. Returning False, but in future this will result in an error. Use `array.size > 0` to check that an array is not empty.\n",
      "  if diff:\n",
      "/home/willstudent/.local/lib/python3.6/site-packages/sklearn/preprocessing/label.py:151: DeprecationWarning: The truth value of an empty array is ambiguous. Returning False, but in future this will result in an error. Use `array.size > 0` to check that an array is not empty.\n",
      "  if diff:\n"
     ]
    },
    {
     "name": "stdout",
     "output_type": "stream",
     "text": [
      "[CV]  colsample_bytree=0.6, gamma=0.4, max_depth=50, min_child_weight=2, n_estimators=200, subsample=0.7999999999999999, total=  42.1s\n",
      "[CV] colsample_bytree=0.6, gamma=0.4, max_depth=50, min_child_weight=3, n_estimators=200, subsample=0.6 \n"
     ]
    },
    {
     "name": "stderr",
     "output_type": "stream",
     "text": [
      "/home/willstudent/.local/lib/python3.6/site-packages/sklearn/preprocessing/label.py:151: DeprecationWarning: The truth value of an empty array is ambiguous. Returning False, but in future this will result in an error. Use `array.size > 0` to check that an array is not empty.\n",
      "  if diff:\n",
      "/home/willstudent/.local/lib/python3.6/site-packages/sklearn/preprocessing/label.py:151: DeprecationWarning: The truth value of an empty array is ambiguous. Returning False, but in future this will result in an error. Use `array.size > 0` to check that an array is not empty.\n",
      "  if diff:\n"
     ]
    },
    {
     "name": "stdout",
     "output_type": "stream",
     "text": [
      "[CV]  colsample_bytree=0.6, gamma=0.4, max_depth=50, min_child_weight=2, n_estimators=200, subsample=0.7999999999999999, total=  41.2s\n",
      "[CV] colsample_bytree=0.6, gamma=0.4, max_depth=50, min_child_weight=3, n_estimators=200, subsample=0.7 \n"
     ]
    },
    {
     "name": "stderr",
     "output_type": "stream",
     "text": [
      "/home/willstudent/.local/lib/python3.6/site-packages/sklearn/preprocessing/label.py:151: DeprecationWarning: The truth value of an empty array is ambiguous. Returning False, but in future this will result in an error. Use `array.size > 0` to check that an array is not empty.\n",
      "  if diff:\n",
      "/home/willstudent/.local/lib/python3.6/site-packages/sklearn/preprocessing/label.py:151: DeprecationWarning: The truth value of an empty array is ambiguous. Returning False, but in future this will result in an error. Use `array.size > 0` to check that an array is not empty.\n",
      "  if diff:\n"
     ]
    },
    {
     "name": "stdout",
     "output_type": "stream",
     "text": [
      "[CV]  colsample_bytree=0.6, gamma=0.4, max_depth=50, min_child_weight=2, n_estimators=200, subsample=0.7999999999999999, total=  41.1s\n",
      "[CV] colsample_bytree=0.6, gamma=0.4, max_depth=50, min_child_weight=3, n_estimators=200, subsample=0.7 \n"
     ]
    },
    {
     "name": "stderr",
     "output_type": "stream",
     "text": [
      "/home/willstudent/.local/lib/python3.6/site-packages/sklearn/preprocessing/label.py:151: DeprecationWarning: The truth value of an empty array is ambiguous. Returning False, but in future this will result in an error. Use `array.size > 0` to check that an array is not empty.\n",
      "  if diff:\n",
      "/home/willstudent/.local/lib/python3.6/site-packages/sklearn/preprocessing/label.py:151: DeprecationWarning: The truth value of an empty array is ambiguous. Returning False, but in future this will result in an error. Use `array.size > 0` to check that an array is not empty.\n",
      "  if diff:\n"
     ]
    },
    {
     "name": "stdout",
     "output_type": "stream",
     "text": [
      "[CV]  colsample_bytree=0.6, gamma=0.4, max_depth=50, min_child_weight=2, n_estimators=200, subsample=0.8999999999999999, total=  44.6s\n",
      "[CV] colsample_bytree=0.6, gamma=0.4, max_depth=50, min_child_weight=3, n_estimators=200, subsample=0.7 \n"
     ]
    },
    {
     "name": "stderr",
     "output_type": "stream",
     "text": [
      "/home/willstudent/.local/lib/python3.6/site-packages/sklearn/preprocessing/label.py:151: DeprecationWarning: The truth value of an empty array is ambiguous. Returning False, but in future this will result in an error. Use `array.size > 0` to check that an array is not empty.\n",
      "  if diff:\n",
      "/home/willstudent/.local/lib/python3.6/site-packages/sklearn/preprocessing/label.py:151: DeprecationWarning: The truth value of an empty array is ambiguous. Returning False, but in future this will result in an error. Use `array.size > 0` to check that an array is not empty.\n",
      "  if diff:\n"
     ]
    },
    {
     "name": "stdout",
     "output_type": "stream",
     "text": [
      "[CV]  colsample_bytree=0.6, gamma=0.4, max_depth=50, min_child_weight=3, n_estimators=200, subsample=0.6, total=  32.6s\n",
      "[CV] colsample_bytree=0.6, gamma=0.4, max_depth=50, min_child_weight=3, n_estimators=200, subsample=0.7999999999999999 \n"
     ]
    },
    {
     "name": "stderr",
     "output_type": "stream",
     "text": [
      "/home/willstudent/.local/lib/python3.6/site-packages/sklearn/preprocessing/label.py:151: DeprecationWarning: The truth value of an empty array is ambiguous. Returning False, but in future this will result in an error. Use `array.size > 0` to check that an array is not empty.\n",
      "  if diff:\n",
      "/home/willstudent/.local/lib/python3.6/site-packages/sklearn/preprocessing/label.py:151: DeprecationWarning: The truth value of an empty array is ambiguous. Returning False, but in future this will result in an error. Use `array.size > 0` to check that an array is not empty.\n",
      "  if diff:\n"
     ]
    },
    {
     "name": "stdout",
     "output_type": "stream",
     "text": [
      "[CV]  colsample_bytree=0.6, gamma=0.4, max_depth=50, min_child_weight=2, n_estimators=200, subsample=0.8999999999999999, total=  44.2s\n",
      "[CV] colsample_bytree=0.6, gamma=0.4, max_depth=50, min_child_weight=3, n_estimators=200, subsample=0.7999999999999999 \n"
     ]
    },
    {
     "name": "stderr",
     "output_type": "stream",
     "text": [
      "/home/willstudent/.local/lib/python3.6/site-packages/sklearn/preprocessing/label.py:151: DeprecationWarning: The truth value of an empty array is ambiguous. Returning False, but in future this will result in an error. Use `array.size > 0` to check that an array is not empty.\n",
      "  if diff:\n",
      "/home/willstudent/.local/lib/python3.6/site-packages/sklearn/preprocessing/label.py:151: DeprecationWarning: The truth value of an empty array is ambiguous. Returning False, but in future this will result in an error. Use `array.size > 0` to check that an array is not empty.\n",
      "  if diff:\n"
     ]
    },
    {
     "name": "stdout",
     "output_type": "stream",
     "text": [
      "[CV]  colsample_bytree=0.6, gamma=0.4, max_depth=50, min_child_weight=3, n_estimators=200, subsample=0.6, total=  32.7s\n",
      "[CV] colsample_bytree=0.6, gamma=0.4, max_depth=50, min_child_weight=3, n_estimators=200, subsample=0.7999999999999999 \n"
     ]
    },
    {
     "name": "stderr",
     "output_type": "stream",
     "text": [
      "/home/willstudent/.local/lib/python3.6/site-packages/sklearn/preprocessing/label.py:151: DeprecationWarning: The truth value of an empty array is ambiguous. Returning False, but in future this will result in an error. Use `array.size > 0` to check that an array is not empty.\n",
      "  if diff:\n",
      "/home/willstudent/.local/lib/python3.6/site-packages/sklearn/preprocessing/label.py:151: DeprecationWarning: The truth value of an empty array is ambiguous. Returning False, but in future this will result in an error. Use `array.size > 0` to check that an array is not empty.\n",
      "  if diff:\n",
      "/home/willstudent/.local/lib/python3.6/site-packages/sklearn/preprocessing/label.py:151: DeprecationWarning: The truth value of an empty array is ambiguous. Returning False, but in future this will result in an error. Use `array.size > 0` to check that an array is not empty.\n",
      "  if diff:\n"
     ]
    },
    {
     "name": "stdout",
     "output_type": "stream",
     "text": [
      "[CV]  colsample_bytree=0.6, gamma=0.4, max_depth=50, min_child_weight=2, n_estimators=200, subsample=0.8999999999999999, total=  43.3s\n",
      "[CV] colsample_bytree=0.6, gamma=0.4, max_depth=50, min_child_weight=3, n_estimators=200, subsample=0.8999999999999999 \n"
     ]
    },
    {
     "name": "stderr",
     "output_type": "stream",
     "text": [
      "/home/willstudent/.local/lib/python3.6/site-packages/sklearn/preprocessing/label.py:151: DeprecationWarning: The truth value of an empty array is ambiguous. Returning False, but in future this will result in an error. Use `array.size > 0` to check that an array is not empty.\n",
      "  if diff:\n"
     ]
    },
    {
     "name": "stdout",
     "output_type": "stream",
     "text": [
      "[CV]  colsample_bytree=0.6, gamma=0.4, max_depth=50, min_child_weight=3, n_estimators=200, subsample=0.6, total=  31.9s\n",
      "[CV] colsample_bytree=0.6, gamma=0.4, max_depth=50, min_child_weight=3, n_estimators=200, subsample=0.8999999999999999 \n"
     ]
    },
    {
     "name": "stderr",
     "output_type": "stream",
     "text": [
      "/home/willstudent/.local/lib/python3.6/site-packages/sklearn/preprocessing/label.py:151: DeprecationWarning: The truth value of an empty array is ambiguous. Returning False, but in future this will result in an error. Use `array.size > 0` to check that an array is not empty.\n",
      "  if diff:\n",
      "/home/willstudent/.local/lib/python3.6/site-packages/sklearn/preprocessing/label.py:151: DeprecationWarning: The truth value of an empty array is ambiguous. Returning False, but in future this will result in an error. Use `array.size > 0` to check that an array is not empty.\n",
      "  if diff:\n"
     ]
    },
    {
     "name": "stdout",
     "output_type": "stream",
     "text": [
      "[CV]  colsample_bytree=0.6, gamma=0.4, max_depth=50, min_child_weight=3, n_estimators=200, subsample=0.7, total=  34.5s\n",
      "[CV] colsample_bytree=0.6, gamma=0.4, max_depth=50, min_child_weight=3, n_estimators=200, subsample=0.8999999999999999 \n"
     ]
    },
    {
     "name": "stderr",
     "output_type": "stream",
     "text": [
      "/home/willstudent/.local/lib/python3.6/site-packages/sklearn/preprocessing/label.py:151: DeprecationWarning: The truth value of an empty array is ambiguous. Returning False, but in future this will result in an error. Use `array.size > 0` to check that an array is not empty.\n",
      "  if diff:\n",
      "/home/willstudent/.local/lib/python3.6/site-packages/sklearn/preprocessing/label.py:151: DeprecationWarning: The truth value of an empty array is ambiguous. Returning False, but in future this will result in an error. Use `array.size > 0` to check that an array is not empty.\n",
      "  if diff:\n"
     ]
    },
    {
     "name": "stdout",
     "output_type": "stream",
     "text": [
      "[CV]  colsample_bytree=0.6, gamma=0.4, max_depth=50, min_child_weight=3, n_estimators=200, subsample=0.7, total=  35.1s\n",
      "[CV] colsample_bytree=0.7, gamma=0.1, max_depth=50, min_child_weight=2, n_estimators=200, subsample=0.6 \n"
     ]
    },
    {
     "name": "stderr",
     "output_type": "stream",
     "text": [
      "/home/willstudent/.local/lib/python3.6/site-packages/sklearn/preprocessing/label.py:151: DeprecationWarning: The truth value of an empty array is ambiguous. Returning False, but in future this will result in an error. Use `array.size > 0` to check that an array is not empty.\n",
      "  if diff:\n",
      "/home/willstudent/.local/lib/python3.6/site-packages/sklearn/preprocessing/label.py:151: DeprecationWarning: The truth value of an empty array is ambiguous. Returning False, but in future this will result in an error. Use `array.size > 0` to check that an array is not empty.\n",
      "  if diff:\n"
     ]
    },
    {
     "name": "stdout",
     "output_type": "stream",
     "text": [
      "[CV]  colsample_bytree=0.6, gamma=0.4, max_depth=50, min_child_weight=3, n_estimators=200, subsample=0.7, total=  35.3s\n",
      "[CV] colsample_bytree=0.7, gamma=0.1, max_depth=50, min_child_weight=2, n_estimators=200, subsample=0.6 \n"
     ]
    },
    {
     "name": "stderr",
     "output_type": "stream",
     "text": [
      "/home/willstudent/.local/lib/python3.6/site-packages/sklearn/preprocessing/label.py:151: DeprecationWarning: The truth value of an empty array is ambiguous. Returning False, but in future this will result in an error. Use `array.size > 0` to check that an array is not empty.\n",
      "  if diff:\n",
      "/home/willstudent/.local/lib/python3.6/site-packages/sklearn/preprocessing/label.py:151: DeprecationWarning: The truth value of an empty array is ambiguous. Returning False, but in future this will result in an error. Use `array.size > 0` to check that an array is not empty.\n",
      "  if diff:\n"
     ]
    },
    {
     "name": "stdout",
     "output_type": "stream",
     "text": [
      "[CV]  colsample_bytree=0.6, gamma=0.4, max_depth=50, min_child_weight=3, n_estimators=200, subsample=0.7999999999999999, total=  38.0s\n",
      "[CV] colsample_bytree=0.7, gamma=0.1, max_depth=50, min_child_weight=2, n_estimators=200, subsample=0.6 \n"
     ]
    },
    {
     "name": "stderr",
     "output_type": "stream",
     "text": [
      "/home/willstudent/.local/lib/python3.6/site-packages/sklearn/preprocessing/label.py:151: DeprecationWarning: The truth value of an empty array is ambiguous. Returning False, but in future this will result in an error. Use `array.size > 0` to check that an array is not empty.\n",
      "  if diff:\n",
      "/home/willstudent/.local/lib/python3.6/site-packages/sklearn/preprocessing/label.py:151: DeprecationWarning: The truth value of an empty array is ambiguous. Returning False, but in future this will result in an error. Use `array.size > 0` to check that an array is not empty.\n",
      "  if diff:\n"
     ]
    },
    {
     "name": "stdout",
     "output_type": "stream",
     "text": [
      "[CV]  colsample_bytree=0.6, gamma=0.4, max_depth=50, min_child_weight=3, n_estimators=200, subsample=0.7999999999999999, total=  38.5s\n",
      "[CV] colsample_bytree=0.7, gamma=0.1, max_depth=50, min_child_weight=2, n_estimators=200, subsample=0.7 \n"
     ]
    },
    {
     "name": "stderr",
     "output_type": "stream",
     "text": [
      "/home/willstudent/.local/lib/python3.6/site-packages/sklearn/preprocessing/label.py:151: DeprecationWarning: The truth value of an empty array is ambiguous. Returning False, but in future this will result in an error. Use `array.size > 0` to check that an array is not empty.\n",
      "  if diff:\n",
      "/home/willstudent/.local/lib/python3.6/site-packages/sklearn/preprocessing/label.py:151: DeprecationWarning: The truth value of an empty array is ambiguous. Returning False, but in future this will result in an error. Use `array.size > 0` to check that an array is not empty.\n",
      "  if diff:\n"
     ]
    },
    {
     "name": "stdout",
     "output_type": "stream",
     "text": [
      "[CV]  colsample_bytree=0.6, gamma=0.4, max_depth=50, min_child_weight=3, n_estimators=200, subsample=0.7999999999999999, total=  38.0s\n",
      "[CV] colsample_bytree=0.7, gamma=0.1, max_depth=50, min_child_weight=2, n_estimators=200, subsample=0.7 \n"
     ]
    },
    {
     "name": "stderr",
     "output_type": "stream",
     "text": [
      "/home/willstudent/.local/lib/python3.6/site-packages/sklearn/preprocessing/label.py:151: DeprecationWarning: The truth value of an empty array is ambiguous. Returning False, but in future this will result in an error. Use `array.size > 0` to check that an array is not empty.\n",
      "  if diff:\n",
      "/home/willstudent/.local/lib/python3.6/site-packages/sklearn/preprocessing/label.py:151: DeprecationWarning: The truth value of an empty array is ambiguous. Returning False, but in future this will result in an error. Use `array.size > 0` to check that an array is not empty.\n",
      "  if diff:\n",
      "/home/willstudent/.local/lib/python3.6/site-packages/sklearn/preprocessing/label.py:151: DeprecationWarning: The truth value of an empty array is ambiguous. Returning False, but in future this will result in an error. Use `array.size > 0` to check that an array is not empty.\n",
      "  if diff:\n"
     ]
    },
    {
     "name": "stdout",
     "output_type": "stream",
     "text": [
      "[CV]  colsample_bytree=0.6, gamma=0.4, max_depth=50, min_child_weight=3, n_estimators=200, subsample=0.8999999999999999, total=  41.8s\n",
      "[CV] colsample_bytree=0.7, gamma=0.1, max_depth=50, min_child_weight=2, n_estimators=200, subsample=0.7 \n"
     ]
    },
    {
     "name": "stderr",
     "output_type": "stream",
     "text": [
      "/home/willstudent/.local/lib/python3.6/site-packages/sklearn/preprocessing/label.py:151: DeprecationWarning: The truth value of an empty array is ambiguous. Returning False, but in future this will result in an error. Use `array.size > 0` to check that an array is not empty.\n",
      "  if diff:\n"
     ]
    },
    {
     "name": "stdout",
     "output_type": "stream",
     "text": [
      "[CV]  colsample_bytree=0.6, gamma=0.4, max_depth=50, min_child_weight=3, n_estimators=200, subsample=0.8999999999999999, total=  41.8s\n",
      "[CV] colsample_bytree=0.7, gamma=0.1, max_depth=50, min_child_weight=2, n_estimators=200, subsample=0.7999999999999999 \n"
     ]
    },
    {
     "name": "stderr",
     "output_type": "stream",
     "text": [
      "/home/willstudent/.local/lib/python3.6/site-packages/sklearn/preprocessing/label.py:151: DeprecationWarning: The truth value of an empty array is ambiguous. Returning False, but in future this will result in an error. Use `array.size > 0` to check that an array is not empty.\n",
      "  if diff:\n",
      "/home/willstudent/.local/lib/python3.6/site-packages/sklearn/preprocessing/label.py:151: DeprecationWarning: The truth value of an empty array is ambiguous. Returning False, but in future this will result in an error. Use `array.size > 0` to check that an array is not empty.\n",
      "  if diff:\n"
     ]
    },
    {
     "name": "stdout",
     "output_type": "stream",
     "text": [
      "[CV]  colsample_bytree=0.6, gamma=0.4, max_depth=50, min_child_weight=3, n_estimators=200, subsample=0.8999999999999999, total=  41.8s\n",
      "[CV] colsample_bytree=0.7, gamma=0.1, max_depth=50, min_child_weight=2, n_estimators=200, subsample=0.7999999999999999 \n"
     ]
    },
    {
     "name": "stderr",
     "output_type": "stream",
     "text": [
      "/home/willstudent/.local/lib/python3.6/site-packages/sklearn/preprocessing/label.py:151: DeprecationWarning: The truth value of an empty array is ambiguous. Returning False, but in future this will result in an error. Use `array.size > 0` to check that an array is not empty.\n",
      "  if diff:\n",
      "/home/willstudent/.local/lib/python3.6/site-packages/sklearn/preprocessing/label.py:151: DeprecationWarning: The truth value of an empty array is ambiguous. Returning False, but in future this will result in an error. Use `array.size > 0` to check that an array is not empty.\n",
      "  if diff:\n"
     ]
    },
    {
     "name": "stdout",
     "output_type": "stream",
     "text": [
      "[CV]  colsample_bytree=0.7, gamma=0.1, max_depth=50, min_child_weight=2, n_estimators=200, subsample=0.6, total=  38.2s\n",
      "[CV] colsample_bytree=0.7, gamma=0.1, max_depth=50, min_child_weight=2, n_estimators=200, subsample=0.7999999999999999 \n"
     ]
    },
    {
     "name": "stderr",
     "output_type": "stream",
     "text": [
      "/home/willstudent/.local/lib/python3.6/site-packages/sklearn/preprocessing/label.py:151: DeprecationWarning: The truth value of an empty array is ambiguous. Returning False, but in future this will result in an error. Use `array.size > 0` to check that an array is not empty.\n",
      "  if diff:\n",
      "/home/willstudent/.local/lib/python3.6/site-packages/sklearn/preprocessing/label.py:151: DeprecationWarning: The truth value of an empty array is ambiguous. Returning False, but in future this will result in an error. Use `array.size > 0` to check that an array is not empty.\n",
      "  if diff:\n"
     ]
    },
    {
     "name": "stdout",
     "output_type": "stream",
     "text": [
      "[CV]  colsample_bytree=0.7, gamma=0.1, max_depth=50, min_child_weight=2, n_estimators=200, subsample=0.6, total=  38.5s\n",
      "[CV] colsample_bytree=0.7, gamma=0.1, max_depth=50, min_child_weight=2, n_estimators=200, subsample=0.8999999999999999 \n"
     ]
    },
    {
     "name": "stderr",
     "output_type": "stream",
     "text": [
      "/home/willstudent/.local/lib/python3.6/site-packages/sklearn/preprocessing/label.py:151: DeprecationWarning: The truth value of an empty array is ambiguous. Returning False, but in future this will result in an error. Use `array.size > 0` to check that an array is not empty.\n",
      "  if diff:\n",
      "/home/willstudent/.local/lib/python3.6/site-packages/sklearn/preprocessing/label.py:151: DeprecationWarning: The truth value of an empty array is ambiguous. Returning False, but in future this will result in an error. Use `array.size > 0` to check that an array is not empty.\n",
      "  if diff:\n"
     ]
    },
    {
     "name": "stdout",
     "output_type": "stream",
     "text": [
      "[CV]  colsample_bytree=0.7, gamma=0.1, max_depth=50, min_child_weight=2, n_estimators=200, subsample=0.6, total=  39.2s\n",
      "[CV] colsample_bytree=0.7, gamma=0.1, max_depth=50, min_child_weight=2, n_estimators=200, subsample=0.8999999999999999 \n"
     ]
    },
    {
     "name": "stderr",
     "output_type": "stream",
     "text": [
      "/home/willstudent/.local/lib/python3.6/site-packages/sklearn/preprocessing/label.py:151: DeprecationWarning: The truth value of an empty array is ambiguous. Returning False, but in future this will result in an error. Use `array.size > 0` to check that an array is not empty.\n",
      "  if diff:\n",
      "/home/willstudent/.local/lib/python3.6/site-packages/sklearn/preprocessing/label.py:151: DeprecationWarning: The truth value of an empty array is ambiguous. Returning False, but in future this will result in an error. Use `array.size > 0` to check that an array is not empty.\n",
      "  if diff:\n"
     ]
    },
    {
     "name": "stdout",
     "output_type": "stream",
     "text": [
      "[CV]  colsample_bytree=0.7, gamma=0.1, max_depth=50, min_child_weight=2, n_estimators=200, subsample=0.7, total=  42.2s\n",
      "[CV] colsample_bytree=0.7, gamma=0.1, max_depth=50, min_child_weight=2, n_estimators=200, subsample=0.8999999999999999 \n"
     ]
    },
    {
     "name": "stderr",
     "output_type": "stream",
     "text": [
      "/home/willstudent/.local/lib/python3.6/site-packages/sklearn/preprocessing/label.py:151: DeprecationWarning: The truth value of an empty array is ambiguous. Returning False, but in future this will result in an error. Use `array.size > 0` to check that an array is not empty.\n",
      "  if diff:\n",
      "/home/willstudent/.local/lib/python3.6/site-packages/sklearn/preprocessing/label.py:151: DeprecationWarning: The truth value of an empty array is ambiguous. Returning False, but in future this will result in an error. Use `array.size > 0` to check that an array is not empty.\n",
      "  if diff:\n"
     ]
    },
    {
     "name": "stdout",
     "output_type": "stream",
     "text": [
      "[CV]  colsample_bytree=0.7, gamma=0.1, max_depth=50, min_child_weight=2, n_estimators=200, subsample=0.7, total=  40.9s\n",
      "[CV] colsample_bytree=0.7, gamma=0.1, max_depth=50, min_child_weight=3, n_estimators=200, subsample=0.6 \n"
     ]
    },
    {
     "name": "stderr",
     "output_type": "stream",
     "text": [
      "/home/willstudent/.local/lib/python3.6/site-packages/sklearn/preprocessing/label.py:151: DeprecationWarning: The truth value of an empty array is ambiguous. Returning False, but in future this will result in an error. Use `array.size > 0` to check that an array is not empty.\n",
      "  if diff:\n",
      "/home/willstudent/.local/lib/python3.6/site-packages/sklearn/preprocessing/label.py:151: DeprecationWarning: The truth value of an empty array is ambiguous. Returning False, but in future this will result in an error. Use `array.size > 0` to check that an array is not empty.\n",
      "  if diff:\n"
     ]
    },
    {
     "name": "stdout",
     "output_type": "stream",
     "text": [
      "[CV]  colsample_bytree=0.7, gamma=0.1, max_depth=50, min_child_weight=2, n_estimators=200, subsample=0.7, total=  42.5s\n",
      "[CV] colsample_bytree=0.7, gamma=0.1, max_depth=50, min_child_weight=3, n_estimators=200, subsample=0.6 \n"
     ]
    },
    {
     "name": "stderr",
     "output_type": "stream",
     "text": [
      "/home/willstudent/.local/lib/python3.6/site-packages/sklearn/preprocessing/label.py:151: DeprecationWarning: The truth value of an empty array is ambiguous. Returning False, but in future this will result in an error. Use `array.size > 0` to check that an array is not empty.\n",
      "  if diff:\n",
      "/home/willstudent/.local/lib/python3.6/site-packages/sklearn/preprocessing/label.py:151: DeprecationWarning: The truth value of an empty array is ambiguous. Returning False, but in future this will result in an error. Use `array.size > 0` to check that an array is not empty.\n",
      "  if diff:\n"
     ]
    },
    {
     "name": "stdout",
     "output_type": "stream",
     "text": [
      "[CV]  colsample_bytree=0.7, gamma=0.1, max_depth=50, min_child_weight=2, n_estimators=200, subsample=0.7999999999999999, total=  45.1s\n",
      "[CV] colsample_bytree=0.7, gamma=0.1, max_depth=50, min_child_weight=3, n_estimators=200, subsample=0.6 \n"
     ]
    },
    {
     "name": "stderr",
     "output_type": "stream",
     "text": [
      "/home/willstudent/.local/lib/python3.6/site-packages/sklearn/preprocessing/label.py:151: DeprecationWarning: The truth value of an empty array is ambiguous. Returning False, but in future this will result in an error. Use `array.size > 0` to check that an array is not empty.\n",
      "  if diff:\n",
      "/home/willstudent/.local/lib/python3.6/site-packages/sklearn/preprocessing/label.py:151: DeprecationWarning: The truth value of an empty array is ambiguous. Returning False, but in future this will result in an error. Use `array.size > 0` to check that an array is not empty.\n",
      "  if diff:\n"
     ]
    },
    {
     "name": "stdout",
     "output_type": "stream",
     "text": [
      "[CV]  colsample_bytree=0.7, gamma=0.1, max_depth=50, min_child_weight=2, n_estimators=200, subsample=0.7999999999999999, total=  44.7s\n",
      "[CV] colsample_bytree=0.7, gamma=0.1, max_depth=50, min_child_weight=3, n_estimators=200, subsample=0.7 \n"
     ]
    },
    {
     "name": "stderr",
     "output_type": "stream",
     "text": [
      "/home/willstudent/.local/lib/python3.6/site-packages/sklearn/preprocessing/label.py:151: DeprecationWarning: The truth value of an empty array is ambiguous. Returning False, but in future this will result in an error. Use `array.size > 0` to check that an array is not empty.\n",
      "  if diff:\n",
      "/home/willstudent/.local/lib/python3.6/site-packages/sklearn/preprocessing/label.py:151: DeprecationWarning: The truth value of an empty array is ambiguous. Returning False, but in future this will result in an error. Use `array.size > 0` to check that an array is not empty.\n",
      "  if diff:\n"
     ]
    },
    {
     "name": "stdout",
     "output_type": "stream",
     "text": [
      "[CV]  colsample_bytree=0.7, gamma=0.1, max_depth=50, min_child_weight=2, n_estimators=200, subsample=0.7999999999999999, total=  45.5s\n",
      "[CV] colsample_bytree=0.7, gamma=0.1, max_depth=50, min_child_weight=3, n_estimators=200, subsample=0.7 \n"
     ]
    },
    {
     "name": "stderr",
     "output_type": "stream",
     "text": [
      "/home/willstudent/.local/lib/python3.6/site-packages/sklearn/preprocessing/label.py:151: DeprecationWarning: The truth value of an empty array is ambiguous. Returning False, but in future this will result in an error. Use `array.size > 0` to check that an array is not empty.\n",
      "  if diff:\n",
      "/home/willstudent/.local/lib/python3.6/site-packages/sklearn/preprocessing/label.py:151: DeprecationWarning: The truth value of an empty array is ambiguous. Returning False, but in future this will result in an error. Use `array.size > 0` to check that an array is not empty.\n",
      "  if diff:\n"
     ]
    },
    {
     "name": "stdout",
     "output_type": "stream",
     "text": [
      "[CV]  colsample_bytree=0.7, gamma=0.1, max_depth=50, min_child_weight=2, n_estimators=200, subsample=0.8999999999999999, total=  48.0s\n",
      "[CV] colsample_bytree=0.7, gamma=0.1, max_depth=50, min_child_weight=3, n_estimators=200, subsample=0.7 \n"
     ]
    },
    {
     "name": "stderr",
     "output_type": "stream",
     "text": [
      "/home/willstudent/.local/lib/python3.6/site-packages/sklearn/preprocessing/label.py:151: DeprecationWarning: The truth value of an empty array is ambiguous. Returning False, but in future this will result in an error. Use `array.size > 0` to check that an array is not empty.\n",
      "  if diff:\n",
      "/home/willstudent/.local/lib/python3.6/site-packages/sklearn/preprocessing/label.py:151: DeprecationWarning: The truth value of an empty array is ambiguous. Returning False, but in future this will result in an error. Use `array.size > 0` to check that an array is not empty.\n",
      "  if diff:\n"
     ]
    },
    {
     "name": "stdout",
     "output_type": "stream",
     "text": [
      "[CV]  colsample_bytree=0.7, gamma=0.1, max_depth=50, min_child_weight=3, n_estimators=200, subsample=0.6, total=  36.9s\n",
      "[CV] colsample_bytree=0.7, gamma=0.1, max_depth=50, min_child_weight=3, n_estimators=200, subsample=0.7999999999999999 \n"
     ]
    },
    {
     "name": "stderr",
     "output_type": "stream",
     "text": [
      "/home/willstudent/.local/lib/python3.6/site-packages/sklearn/preprocessing/label.py:151: DeprecationWarning: The truth value of an empty array is ambiguous. Returning False, but in future this will result in an error. Use `array.size > 0` to check that an array is not empty.\n",
      "  if diff:\n",
      "/home/willstudent/.local/lib/python3.6/site-packages/sklearn/preprocessing/label.py:151: DeprecationWarning: The truth value of an empty array is ambiguous. Returning False, but in future this will result in an error. Use `array.size > 0` to check that an array is not empty.\n",
      "  if diff:\n"
     ]
    },
    {
     "name": "stdout",
     "output_type": "stream",
     "text": [
      "[CV]  colsample_bytree=0.7, gamma=0.1, max_depth=50, min_child_weight=2, n_estimators=200, subsample=0.8999999999999999, total=  48.1s\n",
      "[CV] colsample_bytree=0.7, gamma=0.1, max_depth=50, min_child_weight=3, n_estimators=200, subsample=0.7999999999999999 \n"
     ]
    },
    {
     "name": "stderr",
     "output_type": "stream",
     "text": [
      "/home/willstudent/.local/lib/python3.6/site-packages/sklearn/preprocessing/label.py:151: DeprecationWarning: The truth value of an empty array is ambiguous. Returning False, but in future this will result in an error. Use `array.size > 0` to check that an array is not empty.\n",
      "  if diff:\n",
      "/home/willstudent/.local/lib/python3.6/site-packages/sklearn/preprocessing/label.py:151: DeprecationWarning: The truth value of an empty array is ambiguous. Returning False, but in future this will result in an error. Use `array.size > 0` to check that an array is not empty.\n",
      "  if diff:\n",
      "/home/willstudent/.local/lib/python3.6/site-packages/sklearn/preprocessing/label.py:151: DeprecationWarning: The truth value of an empty array is ambiguous. Returning False, but in future this will result in an error. Use `array.size > 0` to check that an array is not empty.\n",
      "  if diff:\n"
     ]
    },
    {
     "name": "stdout",
     "output_type": "stream",
     "text": [
      "[CV]  colsample_bytree=0.7, gamma=0.1, max_depth=50, min_child_weight=3, n_estimators=200, subsample=0.6, total=  36.9s\n",
      "[CV] colsample_bytree=0.7, gamma=0.1, max_depth=50, min_child_weight=3, n_estimators=200, subsample=0.7999999999999999 \n"
     ]
    },
    {
     "name": "stderr",
     "output_type": "stream",
     "text": [
      "/home/willstudent/.local/lib/python3.6/site-packages/sklearn/preprocessing/label.py:151: DeprecationWarning: The truth value of an empty array is ambiguous. Returning False, but in future this will result in an error. Use `array.size > 0` to check that an array is not empty.\n",
      "  if diff:\n",
      "/home/willstudent/.local/lib/python3.6/site-packages/sklearn/preprocessing/label.py:151: DeprecationWarning: The truth value of an empty array is ambiguous. Returning False, but in future this will result in an error. Use `array.size > 0` to check that an array is not empty.\n",
      "  if diff:\n"
     ]
    },
    {
     "name": "stdout",
     "output_type": "stream",
     "text": [
      "[CV]  colsample_bytree=0.7, gamma=0.1, max_depth=50, min_child_weight=2, n_estimators=200, subsample=0.8999999999999999, total=  47.4s\n",
      "[CV] colsample_bytree=0.7, gamma=0.1, max_depth=50, min_child_weight=3, n_estimators=200, subsample=0.8999999999999999 \n"
     ]
    },
    {
     "name": "stderr",
     "output_type": "stream",
     "text": [
      "/home/willstudent/.local/lib/python3.6/site-packages/sklearn/preprocessing/label.py:151: DeprecationWarning: The truth value of an empty array is ambiguous. Returning False, but in future this will result in an error. Use `array.size > 0` to check that an array is not empty.\n",
      "  if diff:\n"
     ]
    },
    {
     "name": "stdout",
     "output_type": "stream",
     "text": [
      "[CV]  colsample_bytree=0.7, gamma=0.1, max_depth=50, min_child_weight=3, n_estimators=200, subsample=0.6, total=  35.6s\n",
      "[CV] colsample_bytree=0.7, gamma=0.1, max_depth=50, min_child_weight=3, n_estimators=200, subsample=0.8999999999999999 \n"
     ]
    },
    {
     "name": "stderr",
     "output_type": "stream",
     "text": [
      "/home/willstudent/.local/lib/python3.6/site-packages/sklearn/preprocessing/label.py:151: DeprecationWarning: The truth value of an empty array is ambiguous. Returning False, but in future this will result in an error. Use `array.size > 0` to check that an array is not empty.\n",
      "  if diff:\n",
      "/home/willstudent/.local/lib/python3.6/site-packages/sklearn/preprocessing/label.py:151: DeprecationWarning: The truth value of an empty array is ambiguous. Returning False, but in future this will result in an error. Use `array.size > 0` to check that an array is not empty.\n",
      "  if diff:\n"
     ]
    },
    {
     "name": "stdout",
     "output_type": "stream",
     "text": [
      "[CV]  colsample_bytree=0.7, gamma=0.1, max_depth=50, min_child_weight=3, n_estimators=200, subsample=0.7, total=  39.7s\n",
      "[CV] colsample_bytree=0.7, gamma=0.1, max_depth=50, min_child_weight=3, n_estimators=200, subsample=0.8999999999999999 \n"
     ]
    },
    {
     "name": "stderr",
     "output_type": "stream",
     "text": [
      "/home/willstudent/.local/lib/python3.6/site-packages/sklearn/preprocessing/label.py:151: DeprecationWarning: The truth value of an empty array is ambiguous. Returning False, but in future this will result in an error. Use `array.size > 0` to check that an array is not empty.\n",
      "  if diff:\n",
      "/home/willstudent/.local/lib/python3.6/site-packages/sklearn/preprocessing/label.py:151: DeprecationWarning: The truth value of an empty array is ambiguous. Returning False, but in future this will result in an error. Use `array.size > 0` to check that an array is not empty.\n",
      "  if diff:\n"
     ]
    },
    {
     "name": "stdout",
     "output_type": "stream",
     "text": [
      "[CV]  colsample_bytree=0.7, gamma=0.1, max_depth=50, min_child_weight=3, n_estimators=200, subsample=0.7, total=  39.8s\n",
      "[CV] colsample_bytree=0.7, gamma=0.2, max_depth=50, min_child_weight=2, n_estimators=200, subsample=0.6 \n"
     ]
    },
    {
     "name": "stderr",
     "output_type": "stream",
     "text": [
      "/home/willstudent/.local/lib/python3.6/site-packages/sklearn/preprocessing/label.py:151: DeprecationWarning: The truth value of an empty array is ambiguous. Returning False, but in future this will result in an error. Use `array.size > 0` to check that an array is not empty.\n",
      "  if diff:\n",
      "/home/willstudent/.local/lib/python3.6/site-packages/sklearn/preprocessing/label.py:151: DeprecationWarning: The truth value of an empty array is ambiguous. Returning False, but in future this will result in an error. Use `array.size > 0` to check that an array is not empty.\n",
      "  if diff:\n"
     ]
    },
    {
     "name": "stdout",
     "output_type": "stream",
     "text": [
      "[CV]  colsample_bytree=0.7, gamma=0.1, max_depth=50, min_child_weight=3, n_estimators=200, subsample=0.7, total=  39.5s\n",
      "[CV] colsample_bytree=0.7, gamma=0.2, max_depth=50, min_child_weight=2, n_estimators=200, subsample=0.6 \n"
     ]
    },
    {
     "name": "stderr",
     "output_type": "stream",
     "text": [
      "/home/willstudent/.local/lib/python3.6/site-packages/sklearn/preprocessing/label.py:151: DeprecationWarning: The truth value of an empty array is ambiguous. Returning False, but in future this will result in an error. Use `array.size > 0` to check that an array is not empty.\n",
      "  if diff:\n",
      "/home/willstudent/.local/lib/python3.6/site-packages/sklearn/preprocessing/label.py:151: DeprecationWarning: The truth value of an empty array is ambiguous. Returning False, but in future this will result in an error. Use `array.size > 0` to check that an array is not empty.\n",
      "  if diff:\n"
     ]
    },
    {
     "name": "stdout",
     "output_type": "stream",
     "text": [
      "[CV]  colsample_bytree=0.7, gamma=0.1, max_depth=50, min_child_weight=3, n_estimators=200, subsample=0.7999999999999999, total=  43.9s\n",
      "[CV] colsample_bytree=0.7, gamma=0.2, max_depth=50, min_child_weight=2, n_estimators=200, subsample=0.6 \n"
     ]
    },
    {
     "name": "stderr",
     "output_type": "stream",
     "text": [
      "/home/willstudent/.local/lib/python3.6/site-packages/sklearn/preprocessing/label.py:151: DeprecationWarning: The truth value of an empty array is ambiguous. Returning False, but in future this will result in an error. Use `array.size > 0` to check that an array is not empty.\n",
      "  if diff:\n",
      "/home/willstudent/.local/lib/python3.6/site-packages/sklearn/preprocessing/label.py:151: DeprecationWarning: The truth value of an empty array is ambiguous. Returning False, but in future this will result in an error. Use `array.size > 0` to check that an array is not empty.\n",
      "  if diff:\n"
     ]
    },
    {
     "name": "stdout",
     "output_type": "stream",
     "text": [
      "[CV]  colsample_bytree=0.7, gamma=0.1, max_depth=50, min_child_weight=3, n_estimators=200, subsample=0.7999999999999999, total=  44.1s\n",
      "[CV] colsample_bytree=0.7, gamma=0.2, max_depth=50, min_child_weight=2, n_estimators=200, subsample=0.7 \n"
     ]
    },
    {
     "name": "stderr",
     "output_type": "stream",
     "text": [
      "/home/willstudent/.local/lib/python3.6/site-packages/sklearn/preprocessing/label.py:151: DeprecationWarning: The truth value of an empty array is ambiguous. Returning False, but in future this will result in an error. Use `array.size > 0` to check that an array is not empty.\n",
      "  if diff:\n",
      "/home/willstudent/.local/lib/python3.6/site-packages/sklearn/preprocessing/label.py:151: DeprecationWarning: The truth value of an empty array is ambiguous. Returning False, but in future this will result in an error. Use `array.size > 0` to check that an array is not empty.\n",
      "  if diff:\n"
     ]
    },
    {
     "name": "stdout",
     "output_type": "stream",
     "text": [
      "[CV]  colsample_bytree=0.7, gamma=0.1, max_depth=50, min_child_weight=3, n_estimators=200, subsample=0.7999999999999999, total=  43.4s\n",
      "[CV] colsample_bytree=0.7, gamma=0.2, max_depth=50, min_child_weight=2, n_estimators=200, subsample=0.7 \n"
     ]
    },
    {
     "name": "stderr",
     "output_type": "stream",
     "text": [
      "/home/willstudent/.local/lib/python3.6/site-packages/sklearn/preprocessing/label.py:151: DeprecationWarning: The truth value of an empty array is ambiguous. Returning False, but in future this will result in an error. Use `array.size > 0` to check that an array is not empty.\n",
      "  if diff:\n",
      "/home/willstudent/.local/lib/python3.6/site-packages/sklearn/preprocessing/label.py:151: DeprecationWarning: The truth value of an empty array is ambiguous. Returning False, but in future this will result in an error. Use `array.size > 0` to check that an array is not empty.\n",
      "  if diff:\n",
      "/home/willstudent/.local/lib/python3.6/site-packages/sklearn/preprocessing/label.py:151: DeprecationWarning: The truth value of an empty array is ambiguous. Returning False, but in future this will result in an error. Use `array.size > 0` to check that an array is not empty.\n",
      "  if diff:\n"
     ]
    },
    {
     "name": "stdout",
     "output_type": "stream",
     "text": [
      "[CV]  colsample_bytree=0.7, gamma=0.1, max_depth=50, min_child_weight=3, n_estimators=200, subsample=0.8999999999999999, total=  47.7s\n",
      "[CV] colsample_bytree=0.7, gamma=0.2, max_depth=50, min_child_weight=2, n_estimators=200, subsample=0.7 \n"
     ]
    },
    {
     "name": "stderr",
     "output_type": "stream",
     "text": [
      "/home/willstudent/.local/lib/python3.6/site-packages/sklearn/preprocessing/label.py:151: DeprecationWarning: The truth value of an empty array is ambiguous. Returning False, but in future this will result in an error. Use `array.size > 0` to check that an array is not empty.\n",
      "  if diff:\n"
     ]
    },
    {
     "name": "stdout",
     "output_type": "stream",
     "text": [
      "[CV]  colsample_bytree=0.7, gamma=0.1, max_depth=50, min_child_weight=3, n_estimators=200, subsample=0.8999999999999999, total=  47.2s\n",
      "[CV] colsample_bytree=0.7, gamma=0.2, max_depth=50, min_child_weight=2, n_estimators=200, subsample=0.7999999999999999 \n"
     ]
    },
    {
     "name": "stderr",
     "output_type": "stream",
     "text": [
      "/home/willstudent/.local/lib/python3.6/site-packages/sklearn/preprocessing/label.py:151: DeprecationWarning: The truth value of an empty array is ambiguous. Returning False, but in future this will result in an error. Use `array.size > 0` to check that an array is not empty.\n",
      "  if diff:\n",
      "/home/willstudent/.local/lib/python3.6/site-packages/sklearn/preprocessing/label.py:151: DeprecationWarning: The truth value of an empty array is ambiguous. Returning False, but in future this will result in an error. Use `array.size > 0` to check that an array is not empty.\n",
      "  if diff:\n"
     ]
    },
    {
     "name": "stdout",
     "output_type": "stream",
     "text": [
      "[CV]  colsample_bytree=0.7, gamma=0.2, max_depth=50, min_child_weight=2, n_estimators=200, subsample=0.6, total=  39.0s\n",
      "[CV] colsample_bytree=0.7, gamma=0.2, max_depth=50, min_child_weight=2, n_estimators=200, subsample=0.7999999999999999 \n"
     ]
    },
    {
     "name": "stderr",
     "output_type": "stream",
     "text": [
      "/home/willstudent/.local/lib/python3.6/site-packages/sklearn/preprocessing/label.py:151: DeprecationWarning: The truth value of an empty array is ambiguous. Returning False, but in future this will result in an error. Use `array.size > 0` to check that an array is not empty.\n",
      "  if diff:\n",
      "/home/willstudent/.local/lib/python3.6/site-packages/sklearn/preprocessing/label.py:151: DeprecationWarning: The truth value of an empty array is ambiguous. Returning False, but in future this will result in an error. Use `array.size > 0` to check that an array is not empty.\n",
      "  if diff:\n"
     ]
    },
    {
     "name": "stdout",
     "output_type": "stream",
     "text": [
      "[CV]  colsample_bytree=0.7, gamma=0.1, max_depth=50, min_child_weight=3, n_estimators=200, subsample=0.8999999999999999, total=  48.0s\n",
      "[CV] colsample_bytree=0.7, gamma=0.2, max_depth=50, min_child_weight=2, n_estimators=200, subsample=0.7999999999999999 \n"
     ]
    },
    {
     "name": "stderr",
     "output_type": "stream",
     "text": [
      "/home/willstudent/.local/lib/python3.6/site-packages/sklearn/preprocessing/label.py:151: DeprecationWarning: The truth value of an empty array is ambiguous. Returning False, but in future this will result in an error. Use `array.size > 0` to check that an array is not empty.\n",
      "  if diff:\n",
      "/home/willstudent/.local/lib/python3.6/site-packages/sklearn/preprocessing/label.py:151: DeprecationWarning: The truth value of an empty array is ambiguous. Returning False, but in future this will result in an error. Use `array.size > 0` to check that an array is not empty.\n",
      "  if diff:\n"
     ]
    },
    {
     "name": "stdout",
     "output_type": "stream",
     "text": [
      "[CV]  colsample_bytree=0.7, gamma=0.2, max_depth=50, min_child_weight=2, n_estimators=200, subsample=0.6, total=  39.3s\n",
      "[CV] colsample_bytree=0.7, gamma=0.2, max_depth=50, min_child_weight=2, n_estimators=200, subsample=0.8999999999999999 \n"
     ]
    },
    {
     "name": "stderr",
     "output_type": "stream",
     "text": [
      "/home/willstudent/.local/lib/python3.6/site-packages/sklearn/preprocessing/label.py:151: DeprecationWarning: The truth value of an empty array is ambiguous. Returning False, but in future this will result in an error. Use `array.size > 0` to check that an array is not empty.\n",
      "  if diff:\n",
      "/home/willstudent/.local/lib/python3.6/site-packages/sklearn/preprocessing/label.py:151: DeprecationWarning: The truth value of an empty array is ambiguous. Returning False, but in future this will result in an error. Use `array.size > 0` to check that an array is not empty.\n",
      "  if diff:\n"
     ]
    },
    {
     "name": "stdout",
     "output_type": "stream",
     "text": [
      "[CV]  colsample_bytree=0.7, gamma=0.2, max_depth=50, min_child_weight=2, n_estimators=200, subsample=0.6, total=  39.1s\n",
      "[CV] colsample_bytree=0.7, gamma=0.2, max_depth=50, min_child_weight=2, n_estimators=200, subsample=0.8999999999999999 \n"
     ]
    },
    {
     "name": "stderr",
     "output_type": "stream",
     "text": [
      "/home/willstudent/.local/lib/python3.6/site-packages/sklearn/preprocessing/label.py:151: DeprecationWarning: The truth value of an empty array is ambiguous. Returning False, but in future this will result in an error. Use `array.size > 0` to check that an array is not empty.\n",
      "  if diff:\n",
      "/home/willstudent/.local/lib/python3.6/site-packages/sklearn/preprocessing/label.py:151: DeprecationWarning: The truth value of an empty array is ambiguous. Returning False, but in future this will result in an error. Use `array.size > 0` to check that an array is not empty.\n",
      "  if diff:\n"
     ]
    },
    {
     "name": "stdout",
     "output_type": "stream",
     "text": [
      "[CV]  colsample_bytree=0.7, gamma=0.2, max_depth=50, min_child_weight=2, n_estimators=200, subsample=0.7, total=  41.9s\n",
      "[CV] colsample_bytree=0.7, gamma=0.2, max_depth=50, min_child_weight=2, n_estimators=200, subsample=0.8999999999999999 \n"
     ]
    },
    {
     "name": "stderr",
     "output_type": "stream",
     "text": [
      "/home/willstudent/.local/lib/python3.6/site-packages/sklearn/preprocessing/label.py:151: DeprecationWarning: The truth value of an empty array is ambiguous. Returning False, but in future this will result in an error. Use `array.size > 0` to check that an array is not empty.\n",
      "  if diff:\n",
      "/home/willstudent/.local/lib/python3.6/site-packages/sklearn/preprocessing/label.py:151: DeprecationWarning: The truth value of an empty array is ambiguous. Returning False, but in future this will result in an error. Use `array.size > 0` to check that an array is not empty.\n",
      "  if diff:\n"
     ]
    },
    {
     "name": "stdout",
     "output_type": "stream",
     "text": [
      "[CV]  colsample_bytree=0.7, gamma=0.2, max_depth=50, min_child_weight=2, n_estimators=200, subsample=0.7, total=  42.1s\n",
      "[CV] colsample_bytree=0.7, gamma=0.2, max_depth=50, min_child_weight=3, n_estimators=200, subsample=0.6 \n"
     ]
    },
    {
     "name": "stderr",
     "output_type": "stream",
     "text": [
      "/home/willstudent/.local/lib/python3.6/site-packages/sklearn/preprocessing/label.py:151: DeprecationWarning: The truth value of an empty array is ambiguous. Returning False, but in future this will result in an error. Use `array.size > 0` to check that an array is not empty.\n",
      "  if diff:\n",
      "/home/willstudent/.local/lib/python3.6/site-packages/sklearn/preprocessing/label.py:151: DeprecationWarning: The truth value of an empty array is ambiguous. Returning False, but in future this will result in an error. Use `array.size > 0` to check that an array is not empty.\n",
      "  if diff:\n"
     ]
    },
    {
     "name": "stdout",
     "output_type": "stream",
     "text": [
      "[CV]  colsample_bytree=0.7, gamma=0.2, max_depth=50, min_child_weight=2, n_estimators=200, subsample=0.7, total=  42.6s\n",
      "[CV] colsample_bytree=0.7, gamma=0.2, max_depth=50, min_child_weight=3, n_estimators=200, subsample=0.6 \n"
     ]
    },
    {
     "name": "stderr",
     "output_type": "stream",
     "text": [
      "/home/willstudent/.local/lib/python3.6/site-packages/sklearn/preprocessing/label.py:151: DeprecationWarning: The truth value of an empty array is ambiguous. Returning False, but in future this will result in an error. Use `array.size > 0` to check that an array is not empty.\n",
      "  if diff:\n",
      "/home/willstudent/.local/lib/python3.6/site-packages/sklearn/preprocessing/label.py:151: DeprecationWarning: The truth value of an empty array is ambiguous. Returning False, but in future this will result in an error. Use `array.size > 0` to check that an array is not empty.\n",
      "  if diff:\n"
     ]
    },
    {
     "name": "stdout",
     "output_type": "stream",
     "text": [
      "[CV]  colsample_bytree=0.7, gamma=0.2, max_depth=50, min_child_weight=2, n_estimators=200, subsample=0.7999999999999999, total=  45.8s\n",
      "[CV] colsample_bytree=0.7, gamma=0.2, max_depth=50, min_child_weight=3, n_estimators=200, subsample=0.6 \n"
     ]
    },
    {
     "name": "stderr",
     "output_type": "stream",
     "text": [
      "/home/willstudent/.local/lib/python3.6/site-packages/sklearn/preprocessing/label.py:151: DeprecationWarning: The truth value of an empty array is ambiguous. Returning False, but in future this will result in an error. Use `array.size > 0` to check that an array is not empty.\n",
      "  if diff:\n",
      "/home/willstudent/.local/lib/python3.6/site-packages/sklearn/preprocessing/label.py:151: DeprecationWarning: The truth value of an empty array is ambiguous. Returning False, but in future this will result in an error. Use `array.size > 0` to check that an array is not empty.\n",
      "  if diff:\n"
     ]
    },
    {
     "name": "stdout",
     "output_type": "stream",
     "text": [
      "[CV]  colsample_bytree=0.7, gamma=0.2, max_depth=50, min_child_weight=2, n_estimators=200, subsample=0.7999999999999999, total=  45.6s\n",
      "[CV] colsample_bytree=0.7, gamma=0.2, max_depth=50, min_child_weight=3, n_estimators=200, subsample=0.7 \n"
     ]
    },
    {
     "name": "stderr",
     "output_type": "stream",
     "text": [
      "/home/willstudent/.local/lib/python3.6/site-packages/sklearn/preprocessing/label.py:151: DeprecationWarning: The truth value of an empty array is ambiguous. Returning False, but in future this will result in an error. Use `array.size > 0` to check that an array is not empty.\n",
      "  if diff:\n",
      "/home/willstudent/.local/lib/python3.6/site-packages/sklearn/preprocessing/label.py:151: DeprecationWarning: The truth value of an empty array is ambiguous. Returning False, but in future this will result in an error. Use `array.size > 0` to check that an array is not empty.\n",
      "  if diff:\n"
     ]
    },
    {
     "name": "stdout",
     "output_type": "stream",
     "text": [
      "[CV]  colsample_bytree=0.7, gamma=0.2, max_depth=50, min_child_weight=2, n_estimators=200, subsample=0.7999999999999999, total=  45.8s\n",
      "[CV] colsample_bytree=0.7, gamma=0.2, max_depth=50, min_child_weight=3, n_estimators=200, subsample=0.7 \n"
     ]
    },
    {
     "name": "stderr",
     "output_type": "stream",
     "text": [
      "/home/willstudent/.local/lib/python3.6/site-packages/sklearn/preprocessing/label.py:151: DeprecationWarning: The truth value of an empty array is ambiguous. Returning False, but in future this will result in an error. Use `array.size > 0` to check that an array is not empty.\n",
      "  if diff:\n",
      "/home/willstudent/.local/lib/python3.6/site-packages/sklearn/preprocessing/label.py:151: DeprecationWarning: The truth value of an empty array is ambiguous. Returning False, but in future this will result in an error. Use `array.size > 0` to check that an array is not empty.\n",
      "  if diff:\n"
     ]
    },
    {
     "name": "stdout",
     "output_type": "stream",
     "text": [
      "[CV]  colsample_bytree=0.7, gamma=0.2, max_depth=50, min_child_weight=2, n_estimators=200, subsample=0.8999999999999999, total=  49.6s\n",
      "[CV] colsample_bytree=0.7, gamma=0.2, max_depth=50, min_child_weight=3, n_estimators=200, subsample=0.7 \n"
     ]
    },
    {
     "name": "stderr",
     "output_type": "stream",
     "text": [
      "/home/willstudent/.local/lib/python3.6/site-packages/sklearn/preprocessing/label.py:151: DeprecationWarning: The truth value of an empty array is ambiguous. Returning False, but in future this will result in an error. Use `array.size > 0` to check that an array is not empty.\n",
      "  if diff:\n",
      "/home/willstudent/.local/lib/python3.6/site-packages/sklearn/preprocessing/label.py:151: DeprecationWarning: The truth value of an empty array is ambiguous. Returning False, but in future this will result in an error. Use `array.size > 0` to check that an array is not empty.\n",
      "  if diff:\n"
     ]
    },
    {
     "name": "stdout",
     "output_type": "stream",
     "text": [
      "[CV]  colsample_bytree=0.7, gamma=0.2, max_depth=50, min_child_weight=3, n_estimators=200, subsample=0.6, total=  36.4s\n",
      "[CV] colsample_bytree=0.7, gamma=0.2, max_depth=50, min_child_weight=3, n_estimators=200, subsample=0.7999999999999999 \n"
     ]
    },
    {
     "name": "stderr",
     "output_type": "stream",
     "text": [
      "/home/willstudent/.local/lib/python3.6/site-packages/sklearn/preprocessing/label.py:151: DeprecationWarning: The truth value of an empty array is ambiguous. Returning False, but in future this will result in an error. Use `array.size > 0` to check that an array is not empty.\n",
      "  if diff:\n",
      "/home/willstudent/.local/lib/python3.6/site-packages/sklearn/preprocessing/label.py:151: DeprecationWarning: The truth value of an empty array is ambiguous. Returning False, but in future this will result in an error. Use `array.size > 0` to check that an array is not empty.\n",
      "  if diff:\n"
     ]
    },
    {
     "name": "stdout",
     "output_type": "stream",
     "text": [
      "[CV]  colsample_bytree=0.7, gamma=0.2, max_depth=50, min_child_weight=2, n_estimators=200, subsample=0.8999999999999999, total=  48.8s\n",
      "[CV] colsample_bytree=0.7, gamma=0.2, max_depth=50, min_child_weight=3, n_estimators=200, subsample=0.7999999999999999 \n"
     ]
    },
    {
     "name": "stderr",
     "output_type": "stream",
     "text": [
      "/home/willstudent/.local/lib/python3.6/site-packages/sklearn/preprocessing/label.py:151: DeprecationWarning: The truth value of an empty array is ambiguous. Returning False, but in future this will result in an error. Use `array.size > 0` to check that an array is not empty.\n",
      "  if diff:\n",
      "/home/willstudent/.local/lib/python3.6/site-packages/sklearn/preprocessing/label.py:151: DeprecationWarning: The truth value of an empty array is ambiguous. Returning False, but in future this will result in an error. Use `array.size > 0` to check that an array is not empty.\n",
      "  if diff:\n"
     ]
    },
    {
     "name": "stdout",
     "output_type": "stream",
     "text": [
      "[CV]  colsample_bytree=0.7, gamma=0.2, max_depth=50, min_child_weight=3, n_estimators=200, subsample=0.6, total=  36.3s\n",
      "[CV] colsample_bytree=0.7, gamma=0.2, max_depth=50, min_child_weight=3, n_estimators=200, subsample=0.7999999999999999 \n"
     ]
    },
    {
     "name": "stderr",
     "output_type": "stream",
     "text": [
      "/home/willstudent/.local/lib/python3.6/site-packages/sklearn/preprocessing/label.py:151: DeprecationWarning: The truth value of an empty array is ambiguous. Returning False, but in future this will result in an error. Use `array.size > 0` to check that an array is not empty.\n",
      "  if diff:\n",
      "/home/willstudent/.local/lib/python3.6/site-packages/sklearn/preprocessing/label.py:151: DeprecationWarning: The truth value of an empty array is ambiguous. Returning False, but in future this will result in an error. Use `array.size > 0` to check that an array is not empty.\n",
      "  if diff:\n"
     ]
    },
    {
     "name": "stdout",
     "output_type": "stream",
     "text": [
      "[CV]  colsample_bytree=0.7, gamma=0.2, max_depth=50, min_child_weight=2, n_estimators=200, subsample=0.8999999999999999, total=  48.6s\n",
      "[CV] colsample_bytree=0.7, gamma=0.2, max_depth=50, min_child_weight=3, n_estimators=200, subsample=0.8999999999999999 \n"
     ]
    },
    {
     "name": "stderr",
     "output_type": "stream",
     "text": [
      "/home/willstudent/.local/lib/python3.6/site-packages/sklearn/preprocessing/label.py:151: DeprecationWarning: The truth value of an empty array is ambiguous. Returning False, but in future this will result in an error. Use `array.size > 0` to check that an array is not empty.\n",
      "  if diff:\n",
      "/home/willstudent/.local/lib/python3.6/site-packages/sklearn/preprocessing/label.py:151: DeprecationWarning: The truth value of an empty array is ambiguous. Returning False, but in future this will result in an error. Use `array.size > 0` to check that an array is not empty.\n",
      "  if diff:\n"
     ]
    },
    {
     "name": "stdout",
     "output_type": "stream",
     "text": [
      "[CV]  colsample_bytree=0.7, gamma=0.2, max_depth=50, min_child_weight=3, n_estimators=200, subsample=0.6, total=  37.2s\n",
      "[CV] colsample_bytree=0.7, gamma=0.2, max_depth=50, min_child_weight=3, n_estimators=200, subsample=0.8999999999999999 \n"
     ]
    },
    {
     "name": "stderr",
     "output_type": "stream",
     "text": [
      "/home/willstudent/.local/lib/python3.6/site-packages/sklearn/preprocessing/label.py:151: DeprecationWarning: The truth value of an empty array is ambiguous. Returning False, but in future this will result in an error. Use `array.size > 0` to check that an array is not empty.\n",
      "  if diff:\n",
      "/home/willstudent/.local/lib/python3.6/site-packages/sklearn/preprocessing/label.py:151: DeprecationWarning: The truth value of an empty array is ambiguous. Returning False, but in future this will result in an error. Use `array.size > 0` to check that an array is not empty.\n",
      "  if diff:\n"
     ]
    },
    {
     "name": "stdout",
     "output_type": "stream",
     "text": [
      "[CV]  colsample_bytree=0.7, gamma=0.2, max_depth=50, min_child_weight=3, n_estimators=200, subsample=0.7, total=  39.9s\n",
      "[CV] colsample_bytree=0.7, gamma=0.2, max_depth=50, min_child_weight=3, n_estimators=200, subsample=0.8999999999999999 \n"
     ]
    },
    {
     "name": "stderr",
     "output_type": "stream",
     "text": [
      "/home/willstudent/.local/lib/python3.6/site-packages/sklearn/preprocessing/label.py:151: DeprecationWarning: The truth value of an empty array is ambiguous. Returning False, but in future this will result in an error. Use `array.size > 0` to check that an array is not empty.\n",
      "  if diff:\n",
      "/home/willstudent/.local/lib/python3.6/site-packages/sklearn/preprocessing/label.py:151: DeprecationWarning: The truth value of an empty array is ambiguous. Returning False, but in future this will result in an error. Use `array.size > 0` to check that an array is not empty.\n",
      "  if diff:\n"
     ]
    },
    {
     "name": "stdout",
     "output_type": "stream",
     "text": [
      "[CV]  colsample_bytree=0.7, gamma=0.2, max_depth=50, min_child_weight=3, n_estimators=200, subsample=0.7, total=  39.6s\n",
      "[CV] colsample_bytree=0.7, gamma=0.30000000000000004, max_depth=50, min_child_weight=2, n_estimators=200, subsample=0.6 \n"
     ]
    },
    {
     "name": "stderr",
     "output_type": "stream",
     "text": [
      "/home/willstudent/.local/lib/python3.6/site-packages/sklearn/preprocessing/label.py:151: DeprecationWarning: The truth value of an empty array is ambiguous. Returning False, but in future this will result in an error. Use `array.size > 0` to check that an array is not empty.\n",
      "  if diff:\n",
      "/home/willstudent/.local/lib/python3.6/site-packages/sklearn/preprocessing/label.py:151: DeprecationWarning: The truth value of an empty array is ambiguous. Returning False, but in future this will result in an error. Use `array.size > 0` to check that an array is not empty.\n",
      "  if diff:\n"
     ]
    },
    {
     "name": "stdout",
     "output_type": "stream",
     "text": [
      "[CV]  colsample_bytree=0.7, gamma=0.2, max_depth=50, min_child_weight=3, n_estimators=200, subsample=0.7, total=  39.7s\n",
      "[CV] colsample_bytree=0.7, gamma=0.30000000000000004, max_depth=50, min_child_weight=2, n_estimators=200, subsample=0.6 \n"
     ]
    },
    {
     "name": "stderr",
     "output_type": "stream",
     "text": [
      "/home/willstudent/.local/lib/python3.6/site-packages/sklearn/preprocessing/label.py:151: DeprecationWarning: The truth value of an empty array is ambiguous. Returning False, but in future this will result in an error. Use `array.size > 0` to check that an array is not empty.\n",
      "  if diff:\n",
      "/home/willstudent/.local/lib/python3.6/site-packages/sklearn/preprocessing/label.py:151: DeprecationWarning: The truth value of an empty array is ambiguous. Returning False, but in future this will result in an error. Use `array.size > 0` to check that an array is not empty.\n",
      "  if diff:\n"
     ]
    },
    {
     "name": "stdout",
     "output_type": "stream",
     "text": [
      "[CV]  colsample_bytree=0.7, gamma=0.2, max_depth=50, min_child_weight=3, n_estimators=200, subsample=0.7999999999999999, total=  43.4s\n",
      "[CV] colsample_bytree=0.7, gamma=0.30000000000000004, max_depth=50, min_child_weight=2, n_estimators=200, subsample=0.6 \n"
     ]
    },
    {
     "name": "stderr",
     "output_type": "stream",
     "text": [
      "/home/willstudent/.local/lib/python3.6/site-packages/sklearn/preprocessing/label.py:151: DeprecationWarning: The truth value of an empty array is ambiguous. Returning False, but in future this will result in an error. Use `array.size > 0` to check that an array is not empty.\n",
      "  if diff:\n",
      "/home/willstudent/.local/lib/python3.6/site-packages/sklearn/preprocessing/label.py:151: DeprecationWarning: The truth value of an empty array is ambiguous. Returning False, but in future this will result in an error. Use `array.size > 0` to check that an array is not empty.\n",
      "  if diff:\n"
     ]
    },
    {
     "name": "stdout",
     "output_type": "stream",
     "text": [
      "[CV]  colsample_bytree=0.7, gamma=0.2, max_depth=50, min_child_weight=3, n_estimators=200, subsample=0.7999999999999999, total=  42.3s\n",
      "[CV] colsample_bytree=0.7, gamma=0.30000000000000004, max_depth=50, min_child_weight=2, n_estimators=200, subsample=0.7 \n"
     ]
    },
    {
     "name": "stderr",
     "output_type": "stream",
     "text": [
      "/home/willstudent/.local/lib/python3.6/site-packages/sklearn/preprocessing/label.py:151: DeprecationWarning: The truth value of an empty array is ambiguous. Returning False, but in future this will result in an error. Use `array.size > 0` to check that an array is not empty.\n",
      "  if diff:\n",
      "/home/willstudent/.local/lib/python3.6/site-packages/sklearn/preprocessing/label.py:151: DeprecationWarning: The truth value of an empty array is ambiguous. Returning False, but in future this will result in an error. Use `array.size > 0` to check that an array is not empty.\n",
      "  if diff:\n"
     ]
    },
    {
     "name": "stdout",
     "output_type": "stream",
     "text": [
      "[CV]  colsample_bytree=0.7, gamma=0.2, max_depth=50, min_child_weight=3, n_estimators=200, subsample=0.7999999999999999, total=  42.5s\n",
      "[CV] colsample_bytree=0.7, gamma=0.30000000000000004, max_depth=50, min_child_weight=2, n_estimators=200, subsample=0.7 \n"
     ]
    },
    {
     "name": "stderr",
     "output_type": "stream",
     "text": [
      "/home/willstudent/.local/lib/python3.6/site-packages/sklearn/preprocessing/label.py:151: DeprecationWarning: The truth value of an empty array is ambiguous. Returning False, but in future this will result in an error. Use `array.size > 0` to check that an array is not empty.\n",
      "  if diff:\n",
      "/home/willstudent/.local/lib/python3.6/site-packages/sklearn/preprocessing/label.py:151: DeprecationWarning: The truth value of an empty array is ambiguous. Returning False, but in future this will result in an error. Use `array.size > 0` to check that an array is not empty.\n",
      "  if diff:\n"
     ]
    },
    {
     "name": "stdout",
     "output_type": "stream",
     "text": [
      "[CV]  colsample_bytree=0.7, gamma=0.2, max_depth=50, min_child_weight=3, n_estimators=200, subsample=0.8999999999999999, total=  46.2s\n",
      "[CV] colsample_bytree=0.7, gamma=0.30000000000000004, max_depth=50, min_child_weight=2, n_estimators=200, subsample=0.7 \n"
     ]
    },
    {
     "name": "stderr",
     "output_type": "stream",
     "text": [
      "/home/willstudent/.local/lib/python3.6/site-packages/sklearn/preprocessing/label.py:151: DeprecationWarning: The truth value of an empty array is ambiguous. Returning False, but in future this will result in an error. Use `array.size > 0` to check that an array is not empty.\n",
      "  if diff:\n",
      "/home/willstudent/.local/lib/python3.6/site-packages/sklearn/preprocessing/label.py:151: DeprecationWarning: The truth value of an empty array is ambiguous. Returning False, but in future this will result in an error. Use `array.size > 0` to check that an array is not empty.\n",
      "  if diff:\n"
     ]
    },
    {
     "name": "stdout",
     "output_type": "stream",
     "text": [
      "[CV]  colsample_bytree=0.7, gamma=0.2, max_depth=50, min_child_weight=3, n_estimators=200, subsample=0.8999999999999999, total=  46.2s\n",
      "[CV] colsample_bytree=0.7, gamma=0.30000000000000004, max_depth=50, min_child_weight=2, n_estimators=200, subsample=0.7999999999999999 \n"
     ]
    },
    {
     "name": "stderr",
     "output_type": "stream",
     "text": [
      "/home/willstudent/.local/lib/python3.6/site-packages/sklearn/preprocessing/label.py:151: DeprecationWarning: The truth value of an empty array is ambiguous. Returning False, but in future this will result in an error. Use `array.size > 0` to check that an array is not empty.\n",
      "  if diff:\n",
      "/home/willstudent/.local/lib/python3.6/site-packages/sklearn/preprocessing/label.py:151: DeprecationWarning: The truth value of an empty array is ambiguous. Returning False, but in future this will result in an error. Use `array.size > 0` to check that an array is not empty.\n",
      "  if diff:\n",
      "/home/willstudent/.local/lib/python3.6/site-packages/sklearn/preprocessing/label.py:151: DeprecationWarning: The truth value of an empty array is ambiguous. Returning False, but in future this will result in an error. Use `array.size > 0` to check that an array is not empty.\n",
      "  if diff:\n"
     ]
    },
    {
     "name": "stdout",
     "output_type": "stream",
     "text": [
      "[CV]  colsample_bytree=0.7, gamma=0.30000000000000004, max_depth=50, min_child_weight=2, n_estimators=200, subsample=0.6, total=  39.4s\n",
      "[CV] colsample_bytree=0.7, gamma=0.30000000000000004, max_depth=50, min_child_weight=2, n_estimators=200, subsample=0.7999999999999999 \n"
     ]
    },
    {
     "name": "stderr",
     "output_type": "stream",
     "text": [
      "/home/willstudent/.local/lib/python3.6/site-packages/sklearn/preprocessing/label.py:151: DeprecationWarning: The truth value of an empty array is ambiguous. Returning False, but in future this will result in an error. Use `array.size > 0` to check that an array is not empty.\n",
      "  if diff:\n"
     ]
    },
    {
     "name": "stdout",
     "output_type": "stream",
     "text": [
      "[CV]  colsample_bytree=0.7, gamma=0.2, max_depth=50, min_child_weight=3, n_estimators=200, subsample=0.8999999999999999, total=  47.0s\n",
      "[CV] colsample_bytree=0.7, gamma=0.30000000000000004, max_depth=50, min_child_weight=2, n_estimators=200, subsample=0.7999999999999999 \n"
     ]
    },
    {
     "name": "stderr",
     "output_type": "stream",
     "text": [
      "/home/willstudent/.local/lib/python3.6/site-packages/sklearn/preprocessing/label.py:151: DeprecationWarning: The truth value of an empty array is ambiguous. Returning False, but in future this will result in an error. Use `array.size > 0` to check that an array is not empty.\n",
      "  if diff:\n",
      "/home/willstudent/.local/lib/python3.6/site-packages/sklearn/preprocessing/label.py:151: DeprecationWarning: The truth value of an empty array is ambiguous. Returning False, but in future this will result in an error. Use `array.size > 0` to check that an array is not empty.\n",
      "  if diff:\n"
     ]
    },
    {
     "name": "stdout",
     "output_type": "stream",
     "text": [
      "[CV]  colsample_bytree=0.7, gamma=0.30000000000000004, max_depth=50, min_child_weight=2, n_estimators=200, subsample=0.6, total=  38.8s\n",
      "[CV] colsample_bytree=0.7, gamma=0.30000000000000004, max_depth=50, min_child_weight=2, n_estimators=200, subsample=0.8999999999999999 \n"
     ]
    },
    {
     "name": "stderr",
     "output_type": "stream",
     "text": [
      "[Parallel(n_jobs=-1)]: Done 146 tasks      | elapsed: 12.8min\n",
      "/home/willstudent/.local/lib/python3.6/site-packages/sklearn/preprocessing/label.py:151: DeprecationWarning: The truth value of an empty array is ambiguous. Returning False, but in future this will result in an error. Use `array.size > 0` to check that an array is not empty.\n",
      "  if diff:\n",
      "/home/willstudent/.local/lib/python3.6/site-packages/sklearn/preprocessing/label.py:151: DeprecationWarning: The truth value of an empty array is ambiguous. Returning False, but in future this will result in an error. Use `array.size > 0` to check that an array is not empty.\n",
      "  if diff:\n"
     ]
    },
    {
     "name": "stdout",
     "output_type": "stream",
     "text": [
      "[CV]  colsample_bytree=0.7, gamma=0.30000000000000004, max_depth=50, min_child_weight=2, n_estimators=200, subsample=0.6, total=  39.7s\n",
      "[CV] colsample_bytree=0.7, gamma=0.30000000000000004, max_depth=50, min_child_weight=2, n_estimators=200, subsample=0.8999999999999999 \n"
     ]
    },
    {
     "name": "stderr",
     "output_type": "stream",
     "text": [
      "/home/willstudent/.local/lib/python3.6/site-packages/sklearn/preprocessing/label.py:151: DeprecationWarning: The truth value of an empty array is ambiguous. Returning False, but in future this will result in an error. Use `array.size > 0` to check that an array is not empty.\n",
      "  if diff:\n",
      "/home/willstudent/.local/lib/python3.6/site-packages/sklearn/preprocessing/label.py:151: DeprecationWarning: The truth value of an empty array is ambiguous. Returning False, but in future this will result in an error. Use `array.size > 0` to check that an array is not empty.\n",
      "  if diff:\n"
     ]
    },
    {
     "name": "stdout",
     "output_type": "stream",
     "text": [
      "[CV]  colsample_bytree=0.7, gamma=0.30000000000000004, max_depth=50, min_child_weight=2, n_estimators=200, subsample=0.7, total=  42.1s\n",
      "[CV] colsample_bytree=0.7, gamma=0.30000000000000004, max_depth=50, min_child_weight=2, n_estimators=200, subsample=0.8999999999999999 \n"
     ]
    },
    {
     "name": "stderr",
     "output_type": "stream",
     "text": [
      "/home/willstudent/.local/lib/python3.6/site-packages/sklearn/preprocessing/label.py:151: DeprecationWarning: The truth value of an empty array is ambiguous. Returning False, but in future this will result in an error. Use `array.size > 0` to check that an array is not empty.\n",
      "  if diff:\n",
      "/home/willstudent/.local/lib/python3.6/site-packages/sklearn/preprocessing/label.py:151: DeprecationWarning: The truth value of an empty array is ambiguous. Returning False, but in future this will result in an error. Use `array.size > 0` to check that an array is not empty.\n",
      "  if diff:\n"
     ]
    },
    {
     "name": "stdout",
     "output_type": "stream",
     "text": [
      "[CV]  colsample_bytree=0.7, gamma=0.30000000000000004, max_depth=50, min_child_weight=2, n_estimators=200, subsample=0.7, total=  42.9s\n",
      "[CV] colsample_bytree=0.7, gamma=0.30000000000000004, max_depth=50, min_child_weight=3, n_estimators=200, subsample=0.6 \n"
     ]
    },
    {
     "name": "stderr",
     "output_type": "stream",
     "text": [
      "/home/willstudent/.local/lib/python3.6/site-packages/sklearn/preprocessing/label.py:151: DeprecationWarning: The truth value of an empty array is ambiguous. Returning False, but in future this will result in an error. Use `array.size > 0` to check that an array is not empty.\n",
      "  if diff:\n",
      "/home/willstudent/.local/lib/python3.6/site-packages/sklearn/preprocessing/label.py:151: DeprecationWarning: The truth value of an empty array is ambiguous. Returning False, but in future this will result in an error. Use `array.size > 0` to check that an array is not empty.\n",
      "  if diff:\n"
     ]
    },
    {
     "name": "stdout",
     "output_type": "stream",
     "text": [
      "[CV]  colsample_bytree=0.7, gamma=0.30000000000000004, max_depth=50, min_child_weight=2, n_estimators=200, subsample=0.7, total=  42.8s\n",
      "[CV] colsample_bytree=0.7, gamma=0.30000000000000004, max_depth=50, min_child_weight=3, n_estimators=200, subsample=0.6 \n"
     ]
    },
    {
     "name": "stderr",
     "output_type": "stream",
     "text": [
      "/home/willstudent/.local/lib/python3.6/site-packages/sklearn/preprocessing/label.py:151: DeprecationWarning: The truth value of an empty array is ambiguous. Returning False, but in future this will result in an error. Use `array.size > 0` to check that an array is not empty.\n",
      "  if diff:\n",
      "/home/willstudent/.local/lib/python3.6/site-packages/sklearn/preprocessing/label.py:151: DeprecationWarning: The truth value of an empty array is ambiguous. Returning False, but in future this will result in an error. Use `array.size > 0` to check that an array is not empty.\n",
      "  if diff:\n"
     ]
    },
    {
     "name": "stdout",
     "output_type": "stream",
     "text": [
      "[CV]  colsample_bytree=0.7, gamma=0.30000000000000004, max_depth=50, min_child_weight=2, n_estimators=200, subsample=0.7999999999999999, total=  45.4s\n",
      "[CV] colsample_bytree=0.7, gamma=0.30000000000000004, max_depth=50, min_child_weight=3, n_estimators=200, subsample=0.6 \n"
     ]
    },
    {
     "name": "stderr",
     "output_type": "stream",
     "text": [
      "/home/willstudent/.local/lib/python3.6/site-packages/sklearn/preprocessing/label.py:151: DeprecationWarning: The truth value of an empty array is ambiguous. Returning False, but in future this will result in an error. Use `array.size > 0` to check that an array is not empty.\n",
      "  if diff:\n",
      "/home/willstudent/.local/lib/python3.6/site-packages/sklearn/preprocessing/label.py:151: DeprecationWarning: The truth value of an empty array is ambiguous. Returning False, but in future this will result in an error. Use `array.size > 0` to check that an array is not empty.\n",
      "  if diff:\n",
      "/home/willstudent/.local/lib/python3.6/site-packages/sklearn/preprocessing/label.py:151: DeprecationWarning: The truth value of an empty array is ambiguous. Returning False, but in future this will result in an error. Use `array.size > 0` to check that an array is not empty.\n",
      "  if diff:\n"
     ]
    },
    {
     "name": "stdout",
     "output_type": "stream",
     "text": [
      "[CV]  colsample_bytree=0.7, gamma=0.30000000000000004, max_depth=50, min_child_weight=2, n_estimators=200, subsample=0.7999999999999999, total=  45.2s\n",
      "[CV] colsample_bytree=0.7, gamma=0.30000000000000004, max_depth=50, min_child_weight=3, n_estimators=200, subsample=0.7 \n"
     ]
    },
    {
     "name": "stderr",
     "output_type": "stream",
     "text": [
      "/home/willstudent/.local/lib/python3.6/site-packages/sklearn/preprocessing/label.py:151: DeprecationWarning: The truth value of an empty array is ambiguous. Returning False, but in future this will result in an error. Use `array.size > 0` to check that an array is not empty.\n",
      "  if diff:\n"
     ]
    },
    {
     "name": "stdout",
     "output_type": "stream",
     "text": [
      "[CV]  colsample_bytree=0.7, gamma=0.30000000000000004, max_depth=50, min_child_weight=2, n_estimators=200, subsample=0.7999999999999999, total=  45.6s\n",
      "[CV] colsample_bytree=0.7, gamma=0.30000000000000004, max_depth=50, min_child_weight=3, n_estimators=200, subsample=0.7 \n"
     ]
    },
    {
     "name": "stderr",
     "output_type": "stream",
     "text": [
      "/home/willstudent/.local/lib/python3.6/site-packages/sklearn/preprocessing/label.py:151: DeprecationWarning: The truth value of an empty array is ambiguous. Returning False, but in future this will result in an error. Use `array.size > 0` to check that an array is not empty.\n",
      "  if diff:\n",
      "/home/willstudent/.local/lib/python3.6/site-packages/sklearn/preprocessing/label.py:151: DeprecationWarning: The truth value of an empty array is ambiguous. Returning False, but in future this will result in an error. Use `array.size > 0` to check that an array is not empty.\n",
      "  if diff:\n"
     ]
    },
    {
     "name": "stdout",
     "output_type": "stream",
     "text": [
      "[CV]  colsample_bytree=0.7, gamma=0.30000000000000004, max_depth=50, min_child_weight=2, n_estimators=200, subsample=0.8999999999999999, total=  49.5s\n",
      "[CV] colsample_bytree=0.7, gamma=0.30000000000000004, max_depth=50, min_child_weight=3, n_estimators=200, subsample=0.7 \n"
     ]
    },
    {
     "name": "stderr",
     "output_type": "stream",
     "text": [
      "/home/willstudent/.local/lib/python3.6/site-packages/sklearn/preprocessing/label.py:151: DeprecationWarning: The truth value of an empty array is ambiguous. Returning False, but in future this will result in an error. Use `array.size > 0` to check that an array is not empty.\n",
      "  if diff:\n",
      "/home/willstudent/.local/lib/python3.6/site-packages/sklearn/preprocessing/label.py:151: DeprecationWarning: The truth value of an empty array is ambiguous. Returning False, but in future this will result in an error. Use `array.size > 0` to check that an array is not empty.\n",
      "  if diff:\n"
     ]
    },
    {
     "name": "stdout",
     "output_type": "stream",
     "text": [
      "[CV]  colsample_bytree=0.7, gamma=0.30000000000000004, max_depth=50, min_child_weight=3, n_estimators=200, subsample=0.6, total=  36.5s\n",
      "[CV] colsample_bytree=0.7, gamma=0.30000000000000004, max_depth=50, min_child_weight=3, n_estimators=200, subsample=0.7999999999999999 \n"
     ]
    },
    {
     "name": "stderr",
     "output_type": "stream",
     "text": [
      "/home/willstudent/.local/lib/python3.6/site-packages/sklearn/preprocessing/label.py:151: DeprecationWarning: The truth value of an empty array is ambiguous. Returning False, but in future this will result in an error. Use `array.size > 0` to check that an array is not empty.\n",
      "  if diff:\n",
      "/home/willstudent/.local/lib/python3.6/site-packages/sklearn/preprocessing/label.py:151: DeprecationWarning: The truth value of an empty array is ambiguous. Returning False, but in future this will result in an error. Use `array.size > 0` to check that an array is not empty.\n",
      "  if diff:\n"
     ]
    },
    {
     "name": "stdout",
     "output_type": "stream",
     "text": [
      "[CV]  colsample_bytree=0.7, gamma=0.30000000000000004, max_depth=50, min_child_weight=2, n_estimators=200, subsample=0.8999999999999999, total=  49.0s\n",
      "[CV] colsample_bytree=0.7, gamma=0.30000000000000004, max_depth=50, min_child_weight=3, n_estimators=200, subsample=0.7999999999999999 \n"
     ]
    },
    {
     "name": "stderr",
     "output_type": "stream",
     "text": [
      "/home/willstudent/.local/lib/python3.6/site-packages/sklearn/preprocessing/label.py:151: DeprecationWarning: The truth value of an empty array is ambiguous. Returning False, but in future this will result in an error. Use `array.size > 0` to check that an array is not empty.\n",
      "  if diff:\n",
      "/home/willstudent/.local/lib/python3.6/site-packages/sklearn/preprocessing/label.py:151: DeprecationWarning: The truth value of an empty array is ambiguous. Returning False, but in future this will result in an error. Use `array.size > 0` to check that an array is not empty.\n",
      "  if diff:\n"
     ]
    },
    {
     "name": "stdout",
     "output_type": "stream",
     "text": [
      "[CV]  colsample_bytree=0.7, gamma=0.30000000000000004, max_depth=50, min_child_weight=3, n_estimators=200, subsample=0.6, total=  36.2s\n",
      "[CV] colsample_bytree=0.7, gamma=0.30000000000000004, max_depth=50, min_child_weight=3, n_estimators=200, subsample=0.7999999999999999 \n"
     ]
    },
    {
     "name": "stderr",
     "output_type": "stream",
     "text": [
      "/home/willstudent/.local/lib/python3.6/site-packages/sklearn/preprocessing/label.py:151: DeprecationWarning: The truth value of an empty array is ambiguous. Returning False, but in future this will result in an error. Use `array.size > 0` to check that an array is not empty.\n",
      "  if diff:\n",
      "/home/willstudent/.local/lib/python3.6/site-packages/sklearn/preprocessing/label.py:151: DeprecationWarning: The truth value of an empty array is ambiguous. Returning False, but in future this will result in an error. Use `array.size > 0` to check that an array is not empty.\n",
      "  if diff:\n",
      "/home/willstudent/.local/lib/python3.6/site-packages/sklearn/preprocessing/label.py:151: DeprecationWarning: The truth value of an empty array is ambiguous. Returning False, but in future this will result in an error. Use `array.size > 0` to check that an array is not empty.\n",
      "  if diff:\n"
     ]
    },
    {
     "name": "stdout",
     "output_type": "stream",
     "text": [
      "[CV]  colsample_bytree=0.7, gamma=0.30000000000000004, max_depth=50, min_child_weight=2, n_estimators=200, subsample=0.8999999999999999, total=  50.6s\n",
      "[CV] colsample_bytree=0.7, gamma=0.30000000000000004, max_depth=50, min_child_weight=3, n_estimators=200, subsample=0.8999999999999999 \n"
     ]
    },
    {
     "name": "stderr",
     "output_type": "stream",
     "text": [
      "/home/willstudent/.local/lib/python3.6/site-packages/sklearn/preprocessing/label.py:151: DeprecationWarning: The truth value of an empty array is ambiguous. Returning False, but in future this will result in an error. Use `array.size > 0` to check that an array is not empty.\n",
      "  if diff:\n"
     ]
    },
    {
     "name": "stdout",
     "output_type": "stream",
     "text": [
      "[CV]  colsample_bytree=0.7, gamma=0.30000000000000004, max_depth=50, min_child_weight=3, n_estimators=200, subsample=0.6, total=  36.5s\n",
      "[CV] colsample_bytree=0.7, gamma=0.30000000000000004, max_depth=50, min_child_weight=3, n_estimators=200, subsample=0.8999999999999999 \n"
     ]
    },
    {
     "name": "stderr",
     "output_type": "stream",
     "text": [
      "/home/willstudent/.local/lib/python3.6/site-packages/sklearn/preprocessing/label.py:151: DeprecationWarning: The truth value of an empty array is ambiguous. Returning False, but in future this will result in an error. Use `array.size > 0` to check that an array is not empty.\n",
      "  if diff:\n",
      "/home/willstudent/.local/lib/python3.6/site-packages/sklearn/preprocessing/label.py:151: DeprecationWarning: The truth value of an empty array is ambiguous. Returning False, but in future this will result in an error. Use `array.size > 0` to check that an array is not empty.\n",
      "  if diff:\n",
      "/home/willstudent/.local/lib/python3.6/site-packages/sklearn/preprocessing/label.py:151: DeprecationWarning: The truth value of an empty array is ambiguous. Returning False, but in future this will result in an error. Use `array.size > 0` to check that an array is not empty.\n",
      "  if diff:\n"
     ]
    },
    {
     "name": "stdout",
     "output_type": "stream",
     "text": [
      "[CV]  colsample_bytree=0.7, gamma=0.30000000000000004, max_depth=50, min_child_weight=3, n_estimators=200, subsample=0.7, total=  39.8s\n",
      "[CV] colsample_bytree=0.7, gamma=0.30000000000000004, max_depth=50, min_child_weight=3, n_estimators=200, subsample=0.8999999999999999 \n"
     ]
    },
    {
     "name": "stderr",
     "output_type": "stream",
     "text": [
      "/home/willstudent/.local/lib/python3.6/site-packages/sklearn/preprocessing/label.py:151: DeprecationWarning: The truth value of an empty array is ambiguous. Returning False, but in future this will result in an error. Use `array.size > 0` to check that an array is not empty.\n",
      "  if diff:\n"
     ]
    },
    {
     "name": "stdout",
     "output_type": "stream",
     "text": [
      "[CV]  colsample_bytree=0.7, gamma=0.30000000000000004, max_depth=50, min_child_weight=3, n_estimators=200, subsample=0.7, total=  39.5s\n",
      "[CV] colsample_bytree=0.7, gamma=0.4, max_depth=50, min_child_weight=2, n_estimators=200, subsample=0.6 \n"
     ]
    },
    {
     "name": "stderr",
     "output_type": "stream",
     "text": [
      "/home/willstudent/.local/lib/python3.6/site-packages/sklearn/preprocessing/label.py:151: DeprecationWarning: The truth value of an empty array is ambiguous. Returning False, but in future this will result in an error. Use `array.size > 0` to check that an array is not empty.\n",
      "  if diff:\n",
      "/home/willstudent/.local/lib/python3.6/site-packages/sklearn/preprocessing/label.py:151: DeprecationWarning: The truth value of an empty array is ambiguous. Returning False, but in future this will result in an error. Use `array.size > 0` to check that an array is not empty.\n",
      "  if diff:\n"
     ]
    },
    {
     "name": "stdout",
     "output_type": "stream",
     "text": [
      "[CV]  colsample_bytree=0.7, gamma=0.30000000000000004, max_depth=50, min_child_weight=3, n_estimators=200, subsample=0.7, total=  39.6s\n",
      "[CV] colsample_bytree=0.7, gamma=0.4, max_depth=50, min_child_weight=2, n_estimators=200, subsample=0.6 \n"
     ]
    },
    {
     "name": "stderr",
     "output_type": "stream",
     "text": [
      "/home/willstudent/.local/lib/python3.6/site-packages/sklearn/preprocessing/label.py:151: DeprecationWarning: The truth value of an empty array is ambiguous. Returning False, but in future this will result in an error. Use `array.size > 0` to check that an array is not empty.\n",
      "  if diff:\n",
      "/home/willstudent/.local/lib/python3.6/site-packages/sklearn/preprocessing/label.py:151: DeprecationWarning: The truth value of an empty array is ambiguous. Returning False, but in future this will result in an error. Use `array.size > 0` to check that an array is not empty.\n",
      "  if diff:\n"
     ]
    },
    {
     "name": "stdout",
     "output_type": "stream",
     "text": [
      "[CV]  colsample_bytree=0.7, gamma=0.30000000000000004, max_depth=50, min_child_weight=3, n_estimators=200, subsample=0.7999999999999999, total=  43.7s\n",
      "[CV] colsample_bytree=0.7, gamma=0.4, max_depth=50, min_child_weight=2, n_estimators=200, subsample=0.6 \n"
     ]
    },
    {
     "name": "stderr",
     "output_type": "stream",
     "text": [
      "/home/willstudent/.local/lib/python3.6/site-packages/sklearn/preprocessing/label.py:151: DeprecationWarning: The truth value of an empty array is ambiguous. Returning False, but in future this will result in an error. Use `array.size > 0` to check that an array is not empty.\n",
      "  if diff:\n",
      "/home/willstudent/.local/lib/python3.6/site-packages/sklearn/preprocessing/label.py:151: DeprecationWarning: The truth value of an empty array is ambiguous. Returning False, but in future this will result in an error. Use `array.size > 0` to check that an array is not empty.\n",
      "  if diff:\n"
     ]
    },
    {
     "name": "stdout",
     "output_type": "stream",
     "text": [
      "[CV]  colsample_bytree=0.7, gamma=0.30000000000000004, max_depth=50, min_child_weight=3, n_estimators=200, subsample=0.7999999999999999, total=  42.8s\n",
      "[CV] colsample_bytree=0.7, gamma=0.4, max_depth=50, min_child_weight=2, n_estimators=200, subsample=0.7 \n"
     ]
    },
    {
     "name": "stderr",
     "output_type": "stream",
     "text": [
      "/home/willstudent/.local/lib/python3.6/site-packages/sklearn/preprocessing/label.py:151: DeprecationWarning: The truth value of an empty array is ambiguous. Returning False, but in future this will result in an error. Use `array.size > 0` to check that an array is not empty.\n",
      "  if diff:\n",
      "/home/willstudent/.local/lib/python3.6/site-packages/sklearn/preprocessing/label.py:151: DeprecationWarning: The truth value of an empty array is ambiguous. Returning False, but in future this will result in an error. Use `array.size > 0` to check that an array is not empty.\n",
      "  if diff:\n"
     ]
    },
    {
     "name": "stdout",
     "output_type": "stream",
     "text": [
      "[CV]  colsample_bytree=0.7, gamma=0.30000000000000004, max_depth=50, min_child_weight=3, n_estimators=200, subsample=0.7999999999999999, total=  43.7s\n",
      "[CV] colsample_bytree=0.7, gamma=0.4, max_depth=50, min_child_weight=2, n_estimators=200, subsample=0.7 \n"
     ]
    },
    {
     "name": "stderr",
     "output_type": "stream",
     "text": [
      "/home/willstudent/.local/lib/python3.6/site-packages/sklearn/preprocessing/label.py:151: DeprecationWarning: The truth value of an empty array is ambiguous. Returning False, but in future this will result in an error. Use `array.size > 0` to check that an array is not empty.\n",
      "  if diff:\n",
      "/home/willstudent/.local/lib/python3.6/site-packages/sklearn/preprocessing/label.py:151: DeprecationWarning: The truth value of an empty array is ambiguous. Returning False, but in future this will result in an error. Use `array.size > 0` to check that an array is not empty.\n",
      "  if diff:\n"
     ]
    },
    {
     "name": "stdout",
     "output_type": "stream",
     "text": [
      "[CV]  colsample_bytree=0.7, gamma=0.30000000000000004, max_depth=50, min_child_weight=3, n_estimators=200, subsample=0.8999999999999999, total=  46.5s\n",
      "[CV] colsample_bytree=0.7, gamma=0.4, max_depth=50, min_child_weight=2, n_estimators=200, subsample=0.7 \n"
     ]
    },
    {
     "name": "stderr",
     "output_type": "stream",
     "text": [
      "/home/willstudent/.local/lib/python3.6/site-packages/sklearn/preprocessing/label.py:151: DeprecationWarning: The truth value of an empty array is ambiguous. Returning False, but in future this will result in an error. Use `array.size > 0` to check that an array is not empty.\n",
      "  if diff:\n",
      "/home/willstudent/.local/lib/python3.6/site-packages/sklearn/preprocessing/label.py:151: DeprecationWarning: The truth value of an empty array is ambiguous. Returning False, but in future this will result in an error. Use `array.size > 0` to check that an array is not empty.\n",
      "  if diff:\n"
     ]
    },
    {
     "name": "stdout",
     "output_type": "stream",
     "text": [
      "[CV]  colsample_bytree=0.7, gamma=0.30000000000000004, max_depth=50, min_child_weight=3, n_estimators=200, subsample=0.8999999999999999, total=  46.7s\n",
      "[CV] colsample_bytree=0.7, gamma=0.4, max_depth=50, min_child_weight=2, n_estimators=200, subsample=0.7999999999999999 \n"
     ]
    },
    {
     "name": "stderr",
     "output_type": "stream",
     "text": [
      "/home/willstudent/.local/lib/python3.6/site-packages/sklearn/preprocessing/label.py:151: DeprecationWarning: The truth value of an empty array is ambiguous. Returning False, but in future this will result in an error. Use `array.size > 0` to check that an array is not empty.\n",
      "  if diff:\n",
      "/home/willstudent/.local/lib/python3.6/site-packages/sklearn/preprocessing/label.py:151: DeprecationWarning: The truth value of an empty array is ambiguous. Returning False, but in future this will result in an error. Use `array.size > 0` to check that an array is not empty.\n",
      "  if diff:\n"
     ]
    },
    {
     "name": "stdout",
     "output_type": "stream",
     "text": [
      "[CV]  colsample_bytree=0.7, gamma=0.4, max_depth=50, min_child_weight=2, n_estimators=200, subsample=0.6, total=  39.1s\n",
      "[CV] colsample_bytree=0.7, gamma=0.4, max_depth=50, min_child_weight=2, n_estimators=200, subsample=0.7999999999999999 \n"
     ]
    },
    {
     "name": "stderr",
     "output_type": "stream",
     "text": [
      "/home/willstudent/.local/lib/python3.6/site-packages/sklearn/preprocessing/label.py:151: DeprecationWarning: The truth value of an empty array is ambiguous. Returning False, but in future this will result in an error. Use `array.size > 0` to check that an array is not empty.\n",
      "  if diff:\n",
      "/home/willstudent/.local/lib/python3.6/site-packages/sklearn/preprocessing/label.py:151: DeprecationWarning: The truth value of an empty array is ambiguous. Returning False, but in future this will result in an error. Use `array.size > 0` to check that an array is not empty.\n",
      "  if diff:\n"
     ]
    },
    {
     "name": "stdout",
     "output_type": "stream",
     "text": [
      "[CV]  colsample_bytree=0.7, gamma=0.30000000000000004, max_depth=50, min_child_weight=3, n_estimators=200, subsample=0.8999999999999999, total=  48.1s\n",
      "[CV] colsample_bytree=0.7, gamma=0.4, max_depth=50, min_child_weight=2, n_estimators=200, subsample=0.7999999999999999 \n"
     ]
    },
    {
     "name": "stderr",
     "output_type": "stream",
     "text": [
      "/home/willstudent/.local/lib/python3.6/site-packages/sklearn/preprocessing/label.py:151: DeprecationWarning: The truth value of an empty array is ambiguous. Returning False, but in future this will result in an error. Use `array.size > 0` to check that an array is not empty.\n",
      "  if diff:\n",
      "/home/willstudent/.local/lib/python3.6/site-packages/sklearn/preprocessing/label.py:151: DeprecationWarning: The truth value of an empty array is ambiguous. Returning False, but in future this will result in an error. Use `array.size > 0` to check that an array is not empty.\n",
      "  if diff:\n"
     ]
    },
    {
     "name": "stdout",
     "output_type": "stream",
     "text": [
      "[CV]  colsample_bytree=0.7, gamma=0.4, max_depth=50, min_child_weight=2, n_estimators=200, subsample=0.6, total=  39.1s\n",
      "[CV] colsample_bytree=0.7, gamma=0.4, max_depth=50, min_child_weight=2, n_estimators=200, subsample=0.8999999999999999 \n"
     ]
    },
    {
     "name": "stderr",
     "output_type": "stream",
     "text": [
      "/home/willstudent/.local/lib/python3.6/site-packages/sklearn/preprocessing/label.py:151: DeprecationWarning: The truth value of an empty array is ambiguous. Returning False, but in future this will result in an error. Use `array.size > 0` to check that an array is not empty.\n",
      "  if diff:\n",
      "/home/willstudent/.local/lib/python3.6/site-packages/sklearn/preprocessing/label.py:151: DeprecationWarning: The truth value of an empty array is ambiguous. Returning False, but in future this will result in an error. Use `array.size > 0` to check that an array is not empty.\n",
      "  if diff:\n"
     ]
    },
    {
     "name": "stdout",
     "output_type": "stream",
     "text": [
      "[CV]  colsample_bytree=0.7, gamma=0.4, max_depth=50, min_child_weight=2, n_estimators=200, subsample=0.6, total=  39.9s\n",
      "[CV] colsample_bytree=0.7, gamma=0.4, max_depth=50, min_child_weight=2, n_estimators=200, subsample=0.8999999999999999 \n"
     ]
    },
    {
     "name": "stderr",
     "output_type": "stream",
     "text": [
      "/home/willstudent/.local/lib/python3.6/site-packages/sklearn/preprocessing/label.py:151: DeprecationWarning: The truth value of an empty array is ambiguous. Returning False, but in future this will result in an error. Use `array.size > 0` to check that an array is not empty.\n",
      "  if diff:\n",
      "/home/willstudent/.local/lib/python3.6/site-packages/sklearn/preprocessing/label.py:151: DeprecationWarning: The truth value of an empty array is ambiguous. Returning False, but in future this will result in an error. Use `array.size > 0` to check that an array is not empty.\n",
      "  if diff:\n"
     ]
    },
    {
     "name": "stdout",
     "output_type": "stream",
     "text": [
      "[CV]  colsample_bytree=0.7, gamma=0.4, max_depth=50, min_child_weight=2, n_estimators=200, subsample=0.7, total=  43.4s\n",
      "[CV] colsample_bytree=0.7, gamma=0.4, max_depth=50, min_child_weight=2, n_estimators=200, subsample=0.8999999999999999 \n"
     ]
    },
    {
     "name": "stderr",
     "output_type": "stream",
     "text": [
      "/home/willstudent/.local/lib/python3.6/site-packages/sklearn/preprocessing/label.py:151: DeprecationWarning: The truth value of an empty array is ambiguous. Returning False, but in future this will result in an error. Use `array.size > 0` to check that an array is not empty.\n",
      "  if diff:\n",
      "/home/willstudent/.local/lib/python3.6/site-packages/sklearn/preprocessing/label.py:151: DeprecationWarning: The truth value of an empty array is ambiguous. Returning False, but in future this will result in an error. Use `array.size > 0` to check that an array is not empty.\n",
      "  if diff:\n"
     ]
    },
    {
     "name": "stdout",
     "output_type": "stream",
     "text": [
      "[CV]  colsample_bytree=0.7, gamma=0.4, max_depth=50, min_child_weight=2, n_estimators=200, subsample=0.7, total=  43.3s\n",
      "[CV] colsample_bytree=0.7, gamma=0.4, max_depth=50, min_child_weight=3, n_estimators=200, subsample=0.6 \n"
     ]
    },
    {
     "name": "stderr",
     "output_type": "stream",
     "text": [
      "/home/willstudent/.local/lib/python3.6/site-packages/sklearn/preprocessing/label.py:151: DeprecationWarning: The truth value of an empty array is ambiguous. Returning False, but in future this will result in an error. Use `array.size > 0` to check that an array is not empty.\n",
      "  if diff:\n",
      "/home/willstudent/.local/lib/python3.6/site-packages/sklearn/preprocessing/label.py:151: DeprecationWarning: The truth value of an empty array is ambiguous. Returning False, but in future this will result in an error. Use `array.size > 0` to check that an array is not empty.\n",
      "  if diff:\n"
     ]
    },
    {
     "name": "stdout",
     "output_type": "stream",
     "text": [
      "[CV]  colsample_bytree=0.7, gamma=0.4, max_depth=50, min_child_weight=2, n_estimators=200, subsample=0.7, total=  43.1s\n",
      "[CV] colsample_bytree=0.7, gamma=0.4, max_depth=50, min_child_weight=3, n_estimators=200, subsample=0.6 \n"
     ]
    },
    {
     "name": "stderr",
     "output_type": "stream",
     "text": [
      "/home/willstudent/.local/lib/python3.6/site-packages/sklearn/preprocessing/label.py:151: DeprecationWarning: The truth value of an empty array is ambiguous. Returning False, but in future this will result in an error. Use `array.size > 0` to check that an array is not empty.\n",
      "  if diff:\n",
      "/home/willstudent/.local/lib/python3.6/site-packages/sklearn/preprocessing/label.py:151: DeprecationWarning: The truth value of an empty array is ambiguous. Returning False, but in future this will result in an error. Use `array.size > 0` to check that an array is not empty.\n",
      "  if diff:\n"
     ]
    },
    {
     "name": "stdout",
     "output_type": "stream",
     "text": [
      "[CV]  colsample_bytree=0.7, gamma=0.4, max_depth=50, min_child_weight=2, n_estimators=200, subsample=0.7999999999999999, total=  46.5s\n",
      "[CV] colsample_bytree=0.7, gamma=0.4, max_depth=50, min_child_weight=3, n_estimators=200, subsample=0.6 \n"
     ]
    },
    {
     "name": "stderr",
     "output_type": "stream",
     "text": [
      "/home/willstudent/.local/lib/python3.6/site-packages/sklearn/preprocessing/label.py:151: DeprecationWarning: The truth value of an empty array is ambiguous. Returning False, but in future this will result in an error. Use `array.size > 0` to check that an array is not empty.\n",
      "  if diff:\n",
      "/home/willstudent/.local/lib/python3.6/site-packages/sklearn/preprocessing/label.py:151: DeprecationWarning: The truth value of an empty array is ambiguous. Returning False, but in future this will result in an error. Use `array.size > 0` to check that an array is not empty.\n",
      "  if diff:\n"
     ]
    },
    {
     "name": "stdout",
     "output_type": "stream",
     "text": [
      "[CV]  colsample_bytree=0.7, gamma=0.4, max_depth=50, min_child_weight=2, n_estimators=200, subsample=0.7999999999999999, total=  45.3s\n",
      "[CV] colsample_bytree=0.7, gamma=0.4, max_depth=50, min_child_weight=3, n_estimators=200, subsample=0.7 \n"
     ]
    },
    {
     "name": "stderr",
     "output_type": "stream",
     "text": [
      "/home/willstudent/.local/lib/python3.6/site-packages/sklearn/preprocessing/label.py:151: DeprecationWarning: The truth value of an empty array is ambiguous. Returning False, but in future this will result in an error. Use `array.size > 0` to check that an array is not empty.\n",
      "  if diff:\n",
      "/home/willstudent/.local/lib/python3.6/site-packages/sklearn/preprocessing/label.py:151: DeprecationWarning: The truth value of an empty array is ambiguous. Returning False, but in future this will result in an error. Use `array.size > 0` to check that an array is not empty.\n",
      "  if diff:\n"
     ]
    },
    {
     "name": "stdout",
     "output_type": "stream",
     "text": [
      "[CV]  colsample_bytree=0.7, gamma=0.4, max_depth=50, min_child_weight=2, n_estimators=200, subsample=0.7999999999999999, total=  47.4s\n",
      "[CV] colsample_bytree=0.7, gamma=0.4, max_depth=50, min_child_weight=3, n_estimators=200, subsample=0.7 \n"
     ]
    },
    {
     "name": "stderr",
     "output_type": "stream",
     "text": [
      "/home/willstudent/.local/lib/python3.6/site-packages/sklearn/preprocessing/label.py:151: DeprecationWarning: The truth value of an empty array is ambiguous. Returning False, but in future this will result in an error. Use `array.size > 0` to check that an array is not empty.\n",
      "  if diff:\n",
      "/home/willstudent/.local/lib/python3.6/site-packages/sklearn/preprocessing/label.py:151: DeprecationWarning: The truth value of an empty array is ambiguous. Returning False, but in future this will result in an error. Use `array.size > 0` to check that an array is not empty.\n",
      "  if diff:\n"
     ]
    },
    {
     "name": "stdout",
     "output_type": "stream",
     "text": [
      "[CV]  colsample_bytree=0.7, gamma=0.4, max_depth=50, min_child_weight=2, n_estimators=200, subsample=0.8999999999999999, total=  49.6s\n",
      "[CV] colsample_bytree=0.7, gamma=0.4, max_depth=50, min_child_weight=3, n_estimators=200, subsample=0.7 \n"
     ]
    },
    {
     "name": "stderr",
     "output_type": "stream",
     "text": [
      "/home/willstudent/.local/lib/python3.6/site-packages/sklearn/preprocessing/label.py:151: DeprecationWarning: The truth value of an empty array is ambiguous. Returning False, but in future this will result in an error. Use `array.size > 0` to check that an array is not empty.\n",
      "  if diff:\n",
      "/home/willstudent/.local/lib/python3.6/site-packages/sklearn/preprocessing/label.py:151: DeprecationWarning: The truth value of an empty array is ambiguous. Returning False, but in future this will result in an error. Use `array.size > 0` to check that an array is not empty.\n",
      "  if diff:\n"
     ]
    },
    {
     "name": "stdout",
     "output_type": "stream",
     "text": [
      "[CV]  colsample_bytree=0.7, gamma=0.4, max_depth=50, min_child_weight=3, n_estimators=200, subsample=0.6, total=  36.1s\n",
      "[CV] colsample_bytree=0.7, gamma=0.4, max_depth=50, min_child_weight=3, n_estimators=200, subsample=0.7999999999999999 \n"
     ]
    },
    {
     "name": "stderr",
     "output_type": "stream",
     "text": [
      "/home/willstudent/.local/lib/python3.6/site-packages/sklearn/preprocessing/label.py:151: DeprecationWarning: The truth value of an empty array is ambiguous. Returning False, but in future this will result in an error. Use `array.size > 0` to check that an array is not empty.\n",
      "  if diff:\n",
      "/home/willstudent/.local/lib/python3.6/site-packages/sklearn/preprocessing/label.py:151: DeprecationWarning: The truth value of an empty array is ambiguous. Returning False, but in future this will result in an error. Use `array.size > 0` to check that an array is not empty.\n",
      "  if diff:\n"
     ]
    },
    {
     "name": "stdout",
     "output_type": "stream",
     "text": [
      "[CV]  colsample_bytree=0.7, gamma=0.4, max_depth=50, min_child_weight=2, n_estimators=200, subsample=0.8999999999999999, total=  49.7s\n",
      "[CV] colsample_bytree=0.7, gamma=0.4, max_depth=50, min_child_weight=3, n_estimators=200, subsample=0.7999999999999999 \n"
     ]
    },
    {
     "name": "stderr",
     "output_type": "stream",
     "text": [
      "/home/willstudent/.local/lib/python3.6/site-packages/sklearn/preprocessing/label.py:151: DeprecationWarning: The truth value of an empty array is ambiguous. Returning False, but in future this will result in an error. Use `array.size > 0` to check that an array is not empty.\n",
      "  if diff:\n",
      "/home/willstudent/.local/lib/python3.6/site-packages/sklearn/preprocessing/label.py:151: DeprecationWarning: The truth value of an empty array is ambiguous. Returning False, but in future this will result in an error. Use `array.size > 0` to check that an array is not empty.\n",
      "  if diff:\n"
     ]
    },
    {
     "name": "stdout",
     "output_type": "stream",
     "text": [
      "[CV]  colsample_bytree=0.7, gamma=0.4, max_depth=50, min_child_weight=3, n_estimators=200, subsample=0.6, total=  36.5s\n",
      "[CV] colsample_bytree=0.7, gamma=0.4, max_depth=50, min_child_weight=3, n_estimators=200, subsample=0.7999999999999999 \n"
     ]
    },
    {
     "name": "stderr",
     "output_type": "stream",
     "text": [
      "/home/willstudent/.local/lib/python3.6/site-packages/sklearn/preprocessing/label.py:151: DeprecationWarning: The truth value of an empty array is ambiguous. Returning False, but in future this will result in an error. Use `array.size > 0` to check that an array is not empty.\n",
      "  if diff:\n",
      "/home/willstudent/.local/lib/python3.6/site-packages/sklearn/preprocessing/label.py:151: DeprecationWarning: The truth value of an empty array is ambiguous. Returning False, but in future this will result in an error. Use `array.size > 0` to check that an array is not empty.\n",
      "  if diff:\n",
      "/home/willstudent/.local/lib/python3.6/site-packages/sklearn/preprocessing/label.py:151: DeprecationWarning: The truth value of an empty array is ambiguous. Returning False, but in future this will result in an error. Use `array.size > 0` to check that an array is not empty.\n",
      "  if diff:\n"
     ]
    },
    {
     "name": "stdout",
     "output_type": "stream",
     "text": [
      "[CV]  colsample_bytree=0.7, gamma=0.4, max_depth=50, min_child_weight=3, n_estimators=200, subsample=0.6, total=  36.1s\n",
      "[CV] colsample_bytree=0.7, gamma=0.4, max_depth=50, min_child_weight=3, n_estimators=200, subsample=0.8999999999999999 \n"
     ]
    },
    {
     "name": "stderr",
     "output_type": "stream",
     "text": [
      "/home/willstudent/.local/lib/python3.6/site-packages/sklearn/preprocessing/label.py:151: DeprecationWarning: The truth value of an empty array is ambiguous. Returning False, but in future this will result in an error. Use `array.size > 0` to check that an array is not empty.\n",
      "  if diff:\n"
     ]
    },
    {
     "name": "stdout",
     "output_type": "stream",
     "text": [
      "[CV]  colsample_bytree=0.7, gamma=0.4, max_depth=50, min_child_weight=2, n_estimators=200, subsample=0.8999999999999999, total=  49.8s\n",
      "[CV] colsample_bytree=0.7, gamma=0.4, max_depth=50, min_child_weight=3, n_estimators=200, subsample=0.8999999999999999 \n"
     ]
    },
    {
     "name": "stderr",
     "output_type": "stream",
     "text": [
      "/home/willstudent/.local/lib/python3.6/site-packages/sklearn/preprocessing/label.py:151: DeprecationWarning: The truth value of an empty array is ambiguous. Returning False, but in future this will result in an error. Use `array.size > 0` to check that an array is not empty.\n",
      "  if diff:\n",
      "/home/willstudent/.local/lib/python3.6/site-packages/sklearn/preprocessing/label.py:151: DeprecationWarning: The truth value of an empty array is ambiguous. Returning False, but in future this will result in an error. Use `array.size > 0` to check that an array is not empty.\n",
      "  if diff:\n"
     ]
    },
    {
     "name": "stdout",
     "output_type": "stream",
     "text": [
      "[CV]  colsample_bytree=0.7, gamma=0.4, max_depth=50, min_child_weight=3, n_estimators=200, subsample=0.7, total=  40.0s\n",
      "[CV] colsample_bytree=0.7, gamma=0.4, max_depth=50, min_child_weight=3, n_estimators=200, subsample=0.8999999999999999 \n"
     ]
    },
    {
     "name": "stderr",
     "output_type": "stream",
     "text": [
      "/home/willstudent/.local/lib/python3.6/site-packages/sklearn/preprocessing/label.py:151: DeprecationWarning: The truth value of an empty array is ambiguous. Returning False, but in future this will result in an error. Use `array.size > 0` to check that an array is not empty.\n",
      "  if diff:\n",
      "/home/willstudent/.local/lib/python3.6/site-packages/sklearn/preprocessing/label.py:151: DeprecationWarning: The truth value of an empty array is ambiguous. Returning False, but in future this will result in an error. Use `array.size > 0` to check that an array is not empty.\n",
      "  if diff:\n"
     ]
    },
    {
     "name": "stdout",
     "output_type": "stream",
     "text": [
      "[CV]  colsample_bytree=0.7, gamma=0.4, max_depth=50, min_child_weight=3, n_estimators=200, subsample=0.7, total=  40.1s\n",
      "[CV] colsample_bytree=0.7999999999999999, gamma=0.1, max_depth=50, min_child_weight=2, n_estimators=200, subsample=0.6 \n"
     ]
    },
    {
     "name": "stderr",
     "output_type": "stream",
     "text": [
      "/home/willstudent/.local/lib/python3.6/site-packages/sklearn/preprocessing/label.py:151: DeprecationWarning: The truth value of an empty array is ambiguous. Returning False, but in future this will result in an error. Use `array.size > 0` to check that an array is not empty.\n",
      "  if diff:\n",
      "/home/willstudent/.local/lib/python3.6/site-packages/sklearn/preprocessing/label.py:151: DeprecationWarning: The truth value of an empty array is ambiguous. Returning False, but in future this will result in an error. Use `array.size > 0` to check that an array is not empty.\n",
      "  if diff:\n"
     ]
    },
    {
     "name": "stdout",
     "output_type": "stream",
     "text": [
      "[CV]  colsample_bytree=0.7, gamma=0.4, max_depth=50, min_child_weight=3, n_estimators=200, subsample=0.7, total=  40.8s\n",
      "[CV] colsample_bytree=0.7999999999999999, gamma=0.1, max_depth=50, min_child_weight=2, n_estimators=200, subsample=0.6 \n"
     ]
    },
    {
     "name": "stderr",
     "output_type": "stream",
     "text": [
      "/home/willstudent/.local/lib/python3.6/site-packages/sklearn/preprocessing/label.py:151: DeprecationWarning: The truth value of an empty array is ambiguous. Returning False, but in future this will result in an error. Use `array.size > 0` to check that an array is not empty.\n",
      "  if diff:\n",
      "/home/willstudent/.local/lib/python3.6/site-packages/sklearn/preprocessing/label.py:151: DeprecationWarning: The truth value of an empty array is ambiguous. Returning False, but in future this will result in an error. Use `array.size > 0` to check that an array is not empty.\n",
      "  if diff:\n"
     ]
    },
    {
     "name": "stdout",
     "output_type": "stream",
     "text": [
      "[CV]  colsample_bytree=0.7, gamma=0.4, max_depth=50, min_child_weight=3, n_estimators=200, subsample=0.7999999999999999, total=  43.3s\n",
      "[CV] colsample_bytree=0.7999999999999999, gamma=0.1, max_depth=50, min_child_weight=2, n_estimators=200, subsample=0.6 \n"
     ]
    },
    {
     "name": "stderr",
     "output_type": "stream",
     "text": [
      "/home/willstudent/.local/lib/python3.6/site-packages/sklearn/preprocessing/label.py:151: DeprecationWarning: The truth value of an empty array is ambiguous. Returning False, but in future this will result in an error. Use `array.size > 0` to check that an array is not empty.\n",
      "  if diff:\n",
      "/home/willstudent/.local/lib/python3.6/site-packages/sklearn/preprocessing/label.py:151: DeprecationWarning: The truth value of an empty array is ambiguous. Returning False, but in future this will result in an error. Use `array.size > 0` to check that an array is not empty.\n",
      "  if diff:\n"
     ]
    },
    {
     "name": "stdout",
     "output_type": "stream",
     "text": [
      "[CV]  colsample_bytree=0.7, gamma=0.4, max_depth=50, min_child_weight=3, n_estimators=200, subsample=0.7999999999999999, total=  43.9s\n",
      "[CV] colsample_bytree=0.7999999999999999, gamma=0.1, max_depth=50, min_child_weight=2, n_estimators=200, subsample=0.7 \n"
     ]
    },
    {
     "name": "stderr",
     "output_type": "stream",
     "text": [
      "/home/willstudent/.local/lib/python3.6/site-packages/sklearn/preprocessing/label.py:151: DeprecationWarning: The truth value of an empty array is ambiguous. Returning False, but in future this will result in an error. Use `array.size > 0` to check that an array is not empty.\n",
      "  if diff:\n",
      "/home/willstudent/.local/lib/python3.6/site-packages/sklearn/preprocessing/label.py:151: DeprecationWarning: The truth value of an empty array is ambiguous. Returning False, but in future this will result in an error. Use `array.size > 0` to check that an array is not empty.\n",
      "  if diff:\n"
     ]
    },
    {
     "name": "stdout",
     "output_type": "stream",
     "text": [
      "[CV]  colsample_bytree=0.7, gamma=0.4, max_depth=50, min_child_weight=3, n_estimators=200, subsample=0.7999999999999999, total=  43.2s\n",
      "[CV] colsample_bytree=0.7999999999999999, gamma=0.1, max_depth=50, min_child_weight=2, n_estimators=200, subsample=0.7 \n"
     ]
    },
    {
     "name": "stderr",
     "output_type": "stream",
     "text": [
      "/home/willstudent/.local/lib/python3.6/site-packages/sklearn/preprocessing/label.py:151: DeprecationWarning: The truth value of an empty array is ambiguous. Returning False, but in future this will result in an error. Use `array.size > 0` to check that an array is not empty.\n",
      "  if diff:\n",
      "/home/willstudent/.local/lib/python3.6/site-packages/sklearn/preprocessing/label.py:151: DeprecationWarning: The truth value of an empty array is ambiguous. Returning False, but in future this will result in an error. Use `array.size > 0` to check that an array is not empty.\n",
      "  if diff:\n",
      "/home/willstudent/.local/lib/python3.6/site-packages/sklearn/preprocessing/label.py:151: DeprecationWarning: The truth value of an empty array is ambiguous. Returning False, but in future this will result in an error. Use `array.size > 0` to check that an array is not empty.\n",
      "  if diff:\n"
     ]
    },
    {
     "name": "stdout",
     "output_type": "stream",
     "text": [
      "[CV]  colsample_bytree=0.7, gamma=0.4, max_depth=50, min_child_weight=3, n_estimators=200, subsample=0.8999999999999999, total=  46.9s\n",
      "[CV] colsample_bytree=0.7999999999999999, gamma=0.1, max_depth=50, min_child_weight=2, n_estimators=200, subsample=0.7 \n"
     ]
    },
    {
     "name": "stderr",
     "output_type": "stream",
     "text": [
      "/home/willstudent/.local/lib/python3.6/site-packages/sklearn/preprocessing/label.py:151: DeprecationWarning: The truth value of an empty array is ambiguous. Returning False, but in future this will result in an error. Use `array.size > 0` to check that an array is not empty.\n",
      "  if diff:\n"
     ]
    },
    {
     "name": "stdout",
     "output_type": "stream",
     "text": [
      "[CV]  colsample_bytree=0.7, gamma=0.4, max_depth=50, min_child_weight=3, n_estimators=200, subsample=0.8999999999999999, total=  47.6s\n",
      "[CV] colsample_bytree=0.7999999999999999, gamma=0.1, max_depth=50, min_child_weight=2, n_estimators=200, subsample=0.7999999999999999 \n"
     ]
    },
    {
     "name": "stderr",
     "output_type": "stream",
     "text": [
      "/home/willstudent/.local/lib/python3.6/site-packages/sklearn/preprocessing/label.py:151: DeprecationWarning: The truth value of an empty array is ambiguous. Returning False, but in future this will result in an error. Use `array.size > 0` to check that an array is not empty.\n",
      "  if diff:\n",
      "/home/willstudent/.local/lib/python3.6/site-packages/sklearn/preprocessing/label.py:151: DeprecationWarning: The truth value of an empty array is ambiguous. Returning False, but in future this will result in an error. Use `array.size > 0` to check that an array is not empty.\n",
      "  if diff:\n"
     ]
    },
    {
     "name": "stdout",
     "output_type": "stream",
     "text": [
      "[CV]  colsample_bytree=0.7, gamma=0.4, max_depth=50, min_child_weight=3, n_estimators=200, subsample=0.8999999999999999, total=  47.4s\n",
      "[CV] colsample_bytree=0.7999999999999999, gamma=0.1, max_depth=50, min_child_weight=2, n_estimators=200, subsample=0.7999999999999999 \n"
     ]
    },
    {
     "name": "stderr",
     "output_type": "stream",
     "text": [
      "/home/willstudent/.local/lib/python3.6/site-packages/sklearn/preprocessing/label.py:151: DeprecationWarning: The truth value of an empty array is ambiguous. Returning False, but in future this will result in an error. Use `array.size > 0` to check that an array is not empty.\n",
      "  if diff:\n",
      "/home/willstudent/.local/lib/python3.6/site-packages/sklearn/preprocessing/label.py:151: DeprecationWarning: The truth value of an empty array is ambiguous. Returning False, but in future this will result in an error. Use `array.size > 0` to check that an array is not empty.\n",
      "  if diff:\n"
     ]
    },
    {
     "name": "stdout",
     "output_type": "stream",
     "text": [
      "[CV]  colsample_bytree=0.7999999999999999, gamma=0.1, max_depth=50, min_child_weight=2, n_estimators=200, subsample=0.6, total=  43.3s\n",
      "[CV] colsample_bytree=0.7999999999999999, gamma=0.1, max_depth=50, min_child_weight=2, n_estimators=200, subsample=0.7999999999999999 \n"
     ]
    },
    {
     "name": "stderr",
     "output_type": "stream",
     "text": [
      "/home/willstudent/.local/lib/python3.6/site-packages/sklearn/preprocessing/label.py:151: DeprecationWarning: The truth value of an empty array is ambiguous. Returning False, but in future this will result in an error. Use `array.size > 0` to check that an array is not empty.\n",
      "  if diff:\n",
      "/home/willstudent/.local/lib/python3.6/site-packages/sklearn/preprocessing/label.py:151: DeprecationWarning: The truth value of an empty array is ambiguous. Returning False, but in future this will result in an error. Use `array.size > 0` to check that an array is not empty.\n",
      "  if diff:\n"
     ]
    },
    {
     "name": "stdout",
     "output_type": "stream",
     "text": [
      "[CV]  colsample_bytree=0.7999999999999999, gamma=0.1, max_depth=50, min_child_weight=2, n_estimators=200, subsample=0.6, total=  42.3s\n",
      "[CV] colsample_bytree=0.7999999999999999, gamma=0.1, max_depth=50, min_child_weight=2, n_estimators=200, subsample=0.8999999999999999 \n"
     ]
    },
    {
     "name": "stderr",
     "output_type": "stream",
     "text": [
      "/home/willstudent/.local/lib/python3.6/site-packages/sklearn/preprocessing/label.py:151: DeprecationWarning: The truth value of an empty array is ambiguous. Returning False, but in future this will result in an error. Use `array.size > 0` to check that an array is not empty.\n",
      "  if diff:\n",
      "/home/willstudent/.local/lib/python3.6/site-packages/sklearn/preprocessing/label.py:151: DeprecationWarning: The truth value of an empty array is ambiguous. Returning False, but in future this will result in an error. Use `array.size > 0` to check that an array is not empty.\n",
      "  if diff:\n"
     ]
    },
    {
     "name": "stdout",
     "output_type": "stream",
     "text": [
      "[CV]  colsample_bytree=0.7999999999999999, gamma=0.1, max_depth=50, min_child_weight=2, n_estimators=200, subsample=0.6, total=  42.9s\n",
      "[CV] colsample_bytree=0.7999999999999999, gamma=0.1, max_depth=50, min_child_weight=2, n_estimators=200, subsample=0.8999999999999999 \n"
     ]
    },
    {
     "name": "stderr",
     "output_type": "stream",
     "text": [
      "/home/willstudent/.local/lib/python3.6/site-packages/sklearn/preprocessing/label.py:151: DeprecationWarning: The truth value of an empty array is ambiguous. Returning False, but in future this will result in an error. Use `array.size > 0` to check that an array is not empty.\n",
      "  if diff:\n",
      "/home/willstudent/.local/lib/python3.6/site-packages/sklearn/preprocessing/label.py:151: DeprecationWarning: The truth value of an empty array is ambiguous. Returning False, but in future this will result in an error. Use `array.size > 0` to check that an array is not empty.\n",
      "  if diff:\n"
     ]
    },
    {
     "name": "stdout",
     "output_type": "stream",
     "text": [
      "[CV]  colsample_bytree=0.7999999999999999, gamma=0.1, max_depth=50, min_child_weight=2, n_estimators=200, subsample=0.7, total=  47.4s\n",
      "[CV] colsample_bytree=0.7999999999999999, gamma=0.1, max_depth=50, min_child_weight=2, n_estimators=200, subsample=0.8999999999999999 \n"
     ]
    },
    {
     "name": "stderr",
     "output_type": "stream",
     "text": [
      "/home/willstudent/.local/lib/python3.6/site-packages/sklearn/preprocessing/label.py:151: DeprecationWarning: The truth value of an empty array is ambiguous. Returning False, but in future this will result in an error. Use `array.size > 0` to check that an array is not empty.\n",
      "  if diff:\n",
      "/home/willstudent/.local/lib/python3.6/site-packages/sklearn/preprocessing/label.py:151: DeprecationWarning: The truth value of an empty array is ambiguous. Returning False, but in future this will result in an error. Use `array.size > 0` to check that an array is not empty.\n",
      "  if diff:\n"
     ]
    },
    {
     "name": "stdout",
     "output_type": "stream",
     "text": [
      "[CV]  colsample_bytree=0.7999999999999999, gamma=0.1, max_depth=50, min_child_weight=2, n_estimators=200, subsample=0.7, total=  46.9s\n",
      "[CV] colsample_bytree=0.7999999999999999, gamma=0.1, max_depth=50, min_child_weight=3, n_estimators=200, subsample=0.6 \n"
     ]
    },
    {
     "name": "stderr",
     "output_type": "stream",
     "text": [
      "/home/willstudent/.local/lib/python3.6/site-packages/sklearn/preprocessing/label.py:151: DeprecationWarning: The truth value of an empty array is ambiguous. Returning False, but in future this will result in an error. Use `array.size > 0` to check that an array is not empty.\n",
      "  if diff:\n",
      "/home/willstudent/.local/lib/python3.6/site-packages/sklearn/preprocessing/label.py:151: DeprecationWarning: The truth value of an empty array is ambiguous. Returning False, but in future this will result in an error. Use `array.size > 0` to check that an array is not empty.\n",
      "  if diff:\n"
     ]
    },
    {
     "name": "stdout",
     "output_type": "stream",
     "text": [
      "[CV]  colsample_bytree=0.7999999999999999, gamma=0.1, max_depth=50, min_child_weight=2, n_estimators=200, subsample=0.7, total=  47.0s\n",
      "[CV] colsample_bytree=0.7999999999999999, gamma=0.1, max_depth=50, min_child_weight=3, n_estimators=200, subsample=0.6 \n"
     ]
    },
    {
     "name": "stderr",
     "output_type": "stream",
     "text": [
      "/home/willstudent/.local/lib/python3.6/site-packages/sklearn/preprocessing/label.py:151: DeprecationWarning: The truth value of an empty array is ambiguous. Returning False, but in future this will result in an error. Use `array.size > 0` to check that an array is not empty.\n",
      "  if diff:\n",
      "/home/willstudent/.local/lib/python3.6/site-packages/sklearn/preprocessing/label.py:151: DeprecationWarning: The truth value of an empty array is ambiguous. Returning False, but in future this will result in an error. Use `array.size > 0` to check that an array is not empty.\n",
      "  if diff:\n"
     ]
    },
    {
     "name": "stdout",
     "output_type": "stream",
     "text": [
      "[CV]  colsample_bytree=0.7999999999999999, gamma=0.1, max_depth=50, min_child_weight=2, n_estimators=200, subsample=0.7999999999999999, total=  51.3s\n",
      "[CV] colsample_bytree=0.7999999999999999, gamma=0.1, max_depth=50, min_child_weight=3, n_estimators=200, subsample=0.6 \n"
     ]
    },
    {
     "name": "stderr",
     "output_type": "stream",
     "text": [
      "/home/willstudent/.local/lib/python3.6/site-packages/sklearn/preprocessing/label.py:151: DeprecationWarning: The truth value of an empty array is ambiguous. Returning False, but in future this will result in an error. Use `array.size > 0` to check that an array is not empty.\n",
      "  if diff:\n",
      "/home/willstudent/.local/lib/python3.6/site-packages/sklearn/preprocessing/label.py:151: DeprecationWarning: The truth value of an empty array is ambiguous. Returning False, but in future this will result in an error. Use `array.size > 0` to check that an array is not empty.\n",
      "  if diff:\n"
     ]
    },
    {
     "name": "stdout",
     "output_type": "stream",
     "text": [
      "[CV]  colsample_bytree=0.7999999999999999, gamma=0.1, max_depth=50, min_child_weight=2, n_estimators=200, subsample=0.7999999999999999, total=  50.6s\n",
      "[CV] colsample_bytree=0.7999999999999999, gamma=0.1, max_depth=50, min_child_weight=3, n_estimators=200, subsample=0.7 \n"
     ]
    },
    {
     "name": "stderr",
     "output_type": "stream",
     "text": [
      "/home/willstudent/.local/lib/python3.6/site-packages/sklearn/preprocessing/label.py:151: DeprecationWarning: The truth value of an empty array is ambiguous. Returning False, but in future this will result in an error. Use `array.size > 0` to check that an array is not empty.\n",
      "  if diff:\n",
      "/home/willstudent/.local/lib/python3.6/site-packages/sklearn/preprocessing/label.py:151: DeprecationWarning: The truth value of an empty array is ambiguous. Returning False, but in future this will result in an error. Use `array.size > 0` to check that an array is not empty.\n",
      "  if diff:\n"
     ]
    },
    {
     "name": "stdout",
     "output_type": "stream",
     "text": [
      "[CV]  colsample_bytree=0.7999999999999999, gamma=0.1, max_depth=50, min_child_weight=2, n_estimators=200, subsample=0.7999999999999999, total=  51.7s\n",
      "[CV] colsample_bytree=0.7999999999999999, gamma=0.1, max_depth=50, min_child_weight=3, n_estimators=200, subsample=0.7 \n"
     ]
    },
    {
     "name": "stderr",
     "output_type": "stream",
     "text": [
      "/home/willstudent/.local/lib/python3.6/site-packages/sklearn/preprocessing/label.py:151: DeprecationWarning: The truth value of an empty array is ambiguous. Returning False, but in future this will result in an error. Use `array.size > 0` to check that an array is not empty.\n",
      "  if diff:\n",
      "/home/willstudent/.local/lib/python3.6/site-packages/sklearn/preprocessing/label.py:151: DeprecationWarning: The truth value of an empty array is ambiguous. Returning False, but in future this will result in an error. Use `array.size > 0` to check that an array is not empty.\n",
      "  if diff:\n"
     ]
    },
    {
     "name": "stdout",
     "output_type": "stream",
     "text": [
      "[CV]  colsample_bytree=0.7999999999999999, gamma=0.1, max_depth=50, min_child_weight=2, n_estimators=200, subsample=0.8999999999999999, total=  54.8s\n",
      "[CV] colsample_bytree=0.7999999999999999, gamma=0.1, max_depth=50, min_child_weight=3, n_estimators=200, subsample=0.7 \n"
     ]
    },
    {
     "name": "stderr",
     "output_type": "stream",
     "text": [
      "/home/willstudent/.local/lib/python3.6/site-packages/sklearn/preprocessing/label.py:151: DeprecationWarning: The truth value of an empty array is ambiguous. Returning False, but in future this will result in an error. Use `array.size > 0` to check that an array is not empty.\n",
      "  if diff:\n",
      "/home/willstudent/.local/lib/python3.6/site-packages/sklearn/preprocessing/label.py:151: DeprecationWarning: The truth value of an empty array is ambiguous. Returning False, but in future this will result in an error. Use `array.size > 0` to check that an array is not empty.\n",
      "  if diff:\n"
     ]
    },
    {
     "name": "stdout",
     "output_type": "stream",
     "text": [
      "[CV]  colsample_bytree=0.7999999999999999, gamma=0.1, max_depth=50, min_child_weight=3, n_estimators=200, subsample=0.6, total=  40.3s\n",
      "[CV] colsample_bytree=0.7999999999999999, gamma=0.1, max_depth=50, min_child_weight=3, n_estimators=200, subsample=0.7999999999999999 \n"
     ]
    },
    {
     "name": "stderr",
     "output_type": "stream",
     "text": [
      "/home/willstudent/.local/lib/python3.6/site-packages/sklearn/preprocessing/label.py:151: DeprecationWarning: The truth value of an empty array is ambiguous. Returning False, but in future this will result in an error. Use `array.size > 0` to check that an array is not empty.\n",
      "  if diff:\n",
      "/home/willstudent/.local/lib/python3.6/site-packages/sklearn/preprocessing/label.py:151: DeprecationWarning: The truth value of an empty array is ambiguous. Returning False, but in future this will result in an error. Use `array.size > 0` to check that an array is not empty.\n",
      "  if diff:\n"
     ]
    },
    {
     "name": "stdout",
     "output_type": "stream",
     "text": [
      "[CV]  colsample_bytree=0.7999999999999999, gamma=0.1, max_depth=50, min_child_weight=2, n_estimators=200, subsample=0.8999999999999999, total=  55.0s\n",
      "[CV] colsample_bytree=0.7999999999999999, gamma=0.1, max_depth=50, min_child_weight=3, n_estimators=200, subsample=0.7999999999999999 \n"
     ]
    },
    {
     "name": "stderr",
     "output_type": "stream",
     "text": [
      "/home/willstudent/.local/lib/python3.6/site-packages/sklearn/preprocessing/label.py:151: DeprecationWarning: The truth value of an empty array is ambiguous. Returning False, but in future this will result in an error. Use `array.size > 0` to check that an array is not empty.\n",
      "  if diff:\n",
      "/home/willstudent/.local/lib/python3.6/site-packages/sklearn/preprocessing/label.py:151: DeprecationWarning: The truth value of an empty array is ambiguous. Returning False, but in future this will result in an error. Use `array.size > 0` to check that an array is not empty.\n",
      "  if diff:\n"
     ]
    },
    {
     "name": "stdout",
     "output_type": "stream",
     "text": [
      "[CV]  colsample_bytree=0.7999999999999999, gamma=0.1, max_depth=50, min_child_weight=3, n_estimators=200, subsample=0.6, total=  41.5s\n",
      "[CV] colsample_bytree=0.7999999999999999, gamma=0.1, max_depth=50, min_child_weight=3, n_estimators=200, subsample=0.7999999999999999 \n"
     ]
    },
    {
     "name": "stderr",
     "output_type": "stream",
     "text": [
      "/home/willstudent/.local/lib/python3.6/site-packages/sklearn/preprocessing/label.py:151: DeprecationWarning: The truth value of an empty array is ambiguous. Returning False, but in future this will result in an error. Use `array.size > 0` to check that an array is not empty.\n",
      "  if diff:\n",
      "/home/willstudent/.local/lib/python3.6/site-packages/sklearn/preprocessing/label.py:151: DeprecationWarning: The truth value of an empty array is ambiguous. Returning False, but in future this will result in an error. Use `array.size > 0` to check that an array is not empty.\n",
      "  if diff:\n",
      "/home/willstudent/.local/lib/python3.6/site-packages/sklearn/preprocessing/label.py:151: DeprecationWarning: The truth value of an empty array is ambiguous. Returning False, but in future this will result in an error. Use `array.size > 0` to check that an array is not empty.\n",
      "  if diff:\n"
     ]
    },
    {
     "name": "stdout",
     "output_type": "stream",
     "text": [
      "[CV]  colsample_bytree=0.7999999999999999, gamma=0.1, max_depth=50, min_child_weight=2, n_estimators=200, subsample=0.8999999999999999, total=  55.1s\n",
      "[CV] colsample_bytree=0.7999999999999999, gamma=0.1, max_depth=50, min_child_weight=3, n_estimators=200, subsample=0.8999999999999999 \n"
     ]
    },
    {
     "name": "stderr",
     "output_type": "stream",
     "text": [
      "/home/willstudent/.local/lib/python3.6/site-packages/sklearn/preprocessing/label.py:151: DeprecationWarning: The truth value of an empty array is ambiguous. Returning False, but in future this will result in an error. Use `array.size > 0` to check that an array is not empty.\n",
      "  if diff:\n"
     ]
    },
    {
     "name": "stdout",
     "output_type": "stream",
     "text": [
      "[CV]  colsample_bytree=0.7999999999999999, gamma=0.1, max_depth=50, min_child_weight=3, n_estimators=200, subsample=0.6, total=  40.9s\n",
      "[CV] colsample_bytree=0.7999999999999999, gamma=0.1, max_depth=50, min_child_weight=3, n_estimators=200, subsample=0.8999999999999999 \n"
     ]
    },
    {
     "name": "stderr",
     "output_type": "stream",
     "text": [
      "/home/willstudent/.local/lib/python3.6/site-packages/sklearn/preprocessing/label.py:151: DeprecationWarning: The truth value of an empty array is ambiguous. Returning False, but in future this will result in an error. Use `array.size > 0` to check that an array is not empty.\n",
      "  if diff:\n",
      "/home/willstudent/.local/lib/python3.6/site-packages/sklearn/preprocessing/label.py:151: DeprecationWarning: The truth value of an empty array is ambiguous. Returning False, but in future this will result in an error. Use `array.size > 0` to check that an array is not empty.\n",
      "  if diff:\n"
     ]
    },
    {
     "name": "stdout",
     "output_type": "stream",
     "text": [
      "[CV]  colsample_bytree=0.7999999999999999, gamma=0.1, max_depth=50, min_child_weight=3, n_estimators=200, subsample=0.7, total=  44.2s\n",
      "[CV] colsample_bytree=0.7999999999999999, gamma=0.1, max_depth=50, min_child_weight=3, n_estimators=200, subsample=0.8999999999999999 \n"
     ]
    },
    {
     "name": "stderr",
     "output_type": "stream",
     "text": [
      "/home/willstudent/.local/lib/python3.6/site-packages/sklearn/preprocessing/label.py:151: DeprecationWarning: The truth value of an empty array is ambiguous. Returning False, but in future this will result in an error. Use `array.size > 0` to check that an array is not empty.\n",
      "  if diff:\n",
      "/home/willstudent/.local/lib/python3.6/site-packages/sklearn/preprocessing/label.py:151: DeprecationWarning: The truth value of an empty array is ambiguous. Returning False, but in future this will result in an error. Use `array.size > 0` to check that an array is not empty.\n",
      "  if diff:\n"
     ]
    },
    {
     "name": "stdout",
     "output_type": "stream",
     "text": [
      "[CV]  colsample_bytree=0.7999999999999999, gamma=0.1, max_depth=50, min_child_weight=3, n_estimators=200, subsample=0.7, total=  44.4s\n",
      "[CV] colsample_bytree=0.7999999999999999, gamma=0.2, max_depth=50, min_child_weight=2, n_estimators=200, subsample=0.6 \n"
     ]
    },
    {
     "name": "stderr",
     "output_type": "stream",
     "text": [
      "/home/willstudent/.local/lib/python3.6/site-packages/sklearn/preprocessing/label.py:151: DeprecationWarning: The truth value of an empty array is ambiguous. Returning False, but in future this will result in an error. Use `array.size > 0` to check that an array is not empty.\n",
      "  if diff:\n",
      "/home/willstudent/.local/lib/python3.6/site-packages/sklearn/preprocessing/label.py:151: DeprecationWarning: The truth value of an empty array is ambiguous. Returning False, but in future this will result in an error. Use `array.size > 0` to check that an array is not empty.\n",
      "  if diff:\n"
     ]
    },
    {
     "name": "stdout",
     "output_type": "stream",
     "text": [
      "[CV]  colsample_bytree=0.7999999999999999, gamma=0.1, max_depth=50, min_child_weight=3, n_estimators=200, subsample=0.7, total=  45.7s\n",
      "[CV] colsample_bytree=0.7999999999999999, gamma=0.2, max_depth=50, min_child_weight=2, n_estimators=200, subsample=0.6 \n"
     ]
    },
    {
     "name": "stderr",
     "output_type": "stream",
     "text": [
      "/home/willstudent/.local/lib/python3.6/site-packages/sklearn/preprocessing/label.py:151: DeprecationWarning: The truth value of an empty array is ambiguous. Returning False, but in future this will result in an error. Use `array.size > 0` to check that an array is not empty.\n",
      "  if diff:\n",
      "/home/willstudent/.local/lib/python3.6/site-packages/sklearn/preprocessing/label.py:151: DeprecationWarning: The truth value of an empty array is ambiguous. Returning False, but in future this will result in an error. Use `array.size > 0` to check that an array is not empty.\n",
      "  if diff:\n"
     ]
    },
    {
     "name": "stdout",
     "output_type": "stream",
     "text": [
      "[CV]  colsample_bytree=0.7999999999999999, gamma=0.1, max_depth=50, min_child_weight=3, n_estimators=200, subsample=0.7999999999999999, total=  47.8s\n",
      "[CV] colsample_bytree=0.7999999999999999, gamma=0.2, max_depth=50, min_child_weight=2, n_estimators=200, subsample=0.6 \n"
     ]
    },
    {
     "name": "stderr",
     "output_type": "stream",
     "text": [
      "/home/willstudent/.local/lib/python3.6/site-packages/sklearn/preprocessing/label.py:151: DeprecationWarning: The truth value of an empty array is ambiguous. Returning False, but in future this will result in an error. Use `array.size > 0` to check that an array is not empty.\n",
      "  if diff:\n",
      "/home/willstudent/.local/lib/python3.6/site-packages/sklearn/preprocessing/label.py:151: DeprecationWarning: The truth value of an empty array is ambiguous. Returning False, but in future this will result in an error. Use `array.size > 0` to check that an array is not empty.\n",
      "  if diff:\n"
     ]
    },
    {
     "name": "stdout",
     "output_type": "stream",
     "text": [
      "[CV]  colsample_bytree=0.7999999999999999, gamma=0.1, max_depth=50, min_child_weight=3, n_estimators=200, subsample=0.7999999999999999, total=  48.2s\n",
      "[CV] colsample_bytree=0.7999999999999999, gamma=0.2, max_depth=50, min_child_weight=2, n_estimators=200, subsample=0.7 \n"
     ]
    },
    {
     "name": "stderr",
     "output_type": "stream",
     "text": [
      "/home/willstudent/.local/lib/python3.6/site-packages/sklearn/preprocessing/label.py:151: DeprecationWarning: The truth value of an empty array is ambiguous. Returning False, but in future this will result in an error. Use `array.size > 0` to check that an array is not empty.\n",
      "  if diff:\n",
      "/home/willstudent/.local/lib/python3.6/site-packages/sklearn/preprocessing/label.py:151: DeprecationWarning: The truth value of an empty array is ambiguous. Returning False, but in future this will result in an error. Use `array.size > 0` to check that an array is not empty.\n",
      "  if diff:\n"
     ]
    },
    {
     "name": "stdout",
     "output_type": "stream",
     "text": [
      "[CV]  colsample_bytree=0.7999999999999999, gamma=0.1, max_depth=50, min_child_weight=3, n_estimators=200, subsample=0.7999999999999999, total=  48.3s\n",
      "[CV] colsample_bytree=0.7999999999999999, gamma=0.2, max_depth=50, min_child_weight=2, n_estimators=200, subsample=0.7 \n"
     ]
    },
    {
     "name": "stderr",
     "output_type": "stream",
     "text": [
      "/home/willstudent/.local/lib/python3.6/site-packages/sklearn/preprocessing/label.py:151: DeprecationWarning: The truth value of an empty array is ambiguous. Returning False, but in future this will result in an error. Use `array.size > 0` to check that an array is not empty.\n",
      "  if diff:\n",
      "/home/willstudent/.local/lib/python3.6/site-packages/sklearn/preprocessing/label.py:151: DeprecationWarning: The truth value of an empty array is ambiguous. Returning False, but in future this will result in an error. Use `array.size > 0` to check that an array is not empty.\n",
      "  if diff:\n",
      "/home/willstudent/.local/lib/python3.6/site-packages/sklearn/preprocessing/label.py:151: DeprecationWarning: The truth value of an empty array is ambiguous. Returning False, but in future this will result in an error. Use `array.size > 0` to check that an array is not empty.\n",
      "  if diff:\n"
     ]
    },
    {
     "name": "stdout",
     "output_type": "stream",
     "text": [
      "[CV]  colsample_bytree=0.7999999999999999, gamma=0.1, max_depth=50, min_child_weight=3, n_estimators=200, subsample=0.8999999999999999, total=  52.5s\n",
      "[CV] colsample_bytree=0.7999999999999999, gamma=0.2, max_depth=50, min_child_weight=2, n_estimators=200, subsample=0.7 \n"
     ]
    },
    {
     "name": "stderr",
     "output_type": "stream",
     "text": [
      "/home/willstudent/.local/lib/python3.6/site-packages/sklearn/preprocessing/label.py:151: DeprecationWarning: The truth value of an empty array is ambiguous. Returning False, but in future this will result in an error. Use `array.size > 0` to check that an array is not empty.\n",
      "  if diff:\n"
     ]
    },
    {
     "name": "stdout",
     "output_type": "stream",
     "text": [
      "[CV]  colsample_bytree=0.7999999999999999, gamma=0.1, max_depth=50, min_child_weight=3, n_estimators=200, subsample=0.8999999999999999, total=  53.0s\n",
      "[CV] colsample_bytree=0.7999999999999999, gamma=0.2, max_depth=50, min_child_weight=2, n_estimators=200, subsample=0.7999999999999999 \n"
     ]
    },
    {
     "name": "stderr",
     "output_type": "stream",
     "text": [
      "/home/willstudent/.local/lib/python3.6/site-packages/sklearn/preprocessing/label.py:151: DeprecationWarning: The truth value of an empty array is ambiguous. Returning False, but in future this will result in an error. Use `array.size > 0` to check that an array is not empty.\n",
      "  if diff:\n",
      "/home/willstudent/.local/lib/python3.6/site-packages/sklearn/preprocessing/label.py:151: DeprecationWarning: The truth value of an empty array is ambiguous. Returning False, but in future this will result in an error. Use `array.size > 0` to check that an array is not empty.\n",
      "  if diff:\n"
     ]
    },
    {
     "name": "stdout",
     "output_type": "stream",
     "text": [
      "[CV]  colsample_bytree=0.7999999999999999, gamma=0.2, max_depth=50, min_child_weight=2, n_estimators=200, subsample=0.6, total=  42.6s\n",
      "[CV] colsample_bytree=0.7999999999999999, gamma=0.2, max_depth=50, min_child_weight=2, n_estimators=200, subsample=0.7999999999999999 \n"
     ]
    },
    {
     "name": "stderr",
     "output_type": "stream",
     "text": [
      "/home/willstudent/.local/lib/python3.6/site-packages/sklearn/preprocessing/label.py:151: DeprecationWarning: The truth value of an empty array is ambiguous. Returning False, but in future this will result in an error. Use `array.size > 0` to check that an array is not empty.\n",
      "  if diff:\n",
      "/home/willstudent/.local/lib/python3.6/site-packages/sklearn/preprocessing/label.py:151: DeprecationWarning: The truth value of an empty array is ambiguous. Returning False, but in future this will result in an error. Use `array.size > 0` to check that an array is not empty.\n",
      "  if diff:\n"
     ]
    },
    {
     "name": "stdout",
     "output_type": "stream",
     "text": [
      "[CV]  colsample_bytree=0.7999999999999999, gamma=0.1, max_depth=50, min_child_weight=3, n_estimators=200, subsample=0.8999999999999999, total=  51.9s\n",
      "[CV] colsample_bytree=0.7999999999999999, gamma=0.2, max_depth=50, min_child_weight=2, n_estimators=200, subsample=0.7999999999999999 \n"
     ]
    },
    {
     "name": "stderr",
     "output_type": "stream",
     "text": [
      "/home/willstudent/.local/lib/python3.6/site-packages/sklearn/preprocessing/label.py:151: DeprecationWarning: The truth value of an empty array is ambiguous. Returning False, but in future this will result in an error. Use `array.size > 0` to check that an array is not empty.\n",
      "  if diff:\n",
      "/home/willstudent/.local/lib/python3.6/site-packages/sklearn/preprocessing/label.py:151: DeprecationWarning: The truth value of an empty array is ambiguous. Returning False, but in future this will result in an error. Use `array.size > 0` to check that an array is not empty.\n",
      "  if diff:\n"
     ]
    },
    {
     "name": "stdout",
     "output_type": "stream",
     "text": [
      "[CV]  colsample_bytree=0.7999999999999999, gamma=0.2, max_depth=50, min_child_weight=2, n_estimators=200, subsample=0.6, total=  43.9s\n",
      "[CV] colsample_bytree=0.7999999999999999, gamma=0.2, max_depth=50, min_child_weight=2, n_estimators=200, subsample=0.8999999999999999 \n"
     ]
    },
    {
     "name": "stderr",
     "output_type": "stream",
     "text": [
      "/home/willstudent/.local/lib/python3.6/site-packages/sklearn/preprocessing/label.py:151: DeprecationWarning: The truth value of an empty array is ambiguous. Returning False, but in future this will result in an error. Use `array.size > 0` to check that an array is not empty.\n",
      "  if diff:\n",
      "/home/willstudent/.local/lib/python3.6/site-packages/sklearn/preprocessing/label.py:151: DeprecationWarning: The truth value of an empty array is ambiguous. Returning False, but in future this will result in an error. Use `array.size > 0` to check that an array is not empty.\n",
      "  if diff:\n"
     ]
    },
    {
     "name": "stdout",
     "output_type": "stream",
     "text": [
      "[CV]  colsample_bytree=0.7999999999999999, gamma=0.2, max_depth=50, min_child_weight=2, n_estimators=200, subsample=0.6, total=  44.3s\n",
      "[CV] colsample_bytree=0.7999999999999999, gamma=0.2, max_depth=50, min_child_weight=2, n_estimators=200, subsample=0.8999999999999999 \n"
     ]
    },
    {
     "name": "stderr",
     "output_type": "stream",
     "text": [
      "/home/willstudent/.local/lib/python3.6/site-packages/sklearn/preprocessing/label.py:151: DeprecationWarning: The truth value of an empty array is ambiguous. Returning False, but in future this will result in an error. Use `array.size > 0` to check that an array is not empty.\n",
      "  if diff:\n",
      "/home/willstudent/.local/lib/python3.6/site-packages/sklearn/preprocessing/label.py:151: DeprecationWarning: The truth value of an empty array is ambiguous. Returning False, but in future this will result in an error. Use `array.size > 0` to check that an array is not empty.\n",
      "  if diff:\n"
     ]
    },
    {
     "name": "stdout",
     "output_type": "stream",
     "text": [
      "[CV]  colsample_bytree=0.7999999999999999, gamma=0.2, max_depth=50, min_child_weight=2, n_estimators=200, subsample=0.7, total=  48.2s\n",
      "[CV] colsample_bytree=0.7999999999999999, gamma=0.2, max_depth=50, min_child_weight=2, n_estimators=200, subsample=0.8999999999999999 \n"
     ]
    },
    {
     "name": "stderr",
     "output_type": "stream",
     "text": [
      "/home/willstudent/.local/lib/python3.6/site-packages/sklearn/preprocessing/label.py:151: DeprecationWarning: The truth value of an empty array is ambiguous. Returning False, but in future this will result in an error. Use `array.size > 0` to check that an array is not empty.\n",
      "  if diff:\n",
      "/home/willstudent/.local/lib/python3.6/site-packages/sklearn/preprocessing/label.py:151: DeprecationWarning: The truth value of an empty array is ambiguous. Returning False, but in future this will result in an error. Use `array.size > 0` to check that an array is not empty.\n",
      "  if diff:\n"
     ]
    },
    {
     "name": "stdout",
     "output_type": "stream",
     "text": [
      "[CV]  colsample_bytree=0.7999999999999999, gamma=0.2, max_depth=50, min_child_weight=2, n_estimators=200, subsample=0.7, total=  46.5s\n",
      "[CV] colsample_bytree=0.7999999999999999, gamma=0.2, max_depth=50, min_child_weight=3, n_estimators=200, subsample=0.6 \n"
     ]
    },
    {
     "name": "stderr",
     "output_type": "stream",
     "text": [
      "/home/willstudent/.local/lib/python3.6/site-packages/sklearn/preprocessing/label.py:151: DeprecationWarning: The truth value of an empty array is ambiguous. Returning False, but in future this will result in an error. Use `array.size > 0` to check that an array is not empty.\n",
      "  if diff:\n",
      "/home/willstudent/.local/lib/python3.6/site-packages/sklearn/preprocessing/label.py:151: DeprecationWarning: The truth value of an empty array is ambiguous. Returning False, but in future this will result in an error. Use `array.size > 0` to check that an array is not empty.\n",
      "  if diff:\n"
     ]
    },
    {
     "name": "stdout",
     "output_type": "stream",
     "text": [
      "[CV]  colsample_bytree=0.7999999999999999, gamma=0.2, max_depth=50, min_child_weight=2, n_estimators=200, subsample=0.7, total=  47.9s\n",
      "[CV] colsample_bytree=0.7999999999999999, gamma=0.2, max_depth=50, min_child_weight=3, n_estimators=200, subsample=0.6 \n"
     ]
    },
    {
     "name": "stderr",
     "output_type": "stream",
     "text": [
      "/home/willstudent/.local/lib/python3.6/site-packages/sklearn/preprocessing/label.py:151: DeprecationWarning: The truth value of an empty array is ambiguous. Returning False, but in future this will result in an error. Use `array.size > 0` to check that an array is not empty.\n",
      "  if diff:\n",
      "/home/willstudent/.local/lib/python3.6/site-packages/sklearn/preprocessing/label.py:151: DeprecationWarning: The truth value of an empty array is ambiguous. Returning False, but in future this will result in an error. Use `array.size > 0` to check that an array is not empty.\n",
      "  if diff:\n"
     ]
    },
    {
     "name": "stdout",
     "output_type": "stream",
     "text": [
      "[CV]  colsample_bytree=0.7999999999999999, gamma=0.2, max_depth=50, min_child_weight=2, n_estimators=200, subsample=0.7999999999999999, total=  51.7s\n",
      "[CV] colsample_bytree=0.7999999999999999, gamma=0.2, max_depth=50, min_child_weight=3, n_estimators=200, subsample=0.6 \n"
     ]
    },
    {
     "name": "stderr",
     "output_type": "stream",
     "text": [
      "/home/willstudent/.local/lib/python3.6/site-packages/sklearn/preprocessing/label.py:151: DeprecationWarning: The truth value of an empty array is ambiguous. Returning False, but in future this will result in an error. Use `array.size > 0` to check that an array is not empty.\n",
      "  if diff:\n",
      "/home/willstudent/.local/lib/python3.6/site-packages/sklearn/preprocessing/label.py:151: DeprecationWarning: The truth value of an empty array is ambiguous. Returning False, but in future this will result in an error. Use `array.size > 0` to check that an array is not empty.\n",
      "  if diff:\n"
     ]
    },
    {
     "name": "stdout",
     "output_type": "stream",
     "text": [
      "[CV]  colsample_bytree=0.7999999999999999, gamma=0.2, max_depth=50, min_child_weight=2, n_estimators=200, subsample=0.7999999999999999, total=  50.4s\n",
      "[CV] colsample_bytree=0.7999999999999999, gamma=0.2, max_depth=50, min_child_weight=3, n_estimators=200, subsample=0.7 \n"
     ]
    },
    {
     "name": "stderr",
     "output_type": "stream",
     "text": [
      "/home/willstudent/.local/lib/python3.6/site-packages/sklearn/preprocessing/label.py:151: DeprecationWarning: The truth value of an empty array is ambiguous. Returning False, but in future this will result in an error. Use `array.size > 0` to check that an array is not empty.\n",
      "  if diff:\n",
      "/home/willstudent/.local/lib/python3.6/site-packages/sklearn/preprocessing/label.py:151: DeprecationWarning: The truth value of an empty array is ambiguous. Returning False, but in future this will result in an error. Use `array.size > 0` to check that an array is not empty.\n",
      "  if diff:\n"
     ]
    },
    {
     "name": "stdout",
     "output_type": "stream",
     "text": [
      "[CV]  colsample_bytree=0.7999999999999999, gamma=0.2, max_depth=50, min_child_weight=2, n_estimators=200, subsample=0.7999999999999999, total=  52.0s\n",
      "[CV] colsample_bytree=0.7999999999999999, gamma=0.2, max_depth=50, min_child_weight=3, n_estimators=200, subsample=0.7 \n"
     ]
    },
    {
     "name": "stderr",
     "output_type": "stream",
     "text": [
      "/home/willstudent/.local/lib/python3.6/site-packages/sklearn/preprocessing/label.py:151: DeprecationWarning: The truth value of an empty array is ambiguous. Returning False, but in future this will result in an error. Use `array.size > 0` to check that an array is not empty.\n",
      "  if diff:\n",
      "/home/willstudent/.local/lib/python3.6/site-packages/sklearn/preprocessing/label.py:151: DeprecationWarning: The truth value of an empty array is ambiguous. Returning False, but in future this will result in an error. Use `array.size > 0` to check that an array is not empty.\n",
      "  if diff:\n"
     ]
    },
    {
     "name": "stdout",
     "output_type": "stream",
     "text": [
      "[CV]  colsample_bytree=0.7999999999999999, gamma=0.2, max_depth=50, min_child_weight=2, n_estimators=200, subsample=0.8999999999999999, total=  53.5s\n",
      "[CV] colsample_bytree=0.7999999999999999, gamma=0.2, max_depth=50, min_child_weight=3, n_estimators=200, subsample=0.7 \n"
     ]
    },
    {
     "name": "stderr",
     "output_type": "stream",
     "text": [
      "/home/willstudent/.local/lib/python3.6/site-packages/sklearn/preprocessing/label.py:151: DeprecationWarning: The truth value of an empty array is ambiguous. Returning False, but in future this will result in an error. Use `array.size > 0` to check that an array is not empty.\n",
      "  if diff:\n",
      "/home/willstudent/.local/lib/python3.6/site-packages/sklearn/preprocessing/label.py:151: DeprecationWarning: The truth value of an empty array is ambiguous. Returning False, but in future this will result in an error. Use `array.size > 0` to check that an array is not empty.\n",
      "  if diff:\n"
     ]
    },
    {
     "name": "stdout",
     "output_type": "stream",
     "text": [
      "[CV]  colsample_bytree=0.7999999999999999, gamma=0.2, max_depth=50, min_child_weight=3, n_estimators=200, subsample=0.6, total=  40.5s\n",
      "[CV] colsample_bytree=0.7999999999999999, gamma=0.2, max_depth=50, min_child_weight=3, n_estimators=200, subsample=0.7999999999999999 \n"
     ]
    },
    {
     "name": "stderr",
     "output_type": "stream",
     "text": [
      "/home/willstudent/.local/lib/python3.6/site-packages/sklearn/preprocessing/label.py:151: DeprecationWarning: The truth value of an empty array is ambiguous. Returning False, but in future this will result in an error. Use `array.size > 0` to check that an array is not empty.\n",
      "  if diff:\n",
      "/home/willstudent/.local/lib/python3.6/site-packages/sklearn/preprocessing/label.py:151: DeprecationWarning: The truth value of an empty array is ambiguous. Returning False, but in future this will result in an error. Use `array.size > 0` to check that an array is not empty.\n",
      "  if diff:\n"
     ]
    },
    {
     "name": "stdout",
     "output_type": "stream",
     "text": [
      "[CV]  colsample_bytree=0.7999999999999999, gamma=0.2, max_depth=50, min_child_weight=2, n_estimators=200, subsample=0.8999999999999999, total=  53.3s\n",
      "[CV] colsample_bytree=0.7999999999999999, gamma=0.2, max_depth=50, min_child_weight=3, n_estimators=200, subsample=0.7999999999999999 \n"
     ]
    },
    {
     "name": "stderr",
     "output_type": "stream",
     "text": [
      "/home/willstudent/.local/lib/python3.6/site-packages/sklearn/preprocessing/label.py:151: DeprecationWarning: The truth value of an empty array is ambiguous. Returning False, but in future this will result in an error. Use `array.size > 0` to check that an array is not empty.\n",
      "  if diff:\n",
      "/home/willstudent/.local/lib/python3.6/site-packages/sklearn/preprocessing/label.py:151: DeprecationWarning: The truth value of an empty array is ambiguous. Returning False, but in future this will result in an error. Use `array.size > 0` to check that an array is not empty.\n",
      "  if diff:\n",
      "/home/willstudent/.local/lib/python3.6/site-packages/sklearn/preprocessing/label.py:151: DeprecationWarning: The truth value of an empty array is ambiguous. Returning False, but in future this will result in an error. Use `array.size > 0` to check that an array is not empty.\n",
      "  if diff:\n"
     ]
    },
    {
     "name": "stdout",
     "output_type": "stream",
     "text": [
      "[CV]  colsample_bytree=0.7999999999999999, gamma=0.2, max_depth=50, min_child_weight=2, n_estimators=200, subsample=0.8999999999999999, total=  53.4s\n",
      "[CV] colsample_bytree=0.7999999999999999, gamma=0.2, max_depth=50, min_child_weight=3, n_estimators=200, subsample=0.7999999999999999 \n"
     ]
    },
    {
     "name": "stderr",
     "output_type": "stream",
     "text": [
      "/home/willstudent/.local/lib/python3.6/site-packages/sklearn/preprocessing/label.py:151: DeprecationWarning: The truth value of an empty array is ambiguous. Returning False, but in future this will result in an error. Use `array.size > 0` to check that an array is not empty.\n",
      "  if diff:\n"
     ]
    },
    {
     "name": "stdout",
     "output_type": "stream",
     "text": [
      "[CV]  colsample_bytree=0.7999999999999999, gamma=0.2, max_depth=50, min_child_weight=3, n_estimators=200, subsample=0.6, total=  39.8s\n",
      "[CV] colsample_bytree=0.7999999999999999, gamma=0.2, max_depth=50, min_child_weight=3, n_estimators=200, subsample=0.8999999999999999 \n"
     ]
    },
    {
     "name": "stderr",
     "output_type": "stream",
     "text": [
      "/home/willstudent/.local/lib/python3.6/site-packages/sklearn/preprocessing/label.py:151: DeprecationWarning: The truth value of an empty array is ambiguous. Returning False, but in future this will result in an error. Use `array.size > 0` to check that an array is not empty.\n",
      "  if diff:\n",
      "/home/willstudent/.local/lib/python3.6/site-packages/sklearn/preprocessing/label.py:151: DeprecationWarning: The truth value of an empty array is ambiguous. Returning False, but in future this will result in an error. Use `array.size > 0` to check that an array is not empty.\n",
      "  if diff:\n"
     ]
    },
    {
     "name": "stdout",
     "output_type": "stream",
     "text": [
      "[CV]  colsample_bytree=0.7999999999999999, gamma=0.2, max_depth=50, min_child_weight=3, n_estimators=200, subsample=0.6, total=  39.6s\n",
      "[CV] colsample_bytree=0.7999999999999999, gamma=0.2, max_depth=50, min_child_weight=3, n_estimators=200, subsample=0.8999999999999999 \n"
     ]
    },
    {
     "name": "stderr",
     "output_type": "stream",
     "text": [
      "/home/willstudent/.local/lib/python3.6/site-packages/sklearn/preprocessing/label.py:151: DeprecationWarning: The truth value of an empty array is ambiguous. Returning False, but in future this will result in an error. Use `array.size > 0` to check that an array is not empty.\n",
      "  if diff:\n",
      "/home/willstudent/.local/lib/python3.6/site-packages/sklearn/preprocessing/label.py:151: DeprecationWarning: The truth value of an empty array is ambiguous. Returning False, but in future this will result in an error. Use `array.size > 0` to check that an array is not empty.\n",
      "  if diff:\n"
     ]
    },
    {
     "name": "stdout",
     "output_type": "stream",
     "text": [
      "[CV]  colsample_bytree=0.7999999999999999, gamma=0.2, max_depth=50, min_child_weight=3, n_estimators=200, subsample=0.7, total=  42.9s\n",
      "[CV] colsample_bytree=0.7999999999999999, gamma=0.2, max_depth=50, min_child_weight=3, n_estimators=200, subsample=0.8999999999999999 \n"
     ]
    },
    {
     "name": "stderr",
     "output_type": "stream",
     "text": [
      "/home/willstudent/.local/lib/python3.6/site-packages/sklearn/preprocessing/label.py:151: DeprecationWarning: The truth value of an empty array is ambiguous. Returning False, but in future this will result in an error. Use `array.size > 0` to check that an array is not empty.\n",
      "  if diff:\n",
      "/home/willstudent/.local/lib/python3.6/site-packages/sklearn/preprocessing/label.py:151: DeprecationWarning: The truth value of an empty array is ambiguous. Returning False, but in future this will result in an error. Use `array.size > 0` to check that an array is not empty.\n",
      "  if diff:\n"
     ]
    },
    {
     "name": "stdout",
     "output_type": "stream",
     "text": [
      "[CV]  colsample_bytree=0.7999999999999999, gamma=0.2, max_depth=50, min_child_weight=3, n_estimators=200, subsample=0.7, total=  43.8s\n",
      "[CV] colsample_bytree=0.7999999999999999, gamma=0.30000000000000004, max_depth=50, min_child_weight=2, n_estimators=200, subsample=0.6 \n"
     ]
    },
    {
     "name": "stderr",
     "output_type": "stream",
     "text": [
      "/home/willstudent/.local/lib/python3.6/site-packages/sklearn/preprocessing/label.py:151: DeprecationWarning: The truth value of an empty array is ambiguous. Returning False, but in future this will result in an error. Use `array.size > 0` to check that an array is not empty.\n",
      "  if diff:\n",
      "/home/willstudent/.local/lib/python3.6/site-packages/sklearn/preprocessing/label.py:151: DeprecationWarning: The truth value of an empty array is ambiguous. Returning False, but in future this will result in an error. Use `array.size > 0` to check that an array is not empty.\n",
      "  if diff:\n"
     ]
    },
    {
     "name": "stdout",
     "output_type": "stream",
     "text": [
      "[CV]  colsample_bytree=0.7999999999999999, gamma=0.2, max_depth=50, min_child_weight=3, n_estimators=200, subsample=0.7, total=  43.7s\n",
      "[CV] colsample_bytree=0.7999999999999999, gamma=0.30000000000000004, max_depth=50, min_child_weight=2, n_estimators=200, subsample=0.6 \n"
     ]
    },
    {
     "name": "stderr",
     "output_type": "stream",
     "text": [
      "/home/willstudent/.local/lib/python3.6/site-packages/sklearn/preprocessing/label.py:151: DeprecationWarning: The truth value of an empty array is ambiguous. Returning False, but in future this will result in an error. Use `array.size > 0` to check that an array is not empty.\n",
      "  if diff:\n",
      "/home/willstudent/.local/lib/python3.6/site-packages/sklearn/preprocessing/label.py:151: DeprecationWarning: The truth value of an empty array is ambiguous. Returning False, but in future this will result in an error. Use `array.size > 0` to check that an array is not empty.\n",
      "  if diff:\n",
      "/home/willstudent/.local/lib/python3.6/site-packages/sklearn/preprocessing/label.py:151: DeprecationWarning: The truth value of an empty array is ambiguous. Returning False, but in future this will result in an error. Use `array.size > 0` to check that an array is not empty.\n",
      "  if diff:\n"
     ]
    },
    {
     "name": "stdout",
     "output_type": "stream",
     "text": [
      "[CV]  colsample_bytree=0.7999999999999999, gamma=0.2, max_depth=50, min_child_weight=3, n_estimators=200, subsample=0.7999999999999999, total=  47.4s\n",
      "[CV] colsample_bytree=0.7999999999999999, gamma=0.30000000000000004, max_depth=50, min_child_weight=2, n_estimators=200, subsample=0.6 \n"
     ]
    },
    {
     "name": "stderr",
     "output_type": "stream",
     "text": [
      "/home/willstudent/.local/lib/python3.6/site-packages/sklearn/preprocessing/label.py:151: DeprecationWarning: The truth value of an empty array is ambiguous. Returning False, but in future this will result in an error. Use `array.size > 0` to check that an array is not empty.\n",
      "  if diff:\n"
     ]
    },
    {
     "name": "stdout",
     "output_type": "stream",
     "text": [
      "[CV]  colsample_bytree=0.7999999999999999, gamma=0.2, max_depth=50, min_child_weight=3, n_estimators=200, subsample=0.7999999999999999, total=  46.8s\n",
      "[CV] colsample_bytree=0.7999999999999999, gamma=0.30000000000000004, max_depth=50, min_child_weight=2, n_estimators=200, subsample=0.7 \n"
     ]
    },
    {
     "name": "stderr",
     "output_type": "stream",
     "text": [
      "/home/willstudent/.local/lib/python3.6/site-packages/sklearn/preprocessing/label.py:151: DeprecationWarning: The truth value of an empty array is ambiguous. Returning False, but in future this will result in an error. Use `array.size > 0` to check that an array is not empty.\n",
      "  if diff:\n",
      "/home/willstudent/.local/lib/python3.6/site-packages/sklearn/preprocessing/label.py:151: DeprecationWarning: The truth value of an empty array is ambiguous. Returning False, but in future this will result in an error. Use `array.size > 0` to check that an array is not empty.\n",
      "  if diff:\n"
     ]
    },
    {
     "name": "stdout",
     "output_type": "stream",
     "text": [
      "[CV]  colsample_bytree=0.7999999999999999, gamma=0.2, max_depth=50, min_child_weight=3, n_estimators=200, subsample=0.7999999999999999, total=  47.6s\n",
      "[CV] colsample_bytree=0.7999999999999999, gamma=0.30000000000000004, max_depth=50, min_child_weight=2, n_estimators=200, subsample=0.7 \n"
     ]
    },
    {
     "name": "stderr",
     "output_type": "stream",
     "text": [
      "/home/willstudent/.local/lib/python3.6/site-packages/sklearn/preprocessing/label.py:151: DeprecationWarning: The truth value of an empty array is ambiguous. Returning False, but in future this will result in an error. Use `array.size > 0` to check that an array is not empty.\n",
      "  if diff:\n",
      "/home/willstudent/.local/lib/python3.6/site-packages/sklearn/preprocessing/label.py:151: DeprecationWarning: The truth value of an empty array is ambiguous. Returning False, but in future this will result in an error. Use `array.size > 0` to check that an array is not empty.\n",
      "  if diff:\n"
     ]
    },
    {
     "name": "stdout",
     "output_type": "stream",
     "text": [
      "[CV]  colsample_bytree=0.7999999999999999, gamma=0.2, max_depth=50, min_child_weight=3, n_estimators=200, subsample=0.8999999999999999, total=  51.9s\n",
      "[CV] colsample_bytree=0.7999999999999999, gamma=0.30000000000000004, max_depth=50, min_child_weight=2, n_estimators=200, subsample=0.7 \n"
     ]
    },
    {
     "name": "stderr",
     "output_type": "stream",
     "text": [
      "/home/willstudent/.local/lib/python3.6/site-packages/sklearn/preprocessing/label.py:151: DeprecationWarning: The truth value of an empty array is ambiguous. Returning False, but in future this will result in an error. Use `array.size > 0` to check that an array is not empty.\n",
      "  if diff:\n",
      "/home/willstudent/.local/lib/python3.6/site-packages/sklearn/preprocessing/label.py:151: DeprecationWarning: The truth value of an empty array is ambiguous. Returning False, but in future this will result in an error. Use `array.size > 0` to check that an array is not empty.\n",
      "  if diff:\n"
     ]
    },
    {
     "name": "stdout",
     "output_type": "stream",
     "text": [
      "[CV]  colsample_bytree=0.7999999999999999, gamma=0.2, max_depth=50, min_child_weight=3, n_estimators=200, subsample=0.8999999999999999, total=  52.4s\n",
      "[CV] colsample_bytree=0.7999999999999999, gamma=0.30000000000000004, max_depth=50, min_child_weight=2, n_estimators=200, subsample=0.7999999999999999 \n"
     ]
    },
    {
     "name": "stderr",
     "output_type": "stream",
     "text": [
      "/home/willstudent/.local/lib/python3.6/site-packages/sklearn/preprocessing/label.py:151: DeprecationWarning: The truth value of an empty array is ambiguous. Returning False, but in future this will result in an error. Use `array.size > 0` to check that an array is not empty.\n",
      "  if diff:\n",
      "/home/willstudent/.local/lib/python3.6/site-packages/sklearn/preprocessing/label.py:151: DeprecationWarning: The truth value of an empty array is ambiguous. Returning False, but in future this will result in an error. Use `array.size > 0` to check that an array is not empty.\n",
      "  if diff:\n"
     ]
    },
    {
     "name": "stdout",
     "output_type": "stream",
     "text": [
      "[CV]  colsample_bytree=0.7999999999999999, gamma=0.30000000000000004, max_depth=50, min_child_weight=2, n_estimators=200, subsample=0.6, total=  42.7s\n",
      "[CV] colsample_bytree=0.7999999999999999, gamma=0.30000000000000004, max_depth=50, min_child_weight=2, n_estimators=200, subsample=0.7999999999999999 \n"
     ]
    },
    {
     "name": "stderr",
     "output_type": "stream",
     "text": [
      "/home/willstudent/.local/lib/python3.6/site-packages/sklearn/preprocessing/label.py:151: DeprecationWarning: The truth value of an empty array is ambiguous. Returning False, but in future this will result in an error. Use `array.size > 0` to check that an array is not empty.\n",
      "  if diff:\n",
      "/home/willstudent/.local/lib/python3.6/site-packages/sklearn/preprocessing/label.py:151: DeprecationWarning: The truth value of an empty array is ambiguous. Returning False, but in future this will result in an error. Use `array.size > 0` to check that an array is not empty.\n",
      "  if diff:\n"
     ]
    },
    {
     "name": "stdout",
     "output_type": "stream",
     "text": [
      "[CV]  colsample_bytree=0.7999999999999999, gamma=0.2, max_depth=50, min_child_weight=3, n_estimators=200, subsample=0.8999999999999999, total=  52.4s\n",
      "[CV] colsample_bytree=0.7999999999999999, gamma=0.30000000000000004, max_depth=50, min_child_weight=2, n_estimators=200, subsample=0.7999999999999999 \n"
     ]
    },
    {
     "name": "stderr",
     "output_type": "stream",
     "text": [
      "/home/willstudent/.local/lib/python3.6/site-packages/sklearn/preprocessing/label.py:151: DeprecationWarning: The truth value of an empty array is ambiguous. Returning False, but in future this will result in an error. Use `array.size > 0` to check that an array is not empty.\n",
      "  if diff:\n",
      "/home/willstudent/.local/lib/python3.6/site-packages/sklearn/preprocessing/label.py:151: DeprecationWarning: The truth value of an empty array is ambiguous. Returning False, but in future this will result in an error. Use `array.size > 0` to check that an array is not empty.\n",
      "  if diff:\n"
     ]
    },
    {
     "name": "stdout",
     "output_type": "stream",
     "text": [
      "[CV]  colsample_bytree=0.7999999999999999, gamma=0.30000000000000004, max_depth=50, min_child_weight=2, n_estimators=200, subsample=0.6, total=  41.7s\n",
      "[CV] colsample_bytree=0.7999999999999999, gamma=0.30000000000000004, max_depth=50, min_child_weight=2, n_estimators=200, subsample=0.8999999999999999 \n"
     ]
    },
    {
     "name": "stderr",
     "output_type": "stream",
     "text": [
      "/home/willstudent/.local/lib/python3.6/site-packages/sklearn/preprocessing/label.py:151: DeprecationWarning: The truth value of an empty array is ambiguous. Returning False, but in future this will result in an error. Use `array.size > 0` to check that an array is not empty.\n",
      "  if diff:\n",
      "/home/willstudent/.local/lib/python3.6/site-packages/sklearn/preprocessing/label.py:151: DeprecationWarning: The truth value of an empty array is ambiguous. Returning False, but in future this will result in an error. Use `array.size > 0` to check that an array is not empty.\n",
      "  if diff:\n"
     ]
    },
    {
     "name": "stdout",
     "output_type": "stream",
     "text": [
      "[CV]  colsample_bytree=0.7999999999999999, gamma=0.30000000000000004, max_depth=50, min_child_weight=2, n_estimators=200, subsample=0.6, total=  43.8s\n",
      "[CV] colsample_bytree=0.7999999999999999, gamma=0.30000000000000004, max_depth=50, min_child_weight=2, n_estimators=200, subsample=0.8999999999999999 \n"
     ]
    },
    {
     "name": "stderr",
     "output_type": "stream",
     "text": [
      "/home/willstudent/.local/lib/python3.6/site-packages/sklearn/preprocessing/label.py:151: DeprecationWarning: The truth value of an empty array is ambiguous. Returning False, but in future this will result in an error. Use `array.size > 0` to check that an array is not empty.\n",
      "  if diff:\n",
      "/home/willstudent/.local/lib/python3.6/site-packages/sklearn/preprocessing/label.py:151: DeprecationWarning: The truth value of an empty array is ambiguous. Returning False, but in future this will result in an error. Use `array.size > 0` to check that an array is not empty.\n",
      "  if diff:\n"
     ]
    },
    {
     "name": "stdout",
     "output_type": "stream",
     "text": [
      "[CV]  colsample_bytree=0.7999999999999999, gamma=0.30000000000000004, max_depth=50, min_child_weight=2, n_estimators=200, subsample=0.7, total=  46.5s\n",
      "[CV] colsample_bytree=0.7999999999999999, gamma=0.30000000000000004, max_depth=50, min_child_weight=2, n_estimators=200, subsample=0.8999999999999999 \n"
     ]
    },
    {
     "name": "stderr",
     "output_type": "stream",
     "text": [
      "/home/willstudent/.local/lib/python3.6/site-packages/sklearn/preprocessing/label.py:151: DeprecationWarning: The truth value of an empty array is ambiguous. Returning False, but in future this will result in an error. Use `array.size > 0` to check that an array is not empty.\n",
      "  if diff:\n",
      "/home/willstudent/.local/lib/python3.6/site-packages/sklearn/preprocessing/label.py:151: DeprecationWarning: The truth value of an empty array is ambiguous. Returning False, but in future this will result in an error. Use `array.size > 0` to check that an array is not empty.\n",
      "  if diff:\n"
     ]
    },
    {
     "name": "stdout",
     "output_type": "stream",
     "text": [
      "[CV]  colsample_bytree=0.7999999999999999, gamma=0.30000000000000004, max_depth=50, min_child_weight=2, n_estimators=200, subsample=0.7, total=  46.2s\n",
      "[CV] colsample_bytree=0.7999999999999999, gamma=0.30000000000000004, max_depth=50, min_child_weight=3, n_estimators=200, subsample=0.6 \n"
     ]
    },
    {
     "name": "stderr",
     "output_type": "stream",
     "text": [
      "/home/willstudent/.local/lib/python3.6/site-packages/sklearn/preprocessing/label.py:151: DeprecationWarning: The truth value of an empty array is ambiguous. Returning False, but in future this will result in an error. Use `array.size > 0` to check that an array is not empty.\n",
      "  if diff:\n",
      "/home/willstudent/.local/lib/python3.6/site-packages/sklearn/preprocessing/label.py:151: DeprecationWarning: The truth value of an empty array is ambiguous. Returning False, but in future this will result in an error. Use `array.size > 0` to check that an array is not empty.\n",
      "  if diff:\n"
     ]
    },
    {
     "name": "stdout",
     "output_type": "stream",
     "text": [
      "[CV]  colsample_bytree=0.7999999999999999, gamma=0.30000000000000004, max_depth=50, min_child_weight=2, n_estimators=200, subsample=0.7, total=  47.4s\n",
      "[CV] colsample_bytree=0.7999999999999999, gamma=0.30000000000000004, max_depth=50, min_child_weight=3, n_estimators=200, subsample=0.6 \n"
     ]
    },
    {
     "name": "stderr",
     "output_type": "stream",
     "text": [
      "/home/willstudent/.local/lib/python3.6/site-packages/sklearn/preprocessing/label.py:151: DeprecationWarning: The truth value of an empty array is ambiguous. Returning False, but in future this will result in an error. Use `array.size > 0` to check that an array is not empty.\n",
      "  if diff:\n",
      "/home/willstudent/.local/lib/python3.6/site-packages/sklearn/preprocessing/label.py:151: DeprecationWarning: The truth value of an empty array is ambiguous. Returning False, but in future this will result in an error. Use `array.size > 0` to check that an array is not empty.\n",
      "  if diff:\n"
     ]
    },
    {
     "name": "stdout",
     "output_type": "stream",
     "text": [
      "[CV]  colsample_bytree=0.7999999999999999, gamma=0.30000000000000004, max_depth=50, min_child_weight=2, n_estimators=200, subsample=0.7999999999999999, total=  52.5s\n",
      "[CV] colsample_bytree=0.7999999999999999, gamma=0.30000000000000004, max_depth=50, min_child_weight=3, n_estimators=200, subsample=0.6 \n"
     ]
    },
    {
     "name": "stderr",
     "output_type": "stream",
     "text": [
      "/home/willstudent/.local/lib/python3.6/site-packages/sklearn/preprocessing/label.py:151: DeprecationWarning: The truth value of an empty array is ambiguous. Returning False, but in future this will result in an error. Use `array.size > 0` to check that an array is not empty.\n",
      "  if diff:\n",
      "/home/willstudent/.local/lib/python3.6/site-packages/sklearn/preprocessing/label.py:151: DeprecationWarning: The truth value of an empty array is ambiguous. Returning False, but in future this will result in an error. Use `array.size > 0` to check that an array is not empty.\n",
      "  if diff:\n"
     ]
    },
    {
     "name": "stdout",
     "output_type": "stream",
     "text": [
      "[CV]  colsample_bytree=0.7999999999999999, gamma=0.30000000000000004, max_depth=50, min_child_weight=2, n_estimators=200, subsample=0.7999999999999999, total=  51.0s\n",
      "[CV] colsample_bytree=0.7999999999999999, gamma=0.30000000000000004, max_depth=50, min_child_weight=3, n_estimators=200, subsample=0.7 \n"
     ]
    },
    {
     "name": "stderr",
     "output_type": "stream",
     "text": [
      "/home/willstudent/.local/lib/python3.6/site-packages/sklearn/preprocessing/label.py:151: DeprecationWarning: The truth value of an empty array is ambiguous. Returning False, but in future this will result in an error. Use `array.size > 0` to check that an array is not empty.\n",
      "  if diff:\n",
      "/home/willstudent/.local/lib/python3.6/site-packages/sklearn/preprocessing/label.py:151: DeprecationWarning: The truth value of an empty array is ambiguous. Returning False, but in future this will result in an error. Use `array.size > 0` to check that an array is not empty.\n",
      "  if diff:\n"
     ]
    },
    {
     "name": "stdout",
     "output_type": "stream",
     "text": [
      "[CV]  colsample_bytree=0.7999999999999999, gamma=0.30000000000000004, max_depth=50, min_child_weight=2, n_estimators=200, subsample=0.7999999999999999, total=  51.7s\n",
      "[CV] colsample_bytree=0.7999999999999999, gamma=0.30000000000000004, max_depth=50, min_child_weight=3, n_estimators=200, subsample=0.7 \n"
     ]
    },
    {
     "name": "stderr",
     "output_type": "stream",
     "text": [
      "/home/willstudent/.local/lib/python3.6/site-packages/sklearn/preprocessing/label.py:151: DeprecationWarning: The truth value of an empty array is ambiguous. Returning False, but in future this will result in an error. Use `array.size > 0` to check that an array is not empty.\n",
      "  if diff:\n",
      "/home/willstudent/.local/lib/python3.6/site-packages/sklearn/preprocessing/label.py:151: DeprecationWarning: The truth value of an empty array is ambiguous. Returning False, but in future this will result in an error. Use `array.size > 0` to check that an array is not empty.\n",
      "  if diff:\n"
     ]
    },
    {
     "name": "stdout",
     "output_type": "stream",
     "text": [
      "[CV]  colsample_bytree=0.7999999999999999, gamma=0.30000000000000004, max_depth=50, min_child_weight=2, n_estimators=200, subsample=0.8999999999999999, total=  57.2s\n",
      "[CV] colsample_bytree=0.7999999999999999, gamma=0.30000000000000004, max_depth=50, min_child_weight=3, n_estimators=200, subsample=0.7 \n"
     ]
    },
    {
     "name": "stderr",
     "output_type": "stream",
     "text": [
      "/home/willstudent/.local/lib/python3.6/site-packages/sklearn/preprocessing/label.py:151: DeprecationWarning: The truth value of an empty array is ambiguous. Returning False, but in future this will result in an error. Use `array.size > 0` to check that an array is not empty.\n",
      "  if diff:\n",
      "/home/willstudent/.local/lib/python3.6/site-packages/sklearn/preprocessing/label.py:151: DeprecationWarning: The truth value of an empty array is ambiguous. Returning False, but in future this will result in an error. Use `array.size > 0` to check that an array is not empty.\n",
      "  if diff:\n"
     ]
    },
    {
     "name": "stdout",
     "output_type": "stream",
     "text": [
      "[CV]  colsample_bytree=0.7999999999999999, gamma=0.30000000000000004, max_depth=50, min_child_weight=3, n_estimators=200, subsample=0.6, total=  42.1s\n",
      "[CV] colsample_bytree=0.7999999999999999, gamma=0.30000000000000004, max_depth=50, min_child_weight=3, n_estimators=200, subsample=0.7999999999999999 \n"
     ]
    },
    {
     "name": "stderr",
     "output_type": "stream",
     "text": [
      "/home/willstudent/.local/lib/python3.6/site-packages/sklearn/preprocessing/label.py:151: DeprecationWarning: The truth value of an empty array is ambiguous. Returning False, but in future this will result in an error. Use `array.size > 0` to check that an array is not empty.\n",
      "  if diff:\n",
      "/home/willstudent/.local/lib/python3.6/site-packages/sklearn/preprocessing/label.py:151: DeprecationWarning: The truth value of an empty array is ambiguous. Returning False, but in future this will result in an error. Use `array.size > 0` to check that an array is not empty.\n",
      "  if diff:\n"
     ]
    },
    {
     "name": "stdout",
     "output_type": "stream",
     "text": [
      "[CV]  colsample_bytree=0.7999999999999999, gamma=0.30000000000000004, max_depth=50, min_child_weight=2, n_estimators=200, subsample=0.8999999999999999, total=  56.7s\n",
      "[CV] colsample_bytree=0.7999999999999999, gamma=0.30000000000000004, max_depth=50, min_child_weight=3, n_estimators=200, subsample=0.7999999999999999 \n"
     ]
    },
    {
     "name": "stderr",
     "output_type": "stream",
     "text": [
      "/home/willstudent/.local/lib/python3.6/site-packages/sklearn/preprocessing/label.py:151: DeprecationWarning: The truth value of an empty array is ambiguous. Returning False, but in future this will result in an error. Use `array.size > 0` to check that an array is not empty.\n",
      "  if diff:\n",
      "/home/willstudent/.local/lib/python3.6/site-packages/sklearn/preprocessing/label.py:151: DeprecationWarning: The truth value of an empty array is ambiguous. Returning False, but in future this will result in an error. Use `array.size > 0` to check that an array is not empty.\n",
      "  if diff:\n"
     ]
    },
    {
     "name": "stdout",
     "output_type": "stream",
     "text": [
      "[CV]  colsample_bytree=0.7999999999999999, gamma=0.30000000000000004, max_depth=50, min_child_weight=3, n_estimators=200, subsample=0.6, total=  40.6s\n",
      "[CV] colsample_bytree=0.7999999999999999, gamma=0.30000000000000004, max_depth=50, min_child_weight=3, n_estimators=200, subsample=0.7999999999999999 \n"
     ]
    },
    {
     "name": "stderr",
     "output_type": "stream",
     "text": [
      "/home/willstudent/.local/lib/python3.6/site-packages/sklearn/preprocessing/label.py:151: DeprecationWarning: The truth value of an empty array is ambiguous. Returning False, but in future this will result in an error. Use `array.size > 0` to check that an array is not empty.\n",
      "  if diff:\n",
      "/home/willstudent/.local/lib/python3.6/site-packages/sklearn/preprocessing/label.py:151: DeprecationWarning: The truth value of an empty array is ambiguous. Returning False, but in future this will result in an error. Use `array.size > 0` to check that an array is not empty.\n",
      "  if diff:\n"
     ]
    },
    {
     "name": "stdout",
     "output_type": "stream",
     "text": [
      "[CV]  colsample_bytree=0.7999999999999999, gamma=0.30000000000000004, max_depth=50, min_child_weight=2, n_estimators=200, subsample=0.8999999999999999, total=  57.3s\n",
      "[CV] colsample_bytree=0.7999999999999999, gamma=0.30000000000000004, max_depth=50, min_child_weight=3, n_estimators=200, subsample=0.8999999999999999 \n"
     ]
    },
    {
     "name": "stderr",
     "output_type": "stream",
     "text": [
      "/home/willstudent/.local/lib/python3.6/site-packages/sklearn/preprocessing/label.py:151: DeprecationWarning: The truth value of an empty array is ambiguous. Returning False, but in future this will result in an error. Use `array.size > 0` to check that an array is not empty.\n",
      "  if diff:\n",
      "/home/willstudent/.local/lib/python3.6/site-packages/sklearn/preprocessing/label.py:151: DeprecationWarning: The truth value of an empty array is ambiguous. Returning False, but in future this will result in an error. Use `array.size > 0` to check that an array is not empty.\n",
      "  if diff:\n"
     ]
    },
    {
     "name": "stdout",
     "output_type": "stream",
     "text": [
      "[CV]  colsample_bytree=0.7999999999999999, gamma=0.30000000000000004, max_depth=50, min_child_weight=3, n_estimators=200, subsample=0.6, total=  41.0s\n",
      "[CV] colsample_bytree=0.7999999999999999, gamma=0.30000000000000004, max_depth=50, min_child_weight=3, n_estimators=200, subsample=0.8999999999999999 \n"
     ]
    },
    {
     "name": "stderr",
     "output_type": "stream",
     "text": [
      "/home/willstudent/.local/lib/python3.6/site-packages/sklearn/preprocessing/label.py:151: DeprecationWarning: The truth value of an empty array is ambiguous. Returning False, but in future this will result in an error. Use `array.size > 0` to check that an array is not empty.\n",
      "  if diff:\n",
      "/home/willstudent/.local/lib/python3.6/site-packages/sklearn/preprocessing/label.py:151: DeprecationWarning: The truth value of an empty array is ambiguous. Returning False, but in future this will result in an error. Use `array.size > 0` to check that an array is not empty.\n",
      "  if diff:\n"
     ]
    },
    {
     "name": "stdout",
     "output_type": "stream",
     "text": [
      "[CV]  colsample_bytree=0.7999999999999999, gamma=0.30000000000000004, max_depth=50, min_child_weight=3, n_estimators=200, subsample=0.7, total=  44.8s\n",
      "[CV] colsample_bytree=0.7999999999999999, gamma=0.30000000000000004, max_depth=50, min_child_weight=3, n_estimators=200, subsample=0.8999999999999999 \n"
     ]
    },
    {
     "name": "stderr",
     "output_type": "stream",
     "text": [
      "/home/willstudent/.local/lib/python3.6/site-packages/sklearn/preprocessing/label.py:151: DeprecationWarning: The truth value of an empty array is ambiguous. Returning False, but in future this will result in an error. Use `array.size > 0` to check that an array is not empty.\n",
      "  if diff:\n",
      "/home/willstudent/.local/lib/python3.6/site-packages/sklearn/preprocessing/label.py:151: DeprecationWarning: The truth value of an empty array is ambiguous. Returning False, but in future this will result in an error. Use `array.size > 0` to check that an array is not empty.\n",
      "  if diff:\n"
     ]
    },
    {
     "name": "stdout",
     "output_type": "stream",
     "text": [
      "[CV]  colsample_bytree=0.7999999999999999, gamma=0.30000000000000004, max_depth=50, min_child_weight=3, n_estimators=200, subsample=0.7, total=  45.0s\n",
      "[CV] colsample_bytree=0.7999999999999999, gamma=0.4, max_depth=50, min_child_weight=2, n_estimators=200, subsample=0.6 \n"
     ]
    },
    {
     "name": "stderr",
     "output_type": "stream",
     "text": [
      "/home/willstudent/.local/lib/python3.6/site-packages/sklearn/preprocessing/label.py:151: DeprecationWarning: The truth value of an empty array is ambiguous. Returning False, but in future this will result in an error. Use `array.size > 0` to check that an array is not empty.\n",
      "  if diff:\n",
      "/home/willstudent/.local/lib/python3.6/site-packages/sklearn/preprocessing/label.py:151: DeprecationWarning: The truth value of an empty array is ambiguous. Returning False, but in future this will result in an error. Use `array.size > 0` to check that an array is not empty.\n",
      "  if diff:\n"
     ]
    },
    {
     "name": "stdout",
     "output_type": "stream",
     "text": [
      "[CV]  colsample_bytree=0.7999999999999999, gamma=0.30000000000000004, max_depth=50, min_child_weight=3, n_estimators=200, subsample=0.7, total=  45.9s\n",
      "[CV] colsample_bytree=0.7999999999999999, gamma=0.4, max_depth=50, min_child_weight=2, n_estimators=200, subsample=0.6 \n"
     ]
    },
    {
     "name": "stderr",
     "output_type": "stream",
     "text": [
      "/home/willstudent/.local/lib/python3.6/site-packages/sklearn/preprocessing/label.py:151: DeprecationWarning: The truth value of an empty array is ambiguous. Returning False, but in future this will result in an error. Use `array.size > 0` to check that an array is not empty.\n",
      "  if diff:\n",
      "/home/willstudent/.local/lib/python3.6/site-packages/sklearn/preprocessing/label.py:151: DeprecationWarning: The truth value of an empty array is ambiguous. Returning False, but in future this will result in an error. Use `array.size > 0` to check that an array is not empty.\n",
      "  if diff:\n"
     ]
    },
    {
     "name": "stdout",
     "output_type": "stream",
     "text": [
      "[CV]  colsample_bytree=0.7999999999999999, gamma=0.30000000000000004, max_depth=50, min_child_weight=3, n_estimators=200, subsample=0.7999999999999999, total=  48.7s\n",
      "[CV] colsample_bytree=0.7999999999999999, gamma=0.4, max_depth=50, min_child_weight=2, n_estimators=200, subsample=0.6 \n"
     ]
    },
    {
     "name": "stderr",
     "output_type": "stream",
     "text": [
      "/home/willstudent/.local/lib/python3.6/site-packages/sklearn/preprocessing/label.py:151: DeprecationWarning: The truth value of an empty array is ambiguous. Returning False, but in future this will result in an error. Use `array.size > 0` to check that an array is not empty.\n",
      "  if diff:\n",
      "/home/willstudent/.local/lib/python3.6/site-packages/sklearn/preprocessing/label.py:151: DeprecationWarning: The truth value of an empty array is ambiguous. Returning False, but in future this will result in an error. Use `array.size > 0` to check that an array is not empty.\n",
      "  if diff:\n"
     ]
    },
    {
     "name": "stdout",
     "output_type": "stream",
     "text": [
      "[CV]  colsample_bytree=0.7999999999999999, gamma=0.30000000000000004, max_depth=50, min_child_weight=3, n_estimators=200, subsample=0.7999999999999999, total=  48.4s\n",
      "[CV] colsample_bytree=0.7999999999999999, gamma=0.4, max_depth=50, min_child_weight=2, n_estimators=200, subsample=0.7 \n"
     ]
    },
    {
     "name": "stderr",
     "output_type": "stream",
     "text": [
      "/home/willstudent/.local/lib/python3.6/site-packages/sklearn/preprocessing/label.py:151: DeprecationWarning: The truth value of an empty array is ambiguous. Returning False, but in future this will result in an error. Use `array.size > 0` to check that an array is not empty.\n",
      "  if diff:\n",
      "/home/willstudent/.local/lib/python3.6/site-packages/sklearn/preprocessing/label.py:151: DeprecationWarning: The truth value of an empty array is ambiguous. Returning False, but in future this will result in an error. Use `array.size > 0` to check that an array is not empty.\n",
      "  if diff:\n"
     ]
    },
    {
     "name": "stdout",
     "output_type": "stream",
     "text": [
      "[CV]  colsample_bytree=0.7999999999999999, gamma=0.30000000000000004, max_depth=50, min_child_weight=3, n_estimators=200, subsample=0.7999999999999999, total=  48.9s\n",
      "[CV] colsample_bytree=0.7999999999999999, gamma=0.4, max_depth=50, min_child_weight=2, n_estimators=200, subsample=0.7 \n"
     ]
    },
    {
     "name": "stderr",
     "output_type": "stream",
     "text": [
      "/home/willstudent/.local/lib/python3.6/site-packages/sklearn/preprocessing/label.py:151: DeprecationWarning: The truth value of an empty array is ambiguous. Returning False, but in future this will result in an error. Use `array.size > 0` to check that an array is not empty.\n",
      "  if diff:\n",
      "/home/willstudent/.local/lib/python3.6/site-packages/sklearn/preprocessing/label.py:151: DeprecationWarning: The truth value of an empty array is ambiguous. Returning False, but in future this will result in an error. Use `array.size > 0` to check that an array is not empty.\n",
      "  if diff:\n"
     ]
    },
    {
     "name": "stdout",
     "output_type": "stream",
     "text": [
      "[CV]  colsample_bytree=0.7999999999999999, gamma=0.30000000000000004, max_depth=50, min_child_weight=3, n_estimators=200, subsample=0.8999999999999999, total=  52.6s\n",
      "[CV] colsample_bytree=0.7999999999999999, gamma=0.4, max_depth=50, min_child_weight=2, n_estimators=200, subsample=0.7 \n"
     ]
    },
    {
     "name": "stderr",
     "output_type": "stream",
     "text": [
      "/home/willstudent/.local/lib/python3.6/site-packages/sklearn/preprocessing/label.py:151: DeprecationWarning: The truth value of an empty array is ambiguous. Returning False, but in future this will result in an error. Use `array.size > 0` to check that an array is not empty.\n",
      "  if diff:\n",
      "/home/willstudent/.local/lib/python3.6/site-packages/sklearn/preprocessing/label.py:151: DeprecationWarning: The truth value of an empty array is ambiguous. Returning False, but in future this will result in an error. Use `array.size > 0` to check that an array is not empty.\n",
      "  if diff:\n"
     ]
    },
    {
     "name": "stdout",
     "output_type": "stream",
     "text": [
      "[CV]  colsample_bytree=0.7999999999999999, gamma=0.30000000000000004, max_depth=50, min_child_weight=3, n_estimators=200, subsample=0.8999999999999999, total=  53.2s\n",
      "[CV] colsample_bytree=0.7999999999999999, gamma=0.4, max_depth=50, min_child_weight=2, n_estimators=200, subsample=0.7999999999999999 \n"
     ]
    },
    {
     "name": "stderr",
     "output_type": "stream",
     "text": [
      "/home/willstudent/.local/lib/python3.6/site-packages/sklearn/preprocessing/label.py:151: DeprecationWarning: The truth value of an empty array is ambiguous. Returning False, but in future this will result in an error. Use `array.size > 0` to check that an array is not empty.\n",
      "  if diff:\n",
      "/home/willstudent/.local/lib/python3.6/site-packages/sklearn/preprocessing/label.py:151: DeprecationWarning: The truth value of an empty array is ambiguous. Returning False, but in future this will result in an error. Use `array.size > 0` to check that an array is not empty.\n",
      "  if diff:\n"
     ]
    },
    {
     "name": "stdout",
     "output_type": "stream",
     "text": [
      "[CV]  colsample_bytree=0.7999999999999999, gamma=0.4, max_depth=50, min_child_weight=2, n_estimators=200, subsample=0.6, total=  44.1s\n",
      "[CV] colsample_bytree=0.7999999999999999, gamma=0.4, max_depth=50, min_child_weight=2, n_estimators=200, subsample=0.7999999999999999 \n"
     ]
    },
    {
     "name": "stderr",
     "output_type": "stream",
     "text": [
      "/home/willstudent/.local/lib/python3.6/site-packages/sklearn/preprocessing/label.py:151: DeprecationWarning: The truth value of an empty array is ambiguous. Returning False, but in future this will result in an error. Use `array.size > 0` to check that an array is not empty.\n",
      "  if diff:\n",
      "/home/willstudent/.local/lib/python3.6/site-packages/sklearn/preprocessing/label.py:151: DeprecationWarning: The truth value of an empty array is ambiguous. Returning False, but in future this will result in an error. Use `array.size > 0` to check that an array is not empty.\n",
      "  if diff:\n"
     ]
    },
    {
     "name": "stdout",
     "output_type": "stream",
     "text": [
      "[CV]  colsample_bytree=0.7999999999999999, gamma=0.30000000000000004, max_depth=50, min_child_weight=3, n_estimators=200, subsample=0.8999999999999999, total=  52.9s\n",
      "[CV] colsample_bytree=0.7999999999999999, gamma=0.4, max_depth=50, min_child_weight=2, n_estimators=200, subsample=0.7999999999999999 \n"
     ]
    },
    {
     "name": "stderr",
     "output_type": "stream",
     "text": [
      "/home/willstudent/.local/lib/python3.6/site-packages/sklearn/preprocessing/label.py:151: DeprecationWarning: The truth value of an empty array is ambiguous. Returning False, but in future this will result in an error. Use `array.size > 0` to check that an array is not empty.\n",
      "  if diff:\n",
      "/home/willstudent/.local/lib/python3.6/site-packages/sklearn/preprocessing/label.py:151: DeprecationWarning: The truth value of an empty array is ambiguous. Returning False, but in future this will result in an error. Use `array.size > 0` to check that an array is not empty.\n",
      "  if diff:\n"
     ]
    },
    {
     "name": "stdout",
     "output_type": "stream",
     "text": [
      "[CV]  colsample_bytree=0.7999999999999999, gamma=0.4, max_depth=50, min_child_weight=2, n_estimators=200, subsample=0.6, total=  43.1s\n",
      "[CV] colsample_bytree=0.7999999999999999, gamma=0.4, max_depth=50, min_child_weight=2, n_estimators=200, subsample=0.8999999999999999 \n"
     ]
    },
    {
     "name": "stderr",
     "output_type": "stream",
     "text": [
      "/home/willstudent/.local/lib/python3.6/site-packages/sklearn/preprocessing/label.py:151: DeprecationWarning: The truth value of an empty array is ambiguous. Returning False, but in future this will result in an error. Use `array.size > 0` to check that an array is not empty.\n",
      "  if diff:\n",
      "/home/willstudent/.local/lib/python3.6/site-packages/sklearn/preprocessing/label.py:151: DeprecationWarning: The truth value of an empty array is ambiguous. Returning False, but in future this will result in an error. Use `array.size > 0` to check that an array is not empty.\n",
      "  if diff:\n"
     ]
    },
    {
     "name": "stdout",
     "output_type": "stream",
     "text": [
      "[CV]  colsample_bytree=0.7999999999999999, gamma=0.4, max_depth=50, min_child_weight=2, n_estimators=200, subsample=0.6, total=  42.5s\n",
      "[CV] colsample_bytree=0.7999999999999999, gamma=0.4, max_depth=50, min_child_weight=2, n_estimators=200, subsample=0.8999999999999999 \n"
     ]
    },
    {
     "name": "stderr",
     "output_type": "stream",
     "text": [
      "/home/willstudent/.local/lib/python3.6/site-packages/sklearn/preprocessing/label.py:151: DeprecationWarning: The truth value of an empty array is ambiguous. Returning False, but in future this will result in an error. Use `array.size > 0` to check that an array is not empty.\n",
      "  if diff:\n",
      "/home/willstudent/.local/lib/python3.6/site-packages/sklearn/preprocessing/label.py:151: DeprecationWarning: The truth value of an empty array is ambiguous. Returning False, but in future this will result in an error. Use `array.size > 0` to check that an array is not empty.\n",
      "  if diff:\n",
      "/home/willstudent/.local/lib/python3.6/site-packages/sklearn/preprocessing/label.py:151: DeprecationWarning: The truth value of an empty array is ambiguous. Returning False, but in future this will result in an error. Use `array.size > 0` to check that an array is not empty.\n",
      "  if diff:\n"
     ]
    },
    {
     "name": "stdout",
     "output_type": "stream",
     "text": [
      "[CV]  colsample_bytree=0.7999999999999999, gamma=0.4, max_depth=50, min_child_weight=2, n_estimators=200, subsample=0.7, total=  48.4s\n",
      "[CV] colsample_bytree=0.7999999999999999, gamma=0.4, max_depth=50, min_child_weight=2, n_estimators=200, subsample=0.8999999999999999 \n"
     ]
    },
    {
     "name": "stderr",
     "output_type": "stream",
     "text": [
      "/home/willstudent/.local/lib/python3.6/site-packages/sklearn/preprocessing/label.py:151: DeprecationWarning: The truth value of an empty array is ambiguous. Returning False, but in future this will result in an error. Use `array.size > 0` to check that an array is not empty.\n",
      "  if diff:\n"
     ]
    },
    {
     "name": "stdout",
     "output_type": "stream",
     "text": [
      "[CV]  colsample_bytree=0.7999999999999999, gamma=0.4, max_depth=50, min_child_weight=2, n_estimators=200, subsample=0.7, total=  46.4s\n",
      "[CV] colsample_bytree=0.7999999999999999, gamma=0.4, max_depth=50, min_child_weight=3, n_estimators=200, subsample=0.6 \n"
     ]
    },
    {
     "name": "stderr",
     "output_type": "stream",
     "text": [
      "/home/willstudent/.local/lib/python3.6/site-packages/sklearn/preprocessing/label.py:151: DeprecationWarning: The truth value of an empty array is ambiguous. Returning False, but in future this will result in an error. Use `array.size > 0` to check that an array is not empty.\n",
      "  if diff:\n",
      "/home/willstudent/.local/lib/python3.6/site-packages/sklearn/preprocessing/label.py:151: DeprecationWarning: The truth value of an empty array is ambiguous. Returning False, but in future this will result in an error. Use `array.size > 0` to check that an array is not empty.\n",
      "  if diff:\n"
     ]
    },
    {
     "name": "stdout",
     "output_type": "stream",
     "text": [
      "[CV]  colsample_bytree=0.7999999999999999, gamma=0.4, max_depth=50, min_child_weight=2, n_estimators=200, subsample=0.7, total=  46.1s\n",
      "[CV] colsample_bytree=0.7999999999999999, gamma=0.4, max_depth=50, min_child_weight=3, n_estimators=200, subsample=0.6 \n"
     ]
    },
    {
     "name": "stderr",
     "output_type": "stream",
     "text": [
      "/home/willstudent/.local/lib/python3.6/site-packages/sklearn/preprocessing/label.py:151: DeprecationWarning: The truth value of an empty array is ambiguous. Returning False, but in future this will result in an error. Use `array.size > 0` to check that an array is not empty.\n",
      "  if diff:\n",
      "/home/willstudent/.local/lib/python3.6/site-packages/sklearn/preprocessing/label.py:151: DeprecationWarning: The truth value of an empty array is ambiguous. Returning False, but in future this will result in an error. Use `array.size > 0` to check that an array is not empty.\n",
      "  if diff:\n"
     ]
    },
    {
     "name": "stdout",
     "output_type": "stream",
     "text": [
      "[CV]  colsample_bytree=0.7999999999999999, gamma=0.4, max_depth=50, min_child_weight=2, n_estimators=200, subsample=0.7999999999999999, total=  52.1s\n",
      "[CV] colsample_bytree=0.7999999999999999, gamma=0.4, max_depth=50, min_child_weight=3, n_estimators=200, subsample=0.6 \n"
     ]
    },
    {
     "name": "stderr",
     "output_type": "stream",
     "text": [
      "/home/willstudent/.local/lib/python3.6/site-packages/sklearn/preprocessing/label.py:151: DeprecationWarning: The truth value of an empty array is ambiguous. Returning False, but in future this will result in an error. Use `array.size > 0` to check that an array is not empty.\n",
      "  if diff:\n",
      "/home/willstudent/.local/lib/python3.6/site-packages/sklearn/preprocessing/label.py:151: DeprecationWarning: The truth value of an empty array is ambiguous. Returning False, but in future this will result in an error. Use `array.size > 0` to check that an array is not empty.\n",
      "  if diff:\n"
     ]
    },
    {
     "name": "stdout",
     "output_type": "stream",
     "text": [
      "[CV]  colsample_bytree=0.7999999999999999, gamma=0.4, max_depth=50, min_child_weight=2, n_estimators=200, subsample=0.7999999999999999, total=  51.1s\n",
      "[CV] colsample_bytree=0.7999999999999999, gamma=0.4, max_depth=50, min_child_weight=3, n_estimators=200, subsample=0.7 \n"
     ]
    },
    {
     "name": "stderr",
     "output_type": "stream",
     "text": [
      "/home/willstudent/.local/lib/python3.6/site-packages/sklearn/preprocessing/label.py:151: DeprecationWarning: The truth value of an empty array is ambiguous. Returning False, but in future this will result in an error. Use `array.size > 0` to check that an array is not empty.\n",
      "  if diff:\n",
      "/home/willstudent/.local/lib/python3.6/site-packages/sklearn/preprocessing/label.py:151: DeprecationWarning: The truth value of an empty array is ambiguous. Returning False, but in future this will result in an error. Use `array.size > 0` to check that an array is not empty.\n",
      "  if diff:\n"
     ]
    },
    {
     "name": "stdout",
     "output_type": "stream",
     "text": [
      "[CV]  colsample_bytree=0.7999999999999999, gamma=0.4, max_depth=50, min_child_weight=2, n_estimators=200, subsample=0.7999999999999999, total=  51.7s\n",
      "[CV] colsample_bytree=0.7999999999999999, gamma=0.4, max_depth=50, min_child_weight=3, n_estimators=200, subsample=0.7 \n"
     ]
    },
    {
     "name": "stderr",
     "output_type": "stream",
     "text": [
      "/home/willstudent/.local/lib/python3.6/site-packages/sklearn/preprocessing/label.py:151: DeprecationWarning: The truth value of an empty array is ambiguous. Returning False, but in future this will result in an error. Use `array.size > 0` to check that an array is not empty.\n",
      "  if diff:\n",
      "/home/willstudent/.local/lib/python3.6/site-packages/sklearn/preprocessing/label.py:151: DeprecationWarning: The truth value of an empty array is ambiguous. Returning False, but in future this will result in an error. Use `array.size > 0` to check that an array is not empty.\n",
      "  if diff:\n"
     ]
    },
    {
     "name": "stdout",
     "output_type": "stream",
     "text": [
      "[CV]  colsample_bytree=0.7999999999999999, gamma=0.4, max_depth=50, min_child_weight=2, n_estimators=200, subsample=0.8999999999999999, total=  55.8s\n",
      "[CV] colsample_bytree=0.7999999999999999, gamma=0.4, max_depth=50, min_child_weight=3, n_estimators=200, subsample=0.7 \n"
     ]
    },
    {
     "name": "stderr",
     "output_type": "stream",
     "text": [
      "/home/willstudent/.local/lib/python3.6/site-packages/sklearn/preprocessing/label.py:151: DeprecationWarning: The truth value of an empty array is ambiguous. Returning False, but in future this will result in an error. Use `array.size > 0` to check that an array is not empty.\n",
      "  if diff:\n",
      "/home/willstudent/.local/lib/python3.6/site-packages/sklearn/preprocessing/label.py:151: DeprecationWarning: The truth value of an empty array is ambiguous. Returning False, but in future this will result in an error. Use `array.size > 0` to check that an array is not empty.\n",
      "  if diff:\n"
     ]
    },
    {
     "name": "stdout",
     "output_type": "stream",
     "text": [
      "[CV]  colsample_bytree=0.7999999999999999, gamma=0.4, max_depth=50, min_child_weight=3, n_estimators=200, subsample=0.6, total=  41.1s\n",
      "[CV] colsample_bytree=0.7999999999999999, gamma=0.4, max_depth=50, min_child_weight=3, n_estimators=200, subsample=0.7999999999999999 \n"
     ]
    },
    {
     "name": "stderr",
     "output_type": "stream",
     "text": [
      "/home/willstudent/.local/lib/python3.6/site-packages/sklearn/preprocessing/label.py:151: DeprecationWarning: The truth value of an empty array is ambiguous. Returning False, but in future this will result in an error. Use `array.size > 0` to check that an array is not empty.\n",
      "  if diff:\n",
      "/home/willstudent/.local/lib/python3.6/site-packages/sklearn/preprocessing/label.py:151: DeprecationWarning: The truth value of an empty array is ambiguous. Returning False, but in future this will result in an error. Use `array.size > 0` to check that an array is not empty.\n",
      "  if diff:\n"
     ]
    },
    {
     "name": "stdout",
     "output_type": "stream",
     "text": [
      "[CV]  colsample_bytree=0.7999999999999999, gamma=0.4, max_depth=50, min_child_weight=3, n_estimators=200, subsample=0.6, total=  40.4s\n",
      "[CV] colsample_bytree=0.7999999999999999, gamma=0.4, max_depth=50, min_child_weight=3, n_estimators=200, subsample=0.7999999999999999 \n"
     ]
    },
    {
     "name": "stderr",
     "output_type": "stream",
     "text": [
      "/home/willstudent/.local/lib/python3.6/site-packages/sklearn/preprocessing/label.py:151: DeprecationWarning: The truth value of an empty array is ambiguous. Returning False, but in future this will result in an error. Use `array.size > 0` to check that an array is not empty.\n",
      "  if diff:\n",
      "/home/willstudent/.local/lib/python3.6/site-packages/sklearn/preprocessing/label.py:151: DeprecationWarning: The truth value of an empty array is ambiguous. Returning False, but in future this will result in an error. Use `array.size > 0` to check that an array is not empty.\n",
      "  if diff:\n"
     ]
    },
    {
     "name": "stdout",
     "output_type": "stream",
     "text": [
      "[CV]  colsample_bytree=0.7999999999999999, gamma=0.4, max_depth=50, min_child_weight=2, n_estimators=200, subsample=0.8999999999999999, total=  55.8s\n",
      "[CV] colsample_bytree=0.7999999999999999, gamma=0.4, max_depth=50, min_child_weight=3, n_estimators=200, subsample=0.7999999999999999 \n"
     ]
    },
    {
     "name": "stderr",
     "output_type": "stream",
     "text": [
      "/home/willstudent/.local/lib/python3.6/site-packages/sklearn/preprocessing/label.py:151: DeprecationWarning: The truth value of an empty array is ambiguous. Returning False, but in future this will result in an error. Use `array.size > 0` to check that an array is not empty.\n",
      "  if diff:\n",
      "/home/willstudent/.local/lib/python3.6/site-packages/sklearn/preprocessing/label.py:151: DeprecationWarning: The truth value of an empty array is ambiguous. Returning False, but in future this will result in an error. Use `array.size > 0` to check that an array is not empty.\n",
      "  if diff:\n"
     ]
    },
    {
     "name": "stdout",
     "output_type": "stream",
     "text": [
      "[CV]  colsample_bytree=0.7999999999999999, gamma=0.4, max_depth=50, min_child_weight=2, n_estimators=200, subsample=0.8999999999999999, total=  56.6s\n",
      "[CV] colsample_bytree=0.7999999999999999, gamma=0.4, max_depth=50, min_child_weight=3, n_estimators=200, subsample=0.8999999999999999 \n"
     ]
    },
    {
     "name": "stderr",
     "output_type": "stream",
     "text": [
      "/home/willstudent/.local/lib/python3.6/site-packages/sklearn/preprocessing/label.py:151: DeprecationWarning: The truth value of an empty array is ambiguous. Returning False, but in future this will result in an error. Use `array.size > 0` to check that an array is not empty.\n",
      "  if diff:\n",
      "/home/willstudent/.local/lib/python3.6/site-packages/sklearn/preprocessing/label.py:151: DeprecationWarning: The truth value of an empty array is ambiguous. Returning False, but in future this will result in an error. Use `array.size > 0` to check that an array is not empty.\n",
      "  if diff:\n"
     ]
    },
    {
     "name": "stdout",
     "output_type": "stream",
     "text": [
      "[CV]  colsample_bytree=0.7999999999999999, gamma=0.4, max_depth=50, min_child_weight=3, n_estimators=200, subsample=0.6, total=  41.3s\n",
      "[CV] colsample_bytree=0.7999999999999999, gamma=0.4, max_depth=50, min_child_weight=3, n_estimators=200, subsample=0.8999999999999999 \n"
     ]
    },
    {
     "name": "stderr",
     "output_type": "stream",
     "text": [
      "/home/willstudent/.local/lib/python3.6/site-packages/sklearn/preprocessing/label.py:151: DeprecationWarning: The truth value of an empty array is ambiguous. Returning False, but in future this will result in an error. Use `array.size > 0` to check that an array is not empty.\n",
      "  if diff:\n",
      "/home/willstudent/.local/lib/python3.6/site-packages/sklearn/preprocessing/label.py:151: DeprecationWarning: The truth value of an empty array is ambiguous. Returning False, but in future this will result in an error. Use `array.size > 0` to check that an array is not empty.\n",
      "  if diff:\n"
     ]
    },
    {
     "name": "stdout",
     "output_type": "stream",
     "text": [
      "[CV]  colsample_bytree=0.7999999999999999, gamma=0.4, max_depth=50, min_child_weight=3, n_estimators=200, subsample=0.7, total=  44.8s\n",
      "[CV] colsample_bytree=0.7999999999999999, gamma=0.4, max_depth=50, min_child_weight=3, n_estimators=200, subsample=0.8999999999999999 \n"
     ]
    },
    {
     "name": "stderr",
     "output_type": "stream",
     "text": [
      "/home/willstudent/.local/lib/python3.6/site-packages/sklearn/preprocessing/label.py:151: DeprecationWarning: The truth value of an empty array is ambiguous. Returning False, but in future this will result in an error. Use `array.size > 0` to check that an array is not empty.\n",
      "  if diff:\n",
      "/home/willstudent/.local/lib/python3.6/site-packages/sklearn/preprocessing/label.py:151: DeprecationWarning: The truth value of an empty array is ambiguous. Returning False, but in future this will result in an error. Use `array.size > 0` to check that an array is not empty.\n",
      "  if diff:\n"
     ]
    },
    {
     "name": "stdout",
     "output_type": "stream",
     "text": [
      "[CV]  colsample_bytree=0.7999999999999999, gamma=0.4, max_depth=50, min_child_weight=3, n_estimators=200, subsample=0.7, total=  45.1s\n",
      "[CV] colsample_bytree=0.8999999999999999, gamma=0.1, max_depth=50, min_child_weight=2, n_estimators=200, subsample=0.6 \n"
     ]
    },
    {
     "name": "stderr",
     "output_type": "stream",
     "text": [
      "/home/willstudent/.local/lib/python3.6/site-packages/sklearn/preprocessing/label.py:151: DeprecationWarning: The truth value of an empty array is ambiguous. Returning False, but in future this will result in an error. Use `array.size > 0` to check that an array is not empty.\n",
      "  if diff:\n",
      "/home/willstudent/.local/lib/python3.6/site-packages/sklearn/preprocessing/label.py:151: DeprecationWarning: The truth value of an empty array is ambiguous. Returning False, but in future this will result in an error. Use `array.size > 0` to check that an array is not empty.\n",
      "  if diff:\n"
     ]
    },
    {
     "name": "stdout",
     "output_type": "stream",
     "text": [
      "[CV]  colsample_bytree=0.7999999999999999, gamma=0.4, max_depth=50, min_child_weight=3, n_estimators=200, subsample=0.7, total=  45.0s\n",
      "[CV] colsample_bytree=0.8999999999999999, gamma=0.1, max_depth=50, min_child_weight=2, n_estimators=200, subsample=0.6 \n"
     ]
    },
    {
     "name": "stderr",
     "output_type": "stream",
     "text": [
      "/home/willstudent/.local/lib/python3.6/site-packages/sklearn/preprocessing/label.py:151: DeprecationWarning: The truth value of an empty array is ambiguous. Returning False, but in future this will result in an error. Use `array.size > 0` to check that an array is not empty.\n",
      "  if diff:\n",
      "/home/willstudent/.local/lib/python3.6/site-packages/sklearn/preprocessing/label.py:151: DeprecationWarning: The truth value of an empty array is ambiguous. Returning False, but in future this will result in an error. Use `array.size > 0` to check that an array is not empty.\n",
      "  if diff:\n"
     ]
    },
    {
     "name": "stdout",
     "output_type": "stream",
     "text": [
      "[CV]  colsample_bytree=0.7999999999999999, gamma=0.4, max_depth=50, min_child_weight=3, n_estimators=200, subsample=0.7999999999999999, total=  49.4s\n",
      "[CV] colsample_bytree=0.8999999999999999, gamma=0.1, max_depth=50, min_child_weight=2, n_estimators=200, subsample=0.6 \n"
     ]
    },
    {
     "name": "stderr",
     "output_type": "stream",
     "text": [
      "/home/willstudent/.local/lib/python3.6/site-packages/sklearn/preprocessing/label.py:151: DeprecationWarning: The truth value of an empty array is ambiguous. Returning False, but in future this will result in an error. Use `array.size > 0` to check that an array is not empty.\n",
      "  if diff:\n",
      "/home/willstudent/.local/lib/python3.6/site-packages/sklearn/preprocessing/label.py:151: DeprecationWarning: The truth value of an empty array is ambiguous. Returning False, but in future this will result in an error. Use `array.size > 0` to check that an array is not empty.\n",
      "  if diff:\n"
     ]
    },
    {
     "name": "stdout",
     "output_type": "stream",
     "text": [
      "[CV]  colsample_bytree=0.7999999999999999, gamma=0.4, max_depth=50, min_child_weight=3, n_estimators=200, subsample=0.7999999999999999, total=  48.5s\n",
      "[CV] colsample_bytree=0.8999999999999999, gamma=0.1, max_depth=50, min_child_weight=2, n_estimators=200, subsample=0.7 \n"
     ]
    },
    {
     "name": "stderr",
     "output_type": "stream",
     "text": [
      "/home/willstudent/.local/lib/python3.6/site-packages/sklearn/preprocessing/label.py:151: DeprecationWarning: The truth value of an empty array is ambiguous. Returning False, but in future this will result in an error. Use `array.size > 0` to check that an array is not empty.\n",
      "  if diff:\n",
      "/home/willstudent/.local/lib/python3.6/site-packages/sklearn/preprocessing/label.py:151: DeprecationWarning: The truth value of an empty array is ambiguous. Returning False, but in future this will result in an error. Use `array.size > 0` to check that an array is not empty.\n",
      "  if diff:\n"
     ]
    },
    {
     "name": "stdout",
     "output_type": "stream",
     "text": [
      "[CV]  colsample_bytree=0.7999999999999999, gamma=0.4, max_depth=50, min_child_weight=3, n_estimators=200, subsample=0.7999999999999999, total=  48.3s\n",
      "[CV] colsample_bytree=0.8999999999999999, gamma=0.1, max_depth=50, min_child_weight=2, n_estimators=200, subsample=0.7 \n"
     ]
    },
    {
     "name": "stderr",
     "output_type": "stream",
     "text": [
      "/home/willstudent/.local/lib/python3.6/site-packages/sklearn/preprocessing/label.py:151: DeprecationWarning: The truth value of an empty array is ambiguous. Returning False, but in future this will result in an error. Use `array.size > 0` to check that an array is not empty.\n",
      "  if diff:\n",
      "/home/willstudent/.local/lib/python3.6/site-packages/sklearn/preprocessing/label.py:151: DeprecationWarning: The truth value of an empty array is ambiguous. Returning False, but in future this will result in an error. Use `array.size > 0` to check that an array is not empty.\n",
      "  if diff:\n"
     ]
    },
    {
     "name": "stdout",
     "output_type": "stream",
     "text": [
      "[CV]  colsample_bytree=0.7999999999999999, gamma=0.4, max_depth=50, min_child_weight=3, n_estimators=200, subsample=0.8999999999999999, total=  52.9s\n",
      "[CV] colsample_bytree=0.8999999999999999, gamma=0.1, max_depth=50, min_child_weight=2, n_estimators=200, subsample=0.7 \n"
     ]
    },
    {
     "name": "stderr",
     "output_type": "stream",
     "text": [
      "/home/willstudent/.local/lib/python3.6/site-packages/sklearn/preprocessing/label.py:151: DeprecationWarning: The truth value of an empty array is ambiguous. Returning False, but in future this will result in an error. Use `array.size > 0` to check that an array is not empty.\n",
      "  if diff:\n",
      "/home/willstudent/.local/lib/python3.6/site-packages/sklearn/preprocessing/label.py:151: DeprecationWarning: The truth value of an empty array is ambiguous. Returning False, but in future this will result in an error. Use `array.size > 0` to check that an array is not empty.\n",
      "  if diff:\n"
     ]
    },
    {
     "name": "stdout",
     "output_type": "stream",
     "text": [
      "[CV]  colsample_bytree=0.7999999999999999, gamma=0.4, max_depth=50, min_child_weight=3, n_estimators=200, subsample=0.8999999999999999, total=  53.6s\n",
      "[CV] colsample_bytree=0.8999999999999999, gamma=0.1, max_depth=50, min_child_weight=2, n_estimators=200, subsample=0.7999999999999999 \n"
     ]
    },
    {
     "name": "stderr",
     "output_type": "stream",
     "text": [
      "/home/willstudent/.local/lib/python3.6/site-packages/sklearn/preprocessing/label.py:151: DeprecationWarning: The truth value of an empty array is ambiguous. Returning False, but in future this will result in an error. Use `array.size > 0` to check that an array is not empty.\n",
      "  if diff:\n",
      "/home/willstudent/.local/lib/python3.6/site-packages/sklearn/preprocessing/label.py:151: DeprecationWarning: The truth value of an empty array is ambiguous. Returning False, but in future this will result in an error. Use `array.size > 0` to check that an array is not empty.\n",
      "  if diff:\n"
     ]
    },
    {
     "name": "stdout",
     "output_type": "stream",
     "text": [
      "[CV]  colsample_bytree=0.8999999999999999, gamma=0.1, max_depth=50, min_child_weight=2, n_estimators=200, subsample=0.6, total=  48.5s\n",
      "[CV] colsample_bytree=0.8999999999999999, gamma=0.1, max_depth=50, min_child_weight=2, n_estimators=200, subsample=0.7999999999999999 \n"
     ]
    },
    {
     "name": "stderr",
     "output_type": "stream",
     "text": [
      "/home/willstudent/.local/lib/python3.6/site-packages/sklearn/preprocessing/label.py:151: DeprecationWarning: The truth value of an empty array is ambiguous. Returning False, but in future this will result in an error. Use `array.size > 0` to check that an array is not empty.\n",
      "  if diff:\n",
      "/home/willstudent/.local/lib/python3.6/site-packages/sklearn/preprocessing/label.py:151: DeprecationWarning: The truth value of an empty array is ambiguous. Returning False, but in future this will result in an error. Use `array.size > 0` to check that an array is not empty.\n",
      "  if diff:\n"
     ]
    },
    {
     "name": "stdout",
     "output_type": "stream",
     "text": [
      "[CV]  colsample_bytree=0.7999999999999999, gamma=0.4, max_depth=50, min_child_weight=3, n_estimators=200, subsample=0.8999999999999999, total=  54.1s\n",
      "[CV] colsample_bytree=0.8999999999999999, gamma=0.1, max_depth=50, min_child_weight=2, n_estimators=200, subsample=0.7999999999999999 \n"
     ]
    },
    {
     "name": "stderr",
     "output_type": "stream",
     "text": [
      "/home/willstudent/.local/lib/python3.6/site-packages/sklearn/preprocessing/label.py:151: DeprecationWarning: The truth value of an empty array is ambiguous. Returning False, but in future this will result in an error. Use `array.size > 0` to check that an array is not empty.\n",
      "  if diff:\n",
      "/home/willstudent/.local/lib/python3.6/site-packages/sklearn/preprocessing/label.py:151: DeprecationWarning: The truth value of an empty array is ambiguous. Returning False, but in future this will result in an error. Use `array.size > 0` to check that an array is not empty.\n",
      "  if diff:\n"
     ]
    },
    {
     "name": "stdout",
     "output_type": "stream",
     "text": [
      "[CV]  colsample_bytree=0.8999999999999999, gamma=0.1, max_depth=50, min_child_weight=2, n_estimators=200, subsample=0.6, total=  49.0s\n",
      "[CV] colsample_bytree=0.8999999999999999, gamma=0.1, max_depth=50, min_child_weight=2, n_estimators=200, subsample=0.8999999999999999 \n"
     ]
    },
    {
     "name": "stderr",
     "output_type": "stream",
     "text": [
      "/home/willstudent/.local/lib/python3.6/site-packages/sklearn/preprocessing/label.py:151: DeprecationWarning: The truth value of an empty array is ambiguous. Returning False, but in future this will result in an error. Use `array.size > 0` to check that an array is not empty.\n",
      "  if diff:\n",
      "/home/willstudent/.local/lib/python3.6/site-packages/sklearn/preprocessing/label.py:151: DeprecationWarning: The truth value of an empty array is ambiguous. Returning False, but in future this will result in an error. Use `array.size > 0` to check that an array is not empty.\n",
      "  if diff:\n"
     ]
    },
    {
     "name": "stdout",
     "output_type": "stream",
     "text": [
      "[CV]  colsample_bytree=0.8999999999999999, gamma=0.1, max_depth=50, min_child_weight=2, n_estimators=200, subsample=0.6, total=  48.4s\n",
      "[CV] colsample_bytree=0.8999999999999999, gamma=0.1, max_depth=50, min_child_weight=2, n_estimators=200, subsample=0.8999999999999999 \n"
     ]
    },
    {
     "name": "stderr",
     "output_type": "stream",
     "text": [
      "/home/willstudent/.local/lib/python3.6/site-packages/sklearn/preprocessing/label.py:151: DeprecationWarning: The truth value of an empty array is ambiguous. Returning False, but in future this will result in an error. Use `array.size > 0` to check that an array is not empty.\n",
      "  if diff:\n",
      "/home/willstudent/.local/lib/python3.6/site-packages/sklearn/preprocessing/label.py:151: DeprecationWarning: The truth value of an empty array is ambiguous. Returning False, but in future this will result in an error. Use `array.size > 0` to check that an array is not empty.\n",
      "  if diff:\n"
     ]
    },
    {
     "name": "stdout",
     "output_type": "stream",
     "text": [
      "[CV]  colsample_bytree=0.8999999999999999, gamma=0.1, max_depth=50, min_child_weight=2, n_estimators=200, subsample=0.7, total=  53.1s\n",
      "[CV] colsample_bytree=0.8999999999999999, gamma=0.1, max_depth=50, min_child_weight=2, n_estimators=200, subsample=0.8999999999999999 \n"
     ]
    },
    {
     "name": "stderr",
     "output_type": "stream",
     "text": [
      "/home/willstudent/.local/lib/python3.6/site-packages/sklearn/preprocessing/label.py:151: DeprecationWarning: The truth value of an empty array is ambiguous. Returning False, but in future this will result in an error. Use `array.size > 0` to check that an array is not empty.\n",
      "  if diff:\n",
      "/home/willstudent/.local/lib/python3.6/site-packages/sklearn/preprocessing/label.py:151: DeprecationWarning: The truth value of an empty array is ambiguous. Returning False, but in future this will result in an error. Use `array.size > 0` to check that an array is not empty.\n",
      "  if diff:\n"
     ]
    },
    {
     "name": "stdout",
     "output_type": "stream",
     "text": [
      "[CV]  colsample_bytree=0.8999999999999999, gamma=0.1, max_depth=50, min_child_weight=2, n_estimators=200, subsample=0.7, total=  52.8s\n",
      "[CV] colsample_bytree=0.8999999999999999, gamma=0.1, max_depth=50, min_child_weight=3, n_estimators=200, subsample=0.6 \n"
     ]
    },
    {
     "name": "stderr",
     "output_type": "stream",
     "text": [
      "/home/willstudent/.local/lib/python3.6/site-packages/sklearn/preprocessing/label.py:151: DeprecationWarning: The truth value of an empty array is ambiguous. Returning False, but in future this will result in an error. Use `array.size > 0` to check that an array is not empty.\n",
      "  if diff:\n",
      "/home/willstudent/.local/lib/python3.6/site-packages/sklearn/preprocessing/label.py:151: DeprecationWarning: The truth value of an empty array is ambiguous. Returning False, but in future this will result in an error. Use `array.size > 0` to check that an array is not empty.\n",
      "  if diff:\n"
     ]
    },
    {
     "name": "stdout",
     "output_type": "stream",
     "text": [
      "[CV]  colsample_bytree=0.8999999999999999, gamma=0.1, max_depth=50, min_child_weight=2, n_estimators=200, subsample=0.7, total=  53.9s\n",
      "[CV] colsample_bytree=0.8999999999999999, gamma=0.1, max_depth=50, min_child_weight=3, n_estimators=200, subsample=0.6 \n"
     ]
    },
    {
     "name": "stderr",
     "output_type": "stream",
     "text": [
      "/home/willstudent/.local/lib/python3.6/site-packages/sklearn/preprocessing/label.py:151: DeprecationWarning: The truth value of an empty array is ambiguous. Returning False, but in future this will result in an error. Use `array.size > 0` to check that an array is not empty.\n",
      "  if diff:\n",
      "/home/willstudent/.local/lib/python3.6/site-packages/sklearn/preprocessing/label.py:151: DeprecationWarning: The truth value of an empty array is ambiguous. Returning False, but in future this will result in an error. Use `array.size > 0` to check that an array is not empty.\n",
      "  if diff:\n"
     ]
    },
    {
     "name": "stdout",
     "output_type": "stream",
     "text": [
      "[CV]  colsample_bytree=0.8999999999999999, gamma=0.1, max_depth=50, min_child_weight=2, n_estimators=200, subsample=0.7999999999999999, total=  58.5s\n",
      "[CV] colsample_bytree=0.8999999999999999, gamma=0.1, max_depth=50, min_child_weight=3, n_estimators=200, subsample=0.6 \n"
     ]
    },
    {
     "name": "stderr",
     "output_type": "stream",
     "text": [
      "/home/willstudent/.local/lib/python3.6/site-packages/sklearn/preprocessing/label.py:151: DeprecationWarning: The truth value of an empty array is ambiguous. Returning False, but in future this will result in an error. Use `array.size > 0` to check that an array is not empty.\n",
      "  if diff:\n",
      "/home/willstudent/.local/lib/python3.6/site-packages/sklearn/preprocessing/label.py:151: DeprecationWarning: The truth value of an empty array is ambiguous. Returning False, but in future this will result in an error. Use `array.size > 0` to check that an array is not empty.\n",
      "  if diff:\n"
     ]
    },
    {
     "name": "stdout",
     "output_type": "stream",
     "text": [
      "[CV]  colsample_bytree=0.8999999999999999, gamma=0.1, max_depth=50, min_child_weight=2, n_estimators=200, subsample=0.7999999999999999, total=  57.4s\n",
      "[CV] colsample_bytree=0.8999999999999999, gamma=0.1, max_depth=50, min_child_weight=3, n_estimators=200, subsample=0.7 \n"
     ]
    },
    {
     "name": "stderr",
     "output_type": "stream",
     "text": [
      "/home/willstudent/.local/lib/python3.6/site-packages/sklearn/preprocessing/label.py:151: DeprecationWarning: The truth value of an empty array is ambiguous. Returning False, but in future this will result in an error. Use `array.size > 0` to check that an array is not empty.\n",
      "  if diff:\n",
      "/home/willstudent/.local/lib/python3.6/site-packages/sklearn/preprocessing/label.py:151: DeprecationWarning: The truth value of an empty array is ambiguous. Returning False, but in future this will result in an error. Use `array.size > 0` to check that an array is not empty.\n",
      "  if diff:\n"
     ]
    },
    {
     "name": "stdout",
     "output_type": "stream",
     "text": [
      "[CV]  colsample_bytree=0.8999999999999999, gamma=0.1, max_depth=50, min_child_weight=2, n_estimators=200, subsample=0.7999999999999999, total=  57.8s\n",
      "[CV] colsample_bytree=0.8999999999999999, gamma=0.1, max_depth=50, min_child_weight=3, n_estimators=200, subsample=0.7 \n"
     ]
    },
    {
     "name": "stderr",
     "output_type": "stream",
     "text": [
      "/home/willstudent/.local/lib/python3.6/site-packages/sklearn/preprocessing/label.py:151: DeprecationWarning: The truth value of an empty array is ambiguous. Returning False, but in future this will result in an error. Use `array.size > 0` to check that an array is not empty.\n",
      "  if diff:\n",
      "/home/willstudent/.local/lib/python3.6/site-packages/sklearn/preprocessing/label.py:151: DeprecationWarning: The truth value of an empty array is ambiguous. Returning False, but in future this will result in an error. Use `array.size > 0` to check that an array is not empty.\n",
      "  if diff:\n"
     ]
    },
    {
     "name": "stdout",
     "output_type": "stream",
     "text": [
      "[CV]  colsample_bytree=0.8999999999999999, gamma=0.1, max_depth=50, min_child_weight=2, n_estimators=200, subsample=0.8999999999999999, total= 1.0min\n",
      "[CV] colsample_bytree=0.8999999999999999, gamma=0.1, max_depth=50, min_child_weight=3, n_estimators=200, subsample=0.7 \n"
     ]
    },
    {
     "name": "stderr",
     "output_type": "stream",
     "text": [
      "/home/willstudent/.local/lib/python3.6/site-packages/sklearn/preprocessing/label.py:151: DeprecationWarning: The truth value of an empty array is ambiguous. Returning False, but in future this will result in an error. Use `array.size > 0` to check that an array is not empty.\n",
      "  if diff:\n",
      "/home/willstudent/.local/lib/python3.6/site-packages/sklearn/preprocessing/label.py:151: DeprecationWarning: The truth value of an empty array is ambiguous. Returning False, but in future this will result in an error. Use `array.size > 0` to check that an array is not empty.\n",
      "  if diff:\n"
     ]
    },
    {
     "name": "stdout",
     "output_type": "stream",
     "text": [
      "[CV]  colsample_bytree=0.8999999999999999, gamma=0.1, max_depth=50, min_child_weight=3, n_estimators=200, subsample=0.6, total=  45.3s\n",
      "[CV] colsample_bytree=0.8999999999999999, gamma=0.1, max_depth=50, min_child_weight=3, n_estimators=200, subsample=0.7999999999999999 \n"
     ]
    },
    {
     "name": "stderr",
     "output_type": "stream",
     "text": [
      "/home/willstudent/.local/lib/python3.6/site-packages/sklearn/preprocessing/label.py:151: DeprecationWarning: The truth value of an empty array is ambiguous. Returning False, but in future this will result in an error. Use `array.size > 0` to check that an array is not empty.\n",
      "  if diff:\n",
      "/home/willstudent/.local/lib/python3.6/site-packages/sklearn/preprocessing/label.py:151: DeprecationWarning: The truth value of an empty array is ambiguous. Returning False, but in future this will result in an error. Use `array.size > 0` to check that an array is not empty.\n",
      "  if diff:\n"
     ]
    },
    {
     "name": "stdout",
     "output_type": "stream",
     "text": [
      "[CV]  colsample_bytree=0.8999999999999999, gamma=0.1, max_depth=50, min_child_weight=2, n_estimators=200, subsample=0.8999999999999999, total= 1.0min\n",
      "[CV] colsample_bytree=0.8999999999999999, gamma=0.1, max_depth=50, min_child_weight=3, n_estimators=200, subsample=0.7999999999999999 \n"
     ]
    },
    {
     "name": "stderr",
     "output_type": "stream",
     "text": [
      "/home/willstudent/.local/lib/python3.6/site-packages/sklearn/preprocessing/label.py:151: DeprecationWarning: The truth value of an empty array is ambiguous. Returning False, but in future this will result in an error. Use `array.size > 0` to check that an array is not empty.\n",
      "  if diff:\n",
      "/home/willstudent/.local/lib/python3.6/site-packages/sklearn/preprocessing/label.py:151: DeprecationWarning: The truth value of an empty array is ambiguous. Returning False, but in future this will result in an error. Use `array.size > 0` to check that an array is not empty.\n",
      "  if diff:\n",
      "/home/willstudent/.local/lib/python3.6/site-packages/sklearn/preprocessing/label.py:151: DeprecationWarning: The truth value of an empty array is ambiguous. Returning False, but in future this will result in an error. Use `array.size > 0` to check that an array is not empty.\n",
      "  if diff:\n"
     ]
    },
    {
     "name": "stdout",
     "output_type": "stream",
     "text": [
      "[CV]  colsample_bytree=0.8999999999999999, gamma=0.1, max_depth=50, min_child_weight=2, n_estimators=200, subsample=0.8999999999999999, total= 1.0min\n",
      "[CV] colsample_bytree=0.8999999999999999, gamma=0.1, max_depth=50, min_child_weight=3, n_estimators=200, subsample=0.7999999999999999 \n"
     ]
    },
    {
     "name": "stderr",
     "output_type": "stream",
     "text": [
      "/home/willstudent/.local/lib/python3.6/site-packages/sklearn/preprocessing/label.py:151: DeprecationWarning: The truth value of an empty array is ambiguous. Returning False, but in future this will result in an error. Use `array.size > 0` to check that an array is not empty.\n",
      "  if diff:\n"
     ]
    },
    {
     "name": "stdout",
     "output_type": "stream",
     "text": [
      "[CV]  colsample_bytree=0.8999999999999999, gamma=0.1, max_depth=50, min_child_weight=3, n_estimators=200, subsample=0.6, total=  46.5s\n",
      "[CV] colsample_bytree=0.8999999999999999, gamma=0.1, max_depth=50, min_child_weight=3, n_estimators=200, subsample=0.8999999999999999 \n"
     ]
    },
    {
     "name": "stderr",
     "output_type": "stream",
     "text": [
      "/home/willstudent/.local/lib/python3.6/site-packages/sklearn/preprocessing/label.py:151: DeprecationWarning: The truth value of an empty array is ambiguous. Returning False, but in future this will result in an error. Use `array.size > 0` to check that an array is not empty.\n",
      "  if diff:\n",
      "/home/willstudent/.local/lib/python3.6/site-packages/sklearn/preprocessing/label.py:151: DeprecationWarning: The truth value of an empty array is ambiguous. Returning False, but in future this will result in an error. Use `array.size > 0` to check that an array is not empty.\n",
      "  if diff:\n"
     ]
    },
    {
     "name": "stdout",
     "output_type": "stream",
     "text": [
      "[CV]  colsample_bytree=0.8999999999999999, gamma=0.1, max_depth=50, min_child_weight=3, n_estimators=200, subsample=0.6, total=  45.4s\n",
      "[CV] colsample_bytree=0.8999999999999999, gamma=0.1, max_depth=50, min_child_weight=3, n_estimators=200, subsample=0.8999999999999999 \n"
     ]
    },
    {
     "name": "stderr",
     "output_type": "stream",
     "text": [
      "/home/willstudent/.local/lib/python3.6/site-packages/sklearn/preprocessing/label.py:151: DeprecationWarning: The truth value of an empty array is ambiguous. Returning False, but in future this will result in an error. Use `array.size > 0` to check that an array is not empty.\n",
      "  if diff:\n",
      "/home/willstudent/.local/lib/python3.6/site-packages/sklearn/preprocessing/label.py:151: DeprecationWarning: The truth value of an empty array is ambiguous. Returning False, but in future this will result in an error. Use `array.size > 0` to check that an array is not empty.\n",
      "  if diff:\n"
     ]
    },
    {
     "name": "stdout",
     "output_type": "stream",
     "text": [
      "[CV]  colsample_bytree=0.8999999999999999, gamma=0.1, max_depth=50, min_child_weight=3, n_estimators=200, subsample=0.7, total=  50.2s\n",
      "[CV] colsample_bytree=0.8999999999999999, gamma=0.1, max_depth=50, min_child_weight=3, n_estimators=200, subsample=0.8999999999999999 \n"
     ]
    },
    {
     "name": "stderr",
     "output_type": "stream",
     "text": [
      "/home/willstudent/.local/lib/python3.6/site-packages/sklearn/preprocessing/label.py:151: DeprecationWarning: The truth value of an empty array is ambiguous. Returning False, but in future this will result in an error. Use `array.size > 0` to check that an array is not empty.\n",
      "  if diff:\n",
      "/home/willstudent/.local/lib/python3.6/site-packages/sklearn/preprocessing/label.py:151: DeprecationWarning: The truth value of an empty array is ambiguous. Returning False, but in future this will result in an error. Use `array.size > 0` to check that an array is not empty.\n",
      "  if diff:\n"
     ]
    },
    {
     "name": "stdout",
     "output_type": "stream",
     "text": [
      "[CV]  colsample_bytree=0.8999999999999999, gamma=0.1, max_depth=50, min_child_weight=3, n_estimators=200, subsample=0.7, total=  50.2s\n",
      "[CV] colsample_bytree=0.8999999999999999, gamma=0.2, max_depth=50, min_child_weight=2, n_estimators=200, subsample=0.6 \n"
     ]
    },
    {
     "name": "stderr",
     "output_type": "stream",
     "text": [
      "/home/willstudent/.local/lib/python3.6/site-packages/sklearn/preprocessing/label.py:151: DeprecationWarning: The truth value of an empty array is ambiguous. Returning False, but in future this will result in an error. Use `array.size > 0` to check that an array is not empty.\n",
      "  if diff:\n",
      "/home/willstudent/.local/lib/python3.6/site-packages/sklearn/preprocessing/label.py:151: DeprecationWarning: The truth value of an empty array is ambiguous. Returning False, but in future this will result in an error. Use `array.size > 0` to check that an array is not empty.\n",
      "  if diff:\n"
     ]
    },
    {
     "name": "stdout",
     "output_type": "stream",
     "text": [
      "[CV]  colsample_bytree=0.8999999999999999, gamma=0.1, max_depth=50, min_child_weight=3, n_estimators=200, subsample=0.7, total=  50.5s\n",
      "[CV] colsample_bytree=0.8999999999999999, gamma=0.2, max_depth=50, min_child_weight=2, n_estimators=200, subsample=0.6 \n"
     ]
    },
    {
     "name": "stderr",
     "output_type": "stream",
     "text": [
      "/home/willstudent/.local/lib/python3.6/site-packages/sklearn/preprocessing/label.py:151: DeprecationWarning: The truth value of an empty array is ambiguous. Returning False, but in future this will result in an error. Use `array.size > 0` to check that an array is not empty.\n",
      "  if diff:\n",
      "/home/willstudent/.local/lib/python3.6/site-packages/sklearn/preprocessing/label.py:151: DeprecationWarning: The truth value of an empty array is ambiguous. Returning False, but in future this will result in an error. Use `array.size > 0` to check that an array is not empty.\n",
      "  if diff:\n"
     ]
    },
    {
     "name": "stdout",
     "output_type": "stream",
     "text": [
      "[CV]  colsample_bytree=0.8999999999999999, gamma=0.1, max_depth=50, min_child_weight=3, n_estimators=200, subsample=0.7999999999999999, total=  54.8s\n",
      "[CV] colsample_bytree=0.8999999999999999, gamma=0.2, max_depth=50, min_child_weight=2, n_estimators=200, subsample=0.6 \n"
     ]
    },
    {
     "name": "stderr",
     "output_type": "stream",
     "text": [
      "/home/willstudent/.local/lib/python3.6/site-packages/sklearn/preprocessing/label.py:151: DeprecationWarning: The truth value of an empty array is ambiguous. Returning False, but in future this will result in an error. Use `array.size > 0` to check that an array is not empty.\n",
      "  if diff:\n",
      "/home/willstudent/.local/lib/python3.6/site-packages/sklearn/preprocessing/label.py:151: DeprecationWarning: The truth value of an empty array is ambiguous. Returning False, but in future this will result in an error. Use `array.size > 0` to check that an array is not empty.\n",
      "  if diff:\n"
     ]
    },
    {
     "name": "stdout",
     "output_type": "stream",
     "text": [
      "[CV]  colsample_bytree=0.8999999999999999, gamma=0.1, max_depth=50, min_child_weight=3, n_estimators=200, subsample=0.7999999999999999, total=  53.9s\n",
      "[CV] colsample_bytree=0.8999999999999999, gamma=0.2, max_depth=50, min_child_weight=2, n_estimators=200, subsample=0.7 \n"
     ]
    },
    {
     "name": "stderr",
     "output_type": "stream",
     "text": [
      "/home/willstudent/.local/lib/python3.6/site-packages/sklearn/preprocessing/label.py:151: DeprecationWarning: The truth value of an empty array is ambiguous. Returning False, but in future this will result in an error. Use `array.size > 0` to check that an array is not empty.\n",
      "  if diff:\n",
      "/home/willstudent/.local/lib/python3.6/site-packages/sklearn/preprocessing/label.py:151: DeprecationWarning: The truth value of an empty array is ambiguous. Returning False, but in future this will result in an error. Use `array.size > 0` to check that an array is not empty.\n",
      "  if diff:\n"
     ]
    },
    {
     "name": "stdout",
     "output_type": "stream",
     "text": [
      "[CV]  colsample_bytree=0.8999999999999999, gamma=0.1, max_depth=50, min_child_weight=3, n_estimators=200, subsample=0.7999999999999999, total=  54.2s\n",
      "[CV] colsample_bytree=0.8999999999999999, gamma=0.2, max_depth=50, min_child_weight=2, n_estimators=200, subsample=0.7 \n"
     ]
    },
    {
     "name": "stderr",
     "output_type": "stream",
     "text": [
      "/home/willstudent/.local/lib/python3.6/site-packages/sklearn/preprocessing/label.py:151: DeprecationWarning: The truth value of an empty array is ambiguous. Returning False, but in future this will result in an error. Use `array.size > 0` to check that an array is not empty.\n",
      "  if diff:\n",
      "/home/willstudent/.local/lib/python3.6/site-packages/sklearn/preprocessing/label.py:151: DeprecationWarning: The truth value of an empty array is ambiguous. Returning False, but in future this will result in an error. Use `array.size > 0` to check that an array is not empty.\n",
      "  if diff:\n"
     ]
    },
    {
     "name": "stdout",
     "output_type": "stream",
     "text": [
      "[CV]  colsample_bytree=0.8999999999999999, gamma=0.1, max_depth=50, min_child_weight=3, n_estimators=200, subsample=0.8999999999999999, total=  59.7s\n",
      "[CV] colsample_bytree=0.8999999999999999, gamma=0.2, max_depth=50, min_child_weight=2, n_estimators=200, subsample=0.7 \n"
     ]
    },
    {
     "name": "stderr",
     "output_type": "stream",
     "text": [
      "/home/willstudent/.local/lib/python3.6/site-packages/sklearn/preprocessing/label.py:151: DeprecationWarning: The truth value of an empty array is ambiguous. Returning False, but in future this will result in an error. Use `array.size > 0` to check that an array is not empty.\n",
      "  if diff:\n",
      "/home/willstudent/.local/lib/python3.6/site-packages/sklearn/preprocessing/label.py:151: DeprecationWarning: The truth value of an empty array is ambiguous. Returning False, but in future this will result in an error. Use `array.size > 0` to check that an array is not empty.\n",
      "  if diff:\n",
      "/home/willstudent/.local/lib/python3.6/site-packages/sklearn/preprocessing/label.py:151: DeprecationWarning: The truth value of an empty array is ambiguous. Returning False, but in future this will result in an error. Use `array.size > 0` to check that an array is not empty.\n",
      "  if diff:\n"
     ]
    },
    {
     "name": "stdout",
     "output_type": "stream",
     "text": [
      "[CV]  colsample_bytree=0.8999999999999999, gamma=0.1, max_depth=50, min_child_weight=3, n_estimators=200, subsample=0.8999999999999999, total=  58.9s\n",
      "[CV] colsample_bytree=0.8999999999999999, gamma=0.2, max_depth=50, min_child_weight=2, n_estimators=200, subsample=0.7999999999999999 \n"
     ]
    },
    {
     "name": "stderr",
     "output_type": "stream",
     "text": [
      "/home/willstudent/.local/lib/python3.6/site-packages/sklearn/preprocessing/label.py:151: DeprecationWarning: The truth value of an empty array is ambiguous. Returning False, but in future this will result in an error. Use `array.size > 0` to check that an array is not empty.\n",
      "  if diff:\n"
     ]
    },
    {
     "name": "stdout",
     "output_type": "stream",
     "text": [
      "[CV]  colsample_bytree=0.8999999999999999, gamma=0.2, max_depth=50, min_child_weight=2, n_estimators=200, subsample=0.6, total=  47.3s\n",
      "[CV] colsample_bytree=0.8999999999999999, gamma=0.2, max_depth=50, min_child_weight=2, n_estimators=200, subsample=0.7999999999999999 \n"
     ]
    },
    {
     "name": "stderr",
     "output_type": "stream",
     "text": [
      "/home/willstudent/.local/lib/python3.6/site-packages/sklearn/preprocessing/label.py:151: DeprecationWarning: The truth value of an empty array is ambiguous. Returning False, but in future this will result in an error. Use `array.size > 0` to check that an array is not empty.\n",
      "  if diff:\n",
      "/home/willstudent/.local/lib/python3.6/site-packages/sklearn/preprocessing/label.py:151: DeprecationWarning: The truth value of an empty array is ambiguous. Returning False, but in future this will result in an error. Use `array.size > 0` to check that an array is not empty.\n",
      "  if diff:\n"
     ]
    },
    {
     "name": "stdout",
     "output_type": "stream",
     "text": [
      "[CV]  colsample_bytree=0.8999999999999999, gamma=0.1, max_depth=50, min_child_weight=3, n_estimators=200, subsample=0.8999999999999999, total=  59.7s\n",
      "[CV] colsample_bytree=0.8999999999999999, gamma=0.2, max_depth=50, min_child_weight=2, n_estimators=200, subsample=0.7999999999999999 \n"
     ]
    },
    {
     "name": "stderr",
     "output_type": "stream",
     "text": [
      "/home/willstudent/.local/lib/python3.6/site-packages/sklearn/preprocessing/label.py:151: DeprecationWarning: The truth value of an empty array is ambiguous. Returning False, but in future this will result in an error. Use `array.size > 0` to check that an array is not empty.\n",
      "  if diff:\n",
      "/home/willstudent/.local/lib/python3.6/site-packages/sklearn/preprocessing/label.py:151: DeprecationWarning: The truth value of an empty array is ambiguous. Returning False, but in future this will result in an error. Use `array.size > 0` to check that an array is not empty.\n",
      "  if diff:\n"
     ]
    },
    {
     "name": "stdout",
     "output_type": "stream",
     "text": [
      "[CV]  colsample_bytree=0.8999999999999999, gamma=0.2, max_depth=50, min_child_weight=2, n_estimators=200, subsample=0.6, total=  47.8s\n",
      "[CV] colsample_bytree=0.8999999999999999, gamma=0.2, max_depth=50, min_child_weight=2, n_estimators=200, subsample=0.8999999999999999 \n"
     ]
    },
    {
     "name": "stderr",
     "output_type": "stream",
     "text": [
      "/home/willstudent/.local/lib/python3.6/site-packages/sklearn/preprocessing/label.py:151: DeprecationWarning: The truth value of an empty array is ambiguous. Returning False, but in future this will result in an error. Use `array.size > 0` to check that an array is not empty.\n",
      "  if diff:\n",
      "/home/willstudent/.local/lib/python3.6/site-packages/sklearn/preprocessing/label.py:151: DeprecationWarning: The truth value of an empty array is ambiguous. Returning False, but in future this will result in an error. Use `array.size > 0` to check that an array is not empty.\n",
      "  if diff:\n"
     ]
    },
    {
     "name": "stdout",
     "output_type": "stream",
     "text": [
      "[CV]  colsample_bytree=0.8999999999999999, gamma=0.2, max_depth=50, min_child_weight=2, n_estimators=200, subsample=0.6, total=  46.4s\n",
      "[CV] colsample_bytree=0.8999999999999999, gamma=0.2, max_depth=50, min_child_weight=2, n_estimators=200, subsample=0.8999999999999999 \n"
     ]
    },
    {
     "name": "stderr",
     "output_type": "stream",
     "text": [
      "/home/willstudent/.local/lib/python3.6/site-packages/sklearn/preprocessing/label.py:151: DeprecationWarning: The truth value of an empty array is ambiguous. Returning False, but in future this will result in an error. Use `array.size > 0` to check that an array is not empty.\n",
      "  if diff:\n",
      "/home/willstudent/.local/lib/python3.6/site-packages/sklearn/preprocessing/label.py:151: DeprecationWarning: The truth value of an empty array is ambiguous. Returning False, but in future this will result in an error. Use `array.size > 0` to check that an array is not empty.\n",
      "  if diff:\n"
     ]
    },
    {
     "name": "stdout",
     "output_type": "stream",
     "text": [
      "[CV]  colsample_bytree=0.8999999999999999, gamma=0.2, max_depth=50, min_child_weight=2, n_estimators=200, subsample=0.7, total=  51.7s\n",
      "[CV] colsample_bytree=0.8999999999999999, gamma=0.2, max_depth=50, min_child_weight=2, n_estimators=200, subsample=0.8999999999999999 \n"
     ]
    },
    {
     "name": "stderr",
     "output_type": "stream",
     "text": [
      "/home/willstudent/.local/lib/python3.6/site-packages/sklearn/preprocessing/label.py:151: DeprecationWarning: The truth value of an empty array is ambiguous. Returning False, but in future this will result in an error. Use `array.size > 0` to check that an array is not empty.\n",
      "  if diff:\n",
      "/home/willstudent/.local/lib/python3.6/site-packages/sklearn/preprocessing/label.py:151: DeprecationWarning: The truth value of an empty array is ambiguous. Returning False, but in future this will result in an error. Use `array.size > 0` to check that an array is not empty.\n",
      "  if diff:\n"
     ]
    },
    {
     "name": "stdout",
     "output_type": "stream",
     "text": [
      "[CV]  colsample_bytree=0.8999999999999999, gamma=0.2, max_depth=50, min_child_weight=2, n_estimators=200, subsample=0.7, total=  52.7s\n",
      "[CV] colsample_bytree=0.8999999999999999, gamma=0.2, max_depth=50, min_child_weight=3, n_estimators=200, subsample=0.6 \n"
     ]
    },
    {
     "name": "stderr",
     "output_type": "stream",
     "text": [
      "/home/willstudent/.local/lib/python3.6/site-packages/sklearn/preprocessing/label.py:151: DeprecationWarning: The truth value of an empty array is ambiguous. Returning False, but in future this will result in an error. Use `array.size > 0` to check that an array is not empty.\n",
      "  if diff:\n",
      "/home/willstudent/.local/lib/python3.6/site-packages/sklearn/preprocessing/label.py:151: DeprecationWarning: The truth value of an empty array is ambiguous. Returning False, but in future this will result in an error. Use `array.size > 0` to check that an array is not empty.\n",
      "  if diff:\n"
     ]
    },
    {
     "name": "stdout",
     "output_type": "stream",
     "text": [
      "[CV]  colsample_bytree=0.8999999999999999, gamma=0.2, max_depth=50, min_child_weight=2, n_estimators=200, subsample=0.7, total=  52.7s\n",
      "[CV] colsample_bytree=0.8999999999999999, gamma=0.2, max_depth=50, min_child_weight=3, n_estimators=200, subsample=0.6 \n"
     ]
    },
    {
     "name": "stderr",
     "output_type": "stream",
     "text": [
      "/home/willstudent/.local/lib/python3.6/site-packages/sklearn/preprocessing/label.py:151: DeprecationWarning: The truth value of an empty array is ambiguous. Returning False, but in future this will result in an error. Use `array.size > 0` to check that an array is not empty.\n",
      "  if diff:\n",
      "/home/willstudent/.local/lib/python3.6/site-packages/sklearn/preprocessing/label.py:151: DeprecationWarning: The truth value of an empty array is ambiguous. Returning False, but in future this will result in an error. Use `array.size > 0` to check that an array is not empty.\n",
      "  if diff:\n",
      "/home/willstudent/.local/lib/python3.6/site-packages/sklearn/preprocessing/label.py:151: DeprecationWarning: The truth value of an empty array is ambiguous. Returning False, but in future this will result in an error. Use `array.size > 0` to check that an array is not empty.\n",
      "  if diff:\n"
     ]
    },
    {
     "name": "stdout",
     "output_type": "stream",
     "text": [
      "[CV]  colsample_bytree=0.8999999999999999, gamma=0.2, max_depth=50, min_child_weight=2, n_estimators=200, subsample=0.7999999999999999, total=  57.3s\n",
      "[CV] colsample_bytree=0.8999999999999999, gamma=0.2, max_depth=50, min_child_weight=3, n_estimators=200, subsample=0.6 \n"
     ]
    },
    {
     "name": "stderr",
     "output_type": "stream",
     "text": [
      "/home/willstudent/.local/lib/python3.6/site-packages/sklearn/preprocessing/label.py:151: DeprecationWarning: The truth value of an empty array is ambiguous. Returning False, but in future this will result in an error. Use `array.size > 0` to check that an array is not empty.\n",
      "  if diff:\n"
     ]
    },
    {
     "name": "stdout",
     "output_type": "stream",
     "text": [
      "[CV]  colsample_bytree=0.8999999999999999, gamma=0.2, max_depth=50, min_child_weight=2, n_estimators=200, subsample=0.7999999999999999, total=  57.7s\n",
      "[CV] colsample_bytree=0.8999999999999999, gamma=0.2, max_depth=50, min_child_weight=3, n_estimators=200, subsample=0.7 \n"
     ]
    },
    {
     "name": "stderr",
     "output_type": "stream",
     "text": [
      "/home/willstudent/.local/lib/python3.6/site-packages/sklearn/preprocessing/label.py:151: DeprecationWarning: The truth value of an empty array is ambiguous. Returning False, but in future this will result in an error. Use `array.size > 0` to check that an array is not empty.\n",
      "  if diff:\n",
      "/home/willstudent/.local/lib/python3.6/site-packages/sklearn/preprocessing/label.py:151: DeprecationWarning: The truth value of an empty array is ambiguous. Returning False, but in future this will result in an error. Use `array.size > 0` to check that an array is not empty.\n",
      "  if diff:\n"
     ]
    },
    {
     "name": "stdout",
     "output_type": "stream",
     "text": [
      "[CV]  colsample_bytree=0.8999999999999999, gamma=0.2, max_depth=50, min_child_weight=2, n_estimators=200, subsample=0.7999999999999999, total=  56.3s\n",
      "[CV] colsample_bytree=0.8999999999999999, gamma=0.2, max_depth=50, min_child_weight=3, n_estimators=200, subsample=0.7 \n"
     ]
    },
    {
     "name": "stderr",
     "output_type": "stream",
     "text": [
      "/home/willstudent/.local/lib/python3.6/site-packages/sklearn/preprocessing/label.py:151: DeprecationWarning: The truth value of an empty array is ambiguous. Returning False, but in future this will result in an error. Use `array.size > 0` to check that an array is not empty.\n",
      "  if diff:\n",
      "/home/willstudent/.local/lib/python3.6/site-packages/sklearn/preprocessing/label.py:151: DeprecationWarning: The truth value of an empty array is ambiguous. Returning False, but in future this will result in an error. Use `array.size > 0` to check that an array is not empty.\n",
      "  if diff:\n"
     ]
    },
    {
     "name": "stdout",
     "output_type": "stream",
     "text": [
      "[CV]  colsample_bytree=0.8999999999999999, gamma=0.2, max_depth=50, min_child_weight=2, n_estimators=200, subsample=0.8999999999999999, total= 1.0min\n",
      "[CV] colsample_bytree=0.8999999999999999, gamma=0.2, max_depth=50, min_child_weight=3, n_estimators=200, subsample=0.7 \n"
     ]
    },
    {
     "name": "stderr",
     "output_type": "stream",
     "text": [
      "/home/willstudent/.local/lib/python3.6/site-packages/sklearn/preprocessing/label.py:151: DeprecationWarning: The truth value of an empty array is ambiguous. Returning False, but in future this will result in an error. Use `array.size > 0` to check that an array is not empty.\n",
      "  if diff:\n",
      "/home/willstudent/.local/lib/python3.6/site-packages/sklearn/preprocessing/label.py:151: DeprecationWarning: The truth value of an empty array is ambiguous. Returning False, but in future this will result in an error. Use `array.size > 0` to check that an array is not empty.\n",
      "  if diff:\n"
     ]
    },
    {
     "name": "stdout",
     "output_type": "stream",
     "text": [
      "[CV]  colsample_bytree=0.8999999999999999, gamma=0.2, max_depth=50, min_child_weight=2, n_estimators=200, subsample=0.8999999999999999, total= 1.0min\n",
      "[CV] colsample_bytree=0.8999999999999999, gamma=0.2, max_depth=50, min_child_weight=3, n_estimators=200, subsample=0.7999999999999999 \n"
     ]
    },
    {
     "name": "stderr",
     "output_type": "stream",
     "text": [
      "/home/willstudent/.local/lib/python3.6/site-packages/sklearn/preprocessing/label.py:151: DeprecationWarning: The truth value of an empty array is ambiguous. Returning False, but in future this will result in an error. Use `array.size > 0` to check that an array is not empty.\n",
      "  if diff:\n",
      "/home/willstudent/.local/lib/python3.6/site-packages/sklearn/preprocessing/label.py:151: DeprecationWarning: The truth value of an empty array is ambiguous. Returning False, but in future this will result in an error. Use `array.size > 0` to check that an array is not empty.\n",
      "  if diff:\n"
     ]
    },
    {
     "name": "stdout",
     "output_type": "stream",
     "text": [
      "[CV]  colsample_bytree=0.8999999999999999, gamma=0.2, max_depth=50, min_child_weight=3, n_estimators=200, subsample=0.6, total=  46.5s\n",
      "[CV] colsample_bytree=0.8999999999999999, gamma=0.2, max_depth=50, min_child_weight=3, n_estimators=200, subsample=0.7999999999999999 \n"
     ]
    },
    {
     "name": "stderr",
     "output_type": "stream",
     "text": [
      "/home/willstudent/.local/lib/python3.6/site-packages/sklearn/preprocessing/label.py:151: DeprecationWarning: The truth value of an empty array is ambiguous. Returning False, but in future this will result in an error. Use `array.size > 0` to check that an array is not empty.\n",
      "  if diff:\n",
      "/home/willstudent/.local/lib/python3.6/site-packages/sklearn/preprocessing/label.py:151: DeprecationWarning: The truth value of an empty array is ambiguous. Returning False, but in future this will result in an error. Use `array.size > 0` to check that an array is not empty.\n",
      "  if diff:\n",
      "/home/willstudent/.local/lib/python3.6/site-packages/sklearn/preprocessing/label.py:151: DeprecationWarning: The truth value of an empty array is ambiguous. Returning False, but in future this will result in an error. Use `array.size > 0` to check that an array is not empty.\n",
      "  if diff:\n"
     ]
    },
    {
     "name": "stdout",
     "output_type": "stream",
     "text": [
      "[CV]  colsample_bytree=0.8999999999999999, gamma=0.2, max_depth=50, min_child_weight=2, n_estimators=200, subsample=0.8999999999999999, total= 1.0min\n",
      "[CV] colsample_bytree=0.8999999999999999, gamma=0.2, max_depth=50, min_child_weight=3, n_estimators=200, subsample=0.7999999999999999 \n"
     ]
    },
    {
     "name": "stderr",
     "output_type": "stream",
     "text": [
      "/home/willstudent/.local/lib/python3.6/site-packages/sklearn/preprocessing/label.py:151: DeprecationWarning: The truth value of an empty array is ambiguous. Returning False, but in future this will result in an error. Use `array.size > 0` to check that an array is not empty.\n",
      "  if diff:\n"
     ]
    },
    {
     "name": "stdout",
     "output_type": "stream",
     "text": [
      "[CV]  colsample_bytree=0.8999999999999999, gamma=0.2, max_depth=50, min_child_weight=3, n_estimators=200, subsample=0.6, total=  46.6s\n",
      "[CV] colsample_bytree=0.8999999999999999, gamma=0.2, max_depth=50, min_child_weight=3, n_estimators=200, subsample=0.8999999999999999 \n"
     ]
    },
    {
     "name": "stderr",
     "output_type": "stream",
     "text": [
      "/home/willstudent/.local/lib/python3.6/site-packages/sklearn/preprocessing/label.py:151: DeprecationWarning: The truth value of an empty array is ambiguous. Returning False, but in future this will result in an error. Use `array.size > 0` to check that an array is not empty.\n",
      "  if diff:\n",
      "/home/willstudent/.local/lib/python3.6/site-packages/sklearn/preprocessing/label.py:151: DeprecationWarning: The truth value of an empty array is ambiguous. Returning False, but in future this will result in an error. Use `array.size > 0` to check that an array is not empty.\n",
      "  if diff:\n"
     ]
    },
    {
     "name": "stdout",
     "output_type": "stream",
     "text": [
      "[CV]  colsample_bytree=0.8999999999999999, gamma=0.2, max_depth=50, min_child_weight=3, n_estimators=200, subsample=0.6, total=  47.0s\n",
      "[CV] colsample_bytree=0.8999999999999999, gamma=0.2, max_depth=50, min_child_weight=3, n_estimators=200, subsample=0.8999999999999999 \n"
     ]
    },
    {
     "name": "stderr",
     "output_type": "stream",
     "text": [
      "/home/willstudent/.local/lib/python3.6/site-packages/sklearn/preprocessing/label.py:151: DeprecationWarning: The truth value of an empty array is ambiguous. Returning False, but in future this will result in an error. Use `array.size > 0` to check that an array is not empty.\n",
      "  if diff:\n",
      "/home/willstudent/.local/lib/python3.6/site-packages/sklearn/preprocessing/label.py:151: DeprecationWarning: The truth value of an empty array is ambiguous. Returning False, but in future this will result in an error. Use `array.size > 0` to check that an array is not empty.\n",
      "  if diff:\n"
     ]
    },
    {
     "name": "stdout",
     "output_type": "stream",
     "text": [
      "[CV]  colsample_bytree=0.8999999999999999, gamma=0.2, max_depth=50, min_child_weight=3, n_estimators=200, subsample=0.7, total=  50.6s\n",
      "[CV] colsample_bytree=0.8999999999999999, gamma=0.2, max_depth=50, min_child_weight=3, n_estimators=200, subsample=0.8999999999999999 \n"
     ]
    },
    {
     "name": "stderr",
     "output_type": "stream",
     "text": [
      "/home/willstudent/.local/lib/python3.6/site-packages/sklearn/preprocessing/label.py:151: DeprecationWarning: The truth value of an empty array is ambiguous. Returning False, but in future this will result in an error. Use `array.size > 0` to check that an array is not empty.\n",
      "  if diff:\n",
      "/home/willstudent/.local/lib/python3.6/site-packages/sklearn/preprocessing/label.py:151: DeprecationWarning: The truth value of an empty array is ambiguous. Returning False, but in future this will result in an error. Use `array.size > 0` to check that an array is not empty.\n",
      "  if diff:\n"
     ]
    },
    {
     "name": "stdout",
     "output_type": "stream",
     "text": [
      "[CV]  colsample_bytree=0.8999999999999999, gamma=0.2, max_depth=50, min_child_weight=3, n_estimators=200, subsample=0.7, total=  50.3s\n",
      "[CV] colsample_bytree=0.8999999999999999, gamma=0.30000000000000004, max_depth=50, min_child_weight=2, n_estimators=200, subsample=0.6 \n"
     ]
    },
    {
     "name": "stderr",
     "output_type": "stream",
     "text": [
      "/home/willstudent/.local/lib/python3.6/site-packages/sklearn/preprocessing/label.py:151: DeprecationWarning: The truth value of an empty array is ambiguous. Returning False, but in future this will result in an error. Use `array.size > 0` to check that an array is not empty.\n",
      "  if diff:\n",
      "/home/willstudent/.local/lib/python3.6/site-packages/sklearn/preprocessing/label.py:151: DeprecationWarning: The truth value of an empty array is ambiguous. Returning False, but in future this will result in an error. Use `array.size > 0` to check that an array is not empty.\n",
      "  if diff:\n"
     ]
    },
    {
     "name": "stdout",
     "output_type": "stream",
     "text": [
      "[CV]  colsample_bytree=0.8999999999999999, gamma=0.2, max_depth=50, min_child_weight=3, n_estimators=200, subsample=0.7, total=  51.1s\n",
      "[CV] colsample_bytree=0.8999999999999999, gamma=0.30000000000000004, max_depth=50, min_child_weight=2, n_estimators=200, subsample=0.6 \n"
     ]
    },
    {
     "name": "stderr",
     "output_type": "stream",
     "text": [
      "/home/willstudent/.local/lib/python3.6/site-packages/sklearn/preprocessing/label.py:151: DeprecationWarning: The truth value of an empty array is ambiguous. Returning False, but in future this will result in an error. Use `array.size > 0` to check that an array is not empty.\n",
      "  if diff:\n",
      "/home/willstudent/.local/lib/python3.6/site-packages/sklearn/preprocessing/label.py:151: DeprecationWarning: The truth value of an empty array is ambiguous. Returning False, but in future this will result in an error. Use `array.size > 0` to check that an array is not empty.\n",
      "  if diff:\n"
     ]
    },
    {
     "name": "stdout",
     "output_type": "stream",
     "text": [
      "[CV]  colsample_bytree=0.8999999999999999, gamma=0.2, max_depth=50, min_child_weight=3, n_estimators=200, subsample=0.7999999999999999, total=  53.4s\n",
      "[CV] colsample_bytree=0.8999999999999999, gamma=0.30000000000000004, max_depth=50, min_child_weight=2, n_estimators=200, subsample=0.6 \n"
     ]
    },
    {
     "name": "stderr",
     "output_type": "stream",
     "text": [
      "/home/willstudent/.local/lib/python3.6/site-packages/sklearn/preprocessing/label.py:151: DeprecationWarning: The truth value of an empty array is ambiguous. Returning False, but in future this will result in an error. Use `array.size > 0` to check that an array is not empty.\n",
      "  if diff:\n",
      "/home/willstudent/.local/lib/python3.6/site-packages/sklearn/preprocessing/label.py:151: DeprecationWarning: The truth value of an empty array is ambiguous. Returning False, but in future this will result in an error. Use `array.size > 0` to check that an array is not empty.\n",
      "  if diff:\n"
     ]
    },
    {
     "name": "stdout",
     "output_type": "stream",
     "text": [
      "[CV]  colsample_bytree=0.8999999999999999, gamma=0.2, max_depth=50, min_child_weight=3, n_estimators=200, subsample=0.7999999999999999, total=  54.0s\n",
      "[CV] colsample_bytree=0.8999999999999999, gamma=0.30000000000000004, max_depth=50, min_child_weight=2, n_estimators=200, subsample=0.7 \n"
     ]
    },
    {
     "name": "stderr",
     "output_type": "stream",
     "text": [
      "/home/willstudent/.local/lib/python3.6/site-packages/sklearn/preprocessing/label.py:151: DeprecationWarning: The truth value of an empty array is ambiguous. Returning False, but in future this will result in an error. Use `array.size > 0` to check that an array is not empty.\n",
      "  if diff:\n",
      "/home/willstudent/.local/lib/python3.6/site-packages/sklearn/preprocessing/label.py:151: DeprecationWarning: The truth value of an empty array is ambiguous. Returning False, but in future this will result in an error. Use `array.size > 0` to check that an array is not empty.\n",
      "  if diff:\n"
     ]
    },
    {
     "name": "stdout",
     "output_type": "stream",
     "text": [
      "[CV]  colsample_bytree=0.8999999999999999, gamma=0.2, max_depth=50, min_child_weight=3, n_estimators=200, subsample=0.7999999999999999, total=  54.3s\n",
      "[CV] colsample_bytree=0.8999999999999999, gamma=0.30000000000000004, max_depth=50, min_child_weight=2, n_estimators=200, subsample=0.7 \n"
     ]
    },
    {
     "name": "stderr",
     "output_type": "stream",
     "text": [
      "/home/willstudent/.local/lib/python3.6/site-packages/sklearn/preprocessing/label.py:151: DeprecationWarning: The truth value of an empty array is ambiguous. Returning False, but in future this will result in an error. Use `array.size > 0` to check that an array is not empty.\n",
      "  if diff:\n",
      "/home/willstudent/.local/lib/python3.6/site-packages/sklearn/preprocessing/label.py:151: DeprecationWarning: The truth value of an empty array is ambiguous. Returning False, but in future this will result in an error. Use `array.size > 0` to check that an array is not empty.\n",
      "  if diff:\n"
     ]
    },
    {
     "name": "stdout",
     "output_type": "stream",
     "text": [
      "[CV]  colsample_bytree=0.8999999999999999, gamma=0.2, max_depth=50, min_child_weight=3, n_estimators=200, subsample=0.8999999999999999, total=  59.8s\n",
      "[CV] colsample_bytree=0.8999999999999999, gamma=0.30000000000000004, max_depth=50, min_child_weight=2, n_estimators=200, subsample=0.7 \n"
     ]
    },
    {
     "name": "stderr",
     "output_type": "stream",
     "text": [
      "/home/willstudent/.local/lib/python3.6/site-packages/sklearn/preprocessing/label.py:151: DeprecationWarning: The truth value of an empty array is ambiguous. Returning False, but in future this will result in an error. Use `array.size > 0` to check that an array is not empty.\n",
      "  if diff:\n",
      "/home/willstudent/.local/lib/python3.6/site-packages/sklearn/preprocessing/label.py:151: DeprecationWarning: The truth value of an empty array is ambiguous. Returning False, but in future this will result in an error. Use `array.size > 0` to check that an array is not empty.\n",
      "  if diff:\n"
     ]
    },
    {
     "name": "stdout",
     "output_type": "stream",
     "text": [
      "[CV]  colsample_bytree=0.8999999999999999, gamma=0.2, max_depth=50, min_child_weight=3, n_estimators=200, subsample=0.8999999999999999, total=  59.8s\n",
      "[CV] colsample_bytree=0.8999999999999999, gamma=0.30000000000000004, max_depth=50, min_child_weight=2, n_estimators=200, subsample=0.7999999999999999 \n"
     ]
    },
    {
     "name": "stderr",
     "output_type": "stream",
     "text": [
      "/home/willstudent/.local/lib/python3.6/site-packages/sklearn/preprocessing/label.py:151: DeprecationWarning: The truth value of an empty array is ambiguous. Returning False, but in future this will result in an error. Use `array.size > 0` to check that an array is not empty.\n",
      "  if diff:\n",
      "/home/willstudent/.local/lib/python3.6/site-packages/sklearn/preprocessing/label.py:151: DeprecationWarning: The truth value of an empty array is ambiguous. Returning False, but in future this will result in an error. Use `array.size > 0` to check that an array is not empty.\n",
      "  if diff:\n"
     ]
    },
    {
     "name": "stdout",
     "output_type": "stream",
     "text": [
      "[CV]  colsample_bytree=0.8999999999999999, gamma=0.30000000000000004, max_depth=50, min_child_weight=2, n_estimators=200, subsample=0.6, total=  49.7s\n",
      "[CV] colsample_bytree=0.8999999999999999, gamma=0.30000000000000004, max_depth=50, min_child_weight=2, n_estimators=200, subsample=0.7999999999999999 \n"
     ]
    },
    {
     "name": "stderr",
     "output_type": "stream",
     "text": [
      "/home/willstudent/.local/lib/python3.6/site-packages/sklearn/preprocessing/label.py:151: DeprecationWarning: The truth value of an empty array is ambiguous. Returning False, but in future this will result in an error. Use `array.size > 0` to check that an array is not empty.\n",
      "  if diff:\n",
      "/home/willstudent/.local/lib/python3.6/site-packages/sklearn/preprocessing/label.py:151: DeprecationWarning: The truth value of an empty array is ambiguous. Returning False, but in future this will result in an error. Use `array.size > 0` to check that an array is not empty.\n",
      "  if diff:\n"
     ]
    },
    {
     "name": "stdout",
     "output_type": "stream",
     "text": [
      "[CV]  colsample_bytree=0.8999999999999999, gamma=0.2, max_depth=50, min_child_weight=3, n_estimators=200, subsample=0.8999999999999999, total= 1.0min\n",
      "[CV] colsample_bytree=0.8999999999999999, gamma=0.30000000000000004, max_depth=50, min_child_weight=2, n_estimators=200, subsample=0.7999999999999999 \n"
     ]
    },
    {
     "name": "stderr",
     "output_type": "stream",
     "text": [
      "/home/willstudent/.local/lib/python3.6/site-packages/sklearn/preprocessing/label.py:151: DeprecationWarning: The truth value of an empty array is ambiguous. Returning False, but in future this will result in an error. Use `array.size > 0` to check that an array is not empty.\n",
      "  if diff:\n",
      "/home/willstudent/.local/lib/python3.6/site-packages/sklearn/preprocessing/label.py:151: DeprecationWarning: The truth value of an empty array is ambiguous. Returning False, but in future this will result in an error. Use `array.size > 0` to check that an array is not empty.\n",
      "  if diff:\n"
     ]
    },
    {
     "name": "stdout",
     "output_type": "stream",
     "text": [
      "[CV]  colsample_bytree=0.8999999999999999, gamma=0.30000000000000004, max_depth=50, min_child_weight=2, n_estimators=200, subsample=0.6, total=  48.2s\n",
      "[CV] colsample_bytree=0.8999999999999999, gamma=0.30000000000000004, max_depth=50, min_child_weight=2, n_estimators=200, subsample=0.8999999999999999 \n"
     ]
    },
    {
     "name": "stderr",
     "output_type": "stream",
     "text": [
      "/home/willstudent/.local/lib/python3.6/site-packages/sklearn/preprocessing/label.py:151: DeprecationWarning: The truth value of an empty array is ambiguous. Returning False, but in future this will result in an error. Use `array.size > 0` to check that an array is not empty.\n",
      "  if diff:\n",
      "/home/willstudent/.local/lib/python3.6/site-packages/sklearn/preprocessing/label.py:151: DeprecationWarning: The truth value of an empty array is ambiguous. Returning False, but in future this will result in an error. Use `array.size > 0` to check that an array is not empty.\n",
      "  if diff:\n"
     ]
    },
    {
     "name": "stdout",
     "output_type": "stream",
     "text": [
      "[CV]  colsample_bytree=0.8999999999999999, gamma=0.30000000000000004, max_depth=50, min_child_weight=2, n_estimators=200, subsample=0.6, total=  48.0s\n",
      "[CV] colsample_bytree=0.8999999999999999, gamma=0.30000000000000004, max_depth=50, min_child_weight=2, n_estimators=200, subsample=0.8999999999999999 \n"
     ]
    },
    {
     "name": "stderr",
     "output_type": "stream",
     "text": [
      "/home/willstudent/.local/lib/python3.6/site-packages/sklearn/preprocessing/label.py:151: DeprecationWarning: The truth value of an empty array is ambiguous. Returning False, but in future this will result in an error. Use `array.size > 0` to check that an array is not empty.\n",
      "  if diff:\n",
      "/home/willstudent/.local/lib/python3.6/site-packages/sklearn/preprocessing/label.py:151: DeprecationWarning: The truth value of an empty array is ambiguous. Returning False, but in future this will result in an error. Use `array.size > 0` to check that an array is not empty.\n",
      "  if diff:\n"
     ]
    },
    {
     "name": "stdout",
     "output_type": "stream",
     "text": [
      "[CV]  colsample_bytree=0.8999999999999999, gamma=0.30000000000000004, max_depth=50, min_child_weight=2, n_estimators=200, subsample=0.7, total=  52.1s\n",
      "[CV] colsample_bytree=0.8999999999999999, gamma=0.30000000000000004, max_depth=50, min_child_weight=2, n_estimators=200, subsample=0.8999999999999999 \n"
     ]
    },
    {
     "name": "stderr",
     "output_type": "stream",
     "text": [
      "/home/willstudent/.local/lib/python3.6/site-packages/sklearn/preprocessing/label.py:151: DeprecationWarning: The truth value of an empty array is ambiguous. Returning False, but in future this will result in an error. Use `array.size > 0` to check that an array is not empty.\n",
      "  if diff:\n",
      "/home/willstudent/.local/lib/python3.6/site-packages/sklearn/preprocessing/label.py:151: DeprecationWarning: The truth value of an empty array is ambiguous. Returning False, but in future this will result in an error. Use `array.size > 0` to check that an array is not empty.\n",
      "  if diff:\n"
     ]
    },
    {
     "name": "stdout",
     "output_type": "stream",
     "text": [
      "[CV]  colsample_bytree=0.8999999999999999, gamma=0.30000000000000004, max_depth=50, min_child_weight=2, n_estimators=200, subsample=0.7, total=  52.7s\n",
      "[CV] colsample_bytree=0.8999999999999999, gamma=0.30000000000000004, max_depth=50, min_child_weight=3, n_estimators=200, subsample=0.6 \n"
     ]
    },
    {
     "name": "stderr",
     "output_type": "stream",
     "text": [
      "/home/willstudent/.local/lib/python3.6/site-packages/sklearn/preprocessing/label.py:151: DeprecationWarning: The truth value of an empty array is ambiguous. Returning False, but in future this will result in an error. Use `array.size > 0` to check that an array is not empty.\n",
      "  if diff:\n",
      "/home/willstudent/.local/lib/python3.6/site-packages/sklearn/preprocessing/label.py:151: DeprecationWarning: The truth value of an empty array is ambiguous. Returning False, but in future this will result in an error. Use `array.size > 0` to check that an array is not empty.\n",
      "  if diff:\n"
     ]
    },
    {
     "name": "stdout",
     "output_type": "stream",
     "text": [
      "[CV]  colsample_bytree=0.8999999999999999, gamma=0.30000000000000004, max_depth=50, min_child_weight=2, n_estimators=200, subsample=0.7, total=  53.0s\n",
      "[CV] colsample_bytree=0.8999999999999999, gamma=0.30000000000000004, max_depth=50, min_child_weight=3, n_estimators=200, subsample=0.6 \n"
     ]
    },
    {
     "name": "stderr",
     "output_type": "stream",
     "text": [
      "/home/willstudent/.local/lib/python3.6/site-packages/sklearn/preprocessing/label.py:151: DeprecationWarning: The truth value of an empty array is ambiguous. Returning False, but in future this will result in an error. Use `array.size > 0` to check that an array is not empty.\n",
      "  if diff:\n",
      "/home/willstudent/.local/lib/python3.6/site-packages/sklearn/preprocessing/label.py:151: DeprecationWarning: The truth value of an empty array is ambiguous. Returning False, but in future this will result in an error. Use `array.size > 0` to check that an array is not empty.\n",
      "  if diff:\n",
      "/home/willstudent/.local/lib/python3.6/site-packages/sklearn/preprocessing/label.py:151: DeprecationWarning: The truth value of an empty array is ambiguous. Returning False, but in future this will result in an error. Use `array.size > 0` to check that an array is not empty.\n",
      "  if diff:\n"
     ]
    },
    {
     "name": "stdout",
     "output_type": "stream",
     "text": [
      "[CV]  colsample_bytree=0.8999999999999999, gamma=0.30000000000000004, max_depth=50, min_child_weight=2, n_estimators=200, subsample=0.7999999999999999, total=  58.7s\n",
      "[CV] colsample_bytree=0.8999999999999999, gamma=0.30000000000000004, max_depth=50, min_child_weight=3, n_estimators=200, subsample=0.6 \n"
     ]
    },
    {
     "name": "stderr",
     "output_type": "stream",
     "text": [
      "/home/willstudent/.local/lib/python3.6/site-packages/sklearn/preprocessing/label.py:151: DeprecationWarning: The truth value of an empty array is ambiguous. Returning False, but in future this will result in an error. Use `array.size > 0` to check that an array is not empty.\n",
      "  if diff:\n"
     ]
    },
    {
     "name": "stdout",
     "output_type": "stream",
     "text": [
      "[CV]  colsample_bytree=0.8999999999999999, gamma=0.30000000000000004, max_depth=50, min_child_weight=2, n_estimators=200, subsample=0.7999999999999999, total=  57.3s\n",
      "[CV] colsample_bytree=0.8999999999999999, gamma=0.30000000000000004, max_depth=50, min_child_weight=3, n_estimators=200, subsample=0.7 \n"
     ]
    },
    {
     "name": "stderr",
     "output_type": "stream",
     "text": [
      "/home/willstudent/.local/lib/python3.6/site-packages/sklearn/preprocessing/label.py:151: DeprecationWarning: The truth value of an empty array is ambiguous. Returning False, but in future this will result in an error. Use `array.size > 0` to check that an array is not empty.\n",
      "  if diff:\n",
      "/home/willstudent/.local/lib/python3.6/site-packages/sklearn/preprocessing/label.py:151: DeprecationWarning: The truth value of an empty array is ambiguous. Returning False, but in future this will result in an error. Use `array.size > 0` to check that an array is not empty.\n",
      "  if diff:\n"
     ]
    },
    {
     "name": "stdout",
     "output_type": "stream",
     "text": [
      "[CV]  colsample_bytree=0.8999999999999999, gamma=0.30000000000000004, max_depth=50, min_child_weight=2, n_estimators=200, subsample=0.7999999999999999, total=  57.7s\n",
      "[CV] colsample_bytree=0.8999999999999999, gamma=0.30000000000000004, max_depth=50, min_child_weight=3, n_estimators=200, subsample=0.7 \n"
     ]
    },
    {
     "name": "stderr",
     "output_type": "stream",
     "text": [
      "/home/willstudent/.local/lib/python3.6/site-packages/sklearn/preprocessing/label.py:151: DeprecationWarning: The truth value of an empty array is ambiguous. Returning False, but in future this will result in an error. Use `array.size > 0` to check that an array is not empty.\n",
      "  if diff:\n",
      "/home/willstudent/.local/lib/python3.6/site-packages/sklearn/preprocessing/label.py:151: DeprecationWarning: The truth value of an empty array is ambiguous. Returning False, but in future this will result in an error. Use `array.size > 0` to check that an array is not empty.\n",
      "  if diff:\n"
     ]
    },
    {
     "name": "stdout",
     "output_type": "stream",
     "text": [
      "[CV]  colsample_bytree=0.8999999999999999, gamma=0.30000000000000004, max_depth=50, min_child_weight=2, n_estimators=200, subsample=0.8999999999999999, total= 1.0min\n",
      "[CV] colsample_bytree=0.8999999999999999, gamma=0.30000000000000004, max_depth=50, min_child_weight=3, n_estimators=200, subsample=0.7 \n"
     ]
    },
    {
     "name": "stderr",
     "output_type": "stream",
     "text": [
      "/home/willstudent/.local/lib/python3.6/site-packages/sklearn/preprocessing/label.py:151: DeprecationWarning: The truth value of an empty array is ambiguous. Returning False, but in future this will result in an error. Use `array.size > 0` to check that an array is not empty.\n",
      "  if diff:\n",
      "/home/willstudent/.local/lib/python3.6/site-packages/sklearn/preprocessing/label.py:151: DeprecationWarning: The truth value of an empty array is ambiguous. Returning False, but in future this will result in an error. Use `array.size > 0` to check that an array is not empty.\n",
      "  if diff:\n",
      "/home/willstudent/.local/lib/python3.6/site-packages/sklearn/preprocessing/label.py:151: DeprecationWarning: The truth value of an empty array is ambiguous. Returning False, but in future this will result in an error. Use `array.size > 0` to check that an array is not empty.\n",
      "  if diff:\n"
     ]
    },
    {
     "name": "stdout",
     "output_type": "stream",
     "text": [
      "[CV]  colsample_bytree=0.8999999999999999, gamma=0.30000000000000004, max_depth=50, min_child_weight=3, n_estimators=200, subsample=0.6, total=  46.3s\n",
      "[CV] colsample_bytree=0.8999999999999999, gamma=0.30000000000000004, max_depth=50, min_child_weight=3, n_estimators=200, subsample=0.7999999999999999 \n"
     ]
    },
    {
     "name": "stderr",
     "output_type": "stream",
     "text": [
      "/home/willstudent/.local/lib/python3.6/site-packages/sklearn/preprocessing/label.py:151: DeprecationWarning: The truth value of an empty array is ambiguous. Returning False, but in future this will result in an error. Use `array.size > 0` to check that an array is not empty.\n",
      "  if diff:\n"
     ]
    },
    {
     "name": "stdout",
     "output_type": "stream",
     "text": [
      "[CV]  colsample_bytree=0.8999999999999999, gamma=0.30000000000000004, max_depth=50, min_child_weight=2, n_estimators=200, subsample=0.8999999999999999, total= 1.0min\n",
      "[CV] colsample_bytree=0.8999999999999999, gamma=0.30000000000000004, max_depth=50, min_child_weight=3, n_estimators=200, subsample=0.7999999999999999 \n"
     ]
    },
    {
     "name": "stderr",
     "output_type": "stream",
     "text": [
      "/home/willstudent/.local/lib/python3.6/site-packages/sklearn/preprocessing/label.py:151: DeprecationWarning: The truth value of an empty array is ambiguous. Returning False, but in future this will result in an error. Use `array.size > 0` to check that an array is not empty.\n",
      "  if diff:\n",
      "/home/willstudent/.local/lib/python3.6/site-packages/sklearn/preprocessing/label.py:151: DeprecationWarning: The truth value of an empty array is ambiguous. Returning False, but in future this will result in an error. Use `array.size > 0` to check that an array is not empty.\n",
      "  if diff:\n"
     ]
    },
    {
     "name": "stdout",
     "output_type": "stream",
     "text": [
      "[CV]  colsample_bytree=0.8999999999999999, gamma=0.30000000000000004, max_depth=50, min_child_weight=3, n_estimators=200, subsample=0.6, total=  46.3s\n",
      "[CV] colsample_bytree=0.8999999999999999, gamma=0.30000000000000004, max_depth=50, min_child_weight=3, n_estimators=200, subsample=0.7999999999999999 \n"
     ]
    },
    {
     "name": "stderr",
     "output_type": "stream",
     "text": [
      "[Parallel(n_jobs=-1)]: Done 349 tasks      | elapsed: 33.9min\n",
      "/home/willstudent/.local/lib/python3.6/site-packages/sklearn/preprocessing/label.py:151: DeprecationWarning: The truth value of an empty array is ambiguous. Returning False, but in future this will result in an error. Use `array.size > 0` to check that an array is not empty.\n",
      "  if diff:\n",
      "/home/willstudent/.local/lib/python3.6/site-packages/sklearn/preprocessing/label.py:151: DeprecationWarning: The truth value of an empty array is ambiguous. Returning False, but in future this will result in an error. Use `array.size > 0` to check that an array is not empty.\n",
      "  if diff:\n"
     ]
    },
    {
     "name": "stdout",
     "output_type": "stream",
     "text": [
      "[CV]  colsample_bytree=0.8999999999999999, gamma=0.30000000000000004, max_depth=50, min_child_weight=2, n_estimators=200, subsample=0.8999999999999999, total= 1.1min\n",
      "[CV] colsample_bytree=0.8999999999999999, gamma=0.30000000000000004, max_depth=50, min_child_weight=3, n_estimators=200, subsample=0.8999999999999999 \n"
     ]
    },
    {
     "name": "stderr",
     "output_type": "stream",
     "text": [
      "/home/willstudent/.local/lib/python3.6/site-packages/sklearn/preprocessing/label.py:151: DeprecationWarning: The truth value of an empty array is ambiguous. Returning False, but in future this will result in an error. Use `array.size > 0` to check that an array is not empty.\n",
      "  if diff:\n",
      "/home/willstudent/.local/lib/python3.6/site-packages/sklearn/preprocessing/label.py:151: DeprecationWarning: The truth value of an empty array is ambiguous. Returning False, but in future this will result in an error. Use `array.size > 0` to check that an array is not empty.\n",
      "  if diff:\n"
     ]
    },
    {
     "name": "stdout",
     "output_type": "stream",
     "text": [
      "[CV]  colsample_bytree=0.8999999999999999, gamma=0.30000000000000004, max_depth=50, min_child_weight=3, n_estimators=200, subsample=0.6, total=  45.2s\n",
      "[CV] colsample_bytree=0.8999999999999999, gamma=0.30000000000000004, max_depth=50, min_child_weight=3, n_estimators=200, subsample=0.8999999999999999 \n"
     ]
    },
    {
     "name": "stderr",
     "output_type": "stream",
     "text": [
      "/home/willstudent/.local/lib/python3.6/site-packages/sklearn/preprocessing/label.py:151: DeprecationWarning: The truth value of an empty array is ambiguous. Returning False, but in future this will result in an error. Use `array.size > 0` to check that an array is not empty.\n",
      "  if diff:\n",
      "/home/willstudent/.local/lib/python3.6/site-packages/sklearn/preprocessing/label.py:151: DeprecationWarning: The truth value of an empty array is ambiguous. Returning False, but in future this will result in an error. Use `array.size > 0` to check that an array is not empty.\n",
      "  if diff:\n"
     ]
    },
    {
     "name": "stdout",
     "output_type": "stream",
     "text": [
      "[CV]  colsample_bytree=0.8999999999999999, gamma=0.30000000000000004, max_depth=50, min_child_weight=3, n_estimators=200, subsample=0.7, total=  50.0s\n",
      "[CV] colsample_bytree=0.8999999999999999, gamma=0.30000000000000004, max_depth=50, min_child_weight=3, n_estimators=200, subsample=0.8999999999999999 \n"
     ]
    },
    {
     "name": "stderr",
     "output_type": "stream",
     "text": [
      "/home/willstudent/.local/lib/python3.6/site-packages/sklearn/preprocessing/label.py:151: DeprecationWarning: The truth value of an empty array is ambiguous. Returning False, but in future this will result in an error. Use `array.size > 0` to check that an array is not empty.\n",
      "  if diff:\n",
      "/home/willstudent/.local/lib/python3.6/site-packages/sklearn/preprocessing/label.py:151: DeprecationWarning: The truth value of an empty array is ambiguous. Returning False, but in future this will result in an error. Use `array.size > 0` to check that an array is not empty.\n",
      "  if diff:\n"
     ]
    },
    {
     "name": "stdout",
     "output_type": "stream",
     "text": [
      "[CV]  colsample_bytree=0.8999999999999999, gamma=0.30000000000000004, max_depth=50, min_child_weight=3, n_estimators=200, subsample=0.7, total=  49.3s\n",
      "[CV] colsample_bytree=0.8999999999999999, gamma=0.4, max_depth=50, min_child_weight=2, n_estimators=200, subsample=0.6 \n"
     ]
    },
    {
     "name": "stderr",
     "output_type": "stream",
     "text": [
      "/home/willstudent/.local/lib/python3.6/site-packages/sklearn/preprocessing/label.py:151: DeprecationWarning: The truth value of an empty array is ambiguous. Returning False, but in future this will result in an error. Use `array.size > 0` to check that an array is not empty.\n",
      "  if diff:\n",
      "/home/willstudent/.local/lib/python3.6/site-packages/sklearn/preprocessing/label.py:151: DeprecationWarning: The truth value of an empty array is ambiguous. Returning False, but in future this will result in an error. Use `array.size > 0` to check that an array is not empty.\n",
      "  if diff:\n"
     ]
    },
    {
     "name": "stdout",
     "output_type": "stream",
     "text": [
      "[CV]  colsample_bytree=0.8999999999999999, gamma=0.30000000000000004, max_depth=50, min_child_weight=3, n_estimators=200, subsample=0.7, total=  49.8s\n",
      "[CV] colsample_bytree=0.8999999999999999, gamma=0.4, max_depth=50, min_child_weight=2, n_estimators=200, subsample=0.6 \n"
     ]
    },
    {
     "name": "stderr",
     "output_type": "stream",
     "text": [
      "/home/willstudent/.local/lib/python3.6/site-packages/sklearn/preprocessing/label.py:151: DeprecationWarning: The truth value of an empty array is ambiguous. Returning False, but in future this will result in an error. Use `array.size > 0` to check that an array is not empty.\n",
      "  if diff:\n",
      "/home/willstudent/.local/lib/python3.6/site-packages/sklearn/preprocessing/label.py:151: DeprecationWarning: The truth value of an empty array is ambiguous. Returning False, but in future this will result in an error. Use `array.size > 0` to check that an array is not empty.\n",
      "  if diff:\n",
      "/home/willstudent/.local/lib/python3.6/site-packages/sklearn/preprocessing/label.py:151: DeprecationWarning: The truth value of an empty array is ambiguous. Returning False, but in future this will result in an error. Use `array.size > 0` to check that an array is not empty.\n",
      "  if diff:\n"
     ]
    },
    {
     "name": "stdout",
     "output_type": "stream",
     "text": [
      "[CV]  colsample_bytree=0.8999999999999999, gamma=0.30000000000000004, max_depth=50, min_child_weight=3, n_estimators=200, subsample=0.7999999999999999, total=  53.4s\n",
      "[CV] colsample_bytree=0.8999999999999999, gamma=0.4, max_depth=50, min_child_weight=2, n_estimators=200, subsample=0.6 \n"
     ]
    },
    {
     "name": "stderr",
     "output_type": "stream",
     "text": [
      "/home/willstudent/.local/lib/python3.6/site-packages/sklearn/preprocessing/label.py:151: DeprecationWarning: The truth value of an empty array is ambiguous. Returning False, but in future this will result in an error. Use `array.size > 0` to check that an array is not empty.\n",
      "  if diff:\n"
     ]
    },
    {
     "name": "stdout",
     "output_type": "stream",
     "text": [
      "[CV]  colsample_bytree=0.8999999999999999, gamma=0.30000000000000004, max_depth=50, min_child_weight=3, n_estimators=200, subsample=0.7999999999999999, total=  54.4s\n",
      "[CV] colsample_bytree=0.8999999999999999, gamma=0.4, max_depth=50, min_child_weight=2, n_estimators=200, subsample=0.7 \n"
     ]
    },
    {
     "name": "stderr",
     "output_type": "stream",
     "text": [
      "/home/willstudent/.local/lib/python3.6/site-packages/sklearn/preprocessing/label.py:151: DeprecationWarning: The truth value of an empty array is ambiguous. Returning False, but in future this will result in an error. Use `array.size > 0` to check that an array is not empty.\n",
      "  if diff:\n",
      "/home/willstudent/.local/lib/python3.6/site-packages/sklearn/preprocessing/label.py:151: DeprecationWarning: The truth value of an empty array is ambiguous. Returning False, but in future this will result in an error. Use `array.size > 0` to check that an array is not empty.\n",
      "  if diff:\n"
     ]
    },
    {
     "name": "stdout",
     "output_type": "stream",
     "text": [
      "[CV]  colsample_bytree=0.8999999999999999, gamma=0.30000000000000004, max_depth=50, min_child_weight=3, n_estimators=200, subsample=0.7999999999999999, total=  55.0s\n",
      "[CV] colsample_bytree=0.8999999999999999, gamma=0.4, max_depth=50, min_child_weight=2, n_estimators=200, subsample=0.7 \n"
     ]
    },
    {
     "name": "stderr",
     "output_type": "stream",
     "text": [
      "/home/willstudent/.local/lib/python3.6/site-packages/sklearn/preprocessing/label.py:151: DeprecationWarning: The truth value of an empty array is ambiguous. Returning False, but in future this will result in an error. Use `array.size > 0` to check that an array is not empty.\n",
      "  if diff:\n",
      "/home/willstudent/.local/lib/python3.6/site-packages/sklearn/preprocessing/label.py:151: DeprecationWarning: The truth value of an empty array is ambiguous. Returning False, but in future this will result in an error. Use `array.size > 0` to check that an array is not empty.\n",
      "  if diff:\n"
     ]
    },
    {
     "name": "stdout",
     "output_type": "stream",
     "text": [
      "[CV]  colsample_bytree=0.8999999999999999, gamma=0.30000000000000004, max_depth=50, min_child_weight=3, n_estimators=200, subsample=0.8999999999999999, total= 1.0min\n",
      "[CV] colsample_bytree=0.8999999999999999, gamma=0.4, max_depth=50, min_child_weight=2, n_estimators=200, subsample=0.7 \n"
     ]
    },
    {
     "name": "stderr",
     "output_type": "stream",
     "text": [
      "/home/willstudent/.local/lib/python3.6/site-packages/sklearn/preprocessing/label.py:151: DeprecationWarning: The truth value of an empty array is ambiguous. Returning False, but in future this will result in an error. Use `array.size > 0` to check that an array is not empty.\n",
      "  if diff:\n",
      "/home/willstudent/.local/lib/python3.6/site-packages/sklearn/preprocessing/label.py:151: DeprecationWarning: The truth value of an empty array is ambiguous. Returning False, but in future this will result in an error. Use `array.size > 0` to check that an array is not empty.\n",
      "  if diff:\n"
     ]
    },
    {
     "name": "stdout",
     "output_type": "stream",
     "text": [
      "[CV]  colsample_bytree=0.8999999999999999, gamma=0.4, max_depth=50, min_child_weight=2, n_estimators=200, subsample=0.6, total=  48.0s\n",
      "[CV] colsample_bytree=0.8999999999999999, gamma=0.4, max_depth=50, min_child_weight=2, n_estimators=200, subsample=0.7999999999999999 \n"
     ]
    },
    {
     "name": "stderr",
     "output_type": "stream",
     "text": [
      "/home/willstudent/.local/lib/python3.6/site-packages/sklearn/preprocessing/label.py:151: DeprecationWarning: The truth value of an empty array is ambiguous. Returning False, but in future this will result in an error. Use `array.size > 0` to check that an array is not empty.\n",
      "  if diff:\n",
      "/home/willstudent/.local/lib/python3.6/site-packages/sklearn/preprocessing/label.py:151: DeprecationWarning: The truth value of an empty array is ambiguous. Returning False, but in future this will result in an error. Use `array.size > 0` to check that an array is not empty.\n",
      "  if diff:\n"
     ]
    },
    {
     "name": "stdout",
     "output_type": "stream",
     "text": [
      "[CV]  colsample_bytree=0.8999999999999999, gamma=0.30000000000000004, max_depth=50, min_child_weight=3, n_estimators=200, subsample=0.8999999999999999, total=  58.7s\n",
      "[CV] colsample_bytree=0.8999999999999999, gamma=0.4, max_depth=50, min_child_weight=2, n_estimators=200, subsample=0.7999999999999999 \n"
     ]
    },
    {
     "name": "stderr",
     "output_type": "stream",
     "text": [
      "/home/willstudent/.local/lib/python3.6/site-packages/sklearn/preprocessing/label.py:151: DeprecationWarning: The truth value of an empty array is ambiguous. Returning False, but in future this will result in an error. Use `array.size > 0` to check that an array is not empty.\n",
      "  if diff:\n",
      "/home/willstudent/.local/lib/python3.6/site-packages/sklearn/preprocessing/label.py:151: DeprecationWarning: The truth value of an empty array is ambiguous. Returning False, but in future this will result in an error. Use `array.size > 0` to check that an array is not empty.\n",
      "  if diff:\n"
     ]
    },
    {
     "name": "stdout",
     "output_type": "stream",
     "text": [
      "[CV]  colsample_bytree=0.8999999999999999, gamma=0.30000000000000004, max_depth=50, min_child_weight=3, n_estimators=200, subsample=0.8999999999999999, total=  59.4s\n",
      "[CV] colsample_bytree=0.8999999999999999, gamma=0.4, max_depth=50, min_child_weight=2, n_estimators=200, subsample=0.7999999999999999 \n"
     ]
    },
    {
     "name": "stderr",
     "output_type": "stream",
     "text": [
      "/home/willstudent/.local/lib/python3.6/site-packages/sklearn/preprocessing/label.py:151: DeprecationWarning: The truth value of an empty array is ambiguous. Returning False, but in future this will result in an error. Use `array.size > 0` to check that an array is not empty.\n",
      "  if diff:\n",
      "/home/willstudent/.local/lib/python3.6/site-packages/sklearn/preprocessing/label.py:151: DeprecationWarning: The truth value of an empty array is ambiguous. Returning False, but in future this will result in an error. Use `array.size > 0` to check that an array is not empty.\n",
      "  if diff:\n"
     ]
    },
    {
     "name": "stdout",
     "output_type": "stream",
     "text": [
      "[CV]  colsample_bytree=0.8999999999999999, gamma=0.4, max_depth=50, min_child_weight=2, n_estimators=200, subsample=0.6, total=  48.5s\n",
      "[CV] colsample_bytree=0.8999999999999999, gamma=0.4, max_depth=50, min_child_weight=2, n_estimators=200, subsample=0.8999999999999999 \n"
     ]
    },
    {
     "name": "stderr",
     "output_type": "stream",
     "text": [
      "/home/willstudent/.local/lib/python3.6/site-packages/sklearn/preprocessing/label.py:151: DeprecationWarning: The truth value of an empty array is ambiguous. Returning False, but in future this will result in an error. Use `array.size > 0` to check that an array is not empty.\n",
      "  if diff:\n",
      "/home/willstudent/.local/lib/python3.6/site-packages/sklearn/preprocessing/label.py:151: DeprecationWarning: The truth value of an empty array is ambiguous. Returning False, but in future this will result in an error. Use `array.size > 0` to check that an array is not empty.\n",
      "  if diff:\n"
     ]
    },
    {
     "name": "stdout",
     "output_type": "stream",
     "text": [
      "[CV]  colsample_bytree=0.8999999999999999, gamma=0.4, max_depth=50, min_child_weight=2, n_estimators=200, subsample=0.6, total=  48.4s\n",
      "[CV] colsample_bytree=0.8999999999999999, gamma=0.4, max_depth=50, min_child_weight=2, n_estimators=200, subsample=0.8999999999999999 \n"
     ]
    },
    {
     "name": "stderr",
     "output_type": "stream",
     "text": [
      "/home/willstudent/.local/lib/python3.6/site-packages/sklearn/preprocessing/label.py:151: DeprecationWarning: The truth value of an empty array is ambiguous. Returning False, but in future this will result in an error. Use `array.size > 0` to check that an array is not empty.\n",
      "  if diff:\n",
      "/home/willstudent/.local/lib/python3.6/site-packages/sklearn/preprocessing/label.py:151: DeprecationWarning: The truth value of an empty array is ambiguous. Returning False, but in future this will result in an error. Use `array.size > 0` to check that an array is not empty.\n",
      "  if diff:\n"
     ]
    },
    {
     "name": "stdout",
     "output_type": "stream",
     "text": [
      "[CV]  colsample_bytree=0.8999999999999999, gamma=0.4, max_depth=50, min_child_weight=2, n_estimators=200, subsample=0.7, total=  53.6s\n",
      "[CV] colsample_bytree=0.8999999999999999, gamma=0.4, max_depth=50, min_child_weight=2, n_estimators=200, subsample=0.8999999999999999 \n"
     ]
    },
    {
     "name": "stderr",
     "output_type": "stream",
     "text": [
      "/home/willstudent/.local/lib/python3.6/site-packages/sklearn/preprocessing/label.py:151: DeprecationWarning: The truth value of an empty array is ambiguous. Returning False, but in future this will result in an error. Use `array.size > 0` to check that an array is not empty.\n",
      "  if diff:\n",
      "/home/willstudent/.local/lib/python3.6/site-packages/sklearn/preprocessing/label.py:151: DeprecationWarning: The truth value of an empty array is ambiguous. Returning False, but in future this will result in an error. Use `array.size > 0` to check that an array is not empty.\n",
      "  if diff:\n"
     ]
    },
    {
     "name": "stdout",
     "output_type": "stream",
     "text": [
      "[CV]  colsample_bytree=0.8999999999999999, gamma=0.4, max_depth=50, min_child_weight=2, n_estimators=200, subsample=0.7, total=  53.9s\n",
      "[CV] colsample_bytree=0.8999999999999999, gamma=0.4, max_depth=50, min_child_weight=3, n_estimators=200, subsample=0.6 \n"
     ]
    },
    {
     "name": "stderr",
     "output_type": "stream",
     "text": [
      "/home/willstudent/.local/lib/python3.6/site-packages/sklearn/preprocessing/label.py:151: DeprecationWarning: The truth value of an empty array is ambiguous. Returning False, but in future this will result in an error. Use `array.size > 0` to check that an array is not empty.\n",
      "  if diff:\n",
      "/home/willstudent/.local/lib/python3.6/site-packages/sklearn/preprocessing/label.py:151: DeprecationWarning: The truth value of an empty array is ambiguous. Returning False, but in future this will result in an error. Use `array.size > 0` to check that an array is not empty.\n",
      "  if diff:\n"
     ]
    },
    {
     "name": "stdout",
     "output_type": "stream",
     "text": [
      "[CV]  colsample_bytree=0.8999999999999999, gamma=0.4, max_depth=50, min_child_weight=2, n_estimators=200, subsample=0.7, total=  53.2s\n",
      "[CV] colsample_bytree=0.8999999999999999, gamma=0.4, max_depth=50, min_child_weight=3, n_estimators=200, subsample=0.6 \n"
     ]
    },
    {
     "name": "stderr",
     "output_type": "stream",
     "text": [
      "/home/willstudent/.local/lib/python3.6/site-packages/sklearn/preprocessing/label.py:151: DeprecationWarning: The truth value of an empty array is ambiguous. Returning False, but in future this will result in an error. Use `array.size > 0` to check that an array is not empty.\n",
      "  if diff:\n",
      "/home/willstudent/.local/lib/python3.6/site-packages/sklearn/preprocessing/label.py:151: DeprecationWarning: The truth value of an empty array is ambiguous. Returning False, but in future this will result in an error. Use `array.size > 0` to check that an array is not empty.\n",
      "  if diff:\n"
     ]
    },
    {
     "name": "stdout",
     "output_type": "stream",
     "text": [
      "[CV]  colsample_bytree=0.8999999999999999, gamma=0.4, max_depth=50, min_child_weight=2, n_estimators=200, subsample=0.7999999999999999, total=  58.8s\n",
      "[CV] colsample_bytree=0.8999999999999999, gamma=0.4, max_depth=50, min_child_weight=3, n_estimators=200, subsample=0.6 \n"
     ]
    },
    {
     "name": "stderr",
     "output_type": "stream",
     "text": [
      "/home/willstudent/.local/lib/python3.6/site-packages/sklearn/preprocessing/label.py:151: DeprecationWarning: The truth value of an empty array is ambiguous. Returning False, but in future this will result in an error. Use `array.size > 0` to check that an array is not empty.\n",
      "  if diff:\n",
      "/home/willstudent/.local/lib/python3.6/site-packages/sklearn/preprocessing/label.py:151: DeprecationWarning: The truth value of an empty array is ambiguous. Returning False, but in future this will result in an error. Use `array.size > 0` to check that an array is not empty.\n",
      "  if diff:\n"
     ]
    },
    {
     "name": "stdout",
     "output_type": "stream",
     "text": [
      "[CV]  colsample_bytree=0.8999999999999999, gamma=0.4, max_depth=50, min_child_weight=2, n_estimators=200, subsample=0.7999999999999999, total=  57.2s\n",
      "[CV] colsample_bytree=0.8999999999999999, gamma=0.4, max_depth=50, min_child_weight=3, n_estimators=200, subsample=0.7 \n"
     ]
    },
    {
     "name": "stderr",
     "output_type": "stream",
     "text": [
      "/home/willstudent/.local/lib/python3.6/site-packages/sklearn/preprocessing/label.py:151: DeprecationWarning: The truth value of an empty array is ambiguous. Returning False, but in future this will result in an error. Use `array.size > 0` to check that an array is not empty.\n",
      "  if diff:\n",
      "/home/willstudent/.local/lib/python3.6/site-packages/sklearn/preprocessing/label.py:151: DeprecationWarning: The truth value of an empty array is ambiguous. Returning False, but in future this will result in an error. Use `array.size > 0` to check that an array is not empty.\n",
      "  if diff:\n"
     ]
    },
    {
     "name": "stdout",
     "output_type": "stream",
     "text": [
      "[CV]  colsample_bytree=0.8999999999999999, gamma=0.4, max_depth=50, min_child_weight=2, n_estimators=200, subsample=0.7999999999999999, total=  57.1s\n",
      "[CV] colsample_bytree=0.8999999999999999, gamma=0.4, max_depth=50, min_child_weight=3, n_estimators=200, subsample=0.7 \n"
     ]
    },
    {
     "name": "stderr",
     "output_type": "stream",
     "text": [
      "/home/willstudent/.local/lib/python3.6/site-packages/sklearn/preprocessing/label.py:151: DeprecationWarning: The truth value of an empty array is ambiguous. Returning False, but in future this will result in an error. Use `array.size > 0` to check that an array is not empty.\n",
      "  if diff:\n",
      "/home/willstudent/.local/lib/python3.6/site-packages/sklearn/preprocessing/label.py:151: DeprecationWarning: The truth value of an empty array is ambiguous. Returning False, but in future this will result in an error. Use `array.size > 0` to check that an array is not empty.\n",
      "  if diff:\n"
     ]
    },
    {
     "name": "stdout",
     "output_type": "stream",
     "text": [
      "[CV]  colsample_bytree=0.8999999999999999, gamma=0.4, max_depth=50, min_child_weight=2, n_estimators=200, subsample=0.8999999999999999, total= 1.0min\n",
      "[CV] colsample_bytree=0.8999999999999999, gamma=0.4, max_depth=50, min_child_weight=3, n_estimators=200, subsample=0.7 \n"
     ]
    },
    {
     "name": "stderr",
     "output_type": "stream",
     "text": [
      "/home/willstudent/.local/lib/python3.6/site-packages/sklearn/preprocessing/label.py:151: DeprecationWarning: The truth value of an empty array is ambiguous. Returning False, but in future this will result in an error. Use `array.size > 0` to check that an array is not empty.\n",
      "  if diff:\n",
      "/home/willstudent/.local/lib/python3.6/site-packages/sklearn/preprocessing/label.py:151: DeprecationWarning: The truth value of an empty array is ambiguous. Returning False, but in future this will result in an error. Use `array.size > 0` to check that an array is not empty.\n",
      "  if diff:\n"
     ]
    },
    {
     "name": "stdout",
     "output_type": "stream",
     "text": [
      "[CV]  colsample_bytree=0.8999999999999999, gamma=0.4, max_depth=50, min_child_weight=3, n_estimators=200, subsample=0.6, total=  45.8s\n",
      "[CV] colsample_bytree=0.8999999999999999, gamma=0.4, max_depth=50, min_child_weight=3, n_estimators=200, subsample=0.7999999999999999 \n"
     ]
    },
    {
     "name": "stderr",
     "output_type": "stream",
     "text": [
      "/home/willstudent/.local/lib/python3.6/site-packages/sklearn/preprocessing/label.py:151: DeprecationWarning: The truth value of an empty array is ambiguous. Returning False, but in future this will result in an error. Use `array.size > 0` to check that an array is not empty.\n",
      "  if diff:\n",
      "/home/willstudent/.local/lib/python3.6/site-packages/sklearn/preprocessing/label.py:151: DeprecationWarning: The truth value of an empty array is ambiguous. Returning False, but in future this will result in an error. Use `array.size > 0` to check that an array is not empty.\n",
      "  if diff:\n"
     ]
    },
    {
     "name": "stdout",
     "output_type": "stream",
     "text": [
      "[CV]  colsample_bytree=0.8999999999999999, gamma=0.4, max_depth=50, min_child_weight=2, n_estimators=200, subsample=0.8999999999999999, total= 1.0min\n",
      "[CV] colsample_bytree=0.8999999999999999, gamma=0.4, max_depth=50, min_child_weight=3, n_estimators=200, subsample=0.7999999999999999 \n"
     ]
    },
    {
     "name": "stderr",
     "output_type": "stream",
     "text": [
      "/home/willstudent/.local/lib/python3.6/site-packages/sklearn/preprocessing/label.py:151: DeprecationWarning: The truth value of an empty array is ambiguous. Returning False, but in future this will result in an error. Use `array.size > 0` to check that an array is not empty.\n",
      "  if diff:\n",
      "/home/willstudent/.local/lib/python3.6/site-packages/sklearn/preprocessing/label.py:151: DeprecationWarning: The truth value of an empty array is ambiguous. Returning False, but in future this will result in an error. Use `array.size > 0` to check that an array is not empty.\n",
      "  if diff:\n",
      "/home/willstudent/.local/lib/python3.6/site-packages/sklearn/preprocessing/label.py:151: DeprecationWarning: The truth value of an empty array is ambiguous. Returning False, but in future this will result in an error. Use `array.size > 0` to check that an array is not empty.\n",
      "  if diff:\n"
     ]
    },
    {
     "name": "stdout",
     "output_type": "stream",
     "text": [
      "[CV]  colsample_bytree=0.8999999999999999, gamma=0.4, max_depth=50, min_child_weight=2, n_estimators=200, subsample=0.8999999999999999, total= 1.0min\n"
     ]
    },
    {
     "name": "stderr",
     "output_type": "stream",
     "text": [
      "/home/willstudent/.local/lib/python3.6/site-packages/sklearn/preprocessing/label.py:151: DeprecationWarning: The truth value of an empty array is ambiguous. Returning False, but in future this will result in an error. Use `array.size > 0` to check that an array is not empty.\n",
      "  if diff:\n"
     ]
    },
    {
     "name": "stdout",
     "output_type": "stream",
     "text": [
      "[CV]  colsample_bytree=0.8999999999999999, gamma=0.4, max_depth=50, min_child_weight=3, n_estimators=200, subsample=0.6, total=  45.1s\n",
      "[CV] colsample_bytree=0.8999999999999999, gamma=0.4, max_depth=50, min_child_weight=3, n_estimators=200, subsample=0.7999999999999999 \n",
      "[CV] colsample_bytree=0.8999999999999999, gamma=0.4, max_depth=50, min_child_weight=3, n_estimators=200, subsample=0.8999999999999999 \n"
     ]
    },
    {
     "name": "stderr",
     "output_type": "stream",
     "text": [
      "/home/willstudent/.local/lib/python3.6/site-packages/sklearn/preprocessing/label.py:151: DeprecationWarning: The truth value of an empty array is ambiguous. Returning False, but in future this will result in an error. Use `array.size > 0` to check that an array is not empty.\n",
      "  if diff:\n",
      "/home/willstudent/.local/lib/python3.6/site-packages/sklearn/preprocessing/label.py:151: DeprecationWarning: The truth value of an empty array is ambiguous. Returning False, but in future this will result in an error. Use `array.size > 0` to check that an array is not empty.\n",
      "  if diff:\n"
     ]
    },
    {
     "name": "stdout",
     "output_type": "stream",
     "text": [
      "[CV]  colsample_bytree=0.8999999999999999, gamma=0.4, max_depth=50, min_child_weight=3, n_estimators=200, subsample=0.6, total=  46.8s\n",
      "[CV] colsample_bytree=0.8999999999999999, gamma=0.4, max_depth=50, min_child_weight=3, n_estimators=200, subsample=0.8999999999999999 \n"
     ]
    },
    {
     "name": "stderr",
     "output_type": "stream",
     "text": [
      "/home/willstudent/.local/lib/python3.6/site-packages/sklearn/preprocessing/label.py:151: DeprecationWarning: The truth value of an empty array is ambiguous. Returning False, but in future this will result in an error. Use `array.size > 0` to check that an array is not empty.\n",
      "  if diff:\n",
      "/home/willstudent/.local/lib/python3.6/site-packages/sklearn/preprocessing/label.py:151: DeprecationWarning: The truth value of an empty array is ambiguous. Returning False, but in future this will result in an error. Use `array.size > 0` to check that an array is not empty.\n",
      "  if diff:\n"
     ]
    },
    {
     "name": "stdout",
     "output_type": "stream",
     "text": [
      "[CV]  colsample_bytree=0.8999999999999999, gamma=0.4, max_depth=50, min_child_weight=3, n_estimators=200, subsample=0.7, total=  49.0s\n",
      "[CV] colsample_bytree=0.8999999999999999, gamma=0.4, max_depth=50, min_child_weight=3, n_estimators=200, subsample=0.8999999999999999 \n"
     ]
    },
    {
     "name": "stderr",
     "output_type": "stream",
     "text": [
      "/home/willstudent/.local/lib/python3.6/site-packages/sklearn/preprocessing/label.py:151: DeprecationWarning: The truth value of an empty array is ambiguous. Returning False, but in future this will result in an error. Use `array.size > 0` to check that an array is not empty.\n",
      "  if diff:\n",
      "/home/willstudent/.local/lib/python3.6/site-packages/sklearn/preprocessing/label.py:151: DeprecationWarning: The truth value of an empty array is ambiguous. Returning False, but in future this will result in an error. Use `array.size > 0` to check that an array is not empty.\n",
      "  if diff:\n"
     ]
    },
    {
     "name": "stdout",
     "output_type": "stream",
     "text": [
      "[CV]  colsample_bytree=0.8999999999999999, gamma=0.4, max_depth=50, min_child_weight=3, n_estimators=200, subsample=0.7, total=  48.7s\n"
     ]
    },
    {
     "name": "stderr",
     "output_type": "stream",
     "text": [
      "/home/willstudent/.local/lib/python3.6/site-packages/sklearn/preprocessing/label.py:151: DeprecationWarning: The truth value of an empty array is ambiguous. Returning False, but in future this will result in an error. Use `array.size > 0` to check that an array is not empty.\n",
      "  if diff:\n",
      "/home/willstudent/.local/lib/python3.6/site-packages/sklearn/preprocessing/label.py:151: DeprecationWarning: The truth value of an empty array is ambiguous. Returning False, but in future this will result in an error. Use `array.size > 0` to check that an array is not empty.\n",
      "  if diff:\n"
     ]
    },
    {
     "name": "stdout",
     "output_type": "stream",
     "text": [
      "[CV]  colsample_bytree=0.8999999999999999, gamma=0.4, max_depth=50, min_child_weight=3, n_estimators=200, subsample=0.7, total=  50.5s\n"
     ]
    },
    {
     "name": "stderr",
     "output_type": "stream",
     "text": [
      "/home/willstudent/.local/lib/python3.6/site-packages/sklearn/preprocessing/label.py:151: DeprecationWarning: The truth value of an empty array is ambiguous. Returning False, but in future this will result in an error. Use `array.size > 0` to check that an array is not empty.\n",
      "  if diff:\n",
      "/home/willstudent/.local/lib/python3.6/site-packages/sklearn/preprocessing/label.py:151: DeprecationWarning: The truth value of an empty array is ambiguous. Returning False, but in future this will result in an error. Use `array.size > 0` to check that an array is not empty.\n",
      "  if diff:\n",
      "/home/willstudent/.local/lib/python3.6/site-packages/sklearn/preprocessing/label.py:151: DeprecationWarning: The truth value of an empty array is ambiguous. Returning False, but in future this will result in an error. Use `array.size > 0` to check that an array is not empty.\n",
      "  if diff:\n"
     ]
    },
    {
     "name": "stdout",
     "output_type": "stream",
     "text": [
      "[CV]  colsample_bytree=0.8999999999999999, gamma=0.4, max_depth=50, min_child_weight=3, n_estimators=200, subsample=0.7999999999999999, total=  50.6s\n"
     ]
    },
    {
     "name": "stderr",
     "output_type": "stream",
     "text": [
      "/home/willstudent/.local/lib/python3.6/site-packages/sklearn/preprocessing/label.py:151: DeprecationWarning: The truth value of an empty array is ambiguous. Returning False, but in future this will result in an error. Use `array.size > 0` to check that an array is not empty.\n",
      "  if diff:\n"
     ]
    },
    {
     "name": "stdout",
     "output_type": "stream",
     "text": [
      "[CV]  colsample_bytree=0.8999999999999999, gamma=0.4, max_depth=50, min_child_weight=3, n_estimators=200, subsample=0.7999999999999999, total=  54.0s\n"
     ]
    },
    {
     "name": "stderr",
     "output_type": "stream",
     "text": [
      "/home/willstudent/.local/lib/python3.6/site-packages/sklearn/preprocessing/label.py:151: DeprecationWarning: The truth value of an empty array is ambiguous. Returning False, but in future this will result in an error. Use `array.size > 0` to check that an array is not empty.\n",
      "  if diff:\n",
      "/home/willstudent/.local/lib/python3.6/site-packages/sklearn/preprocessing/label.py:151: DeprecationWarning: The truth value of an empty array is ambiguous. Returning False, but in future this will result in an error. Use `array.size > 0` to check that an array is not empty.\n",
      "  if diff:\n"
     ]
    },
    {
     "name": "stdout",
     "output_type": "stream",
     "text": [
      "[CV]  colsample_bytree=0.8999999999999999, gamma=0.4, max_depth=50, min_child_weight=3, n_estimators=200, subsample=0.7999999999999999, total=  48.5s\n"
     ]
    },
    {
     "name": "stderr",
     "output_type": "stream",
     "text": [
      "/home/willstudent/.local/lib/python3.6/site-packages/sklearn/preprocessing/label.py:151: DeprecationWarning: The truth value of an empty array is ambiguous. Returning False, but in future this will result in an error. Use `array.size > 0` to check that an array is not empty.\n",
      "  if diff:\n",
      "/home/willstudent/.local/lib/python3.6/site-packages/sklearn/preprocessing/label.py:151: DeprecationWarning: The truth value of an empty array is ambiguous. Returning False, but in future this will result in an error. Use `array.size > 0` to check that an array is not empty.\n",
      "  if diff:\n"
     ]
    },
    {
     "name": "stdout",
     "output_type": "stream",
     "text": [
      "[CV]  colsample_bytree=0.8999999999999999, gamma=0.4, max_depth=50, min_child_weight=3, n_estimators=200, subsample=0.8999999999999999, total=  50.6s\n"
     ]
    },
    {
     "name": "stderr",
     "output_type": "stream",
     "text": [
      "/home/willstudent/.local/lib/python3.6/site-packages/sklearn/preprocessing/label.py:151: DeprecationWarning: The truth value of an empty array is ambiguous. Returning False, but in future this will result in an error. Use `array.size > 0` to check that an array is not empty.\n",
      "  if diff:\n",
      "/home/willstudent/.local/lib/python3.6/site-packages/sklearn/preprocessing/label.py:151: DeprecationWarning: The truth value of an empty array is ambiguous. Returning False, but in future this will result in an error. Use `array.size > 0` to check that an array is not empty.\n",
      "  if diff:\n"
     ]
    },
    {
     "name": "stdout",
     "output_type": "stream",
     "text": [
      "[CV]  colsample_bytree=0.8999999999999999, gamma=0.4, max_depth=50, min_child_weight=3, n_estimators=200, subsample=0.8999999999999999, total=  45.2s\n"
     ]
    },
    {
     "name": "stderr",
     "output_type": "stream",
     "text": [
      "/home/willstudent/.local/lib/python3.6/site-packages/sklearn/preprocessing/label.py:151: DeprecationWarning: The truth value of an empty array is ambiguous. Returning False, but in future this will result in an error. Use `array.size > 0` to check that an array is not empty.\n",
      "  if diff:\n",
      "/home/willstudent/.local/lib/python3.6/site-packages/sklearn/preprocessing/label.py:151: DeprecationWarning: The truth value of an empty array is ambiguous. Returning False, but in future this will result in an error. Use `array.size > 0` to check that an array is not empty.\n",
      "  if diff:\n"
     ]
    },
    {
     "name": "stdout",
     "output_type": "stream",
     "text": [
      "[CV]  colsample_bytree=0.8999999999999999, gamma=0.4, max_depth=50, min_child_weight=3, n_estimators=200, subsample=0.8999999999999999, total=  43.8s\n"
     ]
    },
    {
     "name": "stderr",
     "output_type": "stream",
     "text": [
      "[Parallel(n_jobs=-1)]: Done 384 out of 384 | elapsed: 37.7min finished\n"
     ]
    },
    {
     "name": "stdout",
     "output_type": "stream",
     "text": [
      "XGBClassifier(base_score=0.5, booster='gbtree', colsample_bylevel=1,\n",
      "       colsample_bytree=0.8999999999999999, gamma=0.30000000000000004,\n",
      "       learning_rate=0.1, max_delta_step=0, max_depth=50,\n",
      "       min_child_weight=2, missing=None, n_estimators=200, n_jobs=1,\n",
      "       nthread=1, objective='binary:logistic', random_state=0, reg_alpha=0,\n",
      "       reg_lambda=1, scale_pos_weight=1, seed=42, silent=True,\n",
      "       subsample=0.7999999999999999)\n",
      "0.9862243463592916\n"
     ]
    }
   ],
   "source": [
    "from xgboost import XGBClassifier\n",
    "\n",
    "boost = XGBClassifier(learning_rate=0.1, objective='binary:logistic', nthread=1, seed=42)\n",
    "\n",
    "params = {'n_estimators': [200], 'max_depth': [50], 'min_child_weight': [2, 3], 'gamma': np.arange(0.1, 0.4, 0.1), \n",
    "          'subsample': np.arange(0.6, 0.9, 0.1), 'colsample_bytree': np.arange(0.6, 0.9, 0.1)}\n",
    "\n",
    "tune_model(boost, params, X_train, y_train)"
   ]
  },
  {
   "cell_type": "code",
   "execution_count": null,
   "metadata": {},
   "outputs": [],
   "source": [
    "from xgboost import XGBClassifier\n",
    "\n",
    "boost = XGBClassifier(n_estimators=200, max_depth=50, min_child_weight=2, gamma=0.3, \n",
    "                      subsample=0.8, colsample_bytree=0.9, seed=42, nthread=8)\n",
    "\n",
    "boost.fit(X_train, y_train)\n",
    "\n",
    "pred_xgb = boost.predict(X_test)\n",
    "\n",
    "print(accuracy_score(y_test, pred_xgb))\n",
    "print(precision_score(y_test, pred_xgb))\n",
    "print(recall_score(y_test, pred_xgb))\n",
    "print(f1_score(y_test, pred_xgb))"
   ]
  },
  {
   "cell_type": "code",
   "execution_count": null,
   "metadata": {},
   "outputs": [],
   "source": []
  }
 ],
 "metadata": {
  "kernelspec": {
   "display_name": "Python 3",
   "language": "python",
   "name": "python3"
  },
  "language_info": {
   "codemirror_mode": {
    "name": "ipython",
    "version": 3
   },
   "file_extension": ".py",
   "mimetype": "text/x-python",
   "name": "python",
   "nbconvert_exporter": "python",
   "pygments_lexer": "ipython3",
   "version": "3.6.5"
  }
 },
 "nbformat": 4,
 "nbformat_minor": 1
}
